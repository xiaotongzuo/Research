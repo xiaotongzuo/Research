{
 "cells": [
  {
   "cell_type": "code",
   "execution_count": 1,
   "metadata": {
    "collapsed": false
   },
   "outputs": [
    {
     "name": "stdout",
     "output_type": "stream",
     "text": [
      "\u001b[0mcore.init: \u001b[0mRosetta version  from \n",
      "\u001b[0mcore.init: \u001b[0mcommand: PyRosetta -ex1 -ex2aro -include_sugars -override_rsd_type_limit -read_pdb_link_records -write_pdb_link_records -database /Users/XT/ResearchApps/PyRosetta_1230/database\n",
      "\u001b[0mcore.init: \u001b[0m'RNG device' seed mode, using '/dev/urandom', seed=1125659750 seed_offset=0 real_seed=1125659750\n",
      "\u001b[0mcore.init.random: \u001b[0mRandomGenerator:init: Normal mode, seed=1125659750 RG_type=mt19937\n"
     ]
    }
   ],
   "source": [
    "from rosetta import *\n",
    "init(extra_options='-include_sugars -override_rsd_type_limit -read_pdb_link_records -write_pdb_link_records') \n",
    "import glob"
   ]
  },
  {
   "cell_type": "code",
   "execution_count": 6,
   "metadata": {
    "collapsed": false
   },
   "outputs": [
    {
     "name": "stdout",
     "output_type": "stream",
     "text": [
      "\u001b[0mcore.scoring.ScoreFunctionFactory: \u001b[0mSCOREFUNCTION: \u001b[32mtalaris2013\u001b[0m\n",
      "\u001b[0mcore.scoring.ScoreFunctionFactory: \u001b[0mThe -include_sugars flag was used with no sugar_bb weight set in the weights file.  Setting sugar_bb weight to 1.0 by default.\n",
      "\u001b[0mcore.scoring.ScoreFunctionFactory: \u001b[0mSCOREFUNCTION: \u001b[32mtalaris2013\u001b[0m\n",
      "\u001b[0mcore.scoring.ScoreFunctionFactory: \u001b[0mThe -include_sugars flag was used with no sugar_bb weight set in the weights file.  Setting sugar_bb weight to 1.0 by default.\n"
     ]
    }
   ],
   "source": [
    "scorefxn=get_score_function()\n",
    "scorefxn.set_weight(fa_intra_rep,0.440)\n",
    "oldscorefxn=get_score_function()"
   ]
  },
  {
   "cell_type": "code",
   "execution_count": 7,
   "metadata": {
    "collapsed": false
   },
   "outputs": [
    {
     "name": "stdout",
     "output_type": "stream",
     "text": [
      "\u001b[0mcore.conformation.Conformation: \u001b[0mConnecting residues: 123 ( SER:CtermProteinFull:O-conjugated ) and 124 ( ->3)-beta-D-Glcp:branch_lower_terminus:2-AcNH ) at atoms  OG  and  C1 \n",
      "\u001b[0mcore.conformation.Conformation: \u001b[0m with mutual distances: 0.454809 and 2.56873\n",
      "\u001b[0mcore.conformation.Conformation: \u001b[0mFound disulfide between residues 58 75\n",
      "\u001b[0mcore.conformation.Conformation: \u001b[0mcurrent variant for 58 CYS\n",
      "\u001b[0mcore.conformation.Conformation: \u001b[0mcurrent variant for 75 CYS\n",
      "\u001b[0mcore.conformation.Conformation: \u001b[0mcurrent variant for 58 CYD\n",
      "\u001b[0mcore.conformation.Conformation: \u001b[0mcurrent variant for 75 CYD\n",
      "\u001b[0mcore.conformation.Conformation: \u001b[0mFound disulfide between residues 107 120\n",
      "\u001b[0mcore.conformation.Conformation: \u001b[0mcurrent variant for 107 CYS\n",
      "\u001b[0mcore.conformation.Conformation: \u001b[0mcurrent variant for 120 CYS\n",
      "\u001b[0mcore.conformation.Conformation: \u001b[0mcurrent variant for 107 CYD\n",
      "\u001b[0mcore.conformation.Conformation: \u001b[0mcurrent variant for 120 CYD\n",
      "\u001b[0mcore.conformation.Conformation: \u001b[0mConnecting residues: 123 ( SER:CtermProteinFull:O-conjugated ) and 124 ( ->3)-beta-D-Glcp:branch_lower_terminus:2-AcNH ) at atoms  OG  and  C1 \n",
      "\u001b[0mcore.conformation.Conformation: \u001b[0m with mutual distances: 0.442208 and 0.946649\n",
      "\u001b[0mcore.conformation.Conformation: \u001b[0mFound disulfide between residues 58 75\n",
      "\u001b[0mcore.conformation.Conformation: \u001b[0mcurrent variant for 58 CYS\n",
      "\u001b[0mcore.conformation.Conformation: \u001b[0mcurrent variant for 75 CYS\n",
      "\u001b[0mcore.conformation.Conformation: \u001b[0mcurrent variant for 58 CYD\n",
      "\u001b[0mcore.conformation.Conformation: \u001b[0mcurrent variant for 75 CYD\n",
      "\u001b[0mcore.conformation.Conformation: \u001b[0mFound disulfide between residues 107 120\n",
      "\u001b[0mcore.conformation.Conformation: \u001b[0mcurrent variant for 107 CYS\n",
      "\u001b[0mcore.conformation.Conformation: \u001b[0mcurrent variant for 120 CYS\n",
      "\u001b[0mcore.conformation.Conformation: \u001b[0mcurrent variant for 107 CYD\n",
      "\u001b[0mcore.conformation.Conformation: \u001b[0mcurrent variant for 120 CYD\n",
      "\u001b[0mcore.conformation.Conformation: \u001b[0mConnecting residues: 123 ( SER:CtermProteinFull:O-conjugated ) and 124 ( ->3)-beta-D-Glcp:branch_lower_terminus:2-AcNH ) at atoms  OG  and  C1 \n",
      "\u001b[0mcore.conformation.Conformation: \u001b[0m with mutual distances: 0.330563 and 0.743116\n",
      "\u001b[0mcore.conformation.Conformation: \u001b[0mFound disulfide between residues 58 75\n",
      "\u001b[0mcore.conformation.Conformation: \u001b[0mcurrent variant for 58 CYS\n",
      "\u001b[0mcore.conformation.Conformation: \u001b[0mcurrent variant for 75 CYS\n",
      "\u001b[0mcore.conformation.Conformation: \u001b[0mcurrent variant for 58 CYD\n",
      "\u001b[0mcore.conformation.Conformation: \u001b[0mcurrent variant for 75 CYD\n",
      "\u001b[0mcore.conformation.Conformation: \u001b[0mFound disulfide between residues 107 120\n",
      "\u001b[0mcore.conformation.Conformation: \u001b[0mcurrent variant for 107 CYS\n",
      "\u001b[0mcore.conformation.Conformation: \u001b[0mcurrent variant for 120 CYS\n",
      "\u001b[0mcore.conformation.Conformation: \u001b[0mcurrent variant for 107 CYD\n",
      "\u001b[0mcore.conformation.Conformation: \u001b[0mcurrent variant for 120 CYD\n",
      "\u001b[0mcore.conformation.Conformation: \u001b[0mConnecting residues: 123 ( SER:CtermProteinFull:O-conjugated ) and 124 ( ->3)-beta-D-Glcp:branch_lower_terminus:2-AcNH ) at atoms  OG  and  C1 \n",
      "\u001b[0mcore.conformation.Conformation: \u001b[0m with mutual distances: 0.419639 and 1.26397\n",
      "\u001b[0mcore.conformation.Conformation: \u001b[0mFound disulfide between residues 58 75\n",
      "\u001b[0mcore.conformation.Conformation: \u001b[0mcurrent variant for 58 CYS\n",
      "\u001b[0mcore.conformation.Conformation: \u001b[0mcurrent variant for 75 CYS\n",
      "\u001b[0mcore.conformation.Conformation: \u001b[0mcurrent variant for 58 CYD\n",
      "\u001b[0mcore.conformation.Conformation: \u001b[0mcurrent variant for 75 CYD\n",
      "\u001b[0mcore.conformation.Conformation: \u001b[0mFound disulfide between residues 107 120\n",
      "\u001b[0mcore.conformation.Conformation: \u001b[0mcurrent variant for 107 CYS\n",
      "\u001b[0mcore.conformation.Conformation: \u001b[0mcurrent variant for 120 CYS\n",
      "\u001b[0mcore.conformation.Conformation: \u001b[0mcurrent variant for 107 CYD\n",
      "\u001b[0mcore.conformation.Conformation: \u001b[0mcurrent variant for 120 CYD\n",
      "\u001b[0mcore.conformation.Conformation: \u001b[0mConnecting residues: 123 ( SER:CtermProteinFull:O-conjugated ) and 124 ( ->3)-beta-D-Glcp:branch_lower_terminus:2-AcNH ) at atoms  OG  and  C1 \n",
      "\u001b[0mcore.conformation.Conformation: \u001b[0m with mutual distances: 0.420359 and 1.26073\n",
      "\u001b[0mcore.conformation.Conformation: \u001b[0mFound disulfide between residues 58 75\n",
      "\u001b[0mcore.conformation.Conformation: \u001b[0mcurrent variant for 58 CYS\n",
      "\u001b[0mcore.conformation.Conformation: \u001b[0mcurrent variant for 75 CYS\n",
      "\u001b[0mcore.conformation.Conformation: \u001b[0mcurrent variant for 58 CYD\n",
      "\u001b[0mcore.conformation.Conformation: \u001b[0mcurrent variant for 75 CYD\n",
      "\u001b[0mcore.conformation.Conformation: \u001b[0mFound disulfide between residues 107 120\n",
      "\u001b[0mcore.conformation.Conformation: \u001b[0mcurrent variant for 107 CYS\n",
      "\u001b[0mcore.conformation.Conformation: \u001b[0mcurrent variant for 120 CYS\n",
      "\u001b[0mcore.conformation.Conformation: \u001b[0mcurrent variant for 107 CYD\n",
      "\u001b[0mcore.conformation.Conformation: \u001b[0mcurrent variant for 120 CYD\n",
      "\u001b[0mcore.conformation.Conformation: \u001b[0mConnecting residues: 123 ( SER:CtermProteinFull:O-conjugated ) and 124 ( ->3)-beta-D-Glcp:branch_lower_terminus:2-AcNH ) at atoms  OG  and  C1 \n",
      "\u001b[0mcore.conformation.Conformation: \u001b[0m with mutual distances: 0.426314 and 1.21977\n",
      "\u001b[0mcore.conformation.Conformation: \u001b[0mFound disulfide between residues 58 75\n",
      "\u001b[0mcore.conformation.Conformation: \u001b[0mcurrent variant for 58 CYS\n",
      "\u001b[0mcore.conformation.Conformation: \u001b[0mcurrent variant for 75 CYS\n",
      "\u001b[0mcore.conformation.Conformation: \u001b[0mcurrent variant for 58 CYD\n",
      "\u001b[0mcore.conformation.Conformation: \u001b[0mcurrent variant for 75 CYD\n",
      "\u001b[0mcore.conformation.Conformation: \u001b[0mFound disulfide between residues 107 120\n",
      "\u001b[0mcore.conformation.Conformation: \u001b[0mcurrent variant for 107 CYS\n",
      "\u001b[0mcore.conformation.Conformation: \u001b[0mcurrent variant for 120 CYS\n",
      "\u001b[0mcore.conformation.Conformation: \u001b[0mcurrent variant for 107 CYD\n",
      "\u001b[0mcore.conformation.Conformation: \u001b[0mcurrent variant for 120 CYD\n",
      "\u001b[0mcore.conformation.Conformation: \u001b[0mConnecting residues: 123 ( SER:CtermProteinFull:O-conjugated ) and 124 ( ->3)-beta-D-Glcp:branch_lower_terminus:2-AcNH ) at atoms  OG  and  C1 \n",
      "\u001b[0mcore.conformation.Conformation: \u001b[0m with mutual distances: 0.307783 and 2.0581\n",
      "\u001b[0mcore.conformation.Conformation: \u001b[0mFound disulfide between residues 58 75\n",
      "\u001b[0mcore.conformation.Conformation: \u001b[0mcurrent variant for 58 CYS\n",
      "\u001b[0mcore.conformation.Conformation: \u001b[0mcurrent variant for 75 CYS\n",
      "\u001b[0mcore.conformation.Conformation: \u001b[0mcurrent variant for 58 CYD\n",
      "\u001b[0mcore.conformation.Conformation: \u001b[0mcurrent variant for 75 CYD\n",
      "\u001b[0mcore.conformation.Conformation: \u001b[0mFound disulfide between residues 107 120\n",
      "\u001b[0mcore.conformation.Conformation: \u001b[0mcurrent variant for 107 CYS\n",
      "\u001b[0mcore.conformation.Conformation: \u001b[0mcurrent variant for 120 CYS\n",
      "\u001b[0mcore.conformation.Conformation: \u001b[0mcurrent variant for 107 CYD\n",
      "\u001b[0mcore.conformation.Conformation: \u001b[0mcurrent variant for 120 CYD\n",
      "\u001b[0mcore.conformation.Conformation: \u001b[0mConnecting residues: 123 ( SER:CtermProteinFull:O-conjugated ) and 124 ( ->3)-beta-D-Glcp:branch_lower_terminus:2-AcNH ) at atoms  OG  and  C1 \n",
      "\u001b[0mcore.conformation.Conformation: \u001b[0m with mutual distances: 0.353552 and 1.19838\n",
      "\u001b[0mcore.conformation.Conformation: \u001b[0mFound disulfide between residues 58 75\n",
      "\u001b[0mcore.conformation.Conformation: \u001b[0mcurrent variant for 58 CYS\n",
      "\u001b[0mcore.conformation.Conformation: \u001b[0mcurrent variant for 75 CYS\n",
      "\u001b[0mcore.conformation.Conformation: \u001b[0mcurrent variant for 58 CYD\n",
      "\u001b[0mcore.conformation.Conformation: \u001b[0mcurrent variant for 75 CYD\n",
      "\u001b[0mcore.conformation.Conformation: \u001b[0mFound disulfide between residues 107 120\n",
      "\u001b[0mcore.conformation.Conformation: \u001b[0mcurrent variant for 107 CYS\n",
      "\u001b[0mcore.conformation.Conformation: \u001b[0mcurrent variant for 120 CYS\n",
      "\u001b[0mcore.conformation.Conformation: \u001b[0mcurrent variant for 107 CYD\n",
      "\u001b[0mcore.conformation.Conformation: \u001b[0mcurrent variant for 120 CYD\n",
      "\u001b[0mcore.conformation.Conformation: \u001b[0mConnecting residues: 123 ( SER:CtermProteinFull:O-conjugated ) and 124 ( ->3)-beta-D-Glcp:branch_lower_terminus:2-AcNH ) at atoms  OG  and  C1 \n",
      "\u001b[0mcore.conformation.Conformation: \u001b[0m with mutual distances: 0.310862 and 1.27448\n",
      "\u001b[0mcore.conformation.Conformation: \u001b[0mFound disulfide between residues 58 75\n",
      "\u001b[0mcore.conformation.Conformation: \u001b[0mcurrent variant for 58 CYS\n",
      "\u001b[0mcore.conformation.Conformation: \u001b[0mcurrent variant for 75 CYS\n",
      "\u001b[0mcore.conformation.Conformation: \u001b[0mcurrent variant for 58 CYD\n",
      "\u001b[0mcore.conformation.Conformation: \u001b[0mcurrent variant for 75 CYD\n",
      "\u001b[0mcore.conformation.Conformation: \u001b[0mFound disulfide between residues 107 120\n",
      "\u001b[0mcore.conformation.Conformation: \u001b[0mcurrent variant for 107 CYS\n",
      "\u001b[0mcore.conformation.Conformation: \u001b[0mcurrent variant for 120 CYS\n",
      "\u001b[0mcore.conformation.Conformation: \u001b[0mcurrent variant for 107 CYD\n",
      "\u001b[0mcore.conformation.Conformation: \u001b[0mcurrent variant for 120 CYD\n",
      "\u001b[0mcore.conformation.Conformation: \u001b[0mConnecting residues: 123 ( SER:CtermProteinFull:O-conjugated ) and 124 ( ->3)-beta-D-Glcp:branch_lower_terminus:2-AcNH ) at atoms  OG  and  C1 \n",
      "\u001b[0mcore.conformation.Conformation: \u001b[0m with mutual distances: 0.308505 and 1.07797\n",
      "\u001b[0mcore.conformation.Conformation: \u001b[0mFound disulfide between residues 58 75\n",
      "\u001b[0mcore.conformation.Conformation: \u001b[0mcurrent variant for 58 CYS\n",
      "\u001b[0mcore.conformation.Conformation: \u001b[0mcurrent variant for 75 CYS\n",
      "\u001b[0mcore.conformation.Conformation: \u001b[0mcurrent variant for 58 CYD\n",
      "\u001b[0mcore.conformation.Conformation: \u001b[0mcurrent variant for 75 CYD\n",
      "\u001b[0mcore.conformation.Conformation: \u001b[0mFound disulfide between residues 107 120\n",
      "\u001b[0mcore.conformation.Conformation: \u001b[0mcurrent variant for 107 CYS\n",
      "\u001b[0mcore.conformation.Conformation: \u001b[0mcurrent variant for 120 CYS\n",
      "\u001b[0mcore.conformation.Conformation: \u001b[0mcurrent variant for 107 CYD\n",
      "\u001b[0mcore.conformation.Conformation: \u001b[0mcurrent variant for 120 CYD\n"
     ]
    }
   ],
   "source": [
    "path =\"/Users/XT/Dropbox/Research/PyRosetta/Output/ACICU_top10_decoys/\"\n",
    "filenames = glob.glob(path + '*.pdb')\n",
    "f=open(path+\"score.txt\",\"w\")\n",
    "for i, filename in enumerate(filenames):\n",
    "    file_num=filename.split('_')[-1].split('.')[0]\n",
    "    pose=pose_from_file(filename)\n",
    "    score=scorefxn(pose)\n",
    "    oldscore=oldscorefxn(pose)\n",
    "    f.write(str(i+1)+'\\t'+str(file_num)+'\\t'+str(score)+'\\t'+str(oldscore)+'\\n')\n",
    "f.close()"
   ]
  },
  {
   "cell_type": "code",
   "execution_count": 5,
   "metadata": {
    "collapsed": false
   },
   "outputs": [
    {
     "data": {
      "text/plain": [
       "u'/Users/XT/Dropbox/Research/PyRosetta/Code'"
      ]
     },
     "execution_count": 5,
     "metadata": {},
     "output_type": "execute_result"
    }
   ],
   "source": [
    "pwd"
   ]
  },
  {
   "cell_type": "code",
   "execution_count": null,
   "metadata": {
    "collapsed": true
   },
   "outputs": [],
   "source": []
  }
 ],
 "metadata": {
  "kernelspec": {
   "display_name": "Python 2",
   "language": "python",
   "name": "python2"
  },
  "language_info": {
   "codemirror_mode": {
    "name": "ipython",
    "version": 2
   },
   "file_extension": ".py",
   "mimetype": "text/x-python",
   "name": "python",
   "nbconvert_exporter": "python",
   "pygments_lexer": "ipython2",
   "version": "2.7.10"
  }
 },
 "nbformat": 4,
 "nbformat_minor": 0
}
