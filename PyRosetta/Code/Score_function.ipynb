{
 "cells": [
  {
   "cell_type": "code",
   "execution_count": 1,
   "metadata": {
    "collapsed": false
   },
   "outputs": [
    {
     "name": "stdout",
     "output_type": "stream",
     "text": [
      "\u001b[0mcore.init: \u001b[0mRosetta version  from \n",
      "\u001b[0mcore.init: \u001b[0mcommand: PyRosetta -ex1 -ex2aro -include_sugars -override_rsd_type_limit -read_pdb_link_records -write_pdb_link_records -database /Users/XT/ResearchApps/PyRosetta_1230/database\n",
      "\u001b[0mcore.init: \u001b[0m'RNG device' seed mode, using '/dev/urandom', seed=287182122 seed_offset=0 real_seed=287182122\n",
      "\u001b[0mcore.init.random: \u001b[0mRandomGenerator:init: Normal mode, seed=287182122 RG_type=mt19937\n"
     ]
    }
   ],
   "source": [
    "from rosetta import *\n",
    "init(extra_options='-include_sugars -override_rsd_type_limit -read_pdb_link_records -write_pdb_link_records') \n",
    "import glob"
   ]
  },
  {
   "cell_type": "code",
   "execution_count": 2,
   "metadata": {
    "collapsed": false
   },
   "outputs": [
    {
     "name": "stdout",
     "output_type": "stream",
     "text": [
      "\u001b[0mcore.chemical.ResidueTypeSet: \u001b[0mFinished initializing fa_standard residue type set.  Created 410 residue types\n",
      "\u001b[0mcore.chemical.ResidueTypeSet: \u001b[0mTotal time to initialize 0.638151 seconds.\n",
      "\u001b[0mcore.conformation.Conformation: \u001b[0m[ WARNING ] missing heavyatom:  CG  on residue GLU 112\n",
      "\u001b[0mcore.conformation.Conformation: \u001b[0m[ WARNING ] missing heavyatom:  CD  on residue GLU 112\n",
      "\u001b[0mcore.conformation.Conformation: \u001b[0m[ WARNING ] missing heavyatom:  OE1 on residue GLU 112\n",
      "\u001b[0mcore.conformation.Conformation: \u001b[0m[ WARNING ] missing heavyatom:  OE2 on residue GLU 112\n",
      "\u001b[0mcore.conformation.Conformation: \u001b[0m[ WARNING ] missing heavyatom:  OG1 on residue THR 113\n",
      "\u001b[0mcore.conformation.Conformation: \u001b[0m[ WARNING ] missing heavyatom:  CG2 on residue THR 113\n",
      "\u001b[0mcore.conformation.Conformation: \u001b[0m[ WARNING ] missing heavyatom:  OXT on residue SER:CtermProteinFull:O-conjugated 136\n",
      "\u001b[0mcore.conformation.Conformation: \u001b[0mConnecting residues: 136 ( SER:CtermProteinFull:O-conjugated ) and 137 ( ->3)-beta-D-Glcp:branch_lower_terminus:->4)-branch:->6)-branch:2-AcNH ) at atoms  OG  and  C1 \n",
      "\u001b[0mcore.conformation.Conformation: \u001b[0m with mutual distances: 0.41124 and 2.32465\n",
      "\u001b[0mcore.conformation.Conformation: \u001b[0mConnecting residues: 137 ( ->3)-beta-D-Glcp:branch_lower_terminus:->4)-branch:->6)-branch:2-AcNH ) and 139 ( ->3)-beta-D-Glcp:non-reducing_end:branch_lower_terminus:2-AcNH ) at atoms  O4  and  C1 \n",
      "\u001b[0mcore.conformation.Conformation: \u001b[0m with mutual distances: 0.141563 and 1.43592\n",
      "\u001b[0mcore.conformation.Conformation: \u001b[0mConnecting residues: 137 ( ->3)-beta-D-Glcp:branch_lower_terminus:->4)-branch:->6)-branch:2-AcNH ) and 140 ( ->4)-alpha-L-Rhap:non-reducing_end:branch_lower_terminus ) at atoms  O6  and  C1 \n",
      "\u001b[0mcore.conformation.Conformation: \u001b[0m with mutual distances: 2.57653 and 0.0991902\n",
      "\u001b[0mcore.conformation.Conformation: \u001b[0mFound disulfide between residues 56 86\n",
      "\u001b[0mcore.conformation.Conformation: \u001b[0mcurrent variant for 56 CYS\n",
      "\u001b[0mcore.conformation.Conformation: \u001b[0mcurrent variant for 86 CYS\n",
      "\u001b[0mcore.conformation.Conformation: \u001b[0mcurrent variant for 56 CYD\n",
      "\u001b[0mcore.conformation.Conformation: \u001b[0mcurrent variant for 86 CYD\n",
      "\u001b[0mcore.pack.pack_missing_sidechains: \u001b[0mpacking residue number 112 because of missing atom number 6 atom name  CG \n",
      "\u001b[0mcore.pack.pack_missing_sidechains: \u001b[0mpacking residue number 113 because of missing atom number 6 atom name  OG1\n",
      "\u001b[0mcore.pack.task: \u001b[0mPacker task: initialize from command line() \n",
      "\u001b[0mcore.scoring.ScoreFunctionFactory: \u001b[0mSCOREFUNCTION: \u001b[32mtalaris2013\u001b[0m\n",
      "\u001b[0mcore.scoring.etable: \u001b[0mStarting energy table calculation\n",
      "\u001b[0mcore.scoring.etable: \u001b[0msmooth_etable: changing atr/rep split to bottom of energy well\n",
      "\u001b[0mcore.scoring.etable: \u001b[0msmooth_etable: spline smoothing lj etables (maxdis = 6)\n",
      "\u001b[0mcore.scoring.etable: \u001b[0msmooth_etable: spline smoothing solvation etables (max_dis = 6)\n",
      "\u001b[0mcore.scoring.etable: \u001b[0mFinished calculating energy tables.\n",
      "\u001b[0mbasic.io.database: \u001b[0mDatabase file opened: scoring/score_functions/hbonds/sp2_elec_params/HBPoly1D.csv\n",
      "\u001b[0mbasic.io.database: \u001b[0mDatabase file opened: scoring/score_functions/hbonds/sp2_elec_params/HBFadeIntervals.csv\n",
      "\u001b[0mbasic.io.database: \u001b[0mDatabase file opened: scoring/score_functions/hbonds/sp2_elec_params/HBEval.csv\n",
      "\u001b[0mbasic.io.database: \u001b[0mDatabase file opened: scoring/score_functions/rama/Rama_smooth_dyn.dat_ss_6.4\n",
      "\u001b[0mbasic.io.database: \u001b[0mDatabase file opened: scoring/score_functions/P_AA_pp/P_AA\n",
      "\u001b[0mbasic.io.database: \u001b[0mDatabase file opened: scoring/score_functions/P_AA_pp/P_AA_n\n",
      "\u001b[0mbasic.io.database: \u001b[0mDatabase file opened: scoring/score_functions/P_AA_pp/P_AA_pp\n",
      "\u001b[0mcore.scoring.ScoreFunctionFactory: \u001b[0mThe -include_sugars flag was used with no sugar_bb weight set in the weights file.  Setting sugar_bb weight to 1.0 by default.\n",
      "\u001b[0mcore.pack.dunbrack.RotamerLibrary: \u001b[0mUsing Dunbrack library binary file '/Users/XT/ResearchApps/PyRosetta_1230/database/rotamer/ExtendedOpt1-5/Dunbrack10.lib.bin'.\n",
      "\u001b[0mcore.pack.dunbrack.RotamerLibrary: \u001b[0mDunbrack 2010 library took 0.353726 seconds to load from binary\n",
      "\u001b[0mcore.pack.pack_rotamers: \u001b[0mbuilt 18 rotamers at 2 positions.\n",
      "\u001b[0mcore.pack.interaction_graph.interaction_graph_factory: \u001b[0mInstantiating DensePDInteractionGraph\n",
      "\u001b[0mcore.pack.interaction_graph.interaction_graph_factory: \u001b[0mIG: 1620 bytes\n"
     ]
    }
   ],
   "source": [
    "pose=pose_from_file('/Users/XT/Dropbox/Project/m2_glycan_4_0116.pdb')"
   ]
  },
  {
   "cell_type": "code",
   "execution_count": 3,
   "metadata": {
    "collapsed": false
   },
   "outputs": [
    {
     "data": {
      "text/plain": [
       "'FTLIELMIVVAIIGILAAIAIPAYQNYIAKSQASEAFTLADGLKTTINTNLQAGTCFAGGATAVTAADKVSGKYGDAEIGGTAPNCTITYTFKSSGVSNKLTSTKIVMNVSETGILTKNSGTDTPVELLPQSFVASZZZZ'"
      ]
     },
     "execution_count": 3,
     "metadata": {},
     "output_type": "execute_result"
    }
   ],
   "source": [
    "pose.sequence()"
   ]
  },
  {
   "cell_type": "code",
   "execution_count": 4,
   "metadata": {
    "collapsed": false
   },
   "outputs": [
    {
     "name": "stdout",
     "output_type": "stream",
     "text": [
      "\u001b[0mcore.conformation.Conformation: \u001b[0mConnecting residues: 123 ( SER:CtermProteinFull:O-conjugated ) and 124 ( ->3)-beta-D-Glcp:branch_lower_terminus:2-AcNH ) at atoms  OG  and  C1 \n",
      "\u001b[0mcore.conformation.Conformation: \u001b[0m with mutual distances: 0.317025 and 0.210265\n",
      "\u001b[0mcore.conformation.Conformation: \u001b[0mFound disulfide between residues 58 75\n",
      "\u001b[0mcore.conformation.Conformation: \u001b[0mcurrent variant for 58 CYS\n",
      "\u001b[0mcore.conformation.Conformation: \u001b[0mcurrent variant for 75 CYS\n",
      "\u001b[0mcore.conformation.Conformation: \u001b[0mcurrent variant for 58 CYD\n",
      "\u001b[0mcore.conformation.Conformation: \u001b[0mcurrent variant for 75 CYD\n",
      "\u001b[0mcore.conformation.Conformation: \u001b[0mFound disulfide between residues 107 120\n",
      "\u001b[0mcore.conformation.Conformation: \u001b[0mcurrent variant for 107 CYS\n",
      "\u001b[0mcore.conformation.Conformation: \u001b[0mcurrent variant for 120 CYS\n",
      "\u001b[0mcore.conformation.Conformation: \u001b[0mcurrent variant for 107 CYD\n",
      "\u001b[0mcore.conformation.Conformation: \u001b[0mcurrent variant for 120 CYD\n"
     ]
    }
   ],
   "source": [
    "ACICU=pose_from_file('/Users/XT/Dropbox/Project/pilus_monomer_repacking.pdb')"
   ]
  },
  {
   "cell_type": "code",
   "execution_count": 6,
   "metadata": {
    "collapsed": false
   },
   "outputs": [
    {
     "data": {
      "text/plain": [
       "'AAIAIPAYQNYIAKSQVSTGLADITAGKTNAETKLAEGLTAALTDVEALGLQKSTNACSTITTSIGTNGASNITCTLKGTSQINSKKIEWIRDADNATNGTTGAWRCKTDVAENLRPKSCGASZZZZZ'"
      ]
     },
     "execution_count": 6,
     "metadata": {},
     "output_type": "execute_result"
    }
   ],
   "source": [
    "ACICU.sequence()"
   ]
  },
  {
   "cell_type": "code",
   "execution_count": 2,
   "metadata": {
    "collapsed": false
   },
   "outputs": [
    {
     "name": "stdout",
     "output_type": "stream",
     "text": [
      "\u001b[0mcore.scoring.ScoreFunctionFactory: \u001b[0mSCOREFUNCTION: \u001b[32mtalaris2013\u001b[0m\n",
      "\u001b[0mcore.scoring.etable: \u001b[0mStarting energy table calculation\n",
      "\u001b[0mcore.scoring.etable: \u001b[0msmooth_etable: changing atr/rep split to bottom of energy well\n",
      "\u001b[0mcore.scoring.etable: \u001b[0msmooth_etable: spline smoothing lj etables (maxdis = 6)\n",
      "\u001b[0mcore.scoring.etable: \u001b[0msmooth_etable: spline smoothing solvation etables (max_dis = 6)\n",
      "\u001b[0mcore.scoring.etable: \u001b[0mFinished calculating energy tables.\n",
      "\u001b[0mbasic.io.database: \u001b[0mDatabase file opened: scoring/score_functions/hbonds/sp2_elec_params/HBPoly1D.csv\n",
      "\u001b[0mbasic.io.database: \u001b[0mDatabase file opened: scoring/score_functions/hbonds/sp2_elec_params/HBFadeIntervals.csv\n",
      "\u001b[0mbasic.io.database: \u001b[0mDatabase file opened: scoring/score_functions/hbonds/sp2_elec_params/HBEval.csv\n",
      "\u001b[0mbasic.io.database: \u001b[0mDatabase file opened: scoring/score_functions/rama/Rama_smooth_dyn.dat_ss_6.4\n",
      "\u001b[0mbasic.io.database: \u001b[0mDatabase file opened: scoring/score_functions/P_AA_pp/P_AA\n",
      "\u001b[0mbasic.io.database: \u001b[0mDatabase file opened: scoring/score_functions/P_AA_pp/P_AA_n\n",
      "\u001b[0mbasic.io.database: \u001b[0mDatabase file opened: scoring/score_functions/P_AA_pp/P_AA_pp\n",
      "\u001b[0mcore.scoring.ScoreFunctionFactory: \u001b[0mThe -include_sugars flag was used with no sugar_bb weight set in the weights file.  Setting sugar_bb weight to 1.0 by default.\n",
      "\u001b[0mcore.scoring.ScoreFunctionFactory: \u001b[0mSCOREFUNCTION: \u001b[32mtalaris2013\u001b[0m\n",
      "\u001b[0mcore.scoring.ScoreFunctionFactory: \u001b[0mThe -include_sugars flag was used with no sugar_bb weight set in the weights file.  Setting sugar_bb weight to 1.0 by default.\n"
     ]
    }
   ],
   "source": [
    "scorefxn=get_score_function()\n",
    "scorefxn.set_weight(fa_intra_rep,0.440)\n",
    "oldscorefxn=get_score_function()"
   ]
  },
  {
   "cell_type": "code",
   "execution_count": 5,
   "metadata": {
    "collapsed": false
   },
   "outputs": [
    {
     "name": "stdout",
     "output_type": "stream",
     "text": [
      "\u001b[0mcore.conformation.Conformation: \u001b[0mConnecting residues: 123 ( SER:CtermProteinFull:O-conjugated ) and 124 ( ->3)-beta-D-Glcp:branch_lower_terminus:2-AcNH ) at atoms  OG  and  C1 \n",
      "\u001b[0mcore.conformation.Conformation: \u001b[0m with mutual distances: 0.409573 and 1.15329\n",
      "\u001b[0mcore.conformation.Conformation: \u001b[0mFound disulfide between residues 58 75\n",
      "\u001b[0mcore.conformation.Conformation: \u001b[0mcurrent variant for 58 CYS\n",
      "\u001b[0mcore.conformation.Conformation: \u001b[0mcurrent variant for 75 CYS\n",
      "\u001b[0mcore.conformation.Conformation: \u001b[0mcurrent variant for 58 CYD\n",
      "\u001b[0mcore.conformation.Conformation: \u001b[0mcurrent variant for 75 CYD\n",
      "\u001b[0mcore.conformation.Conformation: \u001b[0mFound disulfide between residues 107 120\n",
      "\u001b[0mcore.conformation.Conformation: \u001b[0mcurrent variant for 107 CYS\n",
      "\u001b[0mcore.conformation.Conformation: \u001b[0mcurrent variant for 120 CYS\n",
      "\u001b[0mcore.conformation.Conformation: \u001b[0mcurrent variant for 107 CYD\n",
      "\u001b[0mcore.conformation.Conformation: \u001b[0mcurrent variant for 120 CYD\n",
      "\u001b[0mcore.conformation.Conformation: \u001b[0mConnecting residues: 123 ( SER:CtermProteinFull:O-conjugated ) and 124 ( ->3)-beta-D-Glcp:branch_lower_terminus:2-AcNH ) at atoms  OG  and  C1 \n",
      "\u001b[0mcore.conformation.Conformation: \u001b[0m with mutual distances: 0.376026 and 2.26145\n",
      "\u001b[0mcore.conformation.Conformation: \u001b[0mFound disulfide between residues 58 75\n",
      "\u001b[0mcore.conformation.Conformation: \u001b[0mcurrent variant for 58 CYS\n",
      "\u001b[0mcore.conformation.Conformation: \u001b[0mcurrent variant for 75 CYS\n",
      "\u001b[0mcore.conformation.Conformation: \u001b[0mcurrent variant for 58 CYD\n",
      "\u001b[0mcore.conformation.Conformation: \u001b[0mcurrent variant for 75 CYD\n",
      "\u001b[0mcore.conformation.Conformation: \u001b[0mFound disulfide between residues 107 120\n",
      "\u001b[0mcore.conformation.Conformation: \u001b[0mcurrent variant for 107 CYS\n",
      "\u001b[0mcore.conformation.Conformation: \u001b[0mcurrent variant for 120 CYS\n",
      "\u001b[0mcore.conformation.Conformation: \u001b[0mcurrent variant for 107 CYD\n",
      "\u001b[0mcore.conformation.Conformation: \u001b[0mcurrent variant for 120 CYD\n",
      "\u001b[0mcore.conformation.Conformation: \u001b[0mConnecting residues: 123 ( SER:CtermProteinFull:O-conjugated ) and 124 ( ->3)-beta-D-Glcp:branch_lower_terminus:2-AcNH ) at atoms  OG  and  C1 \n",
      "\u001b[0mcore.conformation.Conformation: \u001b[0m with mutual distances: 0.315977 and 1.59974\n",
      "\u001b[0mcore.conformation.Conformation: \u001b[0mFound disulfide between residues 58 75\n",
      "\u001b[0mcore.conformation.Conformation: \u001b[0mcurrent variant for 58 CYS\n",
      "\u001b[0mcore.conformation.Conformation: \u001b[0mcurrent variant for 75 CYS\n",
      "\u001b[0mcore.conformation.Conformation: \u001b[0mcurrent variant for 58 CYD\n",
      "\u001b[0mcore.conformation.Conformation: \u001b[0mcurrent variant for 75 CYD\n",
      "\u001b[0mcore.conformation.Conformation: \u001b[0mFound disulfide between residues 107 120\n",
      "\u001b[0mcore.conformation.Conformation: \u001b[0mcurrent variant for 107 CYS\n",
      "\u001b[0mcore.conformation.Conformation: \u001b[0mcurrent variant for 120 CYS\n",
      "\u001b[0mcore.conformation.Conformation: \u001b[0mcurrent variant for 107 CYD\n",
      "\u001b[0mcore.conformation.Conformation: \u001b[0mcurrent variant for 120 CYD\n",
      "\u001b[0mcore.conformation.Conformation: \u001b[0mConnecting residues: 123 ( SER:CtermProteinFull:O-conjugated ) and 124 ( ->3)-beta-D-Glcp:branch_lower_terminus:2-AcNH ) at atoms  OG  and  C1 \n",
      "\u001b[0mcore.conformation.Conformation: \u001b[0m with mutual distances: 0.38198 and 2.23177\n",
      "\u001b[0mcore.conformation.Conformation: \u001b[0mFound disulfide between residues 58 75\n",
      "\u001b[0mcore.conformation.Conformation: \u001b[0mcurrent variant for 58 CYS\n",
      "\u001b[0mcore.conformation.Conformation: \u001b[0mcurrent variant for 75 CYS\n",
      "\u001b[0mcore.conformation.Conformation: \u001b[0mcurrent variant for 58 CYD\n",
      "\u001b[0mcore.conformation.Conformation: \u001b[0mcurrent variant for 75 CYD\n",
      "\u001b[0mcore.conformation.Conformation: \u001b[0mFound disulfide between residues 107 120\n",
      "\u001b[0mcore.conformation.Conformation: \u001b[0mcurrent variant for 107 CYS\n",
      "\u001b[0mcore.conformation.Conformation: \u001b[0mcurrent variant for 120 CYS\n",
      "\u001b[0mcore.conformation.Conformation: \u001b[0mcurrent variant for 107 CYD\n",
      "\u001b[0mcore.conformation.Conformation: \u001b[0mcurrent variant for 120 CYD\n",
      "\u001b[0mcore.conformation.Conformation: \u001b[0mConnecting residues: 123 ( SER:CtermProteinFull:O-conjugated ) and 124 ( ->3)-beta-D-Glcp:branch_lower_terminus:2-AcNH ) at atoms  OG  and  C1 \n",
      "\u001b[0mcore.conformation.Conformation: \u001b[0m with mutual distances: 0.346244 and 0.752369\n",
      "\u001b[0mcore.conformation.Conformation: \u001b[0mFound disulfide between residues 58 75\n",
      "\u001b[0mcore.conformation.Conformation: \u001b[0mcurrent variant for 58 CYS\n",
      "\u001b[0mcore.conformation.Conformation: \u001b[0mcurrent variant for 75 CYS\n",
      "\u001b[0mcore.conformation.Conformation: \u001b[0mcurrent variant for 58 CYD\n",
      "\u001b[0mcore.conformation.Conformation: \u001b[0mcurrent variant for 75 CYD\n",
      "\u001b[0mcore.conformation.Conformation: \u001b[0mFound disulfide between residues 107 120\n",
      "\u001b[0mcore.conformation.Conformation: \u001b[0mcurrent variant for 107 CYS\n",
      "\u001b[0mcore.conformation.Conformation: \u001b[0mcurrent variant for 120 CYS\n",
      "\u001b[0mcore.conformation.Conformation: \u001b[0mcurrent variant for 107 CYD\n",
      "\u001b[0mcore.conformation.Conformation: \u001b[0mcurrent variant for 120 CYD\n",
      "\u001b[0mcore.conformation.Conformation: \u001b[0mConnecting residues: 123 ( SER:CtermProteinFull:O-conjugated ) and 124 ( ->3)-beta-D-Glcp:branch_lower_terminus:2-AcNH ) at atoms  OG  and  C1 \n",
      "\u001b[0mcore.conformation.Conformation: \u001b[0m with mutual distances: 0.557679 and 1.46614\n",
      "\u001b[0mcore.conformation.Conformation: \u001b[0mFound disulfide between residues 58 75\n",
      "\u001b[0mcore.conformation.Conformation: \u001b[0mcurrent variant for 58 CYS\n",
      "\u001b[0mcore.conformation.Conformation: \u001b[0mcurrent variant for 75 CYS\n",
      "\u001b[0mcore.conformation.Conformation: \u001b[0mcurrent variant for 58 CYD\n",
      "\u001b[0mcore.conformation.Conformation: \u001b[0mcurrent variant for 75 CYD\n",
      "\u001b[0mcore.conformation.Conformation: \u001b[0mFound disulfide between residues 107 120\n",
      "\u001b[0mcore.conformation.Conformation: \u001b[0mcurrent variant for 107 CYS\n",
      "\u001b[0mcore.conformation.Conformation: \u001b[0mcurrent variant for 120 CYS\n",
      "\u001b[0mcore.conformation.Conformation: \u001b[0mcurrent variant for 107 CYD\n",
      "\u001b[0mcore.conformation.Conformation: \u001b[0mcurrent variant for 120 CYD\n",
      "\u001b[0mcore.conformation.Conformation: \u001b[0mConnecting residues: 123 ( SER:CtermProteinFull:O-conjugated ) and 124 ( ->3)-beta-D-Glcp:branch_lower_terminus:2-AcNH ) at atoms  OG  and  C1 \n",
      "\u001b[0mcore.conformation.Conformation: \u001b[0m with mutual distances: 0.336167 and 2.0877\n",
      "\u001b[0mcore.conformation.Conformation: \u001b[0mFound disulfide between residues 58 75\n",
      "\u001b[0mcore.conformation.Conformation: \u001b[0mcurrent variant for 58 CYS\n",
      "\u001b[0mcore.conformation.Conformation: \u001b[0mcurrent variant for 75 CYS\n",
      "\u001b[0mcore.conformation.Conformation: \u001b[0mcurrent variant for 58 CYD\n",
      "\u001b[0mcore.conformation.Conformation: \u001b[0mcurrent variant for 75 CYD\n",
      "\u001b[0mcore.conformation.Conformation: \u001b[0mFound disulfide between residues 107 120\n",
      "\u001b[0mcore.conformation.Conformation: \u001b[0mcurrent variant for 107 CYS\n",
      "\u001b[0mcore.conformation.Conformation: \u001b[0mcurrent variant for 120 CYS\n",
      "\u001b[0mcore.conformation.Conformation: \u001b[0mcurrent variant for 107 CYD\n",
      "\u001b[0mcore.conformation.Conformation: \u001b[0mcurrent variant for 120 CYD\n",
      "\u001b[0mcore.conformation.Conformation: \u001b[0mConnecting residues: 123 ( SER:CtermProteinFull:O-conjugated ) and 124 ( ->3)-beta-D-Glcp:branch_lower_terminus:2-AcNH ) at atoms  OG  and  C1 \n",
      "\u001b[0mcore.conformation.Conformation: \u001b[0m with mutual distances: 0.521604 and 0.991505\n",
      "\u001b[0mcore.conformation.Conformation: \u001b[0mFound disulfide between residues 58 75\n",
      "\u001b[0mcore.conformation.Conformation: \u001b[0mcurrent variant for 58 CYS\n",
      "\u001b[0mcore.conformation.Conformation: \u001b[0mcurrent variant for 75 CYS\n",
      "\u001b[0mcore.conformation.Conformation: \u001b[0mcurrent variant for 58 CYD\n",
      "\u001b[0mcore.conformation.Conformation: \u001b[0mcurrent variant for 75 CYD\n",
      "\u001b[0mcore.conformation.Conformation: \u001b[0mFound disulfide between residues 107 120\n",
      "\u001b[0mcore.conformation.Conformation: \u001b[0mcurrent variant for 107 CYS\n",
      "\u001b[0mcore.conformation.Conformation: \u001b[0mcurrent variant for 120 CYS\n",
      "\u001b[0mcore.conformation.Conformation: \u001b[0mcurrent variant for 107 CYD\n",
      "\u001b[0mcore.conformation.Conformation: \u001b[0mcurrent variant for 120 CYD\n",
      "\u001b[0mcore.conformation.Conformation: \u001b[0mConnecting residues: 123 ( SER:CtermProteinFull:O-conjugated ) and 124 ( ->3)-beta-D-Glcp:branch_lower_terminus:2-AcNH ) at atoms  OG  and  C1 \n",
      "\u001b[0mcore.conformation.Conformation: \u001b[0m with mutual distances: 0.415386 and 1.6026\n",
      "\u001b[0mcore.conformation.Conformation: \u001b[0mFound disulfide between residues 58 75\n",
      "\u001b[0mcore.conformation.Conformation: \u001b[0mcurrent variant for 58 CYS\n",
      "\u001b[0mcore.conformation.Conformation: \u001b[0mcurrent variant for 75 CYS\n",
      "\u001b[0mcore.conformation.Conformation: \u001b[0mcurrent variant for 58 CYD\n",
      "\u001b[0mcore.conformation.Conformation: \u001b[0mcurrent variant for 75 CYD\n",
      "\u001b[0mcore.conformation.Conformation: \u001b[0mFound disulfide between residues 107 120\n",
      "\u001b[0mcore.conformation.Conformation: \u001b[0mcurrent variant for 107 CYS\n",
      "\u001b[0mcore.conformation.Conformation: \u001b[0mcurrent variant for 120 CYS\n",
      "\u001b[0mcore.conformation.Conformation: \u001b[0mcurrent variant for 107 CYD\n",
      "\u001b[0mcore.conformation.Conformation: \u001b[0mcurrent variant for 120 CYD\n",
      "\u001b[0mcore.conformation.Conformation: \u001b[0mConnecting residues: 123 ( SER:CtermProteinFull:O-conjugated ) and 124 ( ->3)-beta-D-Glcp:branch_lower_terminus:2-AcNH ) at atoms  OG  and  C1 \n",
      "\u001b[0mcore.conformation.Conformation: \u001b[0m with mutual distances: 0.33101 and 1.36152\n",
      "\u001b[0mcore.conformation.Conformation: \u001b[0mFound disulfide between residues 58 75\n",
      "\u001b[0mcore.conformation.Conformation: \u001b[0mcurrent variant for 58 CYS\n",
      "\u001b[0mcore.conformation.Conformation: \u001b[0mcurrent variant for 75 CYS\n",
      "\u001b[0mcore.conformation.Conformation: \u001b[0mcurrent variant for 58 CYD\n",
      "\u001b[0mcore.conformation.Conformation: \u001b[0mcurrent variant for 75 CYD\n",
      "\u001b[0mcore.conformation.Conformation: \u001b[0mFound disulfide between residues 107 120\n",
      "\u001b[0mcore.conformation.Conformation: \u001b[0mcurrent variant for 107 CYS\n",
      "\u001b[0mcore.conformation.Conformation: \u001b[0mcurrent variant for 120 CYS\n",
      "\u001b[0mcore.conformation.Conformation: \u001b[0mcurrent variant for 107 CYD\n",
      "\u001b[0mcore.conformation.Conformation: \u001b[0mcurrent variant for 120 CYD\n"
     ]
    }
   ],
   "source": [
    "path =\"/Users/XT/ResearchApps/Output/0310_11/ACICU_TOP10/\"\n",
    "filenames = glob.glob(path + '*.pdb')\n",
    "f=open(path+\"score.txt\",\"w\")\n",
    "for i, filename in enumerate(filenames):\n",
    "    file_num=filename.split('_')[-1].split('.')[0]\n",
    "    pose=pose_from_file(filename)\n",
    "    score=scorefxn(pose)\n",
    "    oldscore=oldscorefxn(pose)\n",
    "    f.write(str(i+1)+'\\t'+str(file_num)+'\\t'+str(score)+'\\t'+str(oldscore)+'\\n')\n",
    "f.close()"
   ]
  },
  {
   "cell_type": "code",
   "execution_count": 5,
   "metadata": {
    "collapsed": false
   },
   "outputs": [
    {
     "data": {
      "text/plain": [
       "u'/Users/XT/Dropbox/Research/PyRosetta/Code'"
      ]
     },
     "execution_count": 5,
     "metadata": {},
     "output_type": "execute_result"
    }
   ],
   "source": [
    "pwd"
   ]
  },
  {
   "cell_type": "code",
   "execution_count": null,
   "metadata": {
    "collapsed": true
   },
   "outputs": [],
   "source": []
  }
 ],
 "metadata": {
  "kernelspec": {
   "display_name": "Python 2",
   "language": "python",
   "name": "python2"
  },
  "language_info": {
   "codemirror_mode": {
    "name": "ipython",
    "version": 2
   },
   "file_extension": ".py",
   "mimetype": "text/x-python",
   "name": "python",
   "nbconvert_exporter": "python",
   "pygments_lexer": "ipython2",
   "version": "2.7.10"
  }
 },
 "nbformat": 4,
 "nbformat_minor": 0
}
