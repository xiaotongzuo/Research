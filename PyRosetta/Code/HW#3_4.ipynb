{
 "cells": [
  {
   "cell_type": "code",
   "execution_count": 4,
   "metadata": {
    "collapsed": true
   },
   "outputs": [],
   "source": [
    "from rosetta import *\n",
    "init(extra_options='-include_sugars -override_rsd_type_limit -read_pdb_link_records -write_pdb_link_records') \n",
    "scorefxn=get_score_function()\n",
    "import os\n",
    "import sys\n",
    "import numpy as np\n",
    "import glob\n",
    "from toolbox import cleanATOM"
   ]
  },
  {
   "cell_type": "code",
   "execution_count": 24,
   "metadata": {
    "collapsed": false
   },
   "outputs": [
    {
     "name": "stdout",
     "output_type": "stream",
     "text": [
      "/Users/XT/Downloads/top8000_chains_70/test10\n"
     ]
    }
   ],
   "source": [
    "cd /Users/XT/Downloads/top8000_chains_70/random_10_pdb/"
   ]
  },
  {
   "cell_type": "code",
   "execution_count": 25,
   "metadata": {
    "collapsed": false
   },
   "outputs": [
    {
     "data": {
      "text/plain": [
       "u'/Users/XT/Downloads/top8000_chains_70/random_10_pdb'"
      ]
     },
     "execution_count": 25,
     "metadata": {},
     "output_type": "execute_result"
    }
   ],
   "source": [
    "pwd"
   ]
  },
  {
   "cell_type": "code",
   "execution_count": 8,
   "metadata": {
    "collapsed": true
   },
   "outputs": [
    {
     "name": "stdout",
     "output_type": "stream",
     "text": [
      "0 3silFH_A.pdb\n",
      "If the file 3silFH_A.clean.pdb already exists,it will be overwritten.\n",
      "PDB 3silFH_A.pdb successfully cleaned, non-ATOM lines removed.\n",
      "Clean data written to 3silFH_A.clean.pdb.\n",
      "1 4ubpFH_A.pdb\n",
      "If the file 4ubpFH_A.clean.pdb already exists,it will be overwritten.\n",
      "PDB 4ubpFH_A.pdb successfully cleaned, non-ATOM lines removed.\n",
      "Clean data written to 4ubpFH_A.clean.pdb.\n",
      "2 4ubpFH_C.pdb\n",
      "If the file 4ubpFH_C.clean.pdb already exists,it will be overwritten.\n",
      "PDB 4ubpFH_C.pdb successfully cleaned, non-ATOM lines removed.\n",
      "Clean data written to 4ubpFH_C.clean.pdb.\n",
      "3 4vubFH_A.pdb\n",
      "If the file 4vubFH_A.clean.pdb already exists,it will be overwritten.\n",
      "PDB 4vubFH_A.pdb successfully cleaned, non-ATOM lines removed.\n",
      "Clean data written to 4vubFH_A.clean.pdb.\n",
      "4 5palFH_A.pdb\n",
      "If the file 5palFH_A.clean.pdb already exists,it will be overwritten.\n",
      "PDB 5palFH_A.pdb successfully cleaned, non-ATOM lines removed.\n",
      "Clean data written to 5palFH_A.clean.pdb.\n",
      "5 6celFH_A.pdb\n",
      "If the file 6celFH_A.clean.pdb already exists,it will be overwritten.\n",
      "PDB 6celFH_A.pdb successfully cleaned, non-ATOM lines removed.\n",
      "Clean data written to 6celFH_A.clean.pdb.\n",
      "6 6rxnFH_A.pdb\n",
      "If the file 6rxnFH_A.clean.pdb already exists,it will be overwritten.\n",
      "PDB 6rxnFH_A.pdb successfully cleaned, non-ATOM lines removed.\n",
      "Clean data written to 6rxnFH_A.clean.pdb.\n",
      "7 7fd1FH_A.pdb\n",
      "If the file 7fd1FH_A.clean.pdb already exists,it will be overwritten.\n",
      "PDB 7fd1FH_A.pdb successfully cleaned, non-ATOM lines removed.\n",
      "Clean data written to 7fd1FH_A.clean.pdb.\n",
      "8 7rsaFH_A.pdb\n",
      "If the file 7rsaFH_A.clean.pdb already exists,it will be overwritten.\n",
      "PDB 7rsaFH_A.pdb successfully cleaned, non-ATOM lines removed.\n",
      "Clean data written to 7rsaFH_A.clean.pdb.\n",
      "9 8abpFH_A.pdb\n",
      "If the file 8abpFH_A.clean.pdb already exists,it will be overwritten.\n",
      "PDB 8abpFH_A.pdb successfully cleaned, non-ATOM lines removed.\n",
      "Clean data written to 8abpFH_A.clean.pdb.\n"
     ]
    }
   ],
   "source": [
    "import glob\n",
    "filenames = glob.glob('*.pdb')\n",
    "for i, filename in enumerate(filenames):\n",
    "    cleanATOM(filename)\n"
   ]
  },
  {
   "cell_type": "code",
   "execution_count": 26,
   "metadata": {
    "collapsed": false
   },
   "outputs": [],
   "source": [
    "path = '/Users/XT/Downloads/top8000_chains_70/random_10_pdb/'\n",
    "filenames = glob.glob(path+'*.clean.pdb')\n",
    "f=open(\"NClength.txt\",\"w+\")\n",
    "for i, filename in enumerate(filenames):\n",
    "    #f.write(str(i+1)+'\\t'+str(filename)+'\\n') \n",
    "    pose=pose_from_pdb(filename)\n",
    "    for resi_num in range(1,pose.total_residue()+1):\n",
    "        N_xyz = pose.residue(resi_num).xyz(\"N\")\n",
    "        CA_xyz = pose.residue(resi_num).xyz(\"CA\")\n",
    "        N_CA_vector = CA_xyz-N_xyz\n",
    "        f.write(str(N_CA_vector.norm)+\"\\n\") \n",
    "f.close()\n"
   ]
  },
  {
   "cell_type": "code",
   "execution_count": null,
   "metadata": {
    "collapsed": true
   },
   "outputs": [],
   "source": []
  }
 ],
 "metadata": {
  "kernelspec": {
   "display_name": "Python 2",
   "language": "python",
   "name": "python2"
  },
  "language_info": {
   "codemirror_mode": {
    "name": "ipython",
    "version": 2
   },
   "file_extension": ".py",
   "mimetype": "text/x-python",
   "name": "python",
   "nbconvert_exporter": "python",
   "pygments_lexer": "ipython2",
   "version": "2.7.10"
  }
 },
 "nbformat": 4,
 "nbformat_minor": 0
}
