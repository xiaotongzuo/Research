{
 "cells": [
  {
   "cell_type": "code",
   "execution_count": 67,
   "metadata": {
    "collapsed": false
   },
   "outputs": [],
   "source": [
    "\n",
    "g=open(\"/Users/XT/Documents/resienergy_data.txt\",\"w\")\n",
    "for i in range(17):\n",
    "    f=open('/Users/XT/Documents/resibyresi_energy.txt','r+')\n",
    "    for line in f:\n",
    "        dat=line.split()\n",
    "        if dat[0]==\"128\":\n",
    "            g.write(dat[i+1]+\"\\t\")\n",
    "    g.write(\"\\n\")\n",
    "    f.close()\n",
    "     \n",
    "    \n",
    "\n",
    "g.close()"
   ]
  },
  {
   "cell_type": "code",
   "execution_count": null,
   "metadata": {
    "collapsed": true
   },
   "outputs": [],
   "source": []
  },
  {
   "cell_type": "code",
   "execution_count": null,
   "metadata": {
    "collapsed": true
   },
   "outputs": [],
   "source": []
  }
 ],
 "metadata": {
  "kernelspec": {
   "display_name": "Python 2",
   "language": "python",
   "name": "python2"
  },
  "language_info": {
   "codemirror_mode": {
    "name": "ipython",
    "version": 2
   },
   "file_extension": ".py",
   "mimetype": "text/x-python",
   "name": "python",
   "nbconvert_exporter": "python",
   "pygments_lexer": "ipython2",
   "version": "2.7.6"
  }
 },
 "nbformat": 4,
 "nbformat_minor": 0
}
