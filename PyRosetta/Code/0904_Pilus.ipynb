{
 "cells": [
  {
   "cell_type": "code",
   "execution_count": 1,
   "metadata": {
    "collapsed": false
   },
   "outputs": [
    {
     "name": "stdout",
     "output_type": "stream",
     "text": [
      "\u001b[0mcore.init: \u001b[0mRosetta version  from \n",
      "\u001b[0mcore.init: \u001b[0mcommand: PyRosetta -ex1 -ex2aro -database /Users/XT/ResearchApps/PyRosetta_1230/database\n",
      "\u001b[0mcore.init: \u001b[0m'RNG device' seed mode, using '/dev/urandom', seed=-1578699594 seed_offset=0 real_seed=-1578699594\n",
      "\u001b[0mcore.init.random: \u001b[0mRandomGenerator:init: Normal mode, seed=-1578699594 RG_type=mt19937\n",
      "\u001b[0mcore.init: \u001b[0mRosetta version  from \n",
      "\u001b[0mcore.init: \u001b[0mcommand: PyRosetta -ex1 -ex2aro -include_sugars -override_rsd_type_limit -read_pdb_link_records -write_pdb_link_records -database /Users/XT/ResearchApps/PyRosetta_1230/database\n",
      "\u001b[0mcore.init: \u001b[0m'RNG device' seed mode, using '/dev/urandom', seed=507221939 seed_offset=0 real_seed=507221939\n",
      "\u001b[0mcore.init.random: \u001b[0mRandomGenerator:init: Normal mode, seed=507221939 RG_type=mt19937\n"
     ]
    }
   ],
   "source": [
    "# '-out:levels core.io.pdb.file_data:500' needed to see error details\n",
    "from rosetta import *\n",
    "rosetta.init(notebook=True)\n",
    "init(extra_options='-include_sugars -override_rsd_type_limit -read_pdb_link_records -write_pdb_link_records') "
   ]
  },
  {
   "cell_type": "code",
   "execution_count": 2,
   "metadata": {
    "collapsed": false
   },
   "outputs": [
    {
     "name": "stdout",
     "output_type": "stream",
     "text": [
      "\u001b[0mcore.chemical.ResidueTypeSet: \u001b[0mFinished initializing fa_standard residue type set.  Created 411 residue types\n",
      "\u001b[0mcore.chemical.ResidueTypeSet: \u001b[0mTotal time to initialize 0.618618 seconds.\n",
      "\u001b[0mcore.conformation.Conformation: \u001b[0m[ WARNING ] Building missing atom (2HA3) at root of residue tree, using stubs: CAN3  CN3 1HA3\n",
      "This probably means that a torsion angle is being taken from the ideal residue and\n",
      "should be further optimized...\n",
      "\u001b[0mcore.conformation.Conformation: \u001b[0mConnecting residues: 123 ( SER:CtermProteinFull:O-conjugated ) and 124 ( ->3)-beta-D-Glcp:branch_lower_terminus:2-AcNH ) at atoms  OG  and  C1 \n",
      "\u001b[0mcore.conformation.Conformation: \u001b[0m with mutual distances: 0.317025 and 0.210265\n",
      "\u001b[0mcore.conformation.Conformation: \u001b[0mFound disulfide between residues 58 75\n",
      "\u001b[0mcore.conformation.Conformation: \u001b[0mcurrent variant for 58 CYS\n",
      "\u001b[0mcore.conformation.Conformation: \u001b[0mcurrent variant for 75 CYS\n",
      "\u001b[0mcore.conformation.Conformation: \u001b[0mcurrent variant for 58 CYD\n",
      "\u001b[0mcore.conformation.Conformation: \u001b[0mcurrent variant for 75 CYD\n",
      "\u001b[0mcore.conformation.Conformation: \u001b[0mFound disulfide between residues 107 120\n",
      "\u001b[0mcore.conformation.Conformation: \u001b[0mcurrent variant for 107 CYS\n",
      "\u001b[0mcore.conformation.Conformation: \u001b[0mcurrent variant for 120 CYS\n",
      "\u001b[0mcore.conformation.Conformation: \u001b[0mcurrent variant for 107 CYD\n",
      "\u001b[0mcore.conformation.Conformation: \u001b[0mcurrent variant for 120 CYD\n"
     ]
    }
   ],
   "source": [
    "initial_pose=pose_from_file('/Users/XT/Dropbox/Project/pilus_monomer_repacking_delH.pdb')"
   ]
  },
  {
   "cell_type": "code",
   "execution_count": null,
   "metadata": {
    "collapsed": true
   },
   "outputs": [],
   "source": []
  },
  {
   "cell_type": "code",
   "execution_count": 2,
   "metadata": {
    "collapsed": false
   },
   "outputs": [
    {
     "name": "stdout",
     "output_type": "stream",
     "text": [
      "\u001b[0mcore.chemical.ResidueTypeSet: \u001b[0mFinished initializing fa_standard residue type set.  Created 410 residue types\n",
      "\u001b[0mcore.chemical.ResidueTypeSet: \u001b[0mTotal time to initialize 0.567467 seconds.\n",
      "\u001b[0mcore.conformation.Conformation: \u001b[0mConnecting residues: 111 ( SER:CtermProteinFull:O-conjugated ) and 112 ( ->3)-beta-D-Glcp:branch_lower_terminus:->4)-branch:->6)-branch:2-AcNH ) at atoms  OG  and  C1 \n",
      "\u001b[0mcore.conformation.Conformation: \u001b[0m with mutual distances: 0.41124 and 2.32465\n",
      "\u001b[0mcore.conformation.Conformation: \u001b[0mConnecting residues: 112 ( ->3)-beta-D-Glcp:branch_lower_terminus:->4)-branch:->6)-branch:2-AcNH ) and 114 ( ->3)-beta-D-Glcp:non-reducing_end:branch_lower_terminus:2-AcNH ) at atoms  O4  and  C1 \n",
      "\u001b[0mcore.conformation.Conformation: \u001b[0m with mutual distances: 0.141563 and 1.43592\n",
      "\u001b[0mcore.conformation.Conformation: \u001b[0mConnecting residues: 112 ( ->3)-beta-D-Glcp:branch_lower_terminus:->4)-branch:->6)-branch:2-AcNH ) and 115 ( ->4)-alpha-L-Rhap:non-reducing_end:branch_lower_terminus ) at atoms  O6  and  C1 \n",
      "\u001b[0mcore.conformation.Conformation: \u001b[0m with mutual distances: 3.47856 and 1.43717\n",
      "\u001b[0mcore.conformation.Conformation: \u001b[0mConnecting residues: 226 ( SER:CtermProteinFull:O-conjugated ) and 227 ( ->3)-beta-D-Glcp:branch_lower_terminus:->4)-branch:->6)-branch:2-AcNH ) at atoms  OG  and  C1 \n",
      "\u001b[0mcore.conformation.Conformation: \u001b[0m with mutual distances: 0.410129 and 2.32393\n",
      "\u001b[0mcore.conformation.Conformation: \u001b[0mConnecting residues: 227 ( ->3)-beta-D-Glcp:branch_lower_terminus:->4)-branch:->6)-branch:2-AcNH ) and 229 ( ->3)-beta-D-Glcp:non-reducing_end:branch_lower_terminus:2-AcNH ) at atoms  O4  and  C1 \n",
      "\u001b[0mcore.conformation.Conformation: \u001b[0m with mutual distances: 0.142205 and 1.43648\n",
      "\u001b[0mcore.conformation.Conformation: \u001b[0mConnecting residues: 227 ( ->3)-beta-D-Glcp:branch_lower_terminus:->4)-branch:->6)-branch:2-AcNH ) and 230 ( ->4)-alpha-L-Rhap:non-reducing_end:branch_lower_terminus ) at atoms  O6  and  C1 \n",
      "\u001b[0mcore.conformation.Conformation: \u001b[0m with mutual distances: 2.57489 and 0.0998624\n",
      "\u001b[0mcore.conformation.Conformation: \u001b[0mFound disulfide between residues 31 61\n",
      "\u001b[0mcore.conformation.Conformation: \u001b[0mcurrent variant for 31 CYS\n",
      "\u001b[0mcore.conformation.Conformation: \u001b[0mcurrent variant for 61 CYS\n",
      "\u001b[0mcore.conformation.Conformation: \u001b[0mcurrent variant for 31 CYD\n",
      "\u001b[0mcore.conformation.Conformation: \u001b[0mcurrent variant for 61 CYD\n",
      "\u001b[0mcore.conformation.Conformation: \u001b[0mFound disulfide between residues 146 176\n",
      "\u001b[0mcore.conformation.Conformation: \u001b[0mcurrent variant for 146 CYS\n",
      "\u001b[0mcore.conformation.Conformation: \u001b[0mcurrent variant for 176 CYS\n",
      "\u001b[0mcore.conformation.Conformation: \u001b[0mcurrent variant for 146 CYD\n",
      "\u001b[0mcore.conformation.Conformation: \u001b[0mcurrent variant for 176 CYD\n"
     ]
    }
   ],
   "source": [
    "initial_pose2=pose_from_file('/Users/XT/Dropbox/M2dimer_repacking.pdb')"
   ]
  },
  {
   "cell_type": "code",
   "execution_count": null,
   "metadata": {
    "collapsed": true
   },
   "outputs": [],
   "source": []
  },
  {
   "cell_type": "code",
   "execution_count": 7,
   "metadata": {
    "collapsed": false
   },
   "outputs": [
    {
     "data": {
      "text/plain": [
       "<rosetta.core.pose._core_pose_.Pose at 0x109b67600>"
      ]
     },
     "execution_count": 7,
     "metadata": {},
     "output_type": "execute_result"
    }
   ],
   "source": [
    "pose=Pose()\n",
    "pose.assign(initial_pose2)"
   ]
  },
  {
   "cell_type": "code",
   "execution_count": null,
   "metadata": {
    "collapsed": true
   },
   "outputs": [],
   "source": [
    "tail_start=132-16\n",
    "tail_mid=136-16   # this aa Cys is always False\n",
    "tail_end=139-16\n",
    "sugar_start=140-16\n",
    "sugar_end=144-16"
   ]
  },
  {
   "cell_type": "code",
   "execution_count": null,
   "metadata": {
    "collapsed": true
   },
   "outputs": [],
   "source": [
    "tail_start_2=140+118-50  # from chain B resi 128, cut head 25*2, 128 or 122\n",
    "tail_end_2=140+136-50  # to Chain B sugar ends\n",
    "sugar_start=140+136-50+1\n",
    "sugar_end=140+140-50\n",
    "\n",
    "# MoveMap\n",
    "mm=MoveMap()\n",
    "mm.set_bb_true_range(tail_start_2,sugar_end)   # inclusive\n",
    "mm.set_branches(True)                 # sugar torsion angles on\n",
    "mm.set_nu(False)                   # for Ring Mover, turn off\n",
    "mm.set_chi_true_range(tail_start_2,sugar_end)  ###### add sc chi"
   ]
  },
  {
   "cell_type": "code",
   "execution_count": 12,
   "metadata": {
    "collapsed": true
   },
   "outputs": [
    {
     "name": "stdout",
     "output_type": "stream",
     "text": [
      "\n",
      "-------------------------------\n",
      "  resnum     Type  TRUE/FALSE \n",
      "-------------------------------\n",
      " DEFAULT      BB     FALSE\n",
      " DEFAULT      SC     FALSE\n",
      " DEFAULT      NU     FALSE\n",
      " DEFAULT  BRANCH      TRUE\n",
      "     116      BB      TRUE\n",
      "     117      BB      TRUE\n",
      "     118      BB      TRUE\n",
      "     119      BB      TRUE\n",
      "     120      BB      TRUE\n",
      "     121      BB      TRUE\n",
      "     122      BB      TRUE\n",
      "     123      BB      TRUE\n",
      "     124      BB      TRUE\n",
      "     125      BB      TRUE\n",
      "     126      BB      TRUE\n",
      "     127      BB      TRUE\n",
      "     128      BB      TRUE\n",
      "-------------------------------\n",
      " jumpnum     Type  TRUE/FALSE \n",
      "-------------------------------\n",
      " DEFAULT     JUMP    FALSE\n",
      "-------------------------------\n",
      "  resnum  atomnum     Type  TRUE/FALSE \n",
      "-------------------------------\n",
      " DEFAULT               PHI    FALSE\n",
      " DEFAULT             THETA    FALSE\n",
      " DEFAULT                 D    FALSE\n",
      " DEFAULT               RB1    FALSE\n",
      " DEFAULT               RB2    FALSE\n",
      " DEFAULT               RB3    FALSE\n",
      " DEFAULT               RB4    FALSE\n",
      " DEFAULT               RB5    FALSE\n",
      " DEFAULT               RB6    FALSE\n",
      "\n",
      "\n"
     ]
    }
   ],
   "source": [
    "mm=MoveMap()\n",
    "mm.set_bb_true_range(tail_start,sugar_end)   # inclusive\n",
    "#mm.set_chi_true_range(tail_start,sugar_end)\n",
    "mm.set_branches(True)                 # sugar torsion angles on\n",
    "mm.set_nu(False) \n",
    "print mm"
   ]
  },
  {
   "cell_type": "code",
   "execution_count": 11,
   "metadata": {
    "collapsed": true
   },
   "outputs": [
    {
     "name": "stdout",
     "output_type": "stream",
     "text": [
      "\n",
      "-------------------------------\n",
      "  resnum     Type  TRUE/FALSE \n",
      "-------------------------------\n",
      " DEFAULT      BB     FALSE\n",
      " DEFAULT      SC     FALSE\n",
      " DEFAULT      NU     FALSE\n",
      " DEFAULT  BRANCH      TRUE\n",
      "     116      BB      TRUE\n",
      "              SC      TRUE\n",
      "     117      BB      TRUE\n",
      "              SC      TRUE\n",
      "     118      BB      TRUE\n",
      "              SC      TRUE\n",
      "     119      BB      TRUE\n",
      "              SC      TRUE\n",
      "     120      BB      TRUE\n",
      "              SC      TRUE\n",
      "     121      BB      TRUE\n",
      "              SC      TRUE\n",
      "     122      BB      TRUE\n",
      "              SC      TRUE\n",
      "     123      BB      TRUE\n",
      "              SC      TRUE\n",
      "     124      BB      TRUE\n",
      "              SC      TRUE\n",
      "     125      BB      TRUE\n",
      "              SC      TRUE\n",
      "     126      BB      TRUE\n",
      "              SC      TRUE\n",
      "     127      BB      TRUE\n",
      "              SC      TRUE\n",
      "     128      BB      TRUE\n",
      "              SC      TRUE\n",
      "-------------------------------\n",
      " jumpnum     Type  TRUE/FALSE \n",
      "-------------------------------\n",
      " DEFAULT     JUMP    FALSE\n",
      "-------------------------------\n",
      "  resnum  atomnum     Type  TRUE/FALSE \n",
      "-------------------------------\n",
      " DEFAULT               PHI    FALSE\n",
      " DEFAULT             THETA    FALSE\n",
      " DEFAULT                 D    FALSE\n",
      " DEFAULT               RB1    FALSE\n",
      " DEFAULT               RB2    FALSE\n",
      " DEFAULT               RB3    FALSE\n",
      " DEFAULT               RB4    FALSE\n",
      " DEFAULT               RB5    FALSE\n",
      " DEFAULT               RB6    FALSE\n",
      "\n",
      "\n"
     ]
    }
   ],
   "source": [
    "mmsc=MoveMap()\n",
    "mmsc.set_bb_true_range(tail_start,sugar_end)   # inclusive\n",
    "# turn chi on\n",
    "mmsc.set_chi_true_range(tail_start,sugar_end)\n",
    "mmsc.set_branches(True)                 # sugar torsion angles on\n",
    "mmsc.set_nu(False) \n",
    "print mmsc"
   ]
  },
  {
   "cell_type": "code",
   "execution_count": 15,
   "metadata": {
    "collapsed": false
   },
   "outputs": [
    {
     "name": "stdout",
     "output_type": "stream",
     "text": [
      "\u001b[0mcore.kinematics.AtomTree: \u001b[0munable to find DOF_ID for bond_length:  atomno= 6 rsd= 58   atomno= 6 rsd= 75 \n",
      "\u001b[0mcore.kinematics.AtomTree: \u001b[0munable to find DOF_ID for bond_length:  atomno= 6 rsd= 107   atomno= 6 rsd= 120 \n"
     ]
    }
   ],
   "source": [
    "  # reload into rosetta\n",
    "pmm=PyMOLMover()\n",
    "pmm.apply(pose)\n",
    "pmm.send_movemap(pose,mmsc)"
   ]
  },
  {
   "cell_type": "code",
   "execution_count": 16,
   "metadata": {
    "collapsed": true
   },
   "outputs": [],
   "source": []
  },
  {
   "cell_type": "code",
   "execution_count": 13,
   "metadata": {
    "collapsed": false
   },
   "outputs": [],
   "source": [
    "# task pack                                  ???\n",
    "task_pack=standard_packer_task(pose)\n",
    "task_pack.restrict_to_repacking()\n",
    "task_pack.temporarily_fix_everything()\n",
    "\n",
    "# 120 Cys skipped\n"
   ]
  },
  {
   "cell_type": "code",
   "execution_count": 5,
   "metadata": {
    "collapsed": false
   },
   "outputs": [
    {
     "name": "stdout",
     "output_type": "stream",
     "text": [
      "\u001b[0mcore.scoring.ScoreFunctionFactory: \u001b[0mSCOREFUNCTION: \u001b[32mtalaris2013\u001b[0m\n",
      "\u001b[0mcore.scoring.ScoreFunctionFactory: \u001b[0mThe -include_sugars flag was used with no sugar_bb weight set in the weights file.  Setting sugar_bb weight to 1.0 by default.\n"
     ]
    }
   ],
   "source": [
    "scorefxn=get_fa_scorefxn()\n",
    "scorefxn.set_weight(fa_intra_rep,0.440)"
   ]
  },
  {
   "cell_type": "code",
   "execution_count": 6,
   "metadata": {
    "collapsed": false
   },
   "outputs": [
    {
     "name": "stdout",
     "output_type": "stream",
     "text": [
      "484.168615454\n"
     ]
    }
   ],
   "source": [
    "print scorefxn(initial_pose2)"
   ]
  },
  {
   "cell_type": "code",
   "execution_count": 10,
   "metadata": {
    "collapsed": true
   },
   "outputs": [
    {
     "ename": "TypeError",
     "evalue": "'ScoreType' object is not callable",
     "output_type": "error",
     "traceback": [
      "\u001b[0;31m---------------------------------------------------------------------------\u001b[0m",
      "\u001b[0;31mTypeError\u001b[0m                                 Traceback (most recent call last)",
      "\u001b[0;32m<ipython-input-10-89deb748e67b>\u001b[0m in \u001b[0;36m<module>\u001b[0;34m()\u001b[0m\n\u001b[0;32m----> 1\u001b[0;31m \u001b[0mrama2b\u001b[0m\u001b[0;34m=\u001b[0m\u001b[0mrama2b\u001b[0m\u001b[0;34m(\u001b[0m\u001b[0;34m)\u001b[0m\u001b[0;34m\u001b[0m\u001b[0m\n\u001b[0m\u001b[1;32m      2\u001b[0m \u001b[0mrama2b\u001b[0m\u001b[0;34m.\u001b[0m\u001b[0mapply\u001b[0m\u001b[0;34m(\u001b[0m\u001b[0mpose\u001b[0m\u001b[0;34m)\u001b[0m\u001b[0;34m\u001b[0m\u001b[0m\n",
      "\u001b[0;31mTypeError\u001b[0m: 'ScoreType' object is not callable"
     ]
    }
   ],
   "source": [
    "#Rama2b Mover\n",
    "rama2b()"
   ]
  },
  {
   "cell_type": "code",
   "execution_count": 40,
   "metadata": {
    "collapsed": false,
    "scrolled": true
   },
   "outputs": [],
   "source": [
    "# Mover\n",
    "smallmover=SmallMover(mm,1,5)\n",
    "shearmover=ShearMover(mm,1,5)\n",
    "minmover=MinMover()\n",
    "minmover.movemap(mm)   \n",
    "minmover.score_function(scorefxn)\n",
    "minmover.min_type('dfpmin')\n",
    "#ringmover=RingConformationMover()\n",
    "#ringmover.movemap(mm)\n",
    "# Monte Carlo\n",
    "mc=MonteCarlo(pose,scorefxn,1)\n",
    "    \n",
    "pack_mover_tail=PackRotamersMover(scorefxn,task_pack)\n",
    "\n",
    "# Rotamer Trials\n",
    "rotamer_trials=RotamerTrialsMover(scorefxn,task_pack)\n",
    "# Job Distributor     \n",
    "jd=PyJobDistributor(\"output_dimer\",2,scorefxn)"
   ]
  },
  {
   "cell_type": "code",
   "execution_count": 16,
   "metadata": {
    "collapsed": false
   },
   "outputs": [],
   "source": [
    "import random\n"
   ]
  },
  {
   "cell_type": "code",
   "execution_count": 41,
   "metadata": {
    "collapsed": false
   },
   "outputs": [],
   "source": [
    "# changing 124's OMEGA does not change the score, 122\n",
    "pose.assign(initial_pose)\n",
    "## 1. max angle for shear mover: 180 degree\n",
    "count=0\n",
    "#while not jd.job_complete:\n",
    "for i in range(1):\n",
    "    count+=1\n",
    "    shearmover.angle_max('L',180)\n",
    "    smallmover.angle_max('L',180)\n",
    "    for i in range(100):                   # min mover,50, 5%      ?set tolerance & type df    250\n",
    "        for ii in range(1):               # shear+ring,19, 95%     \n",
    "            smallmover.apply(pose)\n",
    "            pmm.apply(pose)\n",
    "            #mc.boltzmann(pose)\n",
    "            #pmm.apply(pose)\n",
    "            shearmover.apply(pose)\n",
    "            pmm.apply(pose)\n",
    "            #mc.boltzmann(pose)\n",
    "            #pmm.apply(pose)\n",
    "            new_omega=random.uniform(0,360)\n",
    "            pose.set_omega(124,new_omega)\n",
    "            pmm.apply(pose)\n",
    "            #mc.boltzmann(pose)\n",
    "            #pmm.apply(pose)\n",
    "        minmover.apply(pose)\n",
    "        pmm.apply(pose)\n",
    "        #mc.boltzmann(pose)\n",
    "        #pmm.apply(pose)\n",
    "\n"
   ]
  },
  {
   "cell_type": "code",
   "execution_count": 25,
   "metadata": {
    "collapsed": false
   },
   "outputs": [
    {
     "data": {
      "text/plain": [
       "12.067414685300236"
      ]
     },
     "execution_count": 25,
     "metadata": {},
     "output_type": "execute_result"
    }
   ],
   "source": [
    "non_peptide_heavy_atom_RMSD(pose, initial_pose)"
   ]
  },
  {
   "cell_type": "code",
   "execution_count": 14,
   "metadata": {
    "collapsed": false
   },
   "outputs": [
    {
     "ename": "IndentationError",
     "evalue": "unexpected indent (<ipython-input-14-b4e5dde24794>, line 3)",
     "output_type": "error",
     "traceback": [
      "\u001b[0;36m  File \u001b[0;32m\"<ipython-input-14-b4e5dde24794>\"\u001b[0;36m, line \u001b[0;32m3\u001b[0m\n\u001b[0;31m    for i in range(1): # repacking    3%    90/8\u001b[0m\n\u001b[0m    ^\u001b[0m\n\u001b[0;31mIndentationError\u001b[0m\u001b[0;31m:\u001b[0m unexpected indent\n"
     ]
    }
   ],
   "source": [
    "\n",
    "## 2. max angle for shear mover: 4 degree\n",
    "    for i in range(1): # repacking    3%    90/8\n",
    "        for k in range (121,128+1):\n",
    "            for ii in range(2):             # min mover    3%        \n",
    "                for iii in range(16):        # shear+ring   95%   \n",
    "                    shearmover.angle_max('L',4)\n",
    "                    shearmover.apply(pose) \n",
    "                    ringmover.apply(pose)    \n",
    "                    mc.boltzmann(pose)\n",
    "                    # Rotamer Trials\n",
    "                    #rotamer_trials.apply(pose)\n",
    "                    #pmm.apply(pose)\n",
    "                minmover.apply(pose)\n",
    "                #pmm.apply(pose)\n",
    "                mc.boltzmann(pose)\n",
    "            #repack\n",
    "            task_pack.restrict_to_repacking()\n",
    "            task_pack.temporarily_fix_everything()\n",
    "            for kk in range(116,119+1):\n",
    "                task_pack.temporarily_set_pack_residue(kk,True)\n",
    "            task_pack.temporarily_set_pack_residue(k,True)\n",
    "            pack_mover=PackRotamersMover(scorefxn,task_pack)\n",
    "            pack_mover.apply(pose)\n",
    "            minmover.apply(pose)\n",
    "            mc.boltzmann(pose)\n",
    "            #pmm.apply(pose)\n",
    "    \n",
    "        \n",
    "    #jd.output_decoy(pose)\n",
    "    lowest=mc.lowest_score_pose()\n",
    "    print count,\" \", mc.lowest_score()\n",
    "\n",
    "    \n"
   ]
  },
  {
   "cell_type": "code",
   "execution_count": 7,
   "metadata": {
    "collapsed": true
   },
   "outputs": [
    {
     "name": "stdout",
     "output_type": "stream",
     "text": [
      "71.4141741854\n"
     ]
    },
    {
     "ename": "NameError",
     "evalue": "name 'pmm' is not defined",
     "output_type": "error",
     "traceback": [
      "\u001b[0;31m---------------------------------------------------------------------------\u001b[0m",
      "\u001b[0;31mNameError\u001b[0m                                 Traceback (most recent call last)",
      "\u001b[0;32m<ipython-input-7-418c81ec747b>\u001b[0m in \u001b[0;36m<module>\u001b[0;34m()\u001b[0m\n\u001b[1;32m      1\u001b[0m \u001b[0;32mprint\u001b[0m \u001b[0mmc\u001b[0m\u001b[0;34m.\u001b[0m\u001b[0mlowest_score\u001b[0m\u001b[0;34m(\u001b[0m\u001b[0;34m)\u001b[0m\u001b[0;34m\u001b[0m\u001b[0m\n\u001b[1;32m      2\u001b[0m \u001b[0mlowest\u001b[0m\u001b[0;34m.\u001b[0m\u001b[0mdump_pdb\u001b[0m\u001b[0;34m(\u001b[0m\u001b[0;34m\"/Users/XT/Dropbox/Project/lowest.pdb\"\u001b[0m\u001b[0;34m)\u001b[0m\u001b[0;34m\u001b[0m\u001b[0m\n\u001b[0;32m----> 3\u001b[0;31m \u001b[0mpmm\u001b[0m\u001b[0;34m.\u001b[0m\u001b[0mapply\u001b[0m\u001b[0;34m(\u001b[0m\u001b[0mlowest\u001b[0m\u001b[0;34m)\u001b[0m\u001b[0;34m\u001b[0m\u001b[0m\n\u001b[0m",
      "\u001b[0;31mNameError\u001b[0m: name 'pmm' is not defined"
     ]
    }
   ],
   "source": [
    "print mc.lowest_score()\n",
    "lowest.dump_pdb(\"/Users/XT/Dropbox/Project/lowest.pdb\")\n",
    "pmm.apply(lowest)"
   ]
  },
  {
   "cell_type": "code",
   "execution_count": 42,
   "metadata": {
    "collapsed": false
   },
   "outputs": [
    {
     "data": {
      "text/plain": [
       "17.861230296245537"
      ]
     },
     "execution_count": 42,
     "metadata": {},
     "output_type": "execute_result"
    }
   ],
   "source": [
    "new_pose=pose_from_pdb('/Users/XT/Dropbox/Project/lowest.pdb')\n",
    "scorefxn(new_pose)"
   ]
  },
  {
   "cell_type": "code",
   "execution_count": 33,
   "metadata": {
    "collapsed": true
   },
   "outputs": [
    {
     "name": "stdout",
     "output_type": "stream",
     "text": [
      "17.6938815341\n",
      "1 0.879337763723\n",
      "2 0.255143968572\n",
      "3 1.27625213093\n",
      "4 0.649685391681\n",
      "5 2.02387924672\n",
      "6 2.20989875429\n",
      "7 1.61131185608\n",
      "8 1.1328333929\n",
      "9 1.02243456923\n",
      "10 1.25678954503\n",
      "11 0.437957330193\n",
      "12 1.05080222304\n",
      "13 1.05359181315\n",
      "14 0.908931696524\n",
      "15 0.39959999379\n",
      "16 0.810762030791\n",
      "17 1.68016348943\n",
      "18 0.39772142983\n",
      "19 0.580846289881\n",
      "20 0.590914907077\n",
      "21 0.899811158558\n",
      "22 0.603629002403\n",
      "23 0.924769130463\n",
      "24 1.16470543043\n",
      "25 16.2116536487\n",
      "26 0.402363601502\n",
      "27 1.39098028492\n",
      "28 5.27594293513\n",
      "29 0.6259634063\n",
      "30 0.895211889408\n",
      "31 1.03143859047\n",
      "32 0.659861647799\n",
      "33 0.373850384668\n",
      "34 0.729239241172\n",
      "35 0.457590643262\n",
      "36 0.71246515029\n",
      "37 0.173283994261\n",
      "38 0.344580342395\n",
      "39 0.267452887606\n",
      "40 0.129811537612\n",
      "41 0.515085287104\n",
      "42 0.337243027083\n",
      "43 0.492508225418\n",
      "44 0.359238172425\n",
      "45 1.38539022175\n",
      "46 1.01513662859\n",
      "47 3.08539270349\n",
      "48 0.509987567433\n",
      "49 1.86906297841\n",
      "50 0.392785262773\n",
      "51 0.540688300075\n",
      "52 0.304342122873\n",
      "53 0.229179808956\n",
      "54 0.401371271042\n",
      "55 2.60838942003\n",
      "56 0.120285674007\n",
      "57 0.592583319166\n",
      "58 2.43491155335\n",
      "59 0.502013318019\n",
      "60 0.722158229063\n",
      "61 0.68303632721\n",
      "62 0.191012813274\n",
      "63 0.417080069827\n",
      "64 0.421159882718\n",
      "65 0.714831852903\n",
      "66 0.471451574889\n",
      "67 0.322541811313\n",
      "68 0.653889586255\n",
      "69 0.723213997267\n",
      "70 2.6528781936\n",
      "71 2.64024715682\n",
      "72 0.726621530272\n",
      "73 0.683819459527\n",
      "74 0.738069704614\n",
      "75 0.496890224917\n",
      "76 0.189067223574\n",
      "77 0.429136308967\n",
      "78 0.13955032354\n",
      "79 0.542423352239\n",
      "80 1.22048737454\n",
      "81 0.843078318515\n",
      "82 0.957181187712\n",
      "83 1.37731424411\n",
      "84 0.9102034355\n",
      "85 0.203557800838\n",
      "86 1.25306487609\n",
      "87 0.511329824705\n",
      "88 0.51902145202\n",
      "89 0.572638685047\n",
      "90 20.6040229306\n",
      "91 0.807008622386\n",
      "92 2.81431316192\n",
      "93 1.38267555694\n",
      "94 0.405873557534\n",
      "95 0.631488747722\n",
      "96 0.642255161123\n",
      "97 0.161416291428\n",
      "98 3.08481704457\n",
      "99 3.17038450229\n",
      "100 0.288901304365\n",
      "101 0.50924535549\n",
      "102 0.227597916884\n",
      "103 0.585468131851\n",
      "104 0.0799662187338\n",
      "105 2.93418254005\n",
      "106 1.26987037179\n",
      "107 0.737932042373\n",
      "108 0.171585860152\n",
      "109 1.11226754157\n",
      "110 0.98894823233\n",
      "111 1.84490333482\n",
      "112 1.03672537973\n",
      "113 1.29457775831\n",
      "114 0.483902925048\n",
      "115 1.81230460522\n",
      "116 2.07602860119\n",
      "117 0.960694843955\n",
      "118 0.528850565599\n",
      "119 0.423629450542\n",
      "120 1.13129663243\n",
      "121 0.137408060273\n",
      "122 0.0996523596167\n",
      "123 0.0227386944377\n",
      "124 0.299863228679\n",
      "125 0.859116504856\n",
      "126 0.720260164521\n",
      "127 0.412671355529\n",
      "128 0.251684053577\n",
      "129"
     ]
    },
    {
     "ename": "RuntimeError",
     "evalue": "unidentifiable C++ exception",
     "output_type": "error",
     "traceback": [
      "\u001b[0;31m---------------------------------------------------------------------------\u001b[0m",
      "\u001b[0;31mRuntimeError\u001b[0m                              Traceback (most recent call last)",
      "\u001b[0;32m<ipython-input-33-1b0fbb31017c>\u001b[0m in \u001b[0;36m<module>\u001b[0;34m()\u001b[0m\n\u001b[1;32m      1\u001b[0m \u001b[0;32mprint\u001b[0m \u001b[0mscorefxn\u001b[0m\u001b[0;34m(\u001b[0m\u001b[0mlowest\u001b[0m\u001b[0;34m)\u001b[0m\u001b[0;34m\u001b[0m\u001b[0m\n\u001b[1;32m      2\u001b[0m \u001b[0;32mfor\u001b[0m \u001b[0mi\u001b[0m \u001b[0;32min\u001b[0m \u001b[0mrange\u001b[0m\u001b[0;34m(\u001b[0m\u001b[0;36m1\u001b[0m\u001b[0;34m,\u001b[0m\u001b[0;36m144\u001b[0m\u001b[0;34m+\u001b[0m\u001b[0;36m1\u001b[0m\u001b[0;34m)\u001b[0m\u001b[0;34m:\u001b[0m\u001b[0;34m\u001b[0m\u001b[0m\n\u001b[0;32m----> 3\u001b[0;31m     \u001b[0;32mprint\u001b[0m \u001b[0mi\u001b[0m\u001b[0;34m,\u001b[0m \u001b[0mlowest\u001b[0m\u001b[0;34m.\u001b[0m\u001b[0menergies\u001b[0m\u001b[0;34m(\u001b[0m\u001b[0;34m)\u001b[0m\u001b[0;34m.\u001b[0m\u001b[0mresidue_total_energies\u001b[0m\u001b[0;34m(\u001b[0m\u001b[0mi\u001b[0m\u001b[0;34m)\u001b[0m\u001b[0;34m[\u001b[0m\u001b[0mfa_rep\u001b[0m\u001b[0;34m]\u001b[0m\u001b[0;34m\u001b[0m\u001b[0m\n\u001b[0m",
      "\u001b[0;31mRuntimeError\u001b[0m: unidentifiable C++ exception"
     ]
    }
   ],
   "source": [
    "print scorefxn(lowest)\n",
    "for i in range(1,144+1):\n",
    "    print i, lowest.energies().residue_total_energies(i)[fa_rep]\n"
   ]
  },
  {
   "cell_type": "code",
   "execution_count": 68,
   "metadata": {
    "collapsed": true
   },
   "outputs": [
    {
     "name": "stdout",
     "output_type": "stream",
     "text": [
      "PDB file name: /Users/XT/Dropbox/Project/pilus_dump.pdb\n",
      "Total residues:144\n",
      "Sequence: FTLIELMIVVAIIGILAAIAIPAYQNYIAKSQVSTGLADITAGKTNAETKLAEGLTAALTDVEALGLQKSTNACSTITTSIGTNGASNITCTLKGTSQINSKKIEWIRDADNATNGTTGAWRCKTDVAENLRPKSCGASZZZZZ\n",
      "Fold tree:\n",
      "FOLD_TREE  EDGE 1 139 -1  EDGE 139 140 -2  OG   C1   EDGE 140 144 -1 \n"
     ]
    }
   ],
   "source": [
    "print lowest"
   ]
  },
  {
   "cell_type": "code",
   "execution_count": 11,
   "metadata": {
    "collapsed": false
   },
   "outputs": [],
   "source": [
    "pmm.send_energy(pose)"
   ]
  },
  {
   "cell_type": "code",
   "execution_count": 21,
   "metadata": {
    "collapsed": true
   },
   "outputs": [
    {
     "name": "stdout",
     "output_type": "stream",
     "text": [
      " res         fa_atr         fa_rep         fa_sol   fa_intra_rep        fa_elec      pro_close    hbond_sr_bb    hbond_lr_bb    hbond_bb_sc       hbond_sc      dslf_fa13           rama          omega         fa_dun        p_aa_pp            ref       sugar_bb\n",
      "   1         -2.363          0.934          1.695          0.222          0.805          0.000          0.000          0.000          0.000          0.000          0.000          0.000          0.000          0.000          0.000          0.593          0.000\n",
      "   2         -1.416          0.318          1.064          0.203          0.806          0.000          0.000          0.000          0.000          0.000          0.000         -1.313          0.002          0.000         -0.342          0.593          0.000\n",
      "   3         -4.700          5.137          2.540          4.302          0.413          0.000          0.000          0.000          0.000          0.000          0.000          0.494          0.022          0.949         -0.580          0.832          0.000\n",
      "   4         -4.311          1.115          2.086          0.236         -0.070          0.000          0.000          0.000          0.000          0.000          0.000         -0.506          0.011          0.000         -0.343          0.593          0.000\n",
      "   5         -4.171          3.509          2.171          5.624         -0.269          0.485          0.000          0.000          0.000          0.000          0.000          0.650          0.001          0.150         -0.016          0.832          0.000\n",
      "   6         -5.253          4.854          2.549          0.248         -0.424          0.645          0.000          0.000          0.000          0.000          0.000         -0.544          0.002          0.638         -0.003         -0.219          0.000\n",
      "   7         -4.508          1.578          2.568          0.179         -0.268          0.000          0.000          0.000          0.000          0.000          0.000          0.606          0.062          0.000          0.002          0.593          0.000\n",
      "   8         -5.509          1.328          2.752          8.774         -0.389          0.000          0.000          0.000          0.000          0.000          0.000          0.645          0.036          5.003          0.009          0.132          0.000\n",
      "   9         -5.418          1.088          3.996          1.251         -0.832          0.000          0.000          0.000          0.000         -0.419          0.000         -1.056          0.256          4.167         -0.381         -1.178          0.000\n",
      "  10         -7.588          3.240          6.340          0.817         -0.422          0.000          0.000          0.000         -0.115          0.000          0.000          0.675          0.066          5.046          0.685         -0.942          0.000\n",
      "  11         -3.938          0.301          2.515          6.305         -0.213          0.000          0.000          0.000          0.000          0.000          0.000         -0.388          0.037          2.455          0.094          0.132          0.000\n",
      "  12         -5.798          0.762          3.294          5.582         -0.305          0.000          0.000          0.000          0.000          0.000          0.000         -0.177          0.001          0.148         -0.185          0.832          0.000\n",
      "  13         -5.176          0.942          2.407          0.173         -0.519          0.000          0.000          0.000          0.000          0.000          0.000         -0.541          0.042          0.000         -0.468          0.593          0.000\n",
      "  14         -6.107          0.745          5.528          1.235         -1.221          0.000          0.000          0.000          0.000         -0.182          0.000         -0.890          0.148          3.742         -0.137         -0.287          0.000\n",
      "  15         -3.736          0.407          2.777          0.402         -0.858          0.000          0.000          0.000          0.000          0.000          0.000         -0.141          0.146          0.970          0.435          0.177          0.000\n",
      "  16         -6.621          2.250          4.803          0.908         -0.788          0.000          0.000          0.000         -0.529          0.000          0.000         -0.813          0.345          3.387         -0.400         -1.178          0.000\n",
      "  17         -5.627          2.904          2.042          3.796         -0.348          0.000          0.000          0.000          0.000          0.000          0.000          0.114          0.083         -0.012         -0.038          0.745          0.000\n",
      "  18         -3.604          0.403          2.429          0.407         -0.519          0.000          0.000          0.000          0.000          0.000          0.000         -0.083          0.100          0.919          0.478          0.177          0.000\n",
      "  19         -4.756          0.707          3.673          2.479         -0.609          0.000          0.000          0.000          0.000          0.000          0.000         -0.097          0.002          0.058          0.358          0.165          0.000\n",
      "  20         -4.456          0.646          2.826          0.005         -0.258          0.000          0.000          0.000          0.000          0.000          0.000          0.711          0.071          0.000          0.769          0.141          0.000\n",
      "  21         -6.509          1.615          3.434          2.208         -0.826          0.000          0.000          0.000          0.000          0.000          0.000         -0.471          0.021          0.953         -0.378          0.602          0.000\n",
      "  22         -3.184          0.604          2.232          0.194         -0.247          0.000          0.000          0.000          0.000          0.000          0.000         -1.350          0.008          0.000         -0.419          0.593          0.000\n",
      "  23         -5.149          0.878          4.550          0.893         -0.946          0.000          0.000          0.000          0.000         -0.300          0.000         -0.971          0.049          2.557         -0.235         -1.287          0.000\n",
      "  24         -7.052          1.332          2.646          3.552          0.058          0.000          0.000          0.000          0.000          0.000          0.000          1.460          0.110          0.688         -0.357          0.832          0.000\n",
      "  25         -3.744          1.113          3.393          3.049         -0.535          0.000          0.000          0.000          0.000         -0.460          0.000         -0.119          0.133          0.549          0.590          0.165          0.000\n",
      "  26         -2.094          0.403          1.359          0.231         -0.037          0.000          0.000          0.000          0.000          0.000          0.000         -1.097          0.014          0.000         -0.320          0.593          0.000\n",
      "  27         -3.704          1.813          2.136          0.006         -0.241          0.000          0.000          0.000          0.000          0.000          0.000         -0.004          0.029          0.000          0.890          0.141          0.000\n",
      "  28         -5.735          3.371          2.988          2.324         -0.144          0.000          0.000          0.000          0.000          0.000          0.000          0.261          0.006          2.833         -0.280         -0.287          0.000\n",
      "  29         -3.041          0.654          2.246          2.450         -0.282          0.000          0.000          0.000          0.000          0.000          0.000          0.634          0.000          0.031          0.224          0.165          0.000\n",
      "  30         -4.887          1.216          3.446          0.778         -0.680          0.000          0.000          0.000         -0.246          0.000          0.000         -0.108          0.094          1.931          0.305         -0.942          0.000\n",
      "  31         -5.175          1.059          2.407          0.172         -0.206          0.000          0.000          0.000          0.000          0.000          0.000         -0.631          0.048          0.000         -0.511          0.593          0.000\n",
      "  32         -6.211          1.056          5.066          2.135         -2.036          0.000          0.000          0.000          0.000         -0.554          0.000         -1.359          0.427          4.905         -0.416         -1.554          0.000\n",
      "  33         -3.692          0.374          2.731          2.579         -0.285          0.000          0.000          0.000          0.000          0.000          0.000         -0.315          0.177          0.147          0.349          0.165          0.000\n",
      "  34         -4.843          0.757          2.739          1.381         -0.504          0.000          0.000          0.000          0.000          0.000          0.000         -1.144          0.011          3.021         -0.107         -0.287          0.000\n",
      "  35         -5.540          2.593          3.231          1.663         -0.037          0.000          0.000          0.000          0.000          0.000          0.000         -0.732          0.004          0.193         -0.370          0.602          0.000\n",
      "  36         -2.460          0.715          1.493          0.184          0.097          0.000          0.000          0.000          0.000          0.000          0.000         -0.807          0.455          0.000         -0.423          0.593          0.000\n",
      "  37         -2.350          0.172          1.835          1.121         -0.083          0.000          0.000          0.000          0.000          0.000          0.000         -1.355          0.161          3.734         -0.482         -1.554          0.000\n",
      "  38         -1.902          0.347          1.315          0.015         -0.017          0.000          0.000          0.000          0.000          0.000          0.000          0.923          0.002          0.000         -2.390          0.141          0.000\n",
      "  39         -3.652          0.356          1.327          1.641          0.109          0.000          0.000          0.000          0.000          0.000          0.000         -0.374          0.398          0.482         -0.182          0.602          0.000\n",
      "  40         -0.912          0.127          0.637          0.960         -0.068          0.000          0.000          0.000          0.000          0.000          0.000         -0.967          0.067          0.023         -0.646          0.165          0.000\n",
      "  41         -1.904          0.510          1.299          0.170          0.047          0.000          0.000          0.000          0.000          0.000          0.000          0.341          0.316          0.000         -0.405          0.593          0.000\n",
      "  42         -2.020          0.338          1.078          0.201          0.134          0.000          0.000          0.000          0.000          0.000          0.000         -1.277          0.049          0.000         -0.289          0.593          0.000\n",
      "  43         -4.629          0.418          2.061          1.990         -0.339          0.000          0.000          0.000          0.000          0.000          0.000         -0.555          0.031          0.620         -0.308          0.602          0.000\n",
      "  44         -2.384          0.287          1.457          1.217          0.062          0.000          0.000          0.000          0.000          0.000          0.000         -0.167          0.021          0.008         -0.910          0.165          0.000\n",
      "  45         -4.290          0.696          3.487          4.002         -0.224          0.000          0.000          0.000         -0.001          0.000          0.000         -0.925          0.165          2.439         -1.130         -1.287          0.000\n",
      "  46         -5.751          1.038          2.625          3.382         -0.144          0.000          0.000          0.000          0.000          0.000          0.000         -0.594          0.248          0.826          0.489          0.745          0.000\n",
      "  47         -3.403          2.509          2.686          1.575         -0.480          0.000          0.000          0.000         -0.001          0.000          0.000         -0.806          0.010          3.910         -0.284         -1.554          0.000\n",
      "  48         -2.969          0.506          1.639          0.287         -0.284          0.000          0.000          0.000          0.000          0.000          0.000         -0.267          0.092          0.000         -0.324          0.593          0.000\n",
      "  49         -6.097          2.314          2.230          1.808         -0.220          0.000          0.000          0.000         -0.246          0.000          0.000         -0.462          0.005          0.038         -0.043          0.602          0.000\n",
      "  50         -1.825          0.392          1.315          0.004         -0.193          0.000          0.000          0.000          0.000          0.000          0.000         -1.892          0.088          0.000         -2.465          0.141          0.000\n",
      "  51         -5.565          0.745          2.199          1.688          0.078          0.000          0.000          0.000          0.000          0.000          0.000         -0.462          0.514          0.102         -0.318          0.602          0.000\n",
      "  52         -2.538          0.335          1.622          1.233          0.111          0.000          0.000          0.000          0.000          0.000          0.000         -0.702          0.105          2.669         -0.103         -1.178          0.000\n",
      "  53         -2.274          0.188          1.458          0.807         -0.206          0.000          0.000          0.000          0.000          0.000          0.000         -1.347          0.086          1.206         -0.121         -0.287          0.000\n",
      "  54         -2.464          0.533          1.687          0.359         -0.083          0.000          0.000          0.000          0.000          0.000          0.000         -0.509          0.028          0.403         -0.864          0.177          0.000\n",
      "  55         -4.270          1.337          3.811          1.653         -1.385          0.000          0.000          0.000         -0.250         -0.300          0.000         -0.086          0.095          0.890         -1.246          0.165          0.000\n",
      "  56         -1.138          0.115          0.924          0.866         -0.052          0.000          0.000          0.000          0.000          0.000          0.000         -0.498          0.043          1.969          0.060         -0.942          0.000\n",
      "  57         -3.644          0.624          2.373          0.217         -0.258          0.000          0.000          0.000         -0.107          0.000          0.000          0.055          0.008          0.000          0.618          0.593          0.000\n",
      "  58         -5.474          1.040          3.764          0.446         -0.067          0.000          0.000          0.000         -0.142          0.000         -0.296          0.453          0.011          1.065         -0.071          0.355          0.000\n",
      "  59         -2.346          0.091          2.024          0.348         -0.343          0.000          0.000          0.000          0.000          0.000          0.000         -1.094          1.946          0.575          0.069          0.177          0.000\n",
      "  60         -3.641          0.415          2.901          2.629         -0.878          0.000          0.000          0.000          0.000          0.000          0.000         -0.609          1.017          0.969         -0.500          0.165          0.000\n",
      "  61         -5.513          0.860          2.383          3.974         -0.661          0.000          0.000          0.000          0.000          0.000          0.000         -0.808          0.033          0.704         -1.196          0.832          0.000\n",
      "  62         -3.017          0.189          2.506          1.072         -0.509          0.000          0.000          0.000          0.000          0.000          0.000         -0.962          0.019          0.059         -0.964          0.165          0.000\n",
      "  63         -4.310          0.406          3.033          3.645         -0.751          0.000          0.000          0.000          0.000          0.000          0.000         -0.214          3.642          0.755         -0.272          0.165          0.000\n",
      "  64         -3.467          0.355          2.758          1.366         -0.871          0.000          0.000          0.000          0.000          0.000          0.000          1.314          0.353          0.181         -0.051          0.177          0.000\n",
      "  65         -5.835          0.814          2.443          3.982         -0.784          0.000          0.000          0.000          0.000          0.000          0.000         -0.609          0.341          1.677         -0.877          0.832          0.000\n",
      "  66         -3.025          0.469          2.167          0.011         -0.307          0.000          0.000          0.000          0.000          0.000          0.000         -0.457          0.001          0.000          0.614          0.141          0.000\n",
      "  67         -2.485          0.315          1.343          0.929         -0.139          0.000          0.000          0.000          0.000          0.000          0.000         -0.684          0.002          0.170          0.397          0.165          0.000\n",
      "  68         -3.488          0.670          2.764          3.583         -0.559          0.000          0.000          0.000         -0.206          0.000          0.000         -1.477          0.004          3.545         -1.022         -0.942          0.000\n",
      "  69         -4.032          2.243          3.056          0.004         -0.463          0.000          0.000          0.000         -0.711          0.000          0.000         -0.986          0.014          0.000         -2.552          0.141          0.000\n",
      "  70         -3.609          0.826          2.599          0.208         -0.055          0.000          0.000          0.000         -0.206          0.000          0.000         -1.161          1.310          0.000          0.181          0.593          0.000\n",
      "  71         -4.680          0.799          3.871          0.191         -0.729          0.000          0.000          0.000         -0.304          0.000          0.000         -0.582          1.054          3.236         -0.750          0.177          0.000\n",
      "  72         -4.490          0.744          3.804          1.787         -1.268          0.000          0.000          0.000          0.000         -0.400          0.000          0.621          1.788          5.000          0.734         -0.942          0.000\n",
      "  73         -5.745          0.691          2.512          3.472         -0.303          0.000          0.000          0.000          0.000          0.000          0.000         -0.668          2.306          0.182         -1.183          0.832          0.000\n",
      "  74         -4.740          0.443          4.006          2.441         -1.454          0.000          0.000          0.000          0.000         -0.837          0.000          0.112          0.744          0.058         -0.284          0.165          0.000\n",
      "  75         -4.936          1.318          2.974          0.433         -0.716          0.000          0.000          0.000          0.000          0.000         -0.296         -0.600          1.350          1.471         -0.116          0.355          0.000\n",
      "  76         -4.328          0.243          3.331          1.575         -0.662          0.000          0.000          0.000          0.000          0.000          0.000          0.075          2.479          0.052         -0.004          0.165          0.000\n",
      "  77         -6.528          1.467          2.834          1.869         -0.922          0.000          0.000          0.000          0.000          0.000          0.000         -1.333          0.026          0.627         -0.217          0.602          0.000\n",
      "  78         -3.273          0.051          2.082          1.141         -0.167          0.000          0.000          0.000          0.000          0.000          0.000         -0.008          0.015          1.751          0.063         -0.287          0.000\n",
      "  79         -2.449          2.012          1.826          0.034         -0.031          0.000          0.000          0.000         -0.341          0.000          0.000          2.812          0.438          0.000         -2.585          0.141          0.000\n",
      "  80         -5.042          1.210          3.613          2.573         -1.240          0.000          0.000          0.000         -0.529         -0.419          0.000         -0.543          1.995          1.951          0.685          0.165          0.000\n",
      "  81         -1.757          0.428          1.299          0.510         -0.273          0.000          0.000          0.000          0.000          0.000          0.000         -0.870          0.169          0.247         -0.156          0.177          0.000\n",
      "  82         -3.755          0.646          2.784          0.859         -0.398          0.000          0.000          0.000          0.000         -0.151          0.000         -0.665          0.001          3.877         -0.237         -1.178          0.000\n",
      "  83         -6.719          3.469          2.191         20.390         -0.167          0.000          0.000          0.000          0.000          0.000          0.000          1.140          0.111          3.406         -0.202          0.832          0.000\n",
      "  84         -4.842          3.463          3.572          1.771          0.120          0.000          0.000          0.000         -0.341         -0.209          0.000         -0.712          0.110          3.266          0.428         -0.942          0.000\n",
      "  85         -2.463          0.415          2.044          0.496         -0.152          0.000          0.000          0.000          0.000         -0.209          0.000          2.121          1.076          0.219          0.622          0.177          0.000\n",
      "  86         -5.505          1.093          3.911          1.295         -1.010          0.000          0.000          0.000          0.000          0.000          0.000         -0.377          0.009          2.114          0.552         -0.287          0.000\n",
      "  87         -3.843          0.243          3.464          0.792         -1.056          0.000          0.000          0.000         -0.417          0.000          0.000         -0.630          3.011          1.404          0.117         -0.287          0.000\n",
      "  88         -5.926          2.751          2.292          4.534         -0.748          0.000          0.000          0.000          0.000          0.000          0.000         -0.442          0.583          1.909         -0.751          0.832          0.000\n",
      "  89         -5.789          1.487          4.088          1.875         -1.354          0.000          0.000          0.000          0.000         -0.437          0.000          0.321          1.423          4.487          0.220         -1.554          0.000\n",
      "  90         -8.244          5.986          4.105          5.293         -0.741          0.000          0.000          0.000          0.000         -0.460          0.000         -0.484          0.056          2.885          0.016          0.929          0.000\n",
      "  91         -5.247          1.733          2.940          4.817         -0.852          0.000          0.000          0.000          0.000          0.000          0.000         -1.065          0.024          1.348         -1.054          0.832          0.000\n",
      "  92        -10.574         13.922          8.503          2.670         -2.806          0.000          0.000          0.000         -0.408         -0.680          0.000         -0.077          0.392          3.431          0.261         -0.149          0.000\n",
      "  93         -3.270          0.427          2.502          0.841         -0.103          0.000          0.000          0.000          0.000          0.000          0.000         -0.842          0.225          2.668          0.150         -1.287          0.000\n",
      "  94         -3.050          0.429          1.819          0.208          0.017          0.000          0.000          0.000          0.000          0.000          0.000         -1.764          2.037          0.000         -0.328          0.593          0.000\n",
      "  95         -4.499          0.888          4.480          0.795         -2.111          0.000          0.000          0.000         -0.235         -0.323          0.000         -0.750          0.094          2.717          0.149         -1.287          0.000\n",
      "  96         -4.986          0.594          4.205          3.254         -0.984          0.000          0.000          0.000         -0.140          0.000          0.000          0.302          0.255          2.821         -0.047         -0.942          0.000\n",
      "  97         -1.498          0.162          1.130          0.206          0.440          0.000          0.000          0.000          0.000          0.000          0.000         -1.122          0.010          0.000         -0.098          0.593          0.000\n",
      "  98         -1.900          0.255          1.638          1.784         -0.052          0.000          0.000          0.000         -0.013          0.000          0.000         -0.011          0.031          0.212          0.112          0.165          0.000\n",
      "  99         -3.389          0.326          2.343          0.917         -0.108          0.000          0.000          0.000         -0.128          0.000          0.000         -0.773          0.219          2.147         -0.176         -0.942          0.000\n",
      " 100         -1.628          0.289          1.255          0.007          0.193          0.000          0.000          0.000          0.000          0.000          0.000         -1.462          0.123          0.000         -1.730          0.141          0.000\n",
      " 101         -3.121          0.404          2.694          0.931         -0.345          0.000          0.000          0.000          0.000          0.000          0.000         -0.129          0.022          0.804         -0.024          0.165          0.000\n",
      " 102         -2.011          0.429          1.997          2.041         -0.516          0.000          0.000          0.000          0.000          0.000          0.000         -0.219          0.059          0.100         -0.159          0.165          0.000\n",
      " 103         -2.688          0.787          2.071          0.003         -0.744          0.000          0.000          0.000         -0.235          0.000          0.000          0.040          0.009          0.000          1.032          0.141          0.000\n",
      " 104         -2.624          0.351          1.980          0.155          0.017          0.000          0.000          0.000          0.000          0.000          0.000          0.034          0.272          0.000          0.412          0.593          0.000\n",
      " 105         -9.827         18.207          3.911          5.696         -1.247          0.000          0.000          0.000         -0.162         -0.198          0.000         -0.769          0.276          2.782         -0.454          0.929          0.000\n",
      " 106         -4.306          0.611          3.181          2.814         -0.865          0.000          0.000          0.000         -0.162          0.000          0.000         -0.257          0.238          2.111         -0.142         -0.149          0.000\n",
      " 107         -4.014          0.262          2.247          0.489         -0.374          0.000          0.000          0.000          0.000          0.000          0.183         -0.878          0.016          0.494          0.151          0.355          0.000\n",
      " 108         -4.925          0.511          3.307          1.310         -0.770          0.000          0.000          0.000          0.000          0.000          0.000         -0.658          0.014          2.034         -0.009         -0.287          0.000\n",
      " 109         -4.392          0.742          3.363          2.539         -1.159          0.000          0.000          0.000         -0.524          0.000          0.000          0.131          0.146          0.105         -0.052          0.165          0.000\n",
      " 110         -3.482          0.614          3.752          1.998         -1.137          0.000          0.000          0.000         -0.417          0.000          0.000         -1.099          0.940          3.450         -0.727         -1.287          0.000\n",
      " 111         -4.273          2.141          1.694          3.190          0.366          0.000          0.000          0.000         -0.524          0.000          0.000         -0.134          0.001          0.951          1.194          0.745          0.000\n",
      " 112         -2.730          1.058          1.603          0.193         -0.240          0.000          0.000          0.000          0.000          0.000          0.000         -1.417          0.509          0.000         -0.276          0.593          0.000\n",
      " 113         -4.910         13.017          4.462          1.895         -0.618          0.000          0.000          0.000          0.000          0.000          0.000         -0.800          0.154          3.959         -0.267         -1.554          0.000\n",
      " 114         -5.996        158.466          4.718          1.024          0.089          0.000          0.000          0.000          0.000          0.000          0.000         -0.843          0.009          5.825         -0.395         -0.942          0.000\n",
      " 115         -5.121          2.613          1.883          1.669          0.328          0.000          0.000          0.000          0.000          0.000          0.000          0.169          0.037          0.061         -0.287          0.602          0.000\n",
      " 116         -6.939         21.780          5.946          3.940          0.130          0.285          0.000          0.000         -0.183          0.000          0.000          0.698          0.442          4.571         -0.128         -0.149          0.000\n",
      " 117         -4.393          4.749          1.874          0.479         -0.063          0.485          0.000          0.000          0.000          0.000          0.000         -0.551          0.356          0.116         -1.559         -0.219          0.000\n",
      " 118         -1.904          0.588          1.452          1.273          0.250          0.000          0.000          0.000          0.000          0.000          0.000         -0.649          0.080          1.289         -0.077         -0.287          0.000\n",
      " 119         -1.327          0.458          1.177          0.581          0.027          0.000          0.000          0.000          0.000          0.000          0.000          1.326          0.477          0.154          1.642          0.177          0.000\n",
      " 120         -3.648          1.577          2.311          0.230         -0.413          0.000          0.000          0.000         -0.183          0.000          0.183         -0.552          0.015          0.195         -0.462          0.355          0.000\n",
      " 121         -2.242          0.106          1.674          0.099         -0.192          0.000          0.000          0.000          0.000          0.000          0.000          1.015          0.155          0.000         -0.684          0.141          0.000\n",
      " 122         -1.629          0.249          1.343          0.190         -0.185          0.000          0.000          0.000          0.000          0.000          0.000          0.983          0.002          0.000          0.829          0.593          0.000\n",
      " 123         -2.867          7.203          3.606          0.390         -0.616          0.000          0.000          0.000         -0.080          0.000          0.000          0.000          0.000          0.359          0.000          0.177          0.000\n",
      " 124         -3.974          7.317          5.950         13.952         -0.834          0.000          0.000          0.000         -0.080         -0.064          0.000          0.000          0.000          0.000          0.000          0.000          3.863\n",
      " 125         -2.004          0.705          4.107         23.676          0.000          0.000          0.000          0.000         -0.001         -0.064          0.000          0.000          0.000          0.000          0.000          0.000          2.081\n",
      " 126         -2.966          1.576          4.170         31.595         -0.256          0.000          0.000          0.000         -0.113          0.000          0.000          0.000          0.000          0.000          0.000          0.000          0.039\n",
      " 127         -1.693          1.453          3.241          9.959         -0.361          0.000          0.000          0.000         -0.113          0.000          0.000          0.000          0.000          0.000          0.000          0.000          0.358\n",
      " 128         -0.420          0.110          0.694         81.592         -0.204          0.000          0.000          0.000          0.000          0.000          0.000          0.000          0.000          0.000          0.000          0.000          1.752\n",
      " 129         -2.360          0.933          1.689          0.222          0.805          0.000          0.000          0.000          0.000          0.000          0.000          0.000          0.000          0.000          0.000          0.593          0.000\n",
      " 130         -1.333          0.318          0.935          0.204          0.841          0.000          0.000          0.000          0.000          0.000          0.000         -1.314          0.002          0.000         -0.342          0.593          0.000\n",
      " 131         -2.300          1.555          1.408          4.738          0.395          0.000          0.000          0.000          0.000          0.000          0.000          0.493          0.023          0.456         -0.581          0.832          0.000\n",
      " 132         -4.318          1.117          2.081          0.234         -0.077          0.000          0.000          0.000          0.000          0.000          0.000         -0.503          0.011          0.000         -0.343          0.593          0.000\n",
      " 133         -4.245          3.380          2.216          5.635         -0.213          0.489          0.000          0.000          0.000          0.000          0.000          0.646          0.001          0.150         -0.017          0.832          0.000\n",
      " 134         -4.094          3.938          2.033          0.248         -0.292          0.652          0.000          0.000          0.000          0.000          0.000         -0.542          0.002          0.630         -0.010         -0.219          0.000\n",
      " 135         -3.976          1.652          2.398          0.179         -0.243          0.000          0.000          0.000          0.000          0.000          0.000          0.610          0.064          0.000          0.002          0.593          0.000\n",
      " 136         -5.315          1.329          2.606          8.779         -0.439          0.000          0.000          0.000          0.000          0.000          0.000          0.642          0.033          5.001          0.008          0.132          0.000\n",
      " 137         -4.966          0.974          3.468          0.888         -0.364          0.000          0.000          0.000          0.000          0.000          0.000         -1.053          0.260          3.440         -0.383         -1.178          0.000\n",
      " 138         -4.951          0.918          3.639          0.841         -0.381          0.000          0.000          0.000          0.000         -0.084          0.000          0.690          0.066          2.105          0.688         -0.942          0.000\n",
      " 139         -3.644          0.299          2.219          6.307         -0.292          0.000          0.000          0.000          0.000          0.000          0.000         -0.389          0.037          2.455          0.094          0.132          0.000\n",
      " 140         -5.505          0.765          3.020          5.569         -0.311          0.000          0.000          0.000          0.000          0.000          0.000         -0.179          0.001          0.148         -0.185          0.832          0.000\n",
      " 141         -5.189          0.944          2.409          0.173         -0.506          0.000          0.000          0.000          0.000          0.000          0.000         -0.544          0.040          0.000         -0.469          0.593          0.000\n",
      " 142         -4.704          0.998          2.821          0.724         -0.523          0.000          0.000          0.000          0.000          0.000          0.000         -0.890          0.152          1.474         -0.137         -0.287          0.000\n",
      " 143         -3.736          0.405          2.777          0.406         -0.860          0.000          0.000          0.000          0.000          0.000          0.000         -0.141          0.142          0.970          0.435          0.177          0.000\n",
      " 144         -6.623          2.222          4.806          0.911         -0.790          0.000          0.000          0.000         -0.531          0.000          0.000         -0.812          0.348          3.387         -0.400         -1.178          0.000\n",
      " 145         -5.451          2.018          2.051          3.809         -0.341          0.000          0.000          0.000          0.000          0.000          0.000          0.117          0.082         -0.012         -0.039          0.745          0.000\n",
      " 146         -3.577          0.403          2.423          0.408         -0.538          0.000          0.000          0.000          0.000          0.000          0.000         -0.085          0.102          0.920          0.477          0.177          0.000\n",
      " 147         -4.819          1.427          3.726          2.488         -0.544          0.000          0.000          0.000          0.000          0.000          0.000         -0.095          0.002          0.057          0.359          0.165          0.000\n",
      " 148         -4.449          0.652          2.791          0.005         -0.249          0.000          0.000          0.000          0.000          0.000          0.000          0.712          0.068          0.000          0.768          0.141          0.000\n",
      " 149         -6.325          1.527          3.406          2.212         -0.825          0.000          0.000          0.000          0.000          0.000          0.000         -0.474          0.022          0.958         -0.378          0.602          0.000\n",
      " 150         -3.929          3.254          2.283          0.194         -0.310          0.000          0.000          0.000          0.000          0.000          0.000         -1.351          0.007          0.000         -0.417          0.593          0.000\n",
      " 151         -6.152          2.914          5.205          0.571         -0.529          0.000          0.000          0.000          0.000          0.000          0.000         -0.974          0.047          5.802         -0.237         -1.287          0.000\n",
      " 152         -7.073          1.331          2.663          3.547          0.045          0.000          0.000          0.000          0.000          0.000          0.000          1.454          0.108          0.689         -0.367          0.832          0.000\n",
      " 153         -3.745          1.112          3.394          3.056         -0.528          0.000          0.000          0.000          0.000         -0.489          0.000         -0.125          0.133          0.552          0.589          0.165          0.000\n",
      " 154         -2.341          0.536          1.316          0.231         -0.029          0.000          0.000          0.000          0.000          0.000          0.000         -1.100          0.015          0.000         -0.320          0.593          0.000\n",
      " 155         -3.734          1.825          2.188          0.006         -0.337          0.000          0.000          0.000          0.000          0.000          0.000         -0.005          0.029          0.000          0.889          0.141          0.000\n",
      " 156         -5.747          3.408          2.996          2.333         -0.144          0.000          0.000          0.000          0.000          0.000          0.000          0.254          0.007          2.834         -0.277         -0.287          0.000\n",
      " 157         -3.070          0.653          2.345          2.444         -0.297          0.000          0.000          0.000          0.000          0.000          0.000          0.634          0.000          0.031          0.224          0.165          0.000\n",
      " 158         -6.986          2.427          6.925          0.778         -1.261          0.000          0.000          0.000         -0.304         -0.182          0.000         -0.109          0.095          1.933          0.304         -0.942          0.000\n",
      " 159         -5.666          1.831          3.247          0.172         -0.206          0.000          0.000          0.000          0.000          0.000          0.000         -0.636          0.048          0.000         -0.513          0.593          0.000\n",
      " 160         -6.229          1.084          5.087          2.137         -2.049          0.000          0.000          0.000          0.000         -0.553          0.000         -1.362          0.427          4.903         -0.417         -1.554          0.000\n",
      " 161         -4.150          0.602          3.681          2.790         -0.264          0.000          0.000          0.000          0.000          0.000          0.000         -0.313          0.180          0.145          0.348          0.165          0.000\n",
      " 162         -8.764        108.831          7.077          1.858         -0.068          0.000          0.000          0.000          0.000          0.000          0.000         -1.144          0.011          5.273         -0.108         -0.287          0.000\n",
      " 163         -5.606          2.614          3.234          1.661         -0.027          0.000          0.000          0.000          0.000          0.000          0.000         -0.731          0.003          0.194         -0.370          0.602          0.000\n",
      " 164         -2.460          0.714          1.494          0.184          0.091          0.000          0.000          0.000          0.000          0.000          0.000         -0.807          0.458          0.000         -0.426          0.593          0.000\n",
      " 165         -4.821          9.107          4.372          1.122          1.116          0.000          0.000          0.000          0.000          0.000          0.000         -1.356          0.163          3.734         -0.481         -1.554          0.000\n",
      " 166         -2.072          0.376          1.548          0.014         -0.290          0.000          0.000          0.000          0.000          0.000          0.000          0.921          0.001          0.000         -2.390          0.141          0.000\n",
      " 167         -4.597          4.612          1.531          1.668          0.112          0.000          0.000          0.000          0.000          0.000          0.000         -0.376          0.404          0.981         -0.183          0.602          0.000\n",
      " 168         -1.088          0.126          1.020          1.248         -0.225          0.000          0.000          0.000          0.000          0.000          0.000         -0.966          0.069          0.024         -0.647          0.165          0.000\n",
      " 169         -2.252          0.500          1.776          0.171          0.132          0.000          0.000          0.000          0.000          0.000          0.000          0.340          0.308          0.000         -0.407          0.593          0.000\n",
      " 170         -2.158          0.337          1.107          0.201          0.151          0.000          0.000          0.000          0.000          0.000          0.000         -1.281          0.048          0.000         -0.288          0.593          0.000\n",
      " 171         -6.371         63.354          3.412          1.694         -0.267          0.000          0.000          0.000          0.000          0.000          0.000         -0.556          0.031          1.442         -0.308          0.602          0.000\n",
      " 172         -2.184          0.284          1.390          1.218          0.062          0.000          0.000          0.000          0.000          0.000          0.000         -0.171          0.021          0.008         -0.911          0.165          0.000\n",
      " 173         -3.997          0.701          3.456          4.003         -0.295          0.000          0.000          0.000         -0.001          0.000          0.000         -0.927          0.163          2.439         -1.130         -1.287          0.000\n",
      " 174         -5.768          1.040          2.637          3.379         -0.135          0.000          0.000          0.000          0.000          0.000          0.000         -0.594          0.252          0.823          0.490          0.745          0.000\n",
      " 175         -4.141          2.525          3.561          1.576         -0.937          0.000          0.000          0.000         -0.001         -0.151          0.000         -0.805          0.011          3.909         -0.284         -1.554          0.000\n",
      " 176         -4.770         88.925          3.265          0.287         -0.466          0.000          0.000          0.000         -0.115          0.000          0.000         -0.272          0.094          0.000         -0.321          0.593          0.000\n",
      " 177         -7.586         16.696          4.447          3.253         -0.190          0.000          0.000          0.000         -0.304          0.000          0.000         -0.465          0.005          3.955         -0.044          0.602          0.000\n",
      " 178         -3.692          2.011          2.593          0.004         -0.125          0.000          0.000          0.000          0.000          0.000          0.000         -1.894          0.089          0.000         -2.465          0.141          0.000\n",
      " 179         -5.764          0.755          2.264          1.686          0.082          0.000          0.000          0.000          0.000          0.000          0.000         -0.466          0.513          0.102         -0.320          0.602          0.000\n",
      " 180         -3.124          0.664          1.990          1.207          0.129          0.000          0.000          0.000          0.000          0.000          0.000         -0.703          0.102          3.170         -0.102         -1.178          0.000\n",
      " 181         -2.292          0.189          1.472          0.807         -0.226          0.000          0.000          0.000          0.000          0.000          0.000         -1.347          0.086          1.206         -0.121         -0.287          0.000\n",
      " 182         -2.471          0.533          1.698          0.360         -0.081          0.000          0.000          0.000          0.000          0.000          0.000         -0.509          0.031          0.403         -0.864          0.177          0.000\n",
      " 183         -4.222          1.718          3.784          1.655         -0.950          0.000          0.000          0.000         -0.274          0.000          0.000         -0.089          0.098          0.887         -1.247          0.165          0.000\n",
      " 184         -1.127          0.115          0.903          0.866         -0.054          0.000          0.000          0.000          0.000          0.000          0.000         -0.494          0.046          1.969          0.063         -0.942          0.000\n",
      " 185         -3.578          0.626          2.289          0.215         -0.197          0.000          0.000          0.000         -0.120          0.000          0.000          0.059          0.008          0.000          0.620          0.593          0.000\n",
      " 186         -5.411          1.041          3.668          0.445         -0.106          0.000          0.000          0.000         -0.154          0.000         -0.296          0.454          0.011          1.066         -0.071          0.355          0.000\n",
      " 187         -2.345          0.091          2.023          0.349         -0.343          0.000          0.000          0.000          0.000          0.000          0.000         -1.096          1.955          0.571          0.066          0.177          0.000\n",
      " 188         -3.641          0.417          2.903          2.640         -0.876          0.000          0.000          0.000          0.000          0.000          0.000         -0.606          1.029          0.968         -0.498          0.165          0.000\n",
      " 189         -5.518          0.856          2.388          3.982         -0.660          0.000          0.000          0.000          0.000          0.000          0.000         -0.811          0.031          0.716         -1.197          0.832          0.000\n",
      " 190         -2.965          0.188          2.519          1.081         -0.507          0.000          0.000          0.000          0.000          0.000          0.000         -0.962          0.019          0.059         -0.963          0.165          0.000\n",
      " 191         -4.312          0.371          3.003          3.659         -0.747          0.000          0.000          0.000          0.000          0.000          0.000         -0.217          3.640          0.756         -0.273          0.165          0.000\n",
      " 192         -3.463          0.354          2.755          1.364         -0.871          0.000          0.000          0.000          0.000          0.000          0.000          1.318          0.354          0.180         -0.054          0.177          0.000\n",
      " 193         -6.074          0.791          2.634          3.978         -0.715          0.000          0.000          0.000          0.000          0.000          0.000         -0.605          0.338          1.677         -0.875          0.832          0.000\n",
      " 194         -3.051          0.468          2.179          0.011         -0.307          0.000          0.000          0.000          0.000          0.000          0.000         -0.458          0.001          0.000          0.614          0.141          0.000\n",
      " 195         -2.511          0.314          1.347          0.930         -0.136          0.000          0.000          0.000          0.000          0.000          0.000         -0.680          0.001          0.171          0.400          0.165          0.000\n",
      " 196         -3.489          0.669          2.764          3.584         -0.560          0.000          0.000          0.000         -0.206          0.000          0.000         -1.477          0.005          3.544         -1.022         -0.942          0.000\n",
      " 197         -4.032          2.255          3.057          0.005         -0.463          0.000          0.000          0.000         -0.712          0.000          0.000         -0.984          0.015          0.000         -2.554          0.141          0.000\n",
      " 198         -3.609          0.819          2.600          0.209         -0.055          0.000          0.000          0.000         -0.206          0.000          0.000         -1.160          1.311          0.000          0.181          0.593          0.000\n",
      " 199         -4.681          0.802          3.872          0.191         -0.729          0.000          0.000          0.000         -0.304          0.000          0.000         -0.581          1.063          3.235         -0.750          0.177          0.000\n",
      " 200         -4.488          0.748          3.802          1.789         -1.279          0.000          0.000          0.000          0.000         -0.399          0.000          0.620          1.775          4.997          0.735         -0.942          0.000\n",
      " 201         -5.759          0.767          2.511          3.470         -0.297          0.000          0.000          0.000          0.000          0.000          0.000         -0.669          2.296          0.182         -1.183          0.832          0.000\n",
      " 202         -4.742          0.444          4.007          2.436         -1.451          0.000          0.000          0.000          0.000         -0.836          0.000          0.115          0.756          0.058         -0.284          0.165          0.000\n",
      " 203         -4.936          1.328          2.973          0.434         -0.715          0.000          0.000          0.000          0.000          0.000         -0.296         -0.600          1.336          1.460         -0.117          0.355          0.000\n",
      " 204         -4.327          0.243          3.331          1.573         -0.662          0.000          0.000          0.000          0.000          0.000          0.000          0.076          2.480          0.052          0.003          0.165          0.000\n",
      " 205         -6.526          1.475          2.834          1.875         -0.922          0.000          0.000          0.000          0.000          0.000          0.000         -1.332          0.025          0.619         -0.217          0.602          0.000\n",
      " 206         -3.270          0.051          2.081          1.137         -0.167          0.000          0.000          0.000          0.000          0.000          0.000         -0.007          0.017          1.751          0.061         -0.287          0.000\n",
      " 207         -2.449          1.984          1.826          0.034         -0.032          0.000          0.000          0.000         -0.341          0.000          0.000          2.811          0.446          0.000         -2.585          0.141          0.000\n",
      " 208         -4.837          1.186          3.233          2.789         -0.775          0.000          0.000          0.000         -0.531          0.000          0.000         -0.541          1.978          1.949          0.687          0.165          0.000\n",
      " 209         -1.757          0.429          1.307          0.389         -0.286          0.000          0.000          0.000          0.000          0.000          0.000         -0.866          0.164          0.248         -0.155          0.177          0.000\n",
      " 210         -3.531          0.638          2.511          0.858         -0.343          0.000          0.000          0.000          0.000         -0.084          0.000         -0.677          0.001          3.877         -0.237         -1.178          0.000\n",
      " 211         -6.718          3.467          2.191         20.343         -0.151          0.000          0.000          0.000          0.000          0.000          0.000          1.140          0.113          3.402         -0.203          0.832          0.000\n",
      " 212         -4.845          3.465          3.574          1.766          0.121          0.000          0.000          0.000         -0.341         -0.210          0.000         -0.712          0.110          3.267          0.428         -0.942          0.000\n",
      " 213         -2.462          0.416          2.044          0.493         -0.152          0.000          0.000          0.000          0.000         -0.210          0.000          2.118          1.074          0.218          0.624          0.177          0.000\n",
      " 214         -5.501          1.095          3.910          1.296         -1.011          0.000          0.000          0.000          0.000          0.000          0.000         -0.376          0.008          2.113          0.552         -0.287          0.000\n",
      " 215         -3.677          0.242          2.794          0.792         -0.960          0.000          0.000          0.000         -0.378          0.000          0.000         -0.630          3.033          1.404          0.118         -0.287          0.000\n",
      " 216         -5.857          1.242          2.347          4.530         -0.755          0.000          0.000          0.000          0.000          0.000          0.000         -0.444          0.589          1.912         -0.753          0.832          0.000\n",
      " 217         -5.662          1.484          3.977          1.875         -1.383          0.000          0.000          0.000          0.000         -0.437          0.000          0.317          1.432          4.491          0.216         -1.554          0.000\n",
      " 218         -8.227          5.882          4.102          5.311         -0.750          0.000          0.000          0.000          0.000         -0.489          0.000         -0.485          0.057          2.888          0.015          0.929          0.000\n",
      " 219         -5.064          1.728          2.929          4.811         -0.848          0.000          0.000          0.000          0.000          0.000          0.000         -1.063          0.024          1.348         -1.052          0.832          0.000\n",
      " 220        -10.574         13.875          8.504          2.661         -2.808          0.000          0.000          0.000         -0.407         -0.677          0.000         -0.077          0.394          3.433          0.260         -0.149          0.000\n",
      " 221         -3.271          0.427          2.502          0.842         -0.103          0.000          0.000          0.000          0.000          0.000          0.000         -0.840          0.228          2.669          0.150         -1.287          0.000\n",
      " 222         -3.051          0.421          1.819          0.208          0.017          0.000          0.000          0.000          0.000          0.000          0.000         -1.764          2.047          0.000         -0.327          0.593          0.000\n",
      " 223         -4.497          0.879          4.476          0.795         -2.108          0.000          0.000          0.000         -0.236         -0.321          0.000         -0.751          0.092          2.715          0.148         -1.287          0.000\n",
      " 224         -4.988          0.598          4.206          3.270         -0.983          0.000          0.000          0.000         -0.140          0.000          0.000          0.302          0.253          2.821         -0.048         -0.942          0.000\n",
      " 225         -1.499          0.162          1.130          0.206          0.441          0.000          0.000          0.000          0.000          0.000          0.000         -1.122          0.010          0.000         -0.098          0.593          0.000\n",
      " 226         -1.900          0.254          1.638          1.779         -0.051          0.000          0.000          0.000         -0.013          0.000          0.000         -0.009          0.031          0.211          0.111          0.165          0.000\n",
      " 227         -3.390          0.327          2.344          0.918         -0.108          0.000          0.000          0.000         -0.128          0.000          0.000         -0.776          0.218          2.147         -0.177         -0.942          0.000\n",
      " 228         -1.628          0.288          1.255          0.006          0.194          0.000          0.000          0.000          0.000          0.000          0.000         -1.461          0.124          0.000         -1.727          0.141          0.000\n",
      " 229         -3.122          0.408          2.695          0.934         -0.344          0.000          0.000          0.000          0.000          0.000          0.000         -0.129          0.022          0.802         -0.021          0.165          0.000\n",
      " 230         -2.009          0.424          1.994          2.045         -0.516          0.000          0.000          0.000          0.000          0.000          0.000         -0.218          0.058          0.099         -0.160          0.165          0.000\n",
      " 231         -2.687          0.782          2.070          0.003         -0.743          0.000          0.000          0.000         -0.236          0.000          0.000          0.042          0.009          0.000          1.034          0.141          0.000\n",
      " 232         -2.623          0.348          1.979          0.155          0.016          0.000          0.000          0.000          0.000          0.000          0.000          0.031          0.268          0.000          0.411          0.593          0.000\n",
      " 233         -9.826         18.099          3.913          5.702         -1.246          0.000          0.000          0.000         -0.162         -0.197          0.000         -0.769          0.284          2.778         -0.454          0.929          0.000\n",
      " 234         -4.306          0.609          3.181          2.812         -0.866          0.000          0.000          0.000         -0.162          0.000          0.000         -0.258          0.241          2.111         -0.142         -0.149          0.000\n",
      " 235         -4.170          0.238          2.396          0.487         -0.420          0.000          0.000          0.000          0.000          0.000         -0.341         -0.879          0.015          0.491          0.152          0.355          0.000\n",
      " 236         -5.029          0.831          3.336          1.313         -0.708          0.000          0.000          0.000          0.000          0.000          0.000         -0.659          0.014          2.034         -0.009         -0.287          0.000\n",
      " 237         -4.430          0.790          3.466          2.538         -1.229          0.000          0.000          0.000         -0.537          0.000          0.000          0.134          0.147          0.105         -0.052          0.165          0.000\n",
      " 238         -3.465          0.614          3.722          2.000         -1.138          0.000          0.000          0.000         -0.378          0.000          0.000         -1.100          0.936          3.447         -0.727         -1.287          0.000\n",
      " 239         -4.203          2.141          1.647          3.194          0.385          0.000          0.000          0.000         -0.537          0.000          0.000         -0.134          0.001          0.953          1.194          0.745          0.000\n",
      " 240         -2.580          1.059          1.506          0.193         -0.223          0.000          0.000          0.000          0.000          0.000          0.000         -1.420          0.508          0.000         -0.277          0.593          0.000\n",
      " 241         -2.845          4.472          2.015          1.898         -0.223          0.000          0.000          0.000          0.000          0.000          0.000         -0.793          0.156          3.955         -0.266         -1.554          0.000\n",
      " 242         -2.000          0.813          1.382          0.873         -0.212          0.000          0.000          0.000          0.000          0.000          0.000         -0.844          0.008          2.343         -0.395         -0.942          0.000\n",
      " 243         -4.834          1.828          1.479          1.666          0.192          0.000          0.000          0.000          0.000          0.000          0.000          0.168          0.038          0.061         -0.286          0.602          0.000\n",
      " 244         -4.707          4.984          3.492          5.086         -0.289          0.014          0.000          0.000         -0.176          0.000          0.000         -1.520          0.223          5.031          0.117         -0.149          0.000\n",
      " 245         -3.319          1.678          1.459          0.448         -0.218          0.311          0.000          0.000          0.000          0.000          0.000         -0.642          0.233          0.262         -1.817         -0.219          0.000\n",
      " 246         -1.185          0.473          1.082          1.278          0.118          0.000          0.000          0.000         -0.066          0.000          0.000         -0.260          0.315          1.252          0.026         -0.287          0.000\n",
      " 247         -1.627          0.442          1.581          0.794          0.017          0.000          0.000          0.000         -0.066          0.000          0.000          2.594          1.626          1.591          2.693          0.177          0.000\n",
      " 248         -4.036          1.814          2.645          0.220         -0.547          0.000          0.000          0.000         -0.176          0.000         -0.341         -0.543          0.119          0.290         -0.021          0.355          0.000\n",
      " 249         -2.277          0.104          1.822          0.085         -0.324          0.000          0.000          0.000          0.000          0.000          0.000          1.131          0.189          0.000         -0.069          0.141          0.000\n",
      " 250         -1.391          0.288          1.241          0.197         -0.141          0.000          0.000          0.000          0.000          0.000          0.000         -0.178          0.000          0.000          0.269          0.593          0.000\n",
      " 251         -1.107          0.672          0.825          0.396          0.064          0.000          0.000          0.000          0.000          0.000          0.000          0.000          0.000          0.572          0.000          0.177          0.000\n",
      " tot      -1027.739        826.366        684.158        596.078       -100.906          3.366        -49.586        -43.333        -16.637        -11.984         -1.499        -84.651         82.484        318.194        -49.102         10.894          8.092\n",
      "\n"
     ]
    }
   ],
   "source": [
    "print pose.energies()"
   ]
  },
  {
   "cell_type": "code",
   "execution_count": null,
   "metadata": {
    "collapsed": true
   },
   "outputs": [],
   "source": [
    "# Refine\n",
    "relax=ClassicRelax()\n",
    "relax.set_scorefxn(scorefxn)\n",
    "relax.apply(lowest)"
   ]
  },
  {
   "cell_type": "code",
   "execution_count": 15,
   "metadata": {
    "collapsed": false
   },
   "outputs": [],
   "source": [
    "mc.show_scores()\n",
    "mc.show_counters()\n",
    "mc.show_state()   # tables, use terminal"
   ]
  }
 ],
 "metadata": {
  "kernelspec": {
   "display_name": "Python 2",
   "language": "python",
   "name": "python2"
  },
  "language_info": {
   "codemirror_mode": {
    "name": "ipython",
    "version": 2
   },
   "file_extension": ".py",
   "mimetype": "text/x-python",
   "name": "python",
   "nbconvert_exporter": "python",
   "pygments_lexer": "ipython2",
   "version": "2.7.10"
  }
 },
 "nbformat": 4,
 "nbformat_minor": 0
}
