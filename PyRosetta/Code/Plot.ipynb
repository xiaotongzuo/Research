{
 "cells": [
  {
   "cell_type": "code",
   "execution_count": 2,
   "metadata": {
    "collapsed": true
   },
   "outputs": [],
   "source": [
    "import matplotlib.pyplot as plt\n",
    "from matplotlib.mlab import csv2rec\n",
    "from matplotlib.cbook import get_sample_data\n",
    "import pandas as pd"
   ]
  },
  {
   "cell_type": "code",
   "execution_count": 9,
   "metadata": {
    "collapsed": false
   },
   "outputs": [
    {
     "name": "stdout",
     "output_type": "stream",
     "text": [
      "[1, 2, 3, 4, 5, 6, 7, 8, 9, 10]\n"
     ]
    }
   ],
   "source": [
    "majors=str(range(1,11))\n",
    "str(majors)\n",
    "print majors"
   ]
  },
  {
   "cell_type": "code",
   "execution_count": null,
   "metadata": {
    "collapsed": true
   },
   "outputs": [],
   "source": [
    "fname = get_sample_data('/Users/XT/Dropbox/resi_by_resi_energy.csv')\n",
    "gender_degree_data = csv2rec(fname)\n",
    "\n",
    "# These are the colors that will be used in the plot\n",
    "color_sequence = ['#1f77b4', '#aec7e8', '#ff7f0e', '#ffbb78', '#2ca02c',\n",
    "                  '#98df8a', '#d62728', '#ff9896', '#9467bd', '#c5b0d5']\n",
    "\n",
    "# You typically want your plot to be ~1.33x wider than tall. This plot\n",
    "# is a rare exception because of the number of lines being plotted on it.\n",
    "# Common sizes: (10, 7.5) and (12, 9)\n",
    "fig, ax = plt.subplots(1, 1, figsize=(12, 9))\n",
    "\n",
    "'''# Remove the plot frame lines. They are unnecessary here.\n",
    "ax.spines['top'].set_visible(False)\n",
    "ax.spines['bottom'].set_visible(False)\n",
    "ax.spines['right'].set_visible(False)\n",
    "ax.spines['left'].set_visible(False)'''\n",
    "\n",
    "# Ensure that the axis ticks only show up on the bottom and left of the plot.\n",
    "# Ticks on the right and top of the plot are generally unnecessary.\n",
    "ax.get_xaxis().tick_bottom()\n",
    "ax.get_yaxis().tick_left()\n",
    "\n",
    "# Limit the range of the plot to only where the data is.\n",
    "# Avoid unnecessary whitespace.\n",
    "#plt.xlim(1968.5, 2011.1)\n",
    "plt.ylim(0, 10)\n",
    "\n",
    "# Make sure your axis ticks are large enough to be easily read.\n",
    "# You don't want your viewers squinting to read your plot.\n",
    "plt.xticks(range(121,141), fontsize=14)\n",
    "plt.yticks(range(0, 91), ['{0}%'.format(x)\n",
    "                              for x in range(0, 91, 10)], fontsize=14)\n",
    "\n",
    "# Provide tick lines across the plot to help your viewers trace along\n",
    "# the axis ticks. Make sure that the lines are light and small so they\n",
    "# don't obscure the primary data lines.\n",
    "for y in range(10, 91, 10):\n",
    "    plt.plot(range(1969, 2012), [y] * len(range(1969, 2012)), '--',\n",
    "             lw=0.5, color='black', alpha=0.3)\n",
    "\n",
    "# Remove the tick marks; they are unnecessary with the tick lines we just\n",
    "# plotted.\n",
    "plt.tick_params(axis='both', which='both', bottom='off', top='off',\n",
    "                labelbottom='on', left='off', right='off', labelleft='on')\n",
    "\n",
    "# Now that the plot is prepared, it's time to actually plot the data!\n",
    "# Note that I plotted the majors in order of the highest % in the final year.\n",
    "majors = [range(1,10)]\n",
    "\n",
    "for rank, column in enumerate(majors):\n",
    "    # Plot each line separately with its own color.\n",
    "    column_rec_name = column.replace('\\n', '_').replace(' ', '_').lower()\n",
    "\n",
    "    line = plt.plot(gender_degree_data.year,\n",
    "                    gender_degree_data[column_rec_name],\n",
    "                    lw=2.5,\n",
    "                    color=color_sequence[rank])\n",
    "\n",
    "    # Add a text label to the right end of every line. Most of the code below\n",
    "    # is adding specific offsets y position because some labels overlapped.\n",
    "    y_pos = gender_degree_data[column_rec_name][-1] - 0.5\n",
    "\n",
    "    if column in y_offsets:\n",
    "        y_pos += y_offsets[column]\n",
    "\n",
    "    # Again, make sure that all labels are large enough to be easily read\n",
    "    # by the viewer.\n",
    "    plt.text(2011.5, y_pos, column, fontsize=14, color=color_sequence[rank])\n",
    "\n",
    "# Make the title big enough so it spans the entire plot, but don't make it\n",
    "# so big that it requires two lines to show.\n",
    "\n",
    "# Note that if the title is descriptive enough, it is unnecessary to include\n",
    "# axis labels; they are self-evident, in this plot's case.\n",
    "plt.title('residue by residue energy comparison'\\n', fontsize=18, ha='center')\n",
    "\n",
    "# Finally, save the figure as a PNG.\n",
    "# You can also save it as a PDF, JPEG, etc.\n",
    "# Just change the file extension in this call.\n",
    "plt.savefig('energy_comparison.png', bbox_inches='tight')"
   ]
  }
 ],
 "metadata": {
  "kernelspec": {
   "display_name": "Python 2",
   "language": "python",
   "name": "python2"
  },
  "language_info": {
   "codemirror_mode": {
    "name": "ipython",
    "version": 2
   },
   "file_extension": ".py",
   "mimetype": "text/x-python",
   "name": "python",
   "nbconvert_exporter": "python",
   "pygments_lexer": "ipython2",
   "version": "2.7.10"
  }
 },
 "nbformat": 4,
 "nbformat_minor": 0
}
