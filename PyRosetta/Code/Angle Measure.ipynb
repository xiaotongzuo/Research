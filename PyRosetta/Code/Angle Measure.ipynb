{
 "cells": [
  {
   "cell_type": "code",
   "execution_count": 1,
   "metadata": {
    "collapsed": false
   },
   "outputs": [
    {
     "name": "stdout",
     "output_type": "stream",
     "text": [
      "\u001b[0mcore.init: \u001b[0mRosetta version  from \n",
      "\u001b[0mcore.init: \u001b[0mcommand: PyRosetta -ex1 -ex2aro -include_sugars -override_rsd_type_limit -read_pdb_link_records -write_pdb_link_records -database /Users/XT/ResearchApps/PyRosetta_1230/database\n",
      "\u001b[0mcore.init: \u001b[0m'RNG device' seed mode, using '/dev/urandom', seed=1608071811 seed_offset=0 real_seed=1608071811\n",
      "\u001b[0mcore.init.random: \u001b[0mRandomGenerator:init: Normal mode, seed=1608071811 RG_type=mt19937\n"
     ]
    }
   ],
   "source": [
    "from rosetta import *\n",
    "from rosetta.core.pose import *\n",
    "init(extra_options='-include_sugars -override_rsd_type_limit -read_pdb_link_records -write_pdb_link_records')"
   ]
  },
  {
   "cell_type": "code",
   "execution_count": 2,
   "metadata": {
    "collapsed": true
   },
   "outputs": [],
   "source": [
    "path='/Users/XT/ResearchApps/Output/Results/0310_11/ACICU_far/'"
   ]
  },
  {
   "cell_type": "code",
   "execution_count": 3,
   "metadata": {
    "collapsed": false
   },
   "outputs": [
    {
     "name": "stdout",
     "output_type": "stream",
     "text": [
      "/Users/XT/ResearchApps/Output/Results/0310_11/ACICU_far\n"
     ]
    }
   ],
   "source": [
    "cd /Users/XT/ResearchApps/Output/Results/0310_11/ACICU_far/"
   ]
  },
  {
   "cell_type": "code",
   "execution_count": null,
   "metadata": {
    "collapsed": true
   },
   "outputs": [],
   "source": [
    "import glob\n"
   ]
  },
  {
   "cell_type": "code",
   "execution_count": 20,
   "metadata": {
    "collapsed": false
   },
   "outputs": [
    {
     "name": "stdout",
     "output_type": "stream",
     "text": [
      "\u001b[0mcore.conformation.Conformation: \u001b[0mConnecting residues: 123 ( SER:CtermProteinFull:O-conjugated ) and 124 ( ->3)-beta-D-Glcp:branch_lower_terminus:2-AcNH ) at atoms  OG  and  C1 \n",
      "\u001b[0mcore.conformation.Conformation: \u001b[0m with mutual distances: 0.461379 and 2.29858\n",
      "\u001b[0mcore.conformation.Conformation: \u001b[0mFound disulfide between residues 58 75\n",
      "\u001b[0mcore.conformation.Conformation: \u001b[0mcurrent variant for 58 CYS\n",
      "\u001b[0mcore.conformation.Conformation: \u001b[0mcurrent variant for 75 CYS\n",
      "\u001b[0mcore.conformation.Conformation: \u001b[0mcurrent variant for 58 CYD\n",
      "\u001b[0mcore.conformation.Conformation: \u001b[0mcurrent variant for 75 CYD\n",
      "\u001b[0mcore.conformation.Conformation: \u001b[0mFound disulfide between residues 107 120\n",
      "\u001b[0mcore.conformation.Conformation: \u001b[0mcurrent variant for 107 CYS\n",
      "\u001b[0mcore.conformation.Conformation: \u001b[0mcurrent variant for 120 CYS\n",
      "\u001b[0mcore.conformation.Conformation: \u001b[0mcurrent variant for 107 CYD\n",
      "\u001b[0mcore.conformation.Conformation: \u001b[0mcurrent variant for 120 CYD\n"
     ]
    }
   ],
   "source": [
    "pose=pose_from_file(path+'0311_ACICU_5921.pdb')"
   ]
  },
  {
   "cell_type": "code",
   "execution_count": 21,
   "metadata": {
    "collapsed": false
   },
   "outputs": [
    {
     "name": "stdout",
     "output_type": "stream",
     "text": [
      "102.800165863 152.018038183\n"
     ]
    }
   ],
   "source": [
    "print pose.phi(137-16),pose.psi(137-16)"
   ]
  },
  {
   "cell_type": "code",
   "execution_count": 5,
   "metadata": {
    "collapsed": false
   },
   "outputs": [],
   "source": [
    "pose=pose_from_saccharide_sequence(\"->4)-b-L-Manp\")   # pose=pose_from_saccharide_sequence(\"->4)-b-L-Manp\")"
   ]
  },
  {
   "cell_type": "code",
   "execution_count": 4,
   "metadata": {
    "collapsed": false
   },
   "outputs": [
    {
     "ename": "NameError",
     "evalue": "name 'pose' is not defined",
     "output_type": "error",
     "traceback": [
      "\u001b[0;31m---------------------------------------------------------------------------\u001b[0m",
      "\u001b[0;31mNameError\u001b[0m                                 Traceback (most recent call last)",
      "\u001b[0;32m<ipython-input-4-5ed59a7176da>\u001b[0m in \u001b[0;36m<module>\u001b[0;34m()\u001b[0m\n\u001b[1;32m      1\u001b[0m \u001b[0mpmm\u001b[0m\u001b[0;34m=\u001b[0m\u001b[0mPyMOLMover\u001b[0m\u001b[0;34m(\u001b[0m\u001b[0;34m)\u001b[0m\u001b[0;34m\u001b[0m\u001b[0m\n\u001b[0;32m----> 2\u001b[0;31m \u001b[0mpmm\u001b[0m\u001b[0;34m.\u001b[0m\u001b[0mapply\u001b[0m\u001b[0;34m(\u001b[0m\u001b[0mpose\u001b[0m\u001b[0;34m)\u001b[0m\u001b[0;34m\u001b[0m\u001b[0m\n\u001b[0m",
      "\u001b[0;31mNameError\u001b[0m: name 'pose' is not defined"
     ]
    }
   ],
   "source": [
    "pmm=PyMOLMover()\n",
    "pmm.apply(pose)"
   ]
  },
  {
   "cell_type": "code",
   "execution_count": 9,
   "metadata": {
    "collapsed": false
   },
   "outputs": [],
   "source": [
    "pose1=pose_from_saccharide_sequence(\"->4)-a-L-Rhap\")\n",
    "pose2=pose_from_saccharide_sequence(\"->4)-a-L-Rhap-(1->4)-a-L-Rhap\")\n",
    "pose2=pose_from_saccharide_sequence(\"->4)-a-L-Rhap-(1->4)-a-L-Rhap-(1->4)-a-L-Rhap\")"
   ]
  },
  {
   "cell_type": "code",
   "execution_count": 10,
   "metadata": {
    "collapsed": true
   },
   "outputs": [],
   "source": [
    "pmm=PyMOLMover()\n",
    "pmm.apply(pose2)"
   ]
  },
  {
   "cell_type": "code",
   "execution_count": 9,
   "metadata": {
    "collapsed": true
   },
   "outputs": [],
   "source": [
    "# measure H1 C1,C2,C3 torsion, give it to O1\n",
    "# 65.3\n",
    "# measure O1 C1,C2,C3 torsion, give it to H1 (change reference 3 from O1 to C3)"
   ]
  },
  {
   "cell_type": "code",
   "execution_count": 15,
   "metadata": {
    "collapsed": true
   },
   "outputs": [],
   "source": [
    "pmm=PyMOLMover()"
   ]
  },
  {
   "cell_type": "code",
   "execution_count": 32,
   "metadata": {
    "collapsed": true
   },
   "outputs": [],
   "source": [
    "pose=pose_from_saccharide_sequence(\"->3)-a-D-Galp\")\n",
    "pmm.apply(pose)"
   ]
  },
  {
   "cell_type": "code",
   "execution_count": 31,
   "metadata": {
    "collapsed": true
   },
   "outputs": [],
   "source": [
    "pose1=pose_from_saccharide_sequence(\"->4)-a-D-Galp\")\n",
    "pmm.apply(pose1)"
   ]
  },
  {
   "cell_type": "code",
   "execution_count": 5,
   "metadata": {
    "collapsed": false
   },
   "outputs": [],
   "source": [
    "pmm=PyMOLMover()\n",
    "pose1=pose_from_saccharide_sequence(\"->4)-b-D-Quip\")\n",
    "pmm.apply(pose1)"
   ]
  },
  {
   "cell_type": "code",
   "execution_count": null,
   "metadata": {
    "collapsed": true
   },
   "outputs": [],
   "source": []
  }
 ],
 "metadata": {
  "kernelspec": {
   "display_name": "Python 2",
   "language": "python",
   "name": "python2"
  },
  "language_info": {
   "codemirror_mode": {
    "name": "ipython",
    "version": 2
   },
   "file_extension": ".py",
   "mimetype": "text/x-python",
   "name": "python",
   "nbconvert_exporter": "python",
   "pygments_lexer": "ipython2",
   "version": "2.7.10"
  }
 },
 "nbformat": 4,
 "nbformat_minor": 0
}
