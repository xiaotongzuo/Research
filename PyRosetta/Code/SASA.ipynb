{
 "cells": [
  {
   "cell_type": "code",
   "execution_count": 1,
   "metadata": {
    "collapsed": false
   },
   "outputs": [
    {
     "name": "stdout",
     "output_type": "stream",
     "text": [
      "\u001b[0mcore.init: \u001b[0mRosetta version  from \n",
      "\u001b[0mcore.init: \u001b[0mcommand: PyRosetta -ex1 -ex2aro -database /Users/XT/ResearchApps/PyRosetta_1230/database\n",
      "\u001b[0mcore.init: \u001b[0m'RNG device' seed mode, using '/dev/urandom', seed=-207534760 seed_offset=0 real_seed=-207534760\n",
      "\u001b[0mcore.init.random: \u001b[0mRandomGenerator:init: Normal mode, seed=-207534760 RG_type=mt19937\n",
      "\u001b[0mcore.init: \u001b[0mRosetta version  from \n",
      "\u001b[0mcore.init: \u001b[0mcommand: PyRosetta -ex1 -ex2aro -include_sugars -override_rsd_type_limit -read_pdb_link_records -write_pdb_link_records -database /Users/XT/ResearchApps/PyRosetta_1230/database\n",
      "\u001b[0mcore.init: \u001b[0m'RNG device' seed mode, using '/dev/urandom', seed=524233283 seed_offset=0 real_seed=524233283\n",
      "\u001b[0mcore.init.random: \u001b[0mRandomGenerator:init: Normal mode, seed=524233283 RG_type=mt19937\n"
     ]
    }
   ],
   "source": [
    "from rosetta import *\n",
    "rosetta.init(notebook=True)\n",
    "init(extra_options='-include_sugars -override_rsd_type_limit -read_pdb_link_records -write_pdb_link_records') "
   ]
  },
  {
   "cell_type": "code",
   "execution_count": 3,
   "metadata": {
    "collapsed": true
   },
   "outputs": [
    {
     "name": "stdout",
     "output_type": "stream",
     "text": [
      "\u001b[0mcore.conformation.Conformation: \u001b[0mConnecting residues: 123 ( SER:CtermProteinFull:O-conjugated ) and 124 ( ->3)-beta-D-Glcp:branch_lower_terminus:2-AcNH ) at atoms  OG  and  C1 \n",
      "\u001b[0mcore.conformation.Conformation: \u001b[0m with mutual distances: 0.317025 and 0.210265\n",
      "\u001b[0mcore.conformation.Conformation: \u001b[0mFound disulfide between residues 58 75\n",
      "\u001b[0mcore.conformation.Conformation: \u001b[0mcurrent variant for 58 CYS\n",
      "\u001b[0mcore.conformation.Conformation: \u001b[0mcurrent variant for 75 CYS\n",
      "\u001b[0mcore.conformation.Conformation: \u001b[0mcurrent variant for 58 CYD\n",
      "\u001b[0mcore.conformation.Conformation: \u001b[0mcurrent variant for 75 CYD\n",
      "\u001b[0mcore.conformation.Conformation: \u001b[0mFound disulfide between residues 107 120\n",
      "\u001b[0mcore.conformation.Conformation: \u001b[0mcurrent variant for 107 CYS\n",
      "\u001b[0mcore.conformation.Conformation: \u001b[0mcurrent variant for 120 CYS\n",
      "\u001b[0mcore.conformation.Conformation: \u001b[0mcurrent variant for 107 CYD\n",
      "\u001b[0mcore.conformation.Conformation: \u001b[0mcurrent variant for 120 CYD\n",
      "\u001b[0mcore.conformation.Conformation: \u001b[0mFound disulfide between residues 58 75\n",
      "\u001b[0mcore.conformation.Conformation: \u001b[0mcurrent variant for 58 CYS\n",
      "\u001b[0mcore.conformation.Conformation: \u001b[0mcurrent variant for 75 CYS\n",
      "\u001b[0mcore.conformation.Conformation: \u001b[0mcurrent variant for 58 CYD\n",
      "\u001b[0mcore.conformation.Conformation: \u001b[0mcurrent variant for 75 CYD\n",
      "\u001b[0mcore.conformation.Conformation: \u001b[0mFound disulfide between residues 107 120\n",
      "\u001b[0mcore.conformation.Conformation: \u001b[0mcurrent variant for 107 CYS\n",
      "\u001b[0mcore.conformation.Conformation: \u001b[0mcurrent variant for 120 CYS\n",
      "\u001b[0mcore.conformation.Conformation: \u001b[0mcurrent variant for 107 CYD\n",
      "\u001b[0mcore.conformation.Conformation: \u001b[0mcurrent variant for 120 CYD\n"
     ]
    }
   ],
   "source": [
    "pose=pose_from_file(\"/Users/XT/Dropbox/Project/pilus_monomer_repacking_delH.pdb\")\n",
    "pose_without_sugar=pose_from_file(\"/Users/XT/Dropbox/pilus_monomer_repacking_delsugar.pdb\")"
   ]
  },
  {
   "cell_type": "code",
   "execution_count": 2,
   "metadata": {
    "collapsed": false
   },
   "outputs": [],
   "source": [
    "import rosetta.core.scoring.sasa"
   ]
  },
  {
   "cell_type": "code",
   "execution_count": 3,
   "metadata": {
    "collapsed": true
   },
   "outputs": [],
   "source": [
    "from rosetta.core.scoring import sasa"
   ]
  },
  {
   "cell_type": "code",
   "execution_count": 4,
   "metadata": {
    "collapsed": false
   },
   "outputs": [],
   "source": [
    "sasa=sasa.SasaCalc()"
   ]
  },
  {
   "cell_type": "code",
   "execution_count": 25,
   "metadata": {
    "collapsed": false
   },
   "outputs": [
    {
     "ename": "NameError",
     "evalue": "name 'scoring' is not defined",
     "output_type": "error",
     "traceback": [
      "\u001b[0;31m---------------------------------------------------------------------------\u001b[0m",
      "\u001b[0;31mNameError\u001b[0m                                 Traceback (most recent call last)",
      "\u001b[0;32m<ipython-input-25-58e069a2988c>\u001b[0m in \u001b[0;36m<module>\u001b[0;34m()\u001b[0m\n\u001b[0;32m----> 1\u001b[0;31m \u001b[0msasa\u001b[0m\u001b[0;34m=\u001b[0m\u001b[0mscoring\u001b[0m\u001b[0;34m.\u001b[0m\u001b[0msasa\u001b[0m\u001b[0;34m.\u001b[0m\u001b[0mSasaCalc\u001b[0m\u001b[0;34m(\u001b[0m\u001b[0;34m)\u001b[0m\u001b[0;34m\u001b[0m\u001b[0m\n\u001b[0m",
      "\u001b[0;31mNameError\u001b[0m: name 'scoring' is not defined"
     ]
    }
   ],
   "source": [
    "sasa=scoring.sasa.SasaCalc()"
   ]
  },
  {
   "cell_type": "code",
   "execution_count": 22,
   "metadata": {
    "collapsed": true
   },
   "outputs": [],
   "source": [
    "per_resi=sasa."
   ]
  },
  {
   "cell_type": "code",
   "execution_count": 40,
   "metadata": {
    "collapsed": false
   },
   "outputs": [],
   "source": [
    "?rosetta.core.scoring.sasa.SasaCalc.calculate\n"
   ]
  },
  {
   "cell_type": "code",
   "execution_count": 67,
   "metadata": {
    "collapsed": false
   },
   "outputs": [
    {
     "data": {
      "text/plain": [
       "8186.929523871563"
      ]
     },
     "execution_count": 67,
     "metadata": {},
     "output_type": "execute_result"
    }
   ],
   "source": [
    "sasa.calculate(pose)"
   ]
  },
  {
   "cell_type": "code",
   "execution_count": 43,
   "metadata": {
    "collapsed": true
   },
   "outputs": [],
   "source": [
    "atom=AtomID"
   ]
  },
  {
   "cell_type": "code",
   "execution_count": 35,
   "metadata": {
    "collapsed": false
   },
   "outputs": [
    {
     "data": {
      "text/plain": [
       "7242.263061641571"
      ]
     },
     "execution_count": 35,
     "metadata": {},
     "output_type": "execute_result"
    }
   ],
   "source": [
    "sasa.calculate(pose_without_sugar)"
   ]
  },
  {
   "cell_type": "code",
   "execution_count": 16,
   "metadata": {
    "collapsed": false
   },
   "outputs": [
    {
     "name": "stdout",
     "output_type": "stream",
     "text": [
      "['/Users/XT/ResearchApps/Output/Results/0310', '11/M2', 'TOP10/del', 'aa/0310', 'M2', '1392delAA.pdb']\n",
      "/Users/XT/ResearchApps/Output/Results/0310_11/M2_TOP10/del_aa/0310_M2_1392delAA.pdb\n"
     ]
    }
   ],
   "source": [
    "print filename.split('_')\n",
    "print filename"
   ]
  },
  {
   "cell_type": "code",
   "execution_count": 13,
   "metadata": {
    "collapsed": false
   },
   "outputs": [
    {
     "ename": "RuntimeError",
     "evalue": "unidentifiable C++ exception",
     "output_type": "error",
     "traceback": [
      "\u001b[0;31m---------------------------------------------------------------------------\u001b[0m",
      "\u001b[0;31mRuntimeError\u001b[0m                              Traceback (most recent call last)",
      "\u001b[0;32m<ipython-input-13-3ffe727ddd7d>\u001b[0m in \u001b[0;36m<module>\u001b[0;34m()\u001b[0m\n\u001b[0;32m----> 1\u001b[0;31m \u001b[0mpose\u001b[0m\u001b[0;34m=\u001b[0m\u001b[0mpose_from_file\u001b[0m\u001b[0;34m(\u001b[0m\u001b[0mfilename\u001b[0m\u001b[0;34m)\u001b[0m\u001b[0;34m\u001b[0m\u001b[0m\n\u001b[0m",
      "\u001b[0;31mRuntimeError\u001b[0m: unidentifiable C++ exception"
     ]
    }
   ],
   "source": [
    "pose=pose_from_file(filename)"
   ]
  },
  {
   "cell_type": "code",
   "execution_count": 8,
   "metadata": {
    "collapsed": false
   },
   "outputs": [
    {
     "name": "stdout",
     "output_type": "stream",
     "text": [
      "\u001b[0mcore.conformation.Conformation: \u001b[0mFound disulfide between residues 31 61\n",
      "\u001b[0mcore.conformation.Conformation: \u001b[0mcurrent variant for 31 CYS\n",
      "\u001b[0mcore.conformation.Conformation: \u001b[0mcurrent variant for 61 CYS\n",
      "\u001b[0mcore.conformation.Conformation: \u001b[0mcurrent variant for 31 CYD\n",
      "\u001b[0mcore.conformation.Conformation: \u001b[0mcurrent variant for 61 CYD\n",
      "\u001b[0mcore.conformation.Conformation: \u001b[0mFound disulfide between residues 31 61\n",
      "\u001b[0mcore.conformation.Conformation: \u001b[0mcurrent variant for 31 CYS\n",
      "\u001b[0mcore.conformation.Conformation: \u001b[0mcurrent variant for 61 CYS\n",
      "\u001b[0mcore.conformation.Conformation: \u001b[0mcurrent variant for 31 CYD\n",
      "\u001b[0mcore.conformation.Conformation: \u001b[0mcurrent variant for 61 CYD\n",
      "\u001b[0mcore.conformation.Conformation: \u001b[0mFound disulfide between residues 31 61\n",
      "\u001b[0mcore.conformation.Conformation: \u001b[0mcurrent variant for 31 CYS\n",
      "\u001b[0mcore.conformation.Conformation: \u001b[0mcurrent variant for 61 CYS\n",
      "\u001b[0mcore.conformation.Conformation: \u001b[0mcurrent variant for 31 CYD\n",
      "\u001b[0mcore.conformation.Conformation: \u001b[0mcurrent variant for 61 CYD\n",
      "\u001b[0mcore.conformation.Conformation: \u001b[0mFound disulfide between residues 31 61\n",
      "\u001b[0mcore.conformation.Conformation: \u001b[0mcurrent variant for 31 CYS\n",
      "\u001b[0mcore.conformation.Conformation: \u001b[0mcurrent variant for 61 CYS\n",
      "\u001b[0mcore.conformation.Conformation: \u001b[0mcurrent variant for 31 CYD\n",
      "\u001b[0mcore.conformation.Conformation: \u001b[0mcurrent variant for 61 CYD\n",
      "\u001b[0mcore.conformation.Conformation: \u001b[0mFound disulfide between residues 31 61\n",
      "\u001b[0mcore.conformation.Conformation: \u001b[0mcurrent variant for 31 CYS\n",
      "\u001b[0mcore.conformation.Conformation: \u001b[0mcurrent variant for 61 CYS\n",
      "\u001b[0mcore.conformation.Conformation: \u001b[0mcurrent variant for 31 CYD\n",
      "\u001b[0mcore.conformation.Conformation: \u001b[0mcurrent variant for 61 CYD\n",
      "\u001b[0mcore.conformation.Conformation: \u001b[0mFound disulfide between residues 31 61\n",
      "\u001b[0mcore.conformation.Conformation: \u001b[0mcurrent variant for 31 CYS\n",
      "\u001b[0mcore.conformation.Conformation: \u001b[0mcurrent variant for 61 CYS\n",
      "\u001b[0mcore.conformation.Conformation: \u001b[0mcurrent variant for 31 CYD\n",
      "\u001b[0mcore.conformation.Conformation: \u001b[0mcurrent variant for 61 CYD\n",
      "\u001b[0mcore.conformation.Conformation: \u001b[0mFound disulfide between residues 31 61\n",
      "\u001b[0mcore.conformation.Conformation: \u001b[0mcurrent variant for 31 CYS\n",
      "\u001b[0mcore.conformation.Conformation: \u001b[0mcurrent variant for 61 CYS\n",
      "\u001b[0mcore.conformation.Conformation: \u001b[0mcurrent variant for 31 CYD\n",
      "\u001b[0mcore.conformation.Conformation: \u001b[0mcurrent variant for 61 CYD\n",
      "\u001b[0mcore.conformation.Conformation: \u001b[0mFound disulfide between residues 31 61\n",
      "\u001b[0mcore.conformation.Conformation: \u001b[0mcurrent variant for 31 CYS\n",
      "\u001b[0mcore.conformation.Conformation: \u001b[0mcurrent variant for 61 CYS\n",
      "\u001b[0mcore.conformation.Conformation: \u001b[0mcurrent variant for 31 CYD\n",
      "\u001b[0mcore.conformation.Conformation: \u001b[0mcurrent variant for 61 CYD\n",
      "\u001b[0mcore.conformation.Conformation: \u001b[0mFound disulfide between residues 31 61\n",
      "\u001b[0mcore.conformation.Conformation: \u001b[0mcurrent variant for 31 CYS\n",
      "\u001b[0mcore.conformation.Conformation: \u001b[0mcurrent variant for 61 CYS\n",
      "\u001b[0mcore.conformation.Conformation: \u001b[0mcurrent variant for 31 CYD\n",
      "\u001b[0mcore.conformation.Conformation: \u001b[0mcurrent variant for 61 CYD\n",
      "\u001b[0mcore.conformation.Conformation: \u001b[0mFound disulfide between residues 31 61\n",
      "\u001b[0mcore.conformation.Conformation: \u001b[0mcurrent variant for 31 CYS\n",
      "\u001b[0mcore.conformation.Conformation: \u001b[0mcurrent variant for 61 CYS\n",
      "\u001b[0mcore.conformation.Conformation: \u001b[0mcurrent variant for 31 CYD\n",
      "\u001b[0mcore.conformation.Conformation: \u001b[0mcurrent variant for 61 CYD\n",
      "\u001b[0mcore.conformation.Conformation: \u001b[0m[ WARNING ] missing heavyatom:  O1  on residue ->3)-beta-D-Glcp:reducing_end:->4)-branch:->6)-branch:2-AcNH 1\n",
      "\u001b[0mcore.conformation.Conformation: \u001b[0mConnecting residues: 1 ( ->3)-beta-D-Glcp:reducing_end:->4)-branch:->6)-branch:2-AcNH ) and 3 ( ->3)-beta-D-Glcp:non-reducing_end:branch_lower_terminus:2-AcNH ) at atoms  O4  and  C1 \n",
      "\u001b[0mcore.conformation.Conformation: \u001b[0m with mutual distances: 0.142295 and 1.43591\n",
      "\u001b[0mcore.conformation.Conformation: \u001b[0mConnecting residues: 1 ( ->3)-beta-D-Glcp:reducing_end:->4)-branch:->6)-branch:2-AcNH ) and 4 ( ->4)-alpha-L-Rhap:non-reducing_end:branch_lower_terminus ) at atoms  O6  and  C1 \n",
      "\u001b[0mcore.conformation.Conformation: \u001b[0m with mutual distances: 3.47935 and 1.43737\n",
      "\u001b[0mcore.pack.pack_missing_sidechains: \u001b[0mpacking residue number 1 because of missing atom number 10 atom name  O1 \n",
      "\u001b[0mcore.pack.task: \u001b[0mPacker task: initialize from command line() \n",
      "\u001b[0mcore.scoring.ScoreFunctionFactory: \u001b[0mSCOREFUNCTION: \u001b[32mtalaris2013\u001b[0m\n",
      "\u001b[0mcore.scoring.ScoreFunctionFactory: \u001b[0mThe -include_sugars flag was used with no sugar_bb weight set in the weights file.  Setting sugar_bb weight to 1.0 by default.\n",
      "\u001b[0mcore.pack.pack_rotamers: \u001b[0mbuilt 54 rotamers at 1 positions.\n",
      "\u001b[0mcore.pack.interaction_graph.interaction_graph_factory: \u001b[0mInstantiating DensePDInteractionGraph\n",
      "\u001b[0mcore.pack.interaction_graph.interaction_graph_factory: \u001b[0mIG: 996 bytes\n",
      "\u001b[0mcore.conformation.Conformation: \u001b[0m[ WARNING ] missing heavyatom:  O1  on residue ->3)-beta-D-Glcp:reducing_end:->4)-branch:->6)-branch:2-AcNH 1\n",
      "\u001b[0mcore.conformation.Conformation: \u001b[0mConnecting residues: 1 ( ->3)-beta-D-Glcp:reducing_end:->4)-branch:->6)-branch:2-AcNH ) and 3 ( ->3)-beta-D-Glcp:non-reducing_end:branch_lower_terminus:2-AcNH ) at atoms  O4  and  C1 \n",
      "\u001b[0mcore.conformation.Conformation: \u001b[0m with mutual distances: 0.141635 and 1.43591\n",
      "\u001b[0mcore.conformation.Conformation: \u001b[0mConnecting residues: 1 ( ->3)-beta-D-Glcp:reducing_end:->4)-branch:->6)-branch:2-AcNH ) and 4 ( ->4)-alpha-L-Rhap:non-reducing_end:branch_lower_terminus ) at atoms  O6  and  C1 \n",
      "\u001b[0mcore.conformation.Conformation: \u001b[0m with mutual distances: 3.47806 and 1.43642\n",
      "\u001b[0mcore.pack.pack_missing_sidechains: \u001b[0mpacking residue number 1 because of missing atom number 10 atom name  O1 \n",
      "\u001b[0mcore.pack.task: \u001b[0mPacker task: initialize from command line() \n",
      "\u001b[0mcore.scoring.ScoreFunctionFactory: \u001b[0mSCOREFUNCTION: \u001b[32mtalaris2013\u001b[0m\n",
      "\u001b[0mcore.scoring.ScoreFunctionFactory: \u001b[0mThe -include_sugars flag was used with no sugar_bb weight set in the weights file.  Setting sugar_bb weight to 1.0 by default.\n",
      "\u001b[0mcore.pack.pack_rotamers: \u001b[0mbuilt 54 rotamers at 1 positions.\n",
      "\u001b[0mcore.pack.interaction_graph.interaction_graph_factory: \u001b[0mInstantiating DensePDInteractionGraph\n",
      "\u001b[0mcore.pack.interaction_graph.interaction_graph_factory: \u001b[0mIG: 996 bytes\n",
      "\u001b[0mcore.conformation.Conformation: \u001b[0m[ WARNING ] missing heavyatom:  O1  on residue ->3)-beta-D-Glcp:reducing_end:->4)-branch:->6)-branch:2-AcNH 1\n",
      "\u001b[0mcore.conformation.Conformation: \u001b[0mConnecting residues: 1 ( ->3)-beta-D-Glcp:reducing_end:->4)-branch:->6)-branch:2-AcNH ) and 3 ( ->3)-beta-D-Glcp:non-reducing_end:branch_lower_terminus:2-AcNH ) at atoms  O4  and  C1 \n",
      "\u001b[0mcore.conformation.Conformation: \u001b[0m with mutual distances: 0.141635 and 1.43591\n",
      "\u001b[0mcore.conformation.Conformation: \u001b[0mConnecting residues: 1 ( ->3)-beta-D-Glcp:reducing_end:->4)-branch:->6)-branch:2-AcNH ) and 4 ( ->4)-alpha-L-Rhap:non-reducing_end:branch_lower_terminus ) at atoms  O6  and  C1 \n",
      "\u001b[0mcore.conformation.Conformation: \u001b[0m with mutual distances: 3.47813 and 1.43642\n",
      "\u001b[0mcore.pack.pack_missing_sidechains: \u001b[0mpacking residue number 1 because of missing atom number 10 atom name  O1 \n",
      "\u001b[0mcore.pack.task: \u001b[0mPacker task: initialize from command line() \n",
      "\u001b[0mcore.scoring.ScoreFunctionFactory: \u001b[0mSCOREFUNCTION: \u001b[32mtalaris2013\u001b[0m\n",
      "\u001b[0mcore.scoring.ScoreFunctionFactory: \u001b[0mThe -include_sugars flag was used with no sugar_bb weight set in the weights file.  Setting sugar_bb weight to 1.0 by default.\n",
      "\u001b[0mcore.pack.pack_rotamers: \u001b[0mbuilt 54 rotamers at 1 positions.\n",
      "\u001b[0mcore.pack.interaction_graph.interaction_graph_factory: \u001b[0mInstantiating DensePDInteractionGraph\n",
      "\u001b[0mcore.pack.interaction_graph.interaction_graph_factory: \u001b[0mIG: 996 bytes\n",
      "\u001b[0mcore.conformation.Conformation: \u001b[0m[ WARNING ] missing heavyatom:  O1  on residue ->3)-beta-D-Glcp:reducing_end:->4)-branch:->6)-branch:2-AcNH 1\n",
      "\u001b[0mcore.conformation.Conformation: \u001b[0mConnecting residues: 1 ( ->3)-beta-D-Glcp:reducing_end:->4)-branch:->6)-branch:2-AcNH ) and 3 ( ->3)-beta-D-Glcp:non-reducing_end:branch_lower_terminus:2-AcNH ) at atoms  O4  and  C1 \n",
      "\u001b[0mcore.conformation.Conformation: \u001b[0m with mutual distances: 0.1424 and 1.43569\n",
      "\u001b[0mcore.conformation.Conformation: \u001b[0mConnecting residues: 1 ( ->3)-beta-D-Glcp:reducing_end:->4)-branch:->6)-branch:2-AcNH ) and 4 ( ->4)-alpha-L-Rhap:non-reducing_end:branch_lower_terminus ) at atoms  O6  and  C1 \n",
      "\u001b[0mcore.conformation.Conformation: \u001b[0m with mutual distances: 3.47821 and 1.43747\n",
      "\u001b[0mcore.pack.pack_missing_sidechains: \u001b[0mpacking residue number 1 because of missing atom number 10 atom name  O1 \n",
      "\u001b[0mcore.pack.task: \u001b[0mPacker task: initialize from command line() \n",
      "\u001b[0mcore.scoring.ScoreFunctionFactory: \u001b[0mSCOREFUNCTION: \u001b[32mtalaris2013\u001b[0m\n",
      "\u001b[0mcore.scoring.ScoreFunctionFactory: \u001b[0mThe -include_sugars flag was used with no sugar_bb weight set in the weights file.  Setting sugar_bb weight to 1.0 by default.\n",
      "\u001b[0mcore.pack.pack_rotamers: \u001b[0mbuilt 54 rotamers at 1 positions.\n",
      "\u001b[0mcore.pack.interaction_graph.interaction_graph_factory: \u001b[0mInstantiating DensePDInteractionGraph\n",
      "\u001b[0mcore.pack.interaction_graph.interaction_graph_factory: \u001b[0mIG: 996 bytes\n",
      "\u001b[0mcore.conformation.Conformation: \u001b[0m[ WARNING ] missing heavyatom:  O1  on residue ->3)-beta-D-Glcp:reducing_end:->4)-branch:->6)-branch:2-AcNH 1\n",
      "\u001b[0mcore.conformation.Conformation: \u001b[0mConnecting residues: 1 ( ->3)-beta-D-Glcp:reducing_end:->4)-branch:->6)-branch:2-AcNH ) and 3 ( ->3)-beta-D-Glcp:non-reducing_end:branch_lower_terminus:2-AcNH ) at atoms  O4  and  C1 \n",
      "\u001b[0mcore.conformation.Conformation: \u001b[0m with mutual distances: 0.142208 and 1.43569\n",
      "\u001b[0mcore.conformation.Conformation: \u001b[0mConnecting residues: 1 ( ->3)-beta-D-Glcp:reducing_end:->4)-branch:->6)-branch:2-AcNH ) and 4 ( ->4)-alpha-L-Rhap:non-reducing_end:branch_lower_terminus ) at atoms  O6  and  C1 \n",
      "\u001b[0mcore.conformation.Conformation: \u001b[0m with mutual distances: 3.47818 and 1.43747\n",
      "\u001b[0mcore.pack.pack_missing_sidechains: \u001b[0mpacking residue number 1 because of missing atom number 10 atom name  O1 \n",
      "\u001b[0mcore.pack.task: \u001b[0mPacker task: initialize from command line() \n",
      "\u001b[0mcore.scoring.ScoreFunctionFactory: \u001b[0mSCOREFUNCTION: \u001b[32mtalaris2013\u001b[0m\n",
      "\u001b[0mcore.scoring.ScoreFunctionFactory: \u001b[0mThe -include_sugars flag was used with no sugar_bb weight set in the weights file.  Setting sugar_bb weight to 1.0 by default.\n",
      "\u001b[0mcore.pack.pack_rotamers: \u001b[0mbuilt 54 rotamers at 1 positions.\n",
      "\u001b[0mcore.pack.interaction_graph.interaction_graph_factory: \u001b[0mInstantiating DensePDInteractionGraph\n",
      "\u001b[0mcore.pack.interaction_graph.interaction_graph_factory: \u001b[0mIG: 996 bytes\n",
      "\u001b[0mcore.conformation.Conformation: \u001b[0m[ WARNING ] missing heavyatom:  O1  on residue ->3)-beta-D-Glcp:reducing_end:->4)-branch:->6)-branch:2-AcNH 1\n",
      "\u001b[0mcore.conformation.Conformation: \u001b[0mConnecting residues: 1 ( ->3)-beta-D-Glcp:reducing_end:->4)-branch:->6)-branch:2-AcNH ) and 3 ( ->3)-beta-D-Glcp:non-reducing_end:branch_lower_terminus:2-AcNH ) at atoms  O4  and  C1 \n",
      "\u001b[0mcore.conformation.Conformation: \u001b[0m with mutual distances: 0.141639 and 1.43569\n",
      "\u001b[0mcore.conformation.Conformation: \u001b[0mConnecting residues: 1 ( ->3)-beta-D-Glcp:reducing_end:->4)-branch:->6)-branch:2-AcNH ) and 4 ( ->4)-alpha-L-Rhap:non-reducing_end:branch_lower_terminus ) at atoms  O6  and  C1 \n",
      "\u001b[0mcore.conformation.Conformation: \u001b[0m with mutual distances: 3.47817 and 1.43747\n",
      "\u001b[0mcore.pack.pack_missing_sidechains: \u001b[0mpacking residue number 1 because of missing atom number 10 atom name  O1 \n",
      "\u001b[0mcore.pack.task: \u001b[0mPacker task: initialize from command line() \n",
      "\u001b[0mcore.scoring.ScoreFunctionFactory: \u001b[0mSCOREFUNCTION: \u001b[32mtalaris2013\u001b[0m\n",
      "\u001b[0mcore.scoring.ScoreFunctionFactory: \u001b[0mThe -include_sugars flag was used with no sugar_bb weight set in the weights file.  Setting sugar_bb weight to 1.0 by default.\n",
      "\u001b[0mcore.pack.pack_rotamers: \u001b[0mbuilt 54 rotamers at 1 positions.\n",
      "\u001b[0mcore.pack.interaction_graph.interaction_graph_factory: \u001b[0mInstantiating DensePDInteractionGraph\n",
      "\u001b[0mcore.pack.interaction_graph.interaction_graph_factory: \u001b[0mIG: 996 bytes\n",
      "\u001b[0mcore.conformation.Conformation: \u001b[0m[ WARNING ] missing heavyatom:  O1  on residue ->3)-beta-D-Glcp:reducing_end:->4)-branch:->6)-branch:2-AcNH 1\n",
      "\u001b[0mcore.conformation.Conformation: \u001b[0mConnecting residues: 1 ( ->3)-beta-D-Glcp:reducing_end:->4)-branch:->6)-branch:2-AcNH ) and 3 ( ->3)-beta-D-Glcp:non-reducing_end:branch_lower_terminus:2-AcNH ) at atoms  O4  and  C1 \n",
      "\u001b[0mcore.conformation.Conformation: \u001b[0m with mutual distances: 0.141635 and 1.43591\n",
      "\u001b[0mcore.conformation.Conformation: \u001b[0mConnecting residues: 1 ( ->3)-beta-D-Glcp:reducing_end:->4)-branch:->6)-branch:2-AcNH ) and 4 ( ->4)-alpha-L-Rhap:non-reducing_end:branch_lower_terminus ) at atoms  O6  and  C1 \n",
      "\u001b[0mcore.conformation.Conformation: \u001b[0m with mutual distances: 3.4783 and 1.43642\n",
      "\u001b[0mcore.pack.pack_missing_sidechains: \u001b[0mpacking residue number 1 because of missing atom number 10 atom name  O1 \n",
      "\u001b[0mcore.pack.task: \u001b[0mPacker task: initialize from command line() \n",
      "\u001b[0mcore.scoring.ScoreFunctionFactory: \u001b[0mSCOREFUNCTION: \u001b[32mtalaris2013\u001b[0m\n",
      "\u001b[0mcore.scoring.ScoreFunctionFactory: \u001b[0mThe -include_sugars flag was used with no sugar_bb weight set in the weights file.  Setting sugar_bb weight to 1.0 by default.\n",
      "\u001b[0mcore.pack.pack_rotamers: \u001b[0mbuilt 54 rotamers at 1 positions.\n",
      "\u001b[0mcore.pack.interaction_graph.interaction_graph_factory: \u001b[0mInstantiating DensePDInteractionGraph\n",
      "\u001b[0mcore.pack.interaction_graph.interaction_graph_factory: \u001b[0mIG: 996 bytes\n",
      "\u001b[0mcore.conformation.Conformation: \u001b[0m[ WARNING ] missing heavyatom:  O1  on residue ->3)-beta-D-Glcp:reducing_end:->4)-branch:->6)-branch:2-AcNH 1\n",
      "\u001b[0mcore.conformation.Conformation: \u001b[0mConnecting residues: 1 ( ->3)-beta-D-Glcp:reducing_end:->4)-branch:->6)-branch:2-AcNH ) and 3 ( ->3)-beta-D-Glcp:non-reducing_end:branch_lower_terminus:2-AcNH ) at atoms  O4  and  C1 \n",
      "\u001b[0mcore.conformation.Conformation: \u001b[0m with mutual distances: 0.142236 and 1.43493\n",
      "\u001b[0mcore.conformation.Conformation: \u001b[0mConnecting residues: 1 ( ->3)-beta-D-Glcp:reducing_end:->4)-branch:->6)-branch:2-AcNH ) and 4 ( ->4)-alpha-L-Rhap:non-reducing_end:branch_lower_terminus ) at atoms  O6  and  C1 \n",
      "\u001b[0mcore.conformation.Conformation: \u001b[0m with mutual distances: 3.47867 and 1.43699\n",
      "\u001b[0mcore.pack.pack_missing_sidechains: \u001b[0mpacking residue number 1 because of missing atom number 10 atom name  O1 \n",
      "\u001b[0mcore.pack.task: \u001b[0mPacker task: initialize from command line() \n",
      "\u001b[0mcore.scoring.ScoreFunctionFactory: \u001b[0mSCOREFUNCTION: \u001b[32mtalaris2013\u001b[0m\n",
      "\u001b[0mcore.scoring.ScoreFunctionFactory: \u001b[0mThe -include_sugars flag was used with no sugar_bb weight set in the weights file.  Setting sugar_bb weight to 1.0 by default.\n",
      "\u001b[0mcore.pack.pack_rotamers: \u001b[0mbuilt 54 rotamers at 1 positions.\n",
      "\u001b[0mcore.pack.interaction_graph.interaction_graph_factory: \u001b[0mInstantiating DensePDInteractionGraph\n",
      "\u001b[0mcore.pack.interaction_graph.interaction_graph_factory: \u001b[0mIG: 996 bytes\n",
      "\u001b[0mcore.conformation.Conformation: \u001b[0m[ WARNING ] missing heavyatom:  O1  on residue ->3)-beta-D-Glcp:reducing_end:->4)-branch:->6)-branch:2-AcNH 1\n",
      "\u001b[0mcore.conformation.Conformation: \u001b[0mConnecting residues: 1 ( ->3)-beta-D-Glcp:reducing_end:->4)-branch:->6)-branch:2-AcNH ) and 3 ( ->3)-beta-D-Glcp:non-reducing_end:branch_lower_terminus:2-AcNH ) at atoms  O4  and  C1 \n",
      "\u001b[0mcore.conformation.Conformation: \u001b[0m with mutual distances: 0.141348 and 1.43593\n",
      "\u001b[0mcore.conformation.Conformation: \u001b[0mConnecting residues: 1 ( ->3)-beta-D-Glcp:reducing_end:->4)-branch:->6)-branch:2-AcNH ) and 4 ( ->4)-alpha-L-Rhap:non-reducing_end:branch_lower_terminus ) at atoms  O6  and  C1 \n",
      "\u001b[0mcore.conformation.Conformation: \u001b[0m with mutual distances: 3.47869 and 1.43761\n",
      "\u001b[0mcore.pack.pack_missing_sidechains: \u001b[0mpacking residue number 1 because of missing atom number 10 atom name  O1 \n",
      "\u001b[0mcore.pack.task: \u001b[0mPacker task: initialize from command line() \n",
      "\u001b[0mcore.scoring.ScoreFunctionFactory: \u001b[0mSCOREFUNCTION: \u001b[32mtalaris2013\u001b[0m\n",
      "\u001b[0mcore.scoring.ScoreFunctionFactory: \u001b[0mThe -include_sugars flag was used with no sugar_bb weight set in the weights file.  Setting sugar_bb weight to 1.0 by default.\n",
      "\u001b[0mcore.pack.pack_rotamers: \u001b[0mbuilt 54 rotamers at 1 positions.\n",
      "\u001b[0mcore.pack.interaction_graph.interaction_graph_factory: \u001b[0mInstantiating DensePDInteractionGraph\n",
      "\u001b[0mcore.pack.interaction_graph.interaction_graph_factory: \u001b[0mIG: 996 bytes\n",
      "\u001b[0mcore.conformation.Conformation: \u001b[0m[ WARNING ] missing heavyatom:  O1  on residue ->3)-beta-D-Glcp:reducing_end:->4)-branch:->6)-branch:2-AcNH 1\n",
      "\u001b[0mcore.conformation.Conformation: \u001b[0mConnecting residues: 1 ( ->3)-beta-D-Glcp:reducing_end:->4)-branch:->6)-branch:2-AcNH ) and 3 ( ->3)-beta-D-Glcp:non-reducing_end:branch_lower_terminus:2-AcNH ) at atoms  O4  and  C1 \n",
      "\u001b[0mcore.conformation.Conformation: \u001b[0m with mutual distances: 0.140816 and 1.4366\n",
      "\u001b[0mcore.conformation.Conformation: \u001b[0mConnecting residues: 1 ( ->3)-beta-D-Glcp:reducing_end:->4)-branch:->6)-branch:2-AcNH ) and 4 ( ->4)-alpha-L-Rhap:non-reducing_end:branch_lower_terminus ) at atoms  O6  and  C1 \n",
      "\u001b[0mcore.conformation.Conformation: \u001b[0m with mutual distances: 3.47858 and 1.43681\n",
      "\u001b[0mcore.pack.pack_missing_sidechains: \u001b[0mpacking residue number 1 because of missing atom number 10 atom name  O1 \n",
      "\u001b[0mcore.pack.task: \u001b[0mPacker task: initialize from command line() \n",
      "\u001b[0mcore.scoring.ScoreFunctionFactory: \u001b[0mSCOREFUNCTION: \u001b[32mtalaris2013\u001b[0m\n",
      "\u001b[0mcore.scoring.ScoreFunctionFactory: \u001b[0mThe -include_sugars flag was used with no sugar_bb weight set in the weights file.  Setting sugar_bb weight to 1.0 by default.\n",
      "\u001b[0mcore.pack.pack_rotamers: \u001b[0mbuilt 54 rotamers at 1 positions.\n",
      "\u001b[0mcore.pack.interaction_graph.interaction_graph_factory: \u001b[0mInstantiating DensePDInteractionGraph\n",
      "\u001b[0mcore.pack.interaction_graph.interaction_graph_factory: \u001b[0mIG: 996 bytes\n",
      "\u001b[0mcore.conformation.Conformation: \u001b[0mConnecting residues: 111 ( SER:CtermProteinFull:O-conjugated ) and 112 ( ->3)-beta-D-Glcp:branch_lower_terminus:->4)-branch:->6)-branch:2-AcNH ) at atoms  OG  and  C1 \n",
      "\u001b[0mcore.conformation.Conformation: \u001b[0m with mutual distances: 0.411162 and 2.32465\n",
      "\u001b[0mcore.conformation.Conformation: \u001b[0mConnecting residues: 112 ( ->3)-beta-D-Glcp:branch_lower_terminus:->4)-branch:->6)-branch:2-AcNH ) and 114 ( ->3)-beta-D-Glcp:non-reducing_end:branch_lower_terminus:2-AcNH ) at atoms  O4  and  C1 \n",
      "\u001b[0mcore.conformation.Conformation: \u001b[0m with mutual distances: 0.142295 and 1.43591\n",
      "\u001b[0mcore.conformation.Conformation: \u001b[0mConnecting residues: 112 ( ->3)-beta-D-Glcp:branch_lower_terminus:->4)-branch:->6)-branch:2-AcNH ) and 115 ( ->4)-alpha-L-Rhap:non-reducing_end:branch_lower_terminus ) at atoms  O6  and  C1 \n",
      "\u001b[0mcore.conformation.Conformation: \u001b[0m with mutual distances: 3.47935 and 1.43737\n",
      "\u001b[0mcore.conformation.Conformation: \u001b[0mFound disulfide between residues 31 61\n",
      "\u001b[0mcore.conformation.Conformation: \u001b[0mcurrent variant for 31 CYS\n",
      "\u001b[0mcore.conformation.Conformation: \u001b[0mcurrent variant for 61 CYS\n",
      "\u001b[0mcore.conformation.Conformation: \u001b[0mcurrent variant for 31 CYD\n",
      "\u001b[0mcore.conformation.Conformation: \u001b[0mcurrent variant for 61 CYD\n",
      "1 [6467.723336194589]\n",
      "\u001b[0mcore.conformation.Conformation: \u001b[0mConnecting residues: 111 ( SER:CtermProteinFull:O-conjugated ) and 112 ( ->3)-beta-D-Glcp:branch_lower_terminus:->4)-branch:->6)-branch:2-AcNH ) at atoms  OG  and  C1 \n",
      "\u001b[0mcore.conformation.Conformation: \u001b[0m with mutual distances: 0.411162 and 2.32465\n",
      "\u001b[0mcore.conformation.Conformation: \u001b[0mConnecting residues: 112 ( ->3)-beta-D-Glcp:branch_lower_terminus:->4)-branch:->6)-branch:2-AcNH ) and 114 ( ->3)-beta-D-Glcp:non-reducing_end:branch_lower_terminus:2-AcNH ) at atoms  O4  and  C1 \n",
      "\u001b[0mcore.conformation.Conformation: \u001b[0m with mutual distances: 0.141635 and 1.43591\n",
      "\u001b[0mcore.conformation.Conformation: \u001b[0mConnecting residues: 112 ( ->3)-beta-D-Glcp:branch_lower_terminus:->4)-branch:->6)-branch:2-AcNH ) and 115 ( ->4)-alpha-L-Rhap:non-reducing_end:branch_lower_terminus ) at atoms  O6  and  C1 \n",
      "\u001b[0mcore.conformation.Conformation: \u001b[0m with mutual distances: 3.47806 and 1.43642\n",
      "\u001b[0mcore.conformation.Conformation: \u001b[0mFound disulfide between residues 31 61\n",
      "\u001b[0mcore.conformation.Conformation: \u001b[0mcurrent variant for 31 CYS\n",
      "\u001b[0mcore.conformation.Conformation: \u001b[0mcurrent variant for 61 CYS\n",
      "\u001b[0mcore.conformation.Conformation: \u001b[0mcurrent variant for 31 CYD\n",
      "\u001b[0mcore.conformation.Conformation: \u001b[0mcurrent variant for 61 CYD\n",
      "2 [6467.723336194589, 6468.33031516632]\n",
      "\u001b[0mcore.conformation.Conformation: \u001b[0mConnecting residues: 111 ( SER:CtermProteinFull:O-conjugated ) and 112 ( ->3)-beta-D-Glcp:branch_lower_terminus:->4)-branch:->6)-branch:2-AcNH ) at atoms  OG  and  C1 \n",
      "\u001b[0mcore.conformation.Conformation: \u001b[0m with mutual distances: 0.411162 and 2.32465\n",
      "\u001b[0mcore.conformation.Conformation: \u001b[0mConnecting residues: 112 ( ->3)-beta-D-Glcp:branch_lower_terminus:->4)-branch:->6)-branch:2-AcNH ) and 114 ( ->3)-beta-D-Glcp:non-reducing_end:branch_lower_terminus:2-AcNH ) at atoms  O4  and  C1 \n",
      "\u001b[0mcore.conformation.Conformation: \u001b[0m with mutual distances: 0.141635 and 1.43591\n",
      "\u001b[0mcore.conformation.Conformation: \u001b[0mConnecting residues: 112 ( ->3)-beta-D-Glcp:branch_lower_terminus:->4)-branch:->6)-branch:2-AcNH ) and 115 ( ->4)-alpha-L-Rhap:non-reducing_end:branch_lower_terminus ) at atoms  O6  and  C1 \n",
      "\u001b[0mcore.conformation.Conformation: \u001b[0m with mutual distances: 3.47813 and 1.43642\n",
      "\u001b[0mcore.conformation.Conformation: \u001b[0mFound disulfide between residues 31 61\n",
      "\u001b[0mcore.conformation.Conformation: \u001b[0mcurrent variant for 31 CYS\n",
      "\u001b[0mcore.conformation.Conformation: \u001b[0mcurrent variant for 61 CYS\n",
      "\u001b[0mcore.conformation.Conformation: \u001b[0mcurrent variant for 31 CYD\n",
      "\u001b[0mcore.conformation.Conformation: \u001b[0mcurrent variant for 61 CYD\n",
      "3 [6467.723336194589, 6468.33031516632, 6470.8920318722085]\n",
      "\u001b[0mcore.conformation.Conformation: \u001b[0mConnecting residues: 111 ( SER:CtermProteinFull:O-conjugated ) and 112 ( ->3)-beta-D-Glcp:branch_lower_terminus:->4)-branch:->6)-branch:2-AcNH ) at atoms  OG  and  C1 \n",
      "\u001b[0mcore.conformation.Conformation: \u001b[0m with mutual distances: 0.411434 and 2.32465\n",
      "\u001b[0mcore.conformation.Conformation: \u001b[0mConnecting residues: 112 ( ->3)-beta-D-Glcp:branch_lower_terminus:->4)-branch:->6)-branch:2-AcNH ) and 114 ( ->3)-beta-D-Glcp:non-reducing_end:branch_lower_terminus:2-AcNH ) at atoms  O4  and  C1 \n",
      "\u001b[0mcore.conformation.Conformation: \u001b[0m with mutual distances: 0.1424 and 1.43569\n",
      "\u001b[0mcore.conformation.Conformation: \u001b[0mConnecting residues: 112 ( ->3)-beta-D-Glcp:branch_lower_terminus:->4)-branch:->6)-branch:2-AcNH ) and 115 ( ->4)-alpha-L-Rhap:non-reducing_end:branch_lower_terminus ) at atoms  O6  and  C1 \n",
      "\u001b[0mcore.conformation.Conformation: \u001b[0m with mutual distances: 3.47821 and 1.43747\n",
      "\u001b[0mcore.conformation.Conformation: \u001b[0mFound disulfide between residues 31 61\n",
      "\u001b[0mcore.conformation.Conformation: \u001b[0mcurrent variant for 31 CYS\n",
      "\u001b[0mcore.conformation.Conformation: \u001b[0mcurrent variant for 61 CYS\n",
      "\u001b[0mcore.conformation.Conformation: \u001b[0mcurrent variant for 31 CYD\n",
      "\u001b[0mcore.conformation.Conformation: \u001b[0mcurrent variant for 61 CYD\n",
      "4 [6467.723336194589, 6468.33031516632, 6470.8920318722085, 6473.582864157651]\n",
      "\u001b[0mcore.conformation.Conformation: \u001b[0mConnecting residues: 111 ( SER:CtermProteinFull:O-conjugated ) and 112 ( ->3)-beta-D-Glcp:branch_lower_terminus:->4)-branch:->6)-branch:2-AcNH ) at atoms  OG  and  C1 \n",
      "\u001b[0mcore.conformation.Conformation: \u001b[0m with mutual distances: 0.411434 and 2.32465\n",
      "\u001b[0mcore.conformation.Conformation: \u001b[0mConnecting residues: 112 ( ->3)-beta-D-Glcp:branch_lower_terminus:->4)-branch:->6)-branch:2-AcNH ) and 114 ( ->3)-beta-D-Glcp:non-reducing_end:branch_lower_terminus:2-AcNH ) at atoms  O4  and  C1 \n",
      "\u001b[0mcore.conformation.Conformation: \u001b[0m with mutual distances: 0.142208 and 1.43569\n",
      "\u001b[0mcore.conformation.Conformation: \u001b[0mConnecting residues: 112 ( ->3)-beta-D-Glcp:branch_lower_terminus:->4)-branch:->6)-branch:2-AcNH ) and 115 ( ->4)-alpha-L-Rhap:non-reducing_end:branch_lower_terminus ) at atoms  O6  and  C1 \n",
      "\u001b[0mcore.conformation.Conformation: \u001b[0m with mutual distances: 3.47818 and 1.43747\n",
      "\u001b[0mcore.conformation.Conformation: \u001b[0mFound disulfide between residues 31 61\n",
      "\u001b[0mcore.conformation.Conformation: \u001b[0mcurrent variant for 31 CYS\n",
      "\u001b[0mcore.conformation.Conformation: \u001b[0mcurrent variant for 61 CYS\n",
      "\u001b[0mcore.conformation.Conformation: \u001b[0mcurrent variant for 31 CYD\n",
      "\u001b[0mcore.conformation.Conformation: \u001b[0mcurrent variant for 61 CYD\n",
      "5 [6467.723336194589, 6468.33031516632, 6470.8920318722085, 6473.582864157651, 6469.2914253217905]\n",
      "\u001b[0mcore.conformation.Conformation: \u001b[0mConnecting residues: 111 ( SER:CtermProteinFull:O-conjugated ) and 112 ( ->3)-beta-D-Glcp:branch_lower_terminus:->4)-branch:->6)-branch:2-AcNH ) at atoms  OG  and  C1 \n",
      "\u001b[0mcore.conformation.Conformation: \u001b[0m with mutual distances: 0.411434 and 2.32465\n",
      "\u001b[0mcore.conformation.Conformation: \u001b[0mConnecting residues: 112 ( ->3)-beta-D-Glcp:branch_lower_terminus:->4)-branch:->6)-branch:2-AcNH ) and 114 ( ->3)-beta-D-Glcp:non-reducing_end:branch_lower_terminus:2-AcNH ) at atoms  O4  and  C1 \n",
      "\u001b[0mcore.conformation.Conformation: \u001b[0m with mutual distances: 0.141639 and 1.43569\n",
      "\u001b[0mcore.conformation.Conformation: \u001b[0mConnecting residues: 112 ( ->3)-beta-D-Glcp:branch_lower_terminus:->4)-branch:->6)-branch:2-AcNH ) and 115 ( ->4)-alpha-L-Rhap:non-reducing_end:branch_lower_terminus ) at atoms  O6  and  C1 \n",
      "\u001b[0mcore.conformation.Conformation: \u001b[0m with mutual distances: 3.47817 and 1.43747\n",
      "\u001b[0mcore.conformation.Conformation: \u001b[0mFound disulfide between residues 31 61\n",
      "\u001b[0mcore.conformation.Conformation: \u001b[0mcurrent variant for 31 CYS\n",
      "\u001b[0mcore.conformation.Conformation: \u001b[0mcurrent variant for 61 CYS\n",
      "\u001b[0mcore.conformation.Conformation: \u001b[0mcurrent variant for 31 CYD\n",
      "\u001b[0mcore.conformation.Conformation: \u001b[0mcurrent variant for 61 CYD\n",
      "6 [6467.723336194589, 6468.33031516632, 6470.8920318722085, 6473.582864157651, 6469.2914253217905, 6475.951888757101]\n",
      "\u001b[0mcore.conformation.Conformation: \u001b[0mConnecting residues: 111 ( SER:CtermProteinFull:O-conjugated ) and 112 ( ->3)-beta-D-Glcp:branch_lower_terminus:->4)-branch:->6)-branch:2-AcNH ) at atoms  OG  and  C1 \n",
      "\u001b[0mcore.conformation.Conformation: \u001b[0m with mutual distances: 0.411162 and 2.32465\n",
      "\u001b[0mcore.conformation.Conformation: \u001b[0mConnecting residues: 112 ( ->3)-beta-D-Glcp:branch_lower_terminus:->4)-branch:->6)-branch:2-AcNH ) and 114 ( ->3)-beta-D-Glcp:non-reducing_end:branch_lower_terminus:2-AcNH ) at atoms  O4  and  C1 \n",
      "\u001b[0mcore.conformation.Conformation: \u001b[0m with mutual distances: 0.141635 and 1.43591\n",
      "\u001b[0mcore.conformation.Conformation: \u001b[0mConnecting residues: 112 ( ->3)-beta-D-Glcp:branch_lower_terminus:->4)-branch:->6)-branch:2-AcNH ) and 115 ( ->4)-alpha-L-Rhap:non-reducing_end:branch_lower_terminus ) at atoms  O6  and  C1 \n",
      "\u001b[0mcore.conformation.Conformation: \u001b[0m with mutual distances: 3.4783 and 1.43642\n",
      "\u001b[0mcore.conformation.Conformation: \u001b[0mFound disulfide between residues 31 61\n",
      "\u001b[0mcore.conformation.Conformation: \u001b[0mcurrent variant for 31 CYS\n",
      "\u001b[0mcore.conformation.Conformation: \u001b[0mcurrent variant for 61 CYS\n",
      "\u001b[0mcore.conformation.Conformation: \u001b[0mcurrent variant for 31 CYD\n",
      "\u001b[0mcore.conformation.Conformation: \u001b[0mcurrent variant for 61 CYD\n",
      "7 [6467.723336194589, 6468.33031516632, 6470.8920318722085, 6473.582864157651, 6469.2914253217905, 6475.951888757101, 6470.8920318722085]\n",
      "\u001b[0mcore.conformation.Conformation: \u001b[0mConnecting residues: 111 ( SER:CtermProteinFull:O-conjugated ) and 112 ( ->3)-beta-D-Glcp:branch_lower_terminus:->4)-branch:->6)-branch:2-AcNH ) at atoms  OG  and  C1 \n",
      "\u001b[0mcore.conformation.Conformation: \u001b[0m with mutual distances: 0.411434 and 2.32465\n",
      "\u001b[0mcore.conformation.Conformation: \u001b[0mConnecting residues: 112 ( ->3)-beta-D-Glcp:branch_lower_terminus:->4)-branch:->6)-branch:2-AcNH ) and 114 ( ->3)-beta-D-Glcp:non-reducing_end:branch_lower_terminus:2-AcNH ) at atoms  O4  and  C1 \n",
      "\u001b[0mcore.conformation.Conformation: \u001b[0m with mutual distances: 0.142236 and 1.43493\n",
      "\u001b[0mcore.conformation.Conformation: \u001b[0mConnecting residues: 112 ( ->3)-beta-D-Glcp:branch_lower_terminus:->4)-branch:->6)-branch:2-AcNH ) and 115 ( ->4)-alpha-L-Rhap:non-reducing_end:branch_lower_terminus ) at atoms  O6  and  C1 \n",
      "\u001b[0mcore.conformation.Conformation: \u001b[0m with mutual distances: 3.47867 and 1.43699\n",
      "\u001b[0mcore.conformation.Conformation: \u001b[0mFound disulfide between residues 31 61\n",
      "\u001b[0mcore.conformation.Conformation: \u001b[0mcurrent variant for 31 CYS\n",
      "\u001b[0mcore.conformation.Conformation: \u001b[0mcurrent variant for 61 CYS\n",
      "\u001b[0mcore.conformation.Conformation: \u001b[0mcurrent variant for 31 CYD\n",
      "\u001b[0mcore.conformation.Conformation: \u001b[0mcurrent variant for 61 CYD\n",
      "8 [6467.723336194589, 6468.33031516632, 6470.8920318722085, 6473.582864157651, 6469.2914253217905, 6475.951888757101, 6470.8920318722085, 6467.08511195074]\n",
      "\u001b[0mcore.conformation.Conformation: \u001b[0mConnecting residues: 111 ( SER:CtermProteinFull:O-conjugated ) and 112 ( ->3)-beta-D-Glcp:branch_lower_terminus:->4)-branch:->6)-branch:2-AcNH ) at atoms  OG  and  C1 \n",
      "\u001b[0mcore.conformation.Conformation: \u001b[0m with mutual distances: 0.411434 and 2.32465\n",
      "\u001b[0mcore.conformation.Conformation: \u001b[0mConnecting residues: 112 ( ->3)-beta-D-Glcp:branch_lower_terminus:->4)-branch:->6)-branch:2-AcNH ) and 114 ( ->3)-beta-D-Glcp:non-reducing_end:branch_lower_terminus:2-AcNH ) at atoms  O4  and  C1 \n",
      "\u001b[0mcore.conformation.Conformation: \u001b[0m with mutual distances: 0.141348 and 1.43593\n",
      "\u001b[0mcore.conformation.Conformation: \u001b[0mConnecting residues: 112 ( ->3)-beta-D-Glcp:branch_lower_terminus:->4)-branch:->6)-branch:2-AcNH ) and 115 ( ->4)-alpha-L-Rhap:non-reducing_end:branch_lower_terminus ) at atoms  O6  and  C1 \n",
      "\u001b[0mcore.conformation.Conformation: \u001b[0m with mutual distances: 3.47869 and 1.43761\n",
      "\u001b[0mcore.conformation.Conformation: \u001b[0mFound disulfide between residues 31 61\n",
      "\u001b[0mcore.conformation.Conformation: \u001b[0mcurrent variant for 31 CYS\n",
      "\u001b[0mcore.conformation.Conformation: \u001b[0mcurrent variant for 61 CYS\n",
      "\u001b[0mcore.conformation.Conformation: \u001b[0mcurrent variant for 31 CYD\n",
      "\u001b[0mcore.conformation.Conformation: \u001b[0mcurrent variant for 61 CYD\n",
      "9 [6467.723336194589, 6468.33031516632, 6470.8920318722085, 6473.582864157651, 6469.2914253217905, 6475.951888757101, 6470.8920318722085, 6467.08511195074, 6472.58825143756]\n",
      "\u001b[0mcore.conformation.Conformation: \u001b[0mConnecting residues: 111 ( SER:CtermProteinFull:O-conjugated ) and 112 ( ->3)-beta-D-Glcp:branch_lower_terminus:->4)-branch:->6)-branch:2-AcNH ) at atoms  OG  and  C1 \n",
      "\u001b[0mcore.conformation.Conformation: \u001b[0m with mutual distances: 0.410739 and 2.32465\n",
      "\u001b[0mcore.conformation.Conformation: \u001b[0mConnecting residues: 112 ( ->3)-beta-D-Glcp:branch_lower_terminus:->4)-branch:->6)-branch:2-AcNH ) and 114 ( ->3)-beta-D-Glcp:non-reducing_end:branch_lower_terminus:2-AcNH ) at atoms  O4  and  C1 \n",
      "\u001b[0mcore.conformation.Conformation: \u001b[0m with mutual distances: 0.140816 and 1.4366\n",
      "\u001b[0mcore.conformation.Conformation: \u001b[0mConnecting residues: 112 ( ->3)-beta-D-Glcp:branch_lower_terminus:->4)-branch:->6)-branch:2-AcNH ) and 115 ( ->4)-alpha-L-Rhap:non-reducing_end:branch_lower_terminus ) at atoms  O6  and  C1 \n",
      "\u001b[0mcore.conformation.Conformation: \u001b[0m with mutual distances: 3.47858 and 1.43681\n",
      "\u001b[0mcore.conformation.Conformation: \u001b[0mFound disulfide between residues 31 61\n",
      "\u001b[0mcore.conformation.Conformation: \u001b[0mcurrent variant for 31 CYS\n",
      "\u001b[0mcore.conformation.Conformation: \u001b[0mcurrent variant for 61 CYS\n",
      "\u001b[0mcore.conformation.Conformation: \u001b[0mcurrent variant for 31 CYD\n",
      "\u001b[0mcore.conformation.Conformation: \u001b[0mcurrent variant for 61 CYD\n",
      "10 [6467.723336194589, 6468.33031516632, 6470.8920318722085, 6473.582864157651, 6469.2914253217905, 6475.951888757101, 6470.8920318722085, 6467.08511195074, 6472.58825143756, 6461.839024556153]\n"
     ]
    }
   ],
   "source": [
    "import glob\n",
    "path = '/Users/XT/ResearchApps/Output/Results/0310_11/M2_TOP10/A_tot/'\n",
    "path_del_sugar='/Users/XT/ResearchApps/Output/Results/0310_11/M2_TOP10/A_delsugar/'\n",
    "path_del_aa='/Users/XT/ResearchApps/Output/Results/0310_11/M2_TOP10/A_sugar/'\n",
    "filenames = glob.glob(path + '*.pdb')\n",
    "filenames_del_sugar = glob.glob(path_del_sugar + '*.pdb')\n",
    "filenames_del_aa = glob.glob(path_del_aa + '*.pdb')\n",
    "f=open(path+'ref_contacting_calculation.txt','w')\n",
    "area=[]\n",
    "area_del_sugar=[]\n",
    "area_del_aa=[]\n",
    "for i, filename in enumerate(filenames_del_sugar):\n",
    "    pose=pose_from_file(filename)\n",
    "    area_del_sugar.append(sasa.calculate(pose))\n",
    "for i, filename in enumerate(filenames_del_aa):\n",
    "    pose=pose_from_file(filename)\n",
    "    area_del_aa.append(sasa.calculate(pose))\n",
    "for i, filename in enumerate(filenames):\n",
    "    pose=pose_from_file(filename)\n",
    "    area.append(sasa.calculate(pose))\n",
    "    print i+1, area\n",
    "    f.write(str(i+1)+'\\t'+filename.split('_')[4]+'\\t'+str(area[i])+'\\t'+str(area_del_sugar[i])+'\\t'+str(area_del_aa[i])+'\\t'+str((area_del_sugar[i]+area_del_aa[i]-area[i])/2)+'\\n')\n",
    "f.close()\n",
    "        "
   ]
  },
  {
   "cell_type": "code",
   "execution_count": 68,
   "metadata": {
    "collapsed": false
   },
   "outputs": [
    {
     "name": "stdout",
     "output_type": "stream",
     "text": [
      "\u001b[0mcore.scoring.ScoreFunctionFactory: \u001b[0mSCOREFUNCTION: \u001b[32mtalaris2013\u001b[0m\n",
      "\u001b[0mcore.scoring.ScoreFunctionFactory: \u001b[0mThe -include_sugars flag was used with no sugar_bb weight set in the weights file.  Setting sugar_bb weight to 1.0 by default.\n"
     ]
    }
   ],
   "source": [
    "scorefxn=get_fa_scorefxn()\n",
    "scorefxn.set_weight(fa_intra_rep,0.440)"
   ]
  },
  {
   "cell_type": "code",
   "execution_count": null,
   "metadata": {
    "collapsed": true
   },
   "outputs": [],
   "source": [
    "l=[]\n",
    "for i, filename in enumerate(filenames):\n",
    "    pose=pose_from_file(filename)\n",
    "    l.append(scorefxn(pose))"
   ]
  }
 ],
 "metadata": {
  "kernelspec": {
   "display_name": "Python 2",
   "language": "python",
   "name": "python2"
  },
  "language_info": {
   "codemirror_mode": {
    "name": "ipython",
    "version": 2
   },
   "file_extension": ".py",
   "mimetype": "text/x-python",
   "name": "python",
   "nbconvert_exporter": "python",
   "pygments_lexer": "ipython2",
   "version": "2.7.10"
  }
 },
 "nbformat": 4,
 "nbformat_minor": 0
}
