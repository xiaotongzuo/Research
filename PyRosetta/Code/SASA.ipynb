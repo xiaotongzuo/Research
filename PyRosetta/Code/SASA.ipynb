{
 "cells": [
  {
   "cell_type": "code",
   "execution_count": 1,
   "metadata": {
    "collapsed": true
   },
   "outputs": [
    {
     "name": "stdout",
     "output_type": "stream",
     "text": [
      "\u001b[0mcore.init: \u001b[0mRosetta version  from \n",
      "\u001b[0mcore.init: \u001b[0mcommand: PyRosetta -ex1 -ex2aro -database /Users/XT/ResearchApps/PyRosetta_1230/database\n",
      "\u001b[0mcore.init: \u001b[0m'RNG device' seed mode, using '/dev/urandom', seed=-1834404121 seed_offset=0 real_seed=-1834404121\n",
      "\u001b[0mcore.init.random: \u001b[0mRandomGenerator:init: Normal mode, seed=-1834404121 RG_type=mt19937\n",
      "\u001b[0mcore.init: \u001b[0mRosetta version  from \n",
      "\u001b[0mcore.init: \u001b[0mcommand: PyRosetta -ex1 -ex2aro -include_sugars -override_rsd_type_limit -read_pdb_link_records -write_pdb_link_records -database /Users/XT/ResearchApps/PyRosetta_1230/database\n",
      "\u001b[0mcore.init: \u001b[0m'RNG device' seed mode, using '/dev/urandom', seed=-515119046 seed_offset=0 real_seed=-515119046\n",
      "\u001b[0mcore.init.random: \u001b[0mRandomGenerator:init: Normal mode, seed=-515119046 RG_type=mt19937\n"
     ]
    }
   ],
   "source": [
    "from rosetta import *\n",
    "rosetta.init(notebook=True)\n",
    "init(extra_options='-include_sugars -override_rsd_type_limit -read_pdb_link_records -write_pdb_link_records') "
   ]
  },
  {
   "cell_type": "code",
   "execution_count": 19,
   "metadata": {
    "collapsed": false
   },
   "outputs": [],
   "source": [
    "import rosetta.core.scoring.sasa"
   ]
  },
  {
   "cell_type": "code",
   "execution_count": 15,
   "metadata": {
    "collapsed": true
   },
   "outputs": [
    {
     "name": "stdout",
     "output_type": "stream",
     "text": [
      "\u001b[0mcore.chemical.ResidueTypeSet: \u001b[0mFinished initializing fa_standard residue type set.  Created 410 residue types\n",
      "\u001b[0mcore.chemical.ResidueTypeSet: \u001b[0mTotal time to initialize 0.581962 seconds.\n",
      "\u001b[0mcore.conformation.Conformation: \u001b[0mConnecting residues: 111 ( SER:CtermProteinFull:O-conjugated ) and 112 ( ->3)-beta-D-Glcp:branch_lower_terminus:->4)-branch:->6)-branch:2-AcNH ) at atoms  OG  and  C1 \n",
      "\u001b[0mcore.conformation.Conformation: \u001b[0m with mutual distances: 0.41124 and 2.32465\n",
      "\u001b[0mcore.conformation.Conformation: \u001b[0mConnecting residues: 112 ( ->3)-beta-D-Glcp:branch_lower_terminus:->4)-branch:->6)-branch:2-AcNH ) and 114 ( ->3)-beta-D-Glcp:non-reducing_end:branch_lower_terminus:2-AcNH ) at atoms  O4  and  C1 \n",
      "\u001b[0mcore.conformation.Conformation: \u001b[0m with mutual distances: 0.141563 and 1.43592\n",
      "\u001b[0mcore.conformation.Conformation: \u001b[0mConnecting residues: 112 ( ->3)-beta-D-Glcp:branch_lower_terminus:->4)-branch:->6)-branch:2-AcNH ) and 115 ( ->4)-alpha-L-Rhap:non-reducing_end:branch_lower_terminus ) at atoms  O6  and  C1 \n",
      "\u001b[0mcore.conformation.Conformation: \u001b[0m with mutual distances: 3.47856 and 1.43717\n",
      "\u001b[0mcore.conformation.Conformation: \u001b[0mConnecting residues: 226 ( SER:CtermProteinFull:O-conjugated ) and 227 ( ->3)-beta-D-Glcp:branch_lower_terminus:->4)-branch:->6)-branch:2-AcNH ) at atoms  OG  and  C1 \n",
      "\u001b[0mcore.conformation.Conformation: \u001b[0m with mutual distances: 0.410129 and 2.32393\n",
      "\u001b[0mcore.conformation.Conformation: \u001b[0mConnecting residues: 227 ( ->3)-beta-D-Glcp:branch_lower_terminus:->4)-branch:->6)-branch:2-AcNH ) and 229 ( ->3)-beta-D-Glcp:non-reducing_end:branch_lower_terminus:2-AcNH ) at atoms  O4  and  C1 \n",
      "\u001b[0mcore.conformation.Conformation: \u001b[0m with mutual distances: 0.142205 and 1.43648\n",
      "\u001b[0mcore.conformation.Conformation: \u001b[0mConnecting residues: 227 ( ->3)-beta-D-Glcp:branch_lower_terminus:->4)-branch:->6)-branch:2-AcNH ) and 230 ( ->4)-alpha-L-Rhap:non-reducing_end:branch_lower_terminus ) at atoms  O6  and  C1 \n",
      "\u001b[0mcore.conformation.Conformation: \u001b[0m with mutual distances: 2.57489 and 0.0998624\n",
      "\u001b[0mcore.conformation.Conformation: \u001b[0mFound disulfide between residues 31 61\n",
      "\u001b[0mcore.conformation.Conformation: \u001b[0mcurrent variant for 31 CYS\n",
      "\u001b[0mcore.conformation.Conformation: \u001b[0mcurrent variant for 61 CYS\n",
      "\u001b[0mcore.conformation.Conformation: \u001b[0mcurrent variant for 31 CYD\n",
      "\u001b[0mcore.conformation.Conformation: \u001b[0mcurrent variant for 61 CYD\n",
      "\u001b[0mcore.conformation.Conformation: \u001b[0mFound disulfide between residues 146 176\n",
      "\u001b[0mcore.conformation.Conformation: \u001b[0mcurrent variant for 146 CYS\n",
      "\u001b[0mcore.conformation.Conformation: \u001b[0mcurrent variant for 176 CYS\n",
      "\u001b[0mcore.conformation.Conformation: \u001b[0mcurrent variant for 146 CYD\n",
      "\u001b[0mcore.conformation.Conformation: \u001b[0mcurrent variant for 176 CYD\n"
     ]
    }
   ],
   "source": [
    "pose=pose_from_file(\"/Users/XT/Dropbox/M2dimer_repacking.pdb\")"
   ]
  },
  {
   "cell_type": "code",
   "execution_count": 20,
   "metadata": {
    "collapsed": false
   },
   "outputs": [],
   "source": [
    "sasa=scoring.sasa.SasaCalc"
   ]
  },
  {
   "cell_type": "code",
   "execution_count": 27,
   "metadata": {
    "collapsed": false
   },
   "outputs": [
    {
     "ename": "TypeError",
     "evalue": "unbound method Boost.Python.function object must be called with SasaCalc instance as first argument (got Pose instance instead)",
     "output_type": "error",
     "traceback": [
      "\u001b[0;31m---------------------------------------------------------------------------\u001b[0m",
      "\u001b[0;31mTypeError\u001b[0m                                 Traceback (most recent call last)",
      "\u001b[0;32m<ipython-input-27-7225413decb7>\u001b[0m in \u001b[0;36m<module>\u001b[0;34m()\u001b[0m\n\u001b[0;32m----> 1\u001b[0;31m \u001b[0msasa\u001b[0m\u001b[0;34m.\u001b[0m\u001b[0mcalculate\u001b[0m\u001b[0;34m(\u001b[0m\u001b[0mpose\u001b[0m\u001b[0;34m,\u001b[0m\u001b[0mpose\u001b[0m\u001b[0;34m)\u001b[0m\u001b[0;34m\u001b[0m\u001b[0m\n\u001b[0m",
      "\u001b[0;31mTypeError\u001b[0m: unbound method Boost.Python.function object must be called with SasaCalc instance as first argument (got Pose instance instead)"
     ]
    }
   ],
   "source": [
    "sasa.calculate(pose)"
   ]
  },
  {
   "cell_type": "code",
   "execution_count": null,
   "metadata": {
    "collapsed": true
   },
   "outputs": [],
   "source": []
  },
  {
   "cell_type": "code",
   "execution_count": null,
   "metadata": {
    "collapsed": true
   },
   "outputs": [],
   "source": []
  }
 ],
 "metadata": {
  "kernelspec": {
   "display_name": "Python 2",
   "language": "python",
   "name": "python2"
  },
  "language_info": {
   "codemirror_mode": {
    "name": "ipython",
    "version": 2
   },
   "file_extension": ".py",
   "mimetype": "text/x-python",
   "name": "python",
   "nbconvert_exporter": "python",
   "pygments_lexer": "ipython2",
   "version": "2.7.10"
  }
 },
 "nbformat": 4,
 "nbformat_minor": 0
}
