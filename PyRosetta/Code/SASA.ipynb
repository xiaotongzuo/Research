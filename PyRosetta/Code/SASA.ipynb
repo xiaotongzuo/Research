{
 "cells": [
  {
   "cell_type": "code",
   "execution_count": 1,
   "metadata": {
    "collapsed": false
   },
   "outputs": [
    {
     "name": "stdout",
     "output_type": "stream",
     "text": [
      "\u001b[0mcore.init: \u001b[0mRosetta version  from \n",
      "\u001b[0mcore.init: \u001b[0mcommand: PyRosetta -ex1 -ex2aro -include_sugars -override_rsd_type_limit -read_pdb_link_records -write_pdb_link_records -database /Users/XT/ResearchApps/PyRosetta_1230/database\n",
      "\u001b[0mcore.init: \u001b[0m'RNG device' seed mode, using '/dev/urandom', seed=-314534313 seed_offset=0 real_seed=-314534313\n",
      "\u001b[0mcore.init.random: \u001b[0mRandomGenerator:init: Normal mode, seed=-314534313 RG_type=mt19937\n"
     ]
    }
   ],
   "source": [
    "from rosetta import *\n",
    "rosetta.init(notebook=False)\n",
    "init(extra_options='-include_sugars -override_rsd_type_limit -read_pdb_link_records -write_pdb_link_records') "
   ]
  },
  {
   "cell_type": "code",
   "execution_count": 3,
   "metadata": {
    "collapsed": false
   },
   "outputs": [
    {
     "name": "stdout",
     "output_type": "stream",
     "text": [
      "\u001b[0mcore.conformation.Conformation: \u001b[0mConnecting residues: 123 ( SER:CtermProteinFull:O-conjugated ) and 124 ( ->3)-beta-D-Glcp:branch_lower_terminus:2-AcNH ) at atoms  OG  and  C1 \n",
      "\u001b[0mcore.conformation.Conformation: \u001b[0m with mutual distances: 0.317025 and 0.210265\n",
      "\u001b[0mcore.conformation.Conformation: \u001b[0mFound disulfide between residues 58 75\n",
      "\u001b[0mcore.conformation.Conformation: \u001b[0mcurrent variant for 58 CYS\n",
      "\u001b[0mcore.conformation.Conformation: \u001b[0mcurrent variant for 75 CYS\n",
      "\u001b[0mcore.conformation.Conformation: \u001b[0mcurrent variant for 58 CYD\n",
      "\u001b[0mcore.conformation.Conformation: \u001b[0mcurrent variant for 75 CYD\n",
      "\u001b[0mcore.conformation.Conformation: \u001b[0mFound disulfide between residues 107 120\n",
      "\u001b[0mcore.conformation.Conformation: \u001b[0mcurrent variant for 107 CYS\n",
      "\u001b[0mcore.conformation.Conformation: \u001b[0mcurrent variant for 120 CYS\n",
      "\u001b[0mcore.conformation.Conformation: \u001b[0mcurrent variant for 107 CYD\n",
      "\u001b[0mcore.conformation.Conformation: \u001b[0mcurrent variant for 120 CYD\n",
      "\u001b[0mcore.conformation.Conformation: \u001b[0mFound disulfide between residues 58 75\n",
      "\u001b[0mcore.conformation.Conformation: \u001b[0mcurrent variant for 58 CYS\n",
      "\u001b[0mcore.conformation.Conformation: \u001b[0mcurrent variant for 75 CYS\n",
      "\u001b[0mcore.conformation.Conformation: \u001b[0mcurrent variant for 58 CYD\n",
      "\u001b[0mcore.conformation.Conformation: \u001b[0mcurrent variant for 75 CYD\n",
      "\u001b[0mcore.conformation.Conformation: \u001b[0mFound disulfide between residues 107 120\n",
      "\u001b[0mcore.conformation.Conformation: \u001b[0mcurrent variant for 107 CYS\n",
      "\u001b[0mcore.conformation.Conformation: \u001b[0mcurrent variant for 120 CYS\n",
      "\u001b[0mcore.conformation.Conformation: \u001b[0mcurrent variant for 107 CYD\n",
      "\u001b[0mcore.conformation.Conformation: \u001b[0mcurrent variant for 120 CYD\n"
     ]
    }
   ],
   "source": [
    "pose=pose_from_file(\"/Users/XT/Dropbox/Project/pilus_monomer_repacking_delH.pdb\")\n",
    "pose_without_sugar=pose_from_file(\"/Users/XT/Dropbox/pilus_monomer_repacking_delsugar.pdb\")"
   ]
  },
  {
   "cell_type": "code",
   "execution_count": 7,
   "metadata": {
    "collapsed": false
   },
   "outputs": [],
   "source": [
    "import rosetta.core.scoring.sasa"
   ]
  },
  {
   "cell_type": "code",
   "execution_count": 6,
   "metadata": {
    "collapsed": false
   },
   "outputs": [
    {
     "ename": "AttributeError",
     "evalue": "'module' object has no attribute 'scoring'",
     "output_type": "error",
     "traceback": [
      "\u001b[0;31m---------------------------------------------------------------------------\u001b[0m",
      "\u001b[0;31mAttributeError\u001b[0m                            Traceback (most recent call last)",
      "\u001b[0;32m<ipython-input-6-ae967c21f98c>\u001b[0m in \u001b[0;36m<module>\u001b[0;34m()\u001b[0m\n\u001b[0;32m----> 1\u001b[0;31m \u001b[0msasa\u001b[0m\u001b[0;34m=\u001b[0m\u001b[0mrosetta\u001b[0m\u001b[0;34m.\u001b[0m\u001b[0mscoring\u001b[0m\u001b[0;34m.\u001b[0m\u001b[0msasa\u001b[0m\u001b[0;34m.\u001b[0m\u001b[0mSasaCalc\u001b[0m\u001b[0;34m(\u001b[0m\u001b[0;34m)\u001b[0m\u001b[0;34m\u001b[0m\u001b[0m\n\u001b[0m",
      "\u001b[0;31mAttributeError\u001b[0m: 'module' object has no attribute 'scoring'"
     ]
    }
   ],
   "source": [
    "sasa=scoring.sasa.SasaCalc()"
   ]
  },
  {
   "cell_type": "code",
   "execution_count": null,
   "metadata": {
    "collapsed": true
   },
   "outputs": [],
   "source": []
  },
  {
   "cell_type": "code",
   "execution_count": 66,
   "metadata": {
    "collapsed": false
   },
   "outputs": [
    {
     "ename": "ArgumentError",
     "evalue": "Python argument types in\n    SasaCalc.get_residue_sasa(SasaCalc, Pose, int)\ndid not match C++ signature:\n    get_residue_sasa(core::scoring::sasa::SasaCalc {lvalue})",
     "output_type": "error",
     "traceback": [
      "\u001b[0;31m---------------------------------------------------------------------------\u001b[0m",
      "\u001b[0;31mArgumentError\u001b[0m                             Traceback (most recent call last)",
      "\u001b[0;32m<ipython-input-66-1ecd9039f09e>\u001b[0m in \u001b[0;36m<module>\u001b[0;34m()\u001b[0m\n\u001b[0;32m----> 1\u001b[0;31m \u001b[0msasa\u001b[0m\u001b[0;34m.\u001b[0m\u001b[0mget_residue_sasa\u001b[0m\u001b[0;34m(\u001b[0m\u001b[0mpose\u001b[0m\u001b[0;34m,\u001b[0m \u001b[0;36m132\u001b[0m\u001b[0;34m)\u001b[0m\u001b[0;34m\u001b[0m\u001b[0m\n\u001b[0m\u001b[1;32m      2\u001b[0m \u001b[0;34m\u001b[0m\u001b[0m\n",
      "\u001b[0;31mArgumentError\u001b[0m: Python argument types in\n    SasaCalc.get_residue_sasa(SasaCalc, Pose, int)\ndid not match C++ signature:\n    get_residue_sasa(core::scoring::sasa::SasaCalc {lvalue})"
     ]
    }
   ],
   "source": [
    "sasa.get_residue_sasa(pose, 132)\n",
    "\n"
   ]
  },
  {
   "cell_type": "code",
   "execution_count": 67,
   "metadata": {
    "collapsed": false
   },
   "outputs": [
    {
     "data": {
      "text/plain": [
       "8186.929523871563"
      ]
     },
     "execution_count": 67,
     "metadata": {},
     "output_type": "execute_result"
    }
   ],
   "source": [
    "sasa.calculate(pose)"
   ]
  },
  {
   "cell_type": "code",
   "execution_count": 35,
   "metadata": {
    "collapsed": false
   },
   "outputs": [
    {
     "data": {
      "text/plain": [
       "7242.263061641571"
      ]
     },
     "execution_count": 35,
     "metadata": {},
     "output_type": "execute_result"
    }
   ],
   "source": [
    "sasa.calculate(pose_without_sugar)"
   ]
  },
  {
   "cell_type": "code",
   "execution_count": 49,
   "metadata": {
    "collapsed": false
   },
   "outputs": [
    {
     "name": "stdout",
     "output_type": "stream",
     "text": [
      "['/Users/XT/Dropbox/Research/PyRosetta/Output/ACICU', 'top10', 'decoys/0120output', '3763', 'lowest.pdb']\n"
     ]
    }
   ],
   "source": [
    "print filename.split('_')"
   ]
  },
  {
   "cell_type": "code",
   "execution_count": 52,
   "metadata": {
    "collapsed": false
   },
   "outputs": [
    {
     "name": "stdout",
     "output_type": "stream",
     "text": [
      "\u001b[0mcore.conformation.Conformation: \u001b[0mFound disulfide between residues 58 75\n",
      "\u001b[0mcore.conformation.Conformation: \u001b[0mcurrent variant for 58 CYS\n",
      "\u001b[0mcore.conformation.Conformation: \u001b[0mcurrent variant for 75 CYS\n",
      "\u001b[0mcore.conformation.Conformation: \u001b[0mcurrent variant for 58 CYD\n",
      "\u001b[0mcore.conformation.Conformation: \u001b[0mcurrent variant for 75 CYD\n",
      "\u001b[0mcore.conformation.Conformation: \u001b[0mFound disulfide between residues 107 120\n",
      "\u001b[0mcore.conformation.Conformation: \u001b[0mcurrent variant for 107 CYS\n",
      "\u001b[0mcore.conformation.Conformation: \u001b[0mcurrent variant for 120 CYS\n",
      "\u001b[0mcore.conformation.Conformation: \u001b[0mcurrent variant for 107 CYD\n",
      "\u001b[0mcore.conformation.Conformation: \u001b[0mcurrent variant for 120 CYD\n",
      "\u001b[0mcore.conformation.Conformation: \u001b[0mFound disulfide between residues 58 75\n",
      "\u001b[0mcore.conformation.Conformation: \u001b[0mcurrent variant for 58 CYS\n",
      "\u001b[0mcore.conformation.Conformation: \u001b[0mcurrent variant for 75 CYS\n",
      "\u001b[0mcore.conformation.Conformation: \u001b[0mcurrent variant for 58 CYD\n",
      "\u001b[0mcore.conformation.Conformation: \u001b[0mcurrent variant for 75 CYD\n",
      "\u001b[0mcore.conformation.Conformation: \u001b[0mFound disulfide between residues 107 120\n",
      "\u001b[0mcore.conformation.Conformation: \u001b[0mcurrent variant for 107 CYS\n",
      "\u001b[0mcore.conformation.Conformation: \u001b[0mcurrent variant for 120 CYS\n",
      "\u001b[0mcore.conformation.Conformation: \u001b[0mcurrent variant for 107 CYD\n",
      "\u001b[0mcore.conformation.Conformation: \u001b[0mcurrent variant for 120 CYD\n",
      "\u001b[0mcore.conformation.Conformation: \u001b[0mFound disulfide between residues 58 75\n",
      "\u001b[0mcore.conformation.Conformation: \u001b[0mcurrent variant for 58 CYS\n",
      "\u001b[0mcore.conformation.Conformation: \u001b[0mcurrent variant for 75 CYS\n",
      "\u001b[0mcore.conformation.Conformation: \u001b[0mcurrent variant for 58 CYD\n",
      "\u001b[0mcore.conformation.Conformation: \u001b[0mcurrent variant for 75 CYD\n",
      "\u001b[0mcore.conformation.Conformation: \u001b[0mFound disulfide between residues 107 120\n",
      "\u001b[0mcore.conformation.Conformation: \u001b[0mcurrent variant for 107 CYS\n",
      "\u001b[0mcore.conformation.Conformation: \u001b[0mcurrent variant for 120 CYS\n",
      "\u001b[0mcore.conformation.Conformation: \u001b[0mcurrent variant for 107 CYD\n",
      "\u001b[0mcore.conformation.Conformation: \u001b[0mcurrent variant for 120 CYD\n",
      "\u001b[0mcore.conformation.Conformation: \u001b[0mFound disulfide between residues 58 75\n",
      "\u001b[0mcore.conformation.Conformation: \u001b[0mcurrent variant for 58 CYS\n",
      "\u001b[0mcore.conformation.Conformation: \u001b[0mcurrent variant for 75 CYS\n",
      "\u001b[0mcore.conformation.Conformation: \u001b[0mcurrent variant for 58 CYD\n",
      "\u001b[0mcore.conformation.Conformation: \u001b[0mcurrent variant for 75 CYD\n",
      "\u001b[0mcore.conformation.Conformation: \u001b[0mFound disulfide between residues 107 120\n",
      "\u001b[0mcore.conformation.Conformation: \u001b[0mcurrent variant for 107 CYS\n",
      "\u001b[0mcore.conformation.Conformation: \u001b[0mcurrent variant for 120 CYS\n",
      "\u001b[0mcore.conformation.Conformation: \u001b[0mcurrent variant for 107 CYD\n",
      "\u001b[0mcore.conformation.Conformation: \u001b[0mcurrent variant for 120 CYD\n",
      "\u001b[0mcore.conformation.Conformation: \u001b[0mFound disulfide between residues 58 75\n",
      "\u001b[0mcore.conformation.Conformation: \u001b[0mcurrent variant for 58 CYS\n",
      "\u001b[0mcore.conformation.Conformation: \u001b[0mcurrent variant for 75 CYS\n",
      "\u001b[0mcore.conformation.Conformation: \u001b[0mcurrent variant for 58 CYD\n",
      "\u001b[0mcore.conformation.Conformation: \u001b[0mcurrent variant for 75 CYD\n",
      "\u001b[0mcore.conformation.Conformation: \u001b[0mFound disulfide between residues 107 120\n",
      "\u001b[0mcore.conformation.Conformation: \u001b[0mcurrent variant for 107 CYS\n",
      "\u001b[0mcore.conformation.Conformation: \u001b[0mcurrent variant for 120 CYS\n",
      "\u001b[0mcore.conformation.Conformation: \u001b[0mcurrent variant for 107 CYD\n",
      "\u001b[0mcore.conformation.Conformation: \u001b[0mcurrent variant for 120 CYD\n",
      "\u001b[0mcore.conformation.Conformation: \u001b[0mFound disulfide between residues 58 75\n",
      "\u001b[0mcore.conformation.Conformation: \u001b[0mcurrent variant for 58 CYS\n",
      "\u001b[0mcore.conformation.Conformation: \u001b[0mcurrent variant for 75 CYS\n",
      "\u001b[0mcore.conformation.Conformation: \u001b[0mcurrent variant for 58 CYD\n",
      "\u001b[0mcore.conformation.Conformation: \u001b[0mcurrent variant for 75 CYD\n",
      "\u001b[0mcore.conformation.Conformation: \u001b[0mFound disulfide between residues 107 120\n",
      "\u001b[0mcore.conformation.Conformation: \u001b[0mcurrent variant for 107 CYS\n",
      "\u001b[0mcore.conformation.Conformation: \u001b[0mcurrent variant for 120 CYS\n",
      "\u001b[0mcore.conformation.Conformation: \u001b[0mcurrent variant for 107 CYD\n",
      "\u001b[0mcore.conformation.Conformation: \u001b[0mcurrent variant for 120 CYD\n",
      "\u001b[0mcore.conformation.Conformation: \u001b[0mFound disulfide between residues 58 75\n",
      "\u001b[0mcore.conformation.Conformation: \u001b[0mcurrent variant for 58 CYS\n",
      "\u001b[0mcore.conformation.Conformation: \u001b[0mcurrent variant for 75 CYS\n",
      "\u001b[0mcore.conformation.Conformation: \u001b[0mcurrent variant for 58 CYD\n",
      "\u001b[0mcore.conformation.Conformation: \u001b[0mcurrent variant for 75 CYD\n",
      "\u001b[0mcore.conformation.Conformation: \u001b[0mFound disulfide between residues 107 120\n",
      "\u001b[0mcore.conformation.Conformation: \u001b[0mcurrent variant for 107 CYS\n",
      "\u001b[0mcore.conformation.Conformation: \u001b[0mcurrent variant for 120 CYS\n",
      "\u001b[0mcore.conformation.Conformation: \u001b[0mcurrent variant for 107 CYD\n",
      "\u001b[0mcore.conformation.Conformation: \u001b[0mcurrent variant for 120 CYD\n",
      "\u001b[0mcore.conformation.Conformation: \u001b[0mFound disulfide between residues 58 75\n",
      "\u001b[0mcore.conformation.Conformation: \u001b[0mcurrent variant for 58 CYS\n",
      "\u001b[0mcore.conformation.Conformation: \u001b[0mcurrent variant for 75 CYS\n",
      "\u001b[0mcore.conformation.Conformation: \u001b[0mcurrent variant for 58 CYD\n",
      "\u001b[0mcore.conformation.Conformation: \u001b[0mcurrent variant for 75 CYD\n",
      "\u001b[0mcore.conformation.Conformation: \u001b[0mFound disulfide between residues 107 120\n",
      "\u001b[0mcore.conformation.Conformation: \u001b[0mcurrent variant for 107 CYS\n",
      "\u001b[0mcore.conformation.Conformation: \u001b[0mcurrent variant for 120 CYS\n",
      "\u001b[0mcore.conformation.Conformation: \u001b[0mcurrent variant for 107 CYD\n",
      "\u001b[0mcore.conformation.Conformation: \u001b[0mcurrent variant for 120 CYD\n",
      "\u001b[0mcore.conformation.Conformation: \u001b[0mFound disulfide between residues 58 75\n",
      "\u001b[0mcore.conformation.Conformation: \u001b[0mcurrent variant for 58 CYS\n",
      "\u001b[0mcore.conformation.Conformation: \u001b[0mcurrent variant for 75 CYS\n",
      "\u001b[0mcore.conformation.Conformation: \u001b[0mcurrent variant for 58 CYD\n",
      "\u001b[0mcore.conformation.Conformation: \u001b[0mcurrent variant for 75 CYD\n",
      "\u001b[0mcore.conformation.Conformation: \u001b[0mFound disulfide between residues 107 120\n",
      "\u001b[0mcore.conformation.Conformation: \u001b[0mcurrent variant for 107 CYS\n",
      "\u001b[0mcore.conformation.Conformation: \u001b[0mcurrent variant for 120 CYS\n",
      "\u001b[0mcore.conformation.Conformation: \u001b[0mcurrent variant for 107 CYD\n",
      "\u001b[0mcore.conformation.Conformation: \u001b[0mcurrent variant for 120 CYD\n",
      "\u001b[0mcore.conformation.Conformation: \u001b[0mFound disulfide between residues 58 75\n",
      "\u001b[0mcore.conformation.Conformation: \u001b[0mcurrent variant for 58 CYS\n",
      "\u001b[0mcore.conformation.Conformation: \u001b[0mcurrent variant for 75 CYS\n",
      "\u001b[0mcore.conformation.Conformation: \u001b[0mcurrent variant for 58 CYD\n",
      "\u001b[0mcore.conformation.Conformation: \u001b[0mcurrent variant for 75 CYD\n",
      "\u001b[0mcore.conformation.Conformation: \u001b[0mFound disulfide between residues 107 120\n",
      "\u001b[0mcore.conformation.Conformation: \u001b[0mcurrent variant for 107 CYS\n",
      "\u001b[0mcore.conformation.Conformation: \u001b[0mcurrent variant for 120 CYS\n",
      "\u001b[0mcore.conformation.Conformation: \u001b[0mcurrent variant for 107 CYD\n",
      "\u001b[0mcore.conformation.Conformation: \u001b[0mcurrent variant for 120 CYD\n",
      "\u001b[0mcore.conformation.Conformation: \u001b[0mConnecting residues: 123 ( SER:CtermProteinFull:O-conjugated ) and 124 ( ->3)-beta-D-Glcp:branch_lower_terminus:2-AcNH ) at atoms  OG  and  C1 \n",
      "\u001b[0mcore.conformation.Conformation: \u001b[0m with mutual distances: 0.454809 and 2.56873\n",
      "\u001b[0mcore.conformation.Conformation: \u001b[0mFound disulfide between residues 58 75\n",
      "\u001b[0mcore.conformation.Conformation: \u001b[0mcurrent variant for 58 CYS\n",
      "\u001b[0mcore.conformation.Conformation: \u001b[0mcurrent variant for 75 CYS\n",
      "\u001b[0mcore.conformation.Conformation: \u001b[0mcurrent variant for 58 CYD\n",
      "\u001b[0mcore.conformation.Conformation: \u001b[0mcurrent variant for 75 CYD\n",
      "\u001b[0mcore.conformation.Conformation: \u001b[0mFound disulfide between residues 107 120\n",
      "\u001b[0mcore.conformation.Conformation: \u001b[0mcurrent variant for 107 CYS\n",
      "\u001b[0mcore.conformation.Conformation: \u001b[0mcurrent variant for 120 CYS\n",
      "\u001b[0mcore.conformation.Conformation: \u001b[0mcurrent variant for 107 CYD\n",
      "\u001b[0mcore.conformation.Conformation: \u001b[0mcurrent variant for 120 CYD\n",
      "1 [8111.3187888956845]\n",
      "\u001b[0mcore.conformation.Conformation: \u001b[0mConnecting residues: 123 ( SER:CtermProteinFull:O-conjugated ) and 124 ( ->3)-beta-D-Glcp:branch_lower_terminus:2-AcNH ) at atoms  OG  and  C1 \n",
      "\u001b[0mcore.conformation.Conformation: \u001b[0m with mutual distances: 0.442208 and 0.946649\n",
      "\u001b[0mcore.conformation.Conformation: \u001b[0mFound disulfide between residues 58 75\n",
      "\u001b[0mcore.conformation.Conformation: \u001b[0mcurrent variant for 58 CYS\n",
      "\u001b[0mcore.conformation.Conformation: \u001b[0mcurrent variant for 75 CYS\n",
      "\u001b[0mcore.conformation.Conformation: \u001b[0mcurrent variant for 58 CYD\n",
      "\u001b[0mcore.conformation.Conformation: \u001b[0mcurrent variant for 75 CYD\n",
      "\u001b[0mcore.conformation.Conformation: \u001b[0mFound disulfide between residues 107 120\n",
      "\u001b[0mcore.conformation.Conformation: \u001b[0mcurrent variant for 107 CYS\n",
      "\u001b[0mcore.conformation.Conformation: \u001b[0mcurrent variant for 120 CYS\n",
      "\u001b[0mcore.conformation.Conformation: \u001b[0mcurrent variant for 107 CYD\n",
      "\u001b[0mcore.conformation.Conformation: \u001b[0mcurrent variant for 120 CYD\n",
      "2 [8111.3187888956845, 8132.938833929723]\n",
      "\u001b[0mcore.conformation.Conformation: \u001b[0mConnecting residues: 123 ( SER:CtermProteinFull:O-conjugated ) and 124 ( ->3)-beta-D-Glcp:branch_lower_terminus:2-AcNH ) at atoms  OG  and  C1 \n",
      "\u001b[0mcore.conformation.Conformation: \u001b[0m with mutual distances: 0.330563 and 0.743116\n",
      "\u001b[0mcore.conformation.Conformation: \u001b[0mFound disulfide between residues 58 75\n",
      "\u001b[0mcore.conformation.Conformation: \u001b[0mcurrent variant for 58 CYS\n",
      "\u001b[0mcore.conformation.Conformation: \u001b[0mcurrent variant for 75 CYS\n",
      "\u001b[0mcore.conformation.Conformation: \u001b[0mcurrent variant for 58 CYD\n",
      "\u001b[0mcore.conformation.Conformation: \u001b[0mcurrent variant for 75 CYD\n",
      "\u001b[0mcore.conformation.Conformation: \u001b[0mFound disulfide between residues 107 120\n",
      "\u001b[0mcore.conformation.Conformation: \u001b[0mcurrent variant for 107 CYS\n",
      "\u001b[0mcore.conformation.Conformation: \u001b[0mcurrent variant for 120 CYS\n",
      "\u001b[0mcore.conformation.Conformation: \u001b[0mcurrent variant for 107 CYD\n",
      "\u001b[0mcore.conformation.Conformation: \u001b[0mcurrent variant for 120 CYD\n",
      "3 [8111.3187888956845, 8132.938833929723, 8173.458646068624]\n",
      "\u001b[0mcore.conformation.Conformation: \u001b[0mConnecting residues: 123 ( SER:CtermProteinFull:O-conjugated ) and 124 ( ->3)-beta-D-Glcp:branch_lower_terminus:2-AcNH ) at atoms  OG  and  C1 \n",
      "\u001b[0mcore.conformation.Conformation: \u001b[0m with mutual distances: 0.419639 and 1.26397\n",
      "\u001b[0mcore.conformation.Conformation: \u001b[0mFound disulfide between residues 58 75\n",
      "\u001b[0mcore.conformation.Conformation: \u001b[0mcurrent variant for 58 CYS\n",
      "\u001b[0mcore.conformation.Conformation: \u001b[0mcurrent variant for 75 CYS\n",
      "\u001b[0mcore.conformation.Conformation: \u001b[0mcurrent variant for 58 CYD\n",
      "\u001b[0mcore.conformation.Conformation: \u001b[0mcurrent variant for 75 CYD\n",
      "\u001b[0mcore.conformation.Conformation: \u001b[0mFound disulfide between residues 107 120\n",
      "\u001b[0mcore.conformation.Conformation: \u001b[0mcurrent variant for 107 CYS\n",
      "\u001b[0mcore.conformation.Conformation: \u001b[0mcurrent variant for 120 CYS\n",
      "\u001b[0mcore.conformation.Conformation: \u001b[0mcurrent variant for 107 CYD\n",
      "\u001b[0mcore.conformation.Conformation: \u001b[0mcurrent variant for 120 CYD\n",
      "4 [8111.3187888956845, 8132.938833929723, 8173.458646068624, 8319.493168137877]\n",
      "\u001b[0mcore.conformation.Conformation: \u001b[0mConnecting residues: 123 ( SER:CtermProteinFull:O-conjugated ) and 124 ( ->3)-beta-D-Glcp:branch_lower_terminus:2-AcNH ) at atoms  OG  and  C1 \n",
      "\u001b[0mcore.conformation.Conformation: \u001b[0m with mutual distances: 0.420359 and 1.26073\n",
      "\u001b[0mcore.conformation.Conformation: \u001b[0mFound disulfide between residues 58 75\n",
      "\u001b[0mcore.conformation.Conformation: \u001b[0mcurrent variant for 58 CYS\n",
      "\u001b[0mcore.conformation.Conformation: \u001b[0mcurrent variant for 75 CYS\n",
      "\u001b[0mcore.conformation.Conformation: \u001b[0mcurrent variant for 58 CYD\n",
      "\u001b[0mcore.conformation.Conformation: \u001b[0mcurrent variant for 75 CYD\n",
      "\u001b[0mcore.conformation.Conformation: \u001b[0mFound disulfide between residues 107 120\n",
      "\u001b[0mcore.conformation.Conformation: \u001b[0mcurrent variant for 107 CYS\n",
      "\u001b[0mcore.conformation.Conformation: \u001b[0mcurrent variant for 120 CYS\n",
      "\u001b[0mcore.conformation.Conformation: \u001b[0mcurrent variant for 107 CYD\n",
      "\u001b[0mcore.conformation.Conformation: \u001b[0mcurrent variant for 120 CYD\n",
      "5 [8111.3187888956845, 8132.938833929723, 8173.458646068624, 8319.493168137877, 8285.126634510669]\n",
      "\u001b[0mcore.conformation.Conformation: \u001b[0mConnecting residues: 123 ( SER:CtermProteinFull:O-conjugated ) and 124 ( ->3)-beta-D-Glcp:branch_lower_terminus:2-AcNH ) at atoms  OG  and  C1 \n",
      "\u001b[0mcore.conformation.Conformation: \u001b[0m with mutual distances: 0.426314 and 1.21977\n",
      "\u001b[0mcore.conformation.Conformation: \u001b[0mFound disulfide between residues 58 75\n",
      "\u001b[0mcore.conformation.Conformation: \u001b[0mcurrent variant for 58 CYS\n",
      "\u001b[0mcore.conformation.Conformation: \u001b[0mcurrent variant for 75 CYS\n",
      "\u001b[0mcore.conformation.Conformation: \u001b[0mcurrent variant for 58 CYD\n",
      "\u001b[0mcore.conformation.Conformation: \u001b[0mcurrent variant for 75 CYD\n",
      "\u001b[0mcore.conformation.Conformation: \u001b[0mFound disulfide between residues 107 120\n",
      "\u001b[0mcore.conformation.Conformation: \u001b[0mcurrent variant for 107 CYS\n",
      "\u001b[0mcore.conformation.Conformation: \u001b[0mcurrent variant for 120 CYS\n",
      "\u001b[0mcore.conformation.Conformation: \u001b[0mcurrent variant for 107 CYD\n",
      "\u001b[0mcore.conformation.Conformation: \u001b[0mcurrent variant for 120 CYD\n",
      "6 [8111.3187888956845, 8132.938833929723, 8173.458646068624, 8319.493168137877, 8285.126634510669, 8310.389018796222]\n",
      "\u001b[0mcore.conformation.Conformation: \u001b[0mConnecting residues: 123 ( SER:CtermProteinFull:O-conjugated ) and 124 ( ->3)-beta-D-Glcp:branch_lower_terminus:2-AcNH ) at atoms  OG  and  C1 \n",
      "\u001b[0mcore.conformation.Conformation: \u001b[0m with mutual distances: 0.307783 and 2.0581\n",
      "\u001b[0mcore.conformation.Conformation: \u001b[0mFound disulfide between residues 58 75\n",
      "\u001b[0mcore.conformation.Conformation: \u001b[0mcurrent variant for 58 CYS\n",
      "\u001b[0mcore.conformation.Conformation: \u001b[0mcurrent variant for 75 CYS\n",
      "\u001b[0mcore.conformation.Conformation: \u001b[0mcurrent variant for 58 CYD\n",
      "\u001b[0mcore.conformation.Conformation: \u001b[0mcurrent variant for 75 CYD\n",
      "\u001b[0mcore.conformation.Conformation: \u001b[0mFound disulfide between residues 107 120\n",
      "\u001b[0mcore.conformation.Conformation: \u001b[0mcurrent variant for 107 CYS\n",
      "\u001b[0mcore.conformation.Conformation: \u001b[0mcurrent variant for 120 CYS\n",
      "\u001b[0mcore.conformation.Conformation: \u001b[0mcurrent variant for 107 CYD\n",
      "\u001b[0mcore.conformation.Conformation: \u001b[0mcurrent variant for 120 CYD\n",
      "7 [8111.3187888956845, 8132.938833929723, 8173.458646068624, 8319.493168137877, 8285.126634510669, 8310.389018796222, 8205.455115655854]\n",
      "\u001b[0mcore.conformation.Conformation: \u001b[0mConnecting residues: 123 ( SER:CtermProteinFull:O-conjugated ) and 124 ( ->3)-beta-D-Glcp:branch_lower_terminus:2-AcNH ) at atoms  OG  and  C1 \n",
      "\u001b[0mcore.conformation.Conformation: \u001b[0m with mutual distances: 0.353552 and 1.19838\n",
      "\u001b[0mcore.conformation.Conformation: \u001b[0mFound disulfide between residues 58 75\n",
      "\u001b[0mcore.conformation.Conformation: \u001b[0mcurrent variant for 58 CYS\n",
      "\u001b[0mcore.conformation.Conformation: \u001b[0mcurrent variant for 75 CYS\n",
      "\u001b[0mcore.conformation.Conformation: \u001b[0mcurrent variant for 58 CYD\n",
      "\u001b[0mcore.conformation.Conformation: \u001b[0mcurrent variant for 75 CYD\n",
      "\u001b[0mcore.conformation.Conformation: \u001b[0mFound disulfide between residues 107 120\n",
      "\u001b[0mcore.conformation.Conformation: \u001b[0mcurrent variant for 107 CYS\n",
      "\u001b[0mcore.conformation.Conformation: \u001b[0mcurrent variant for 120 CYS\n",
      "\u001b[0mcore.conformation.Conformation: \u001b[0mcurrent variant for 107 CYD\n",
      "\u001b[0mcore.conformation.Conformation: \u001b[0mcurrent variant for 120 CYD\n",
      "8 [8111.3187888956845, 8132.938833929723, 8173.458646068624, 8319.493168137877, 8285.126634510669, 8310.389018796222, 8205.455115655854, 8348.694915685563]\n",
      "\u001b[0mcore.conformation.Conformation: \u001b[0mConnecting residues: 123 ( SER:CtermProteinFull:O-conjugated ) and 124 ( ->3)-beta-D-Glcp:branch_lower_terminus:2-AcNH ) at atoms  OG  and  C1 \n",
      "\u001b[0mcore.conformation.Conformation: \u001b[0m with mutual distances: 0.310862 and 1.27448\n",
      "\u001b[0mcore.conformation.Conformation: \u001b[0mFound disulfide between residues 58 75\n",
      "\u001b[0mcore.conformation.Conformation: \u001b[0mcurrent variant for 58 CYS\n",
      "\u001b[0mcore.conformation.Conformation: \u001b[0mcurrent variant for 75 CYS\n",
      "\u001b[0mcore.conformation.Conformation: \u001b[0mcurrent variant for 58 CYD\n",
      "\u001b[0mcore.conformation.Conformation: \u001b[0mcurrent variant for 75 CYD\n",
      "\u001b[0mcore.conformation.Conformation: \u001b[0mFound disulfide between residues 107 120\n",
      "\u001b[0mcore.conformation.Conformation: \u001b[0mcurrent variant for 107 CYS\n",
      "\u001b[0mcore.conformation.Conformation: \u001b[0mcurrent variant for 120 CYS\n",
      "\u001b[0mcore.conformation.Conformation: \u001b[0mcurrent variant for 107 CYD\n",
      "\u001b[0mcore.conformation.Conformation: \u001b[0mcurrent variant for 120 CYD\n",
      "9 [8111.3187888956845, 8132.938833929723, 8173.458646068624, 8319.493168137877, 8285.126634510669, 8310.389018796222, 8205.455115655854, 8348.694915685563, 8320.098991313786]\n",
      "\u001b[0mcore.conformation.Conformation: \u001b[0mConnecting residues: 123 ( SER:CtermProteinFull:O-conjugated ) and 124 ( ->3)-beta-D-Glcp:branch_lower_terminus:2-AcNH ) at atoms  OG  and  C1 \n",
      "\u001b[0mcore.conformation.Conformation: \u001b[0m with mutual distances: 0.308505 and 1.07797\n",
      "\u001b[0mcore.conformation.Conformation: \u001b[0mFound disulfide between residues 58 75\n",
      "\u001b[0mcore.conformation.Conformation: \u001b[0mcurrent variant for 58 CYS\n",
      "\u001b[0mcore.conformation.Conformation: \u001b[0mcurrent variant for 75 CYS\n",
      "\u001b[0mcore.conformation.Conformation: \u001b[0mcurrent variant for 58 CYD\n",
      "\u001b[0mcore.conformation.Conformation: \u001b[0mcurrent variant for 75 CYD\n",
      "\u001b[0mcore.conformation.Conformation: \u001b[0mFound disulfide between residues 107 120\n",
      "\u001b[0mcore.conformation.Conformation: \u001b[0mcurrent variant for 107 CYS\n",
      "\u001b[0mcore.conformation.Conformation: \u001b[0mcurrent variant for 120 CYS\n",
      "\u001b[0mcore.conformation.Conformation: \u001b[0mcurrent variant for 107 CYD\n",
      "\u001b[0mcore.conformation.Conformation: \u001b[0mcurrent variant for 120 CYD\n",
      "10 [8111.3187888956845, 8132.938833929723, 8173.458646068624, 8319.493168137877, 8285.126634510669, 8310.389018796222, 8205.455115655854, 8348.694915685563, 8320.098991313786, 8296.537410991757]\n"
     ]
    }
   ],
   "source": [
    "import glob\n",
    "path = '/Users/XT/Dropbox/Research/PyRosetta/Output/ACICU_top10_decoys/'\n",
    "path_del_sugar='/Users/XT/Dropbox/Research/PyRosetta/Output/ACICU_top10_decoys/del_sugar/'\n",
    "filenames = glob.glob(path + '*.pdb')\n",
    "filenames_del_sugar = glob.glob(path_del_sugar + '*.pdb')\n",
    "f=open(path+'sasa.txt','w')\n",
    "area=[]\n",
    "area_del_sugar=[]\n",
    "for i, filename in enumerate(filenames_del_sugar):\n",
    "    pose=pose_from_file(filename)\n",
    "    area_del_sugar.append(sasa.calculate(pose))\n",
    "for i, filename in enumerate(filenames):\n",
    "    pose=pose_from_file(filename)\n",
    "    area.append(sasa.calculate(pose))\n",
    "    print i+1, area\n",
    "    f.write(str(i+1)+'\\t'+filename.split('_')[3]+'\\t'+str(area[i])+'\\t'+str(area_del_sugar[i])+'\\t'+str(area[i]-area_del_sugar[i])+'\\n')\n",
    "f.close()\n",
    "        "
   ]
  },
  {
   "cell_type": "code",
   "execution_count": 68,
   "metadata": {
    "collapsed": false
   },
   "outputs": [
    {
     "name": "stdout",
     "output_type": "stream",
     "text": [
      "\u001b[0mcore.scoring.ScoreFunctionFactory: \u001b[0mSCOREFUNCTION: \u001b[32mtalaris2013\u001b[0m\n",
      "\u001b[0mcore.scoring.ScoreFunctionFactory: \u001b[0mThe -include_sugars flag was used with no sugar_bb weight set in the weights file.  Setting sugar_bb weight to 1.0 by default.\n"
     ]
    }
   ],
   "source": [
    "scorefxn=get_fa_scorefxn()\n",
    "scorefxn.set_weight(fa_intra_rep,0.440)"
   ]
  },
  {
   "cell_type": "code",
   "execution_count": null,
   "metadata": {
    "collapsed": true
   },
   "outputs": [],
   "source": [
    "l=[]\n",
    "for i, filename in enumerate(filenames):\n",
    "    pose=pose_from_file(filename)\n",
    "    l.append(scorefxn(pose))"
   ]
  }
 ],
 "metadata": {
  "kernelspec": {
   "display_name": "Python 2",
   "language": "python",
   "name": "python2"
  },
  "language_info": {
   "codemirror_mode": {
    "name": "ipython",
    "version": 2
   },
   "file_extension": ".py",
   "mimetype": "text/x-python",
   "name": "python",
   "nbconvert_exporter": "python",
   "pygments_lexer": "ipython2",
   "version": "2.7.10"
  }
 },
 "nbformat": 4,
 "nbformat_minor": 0
}
