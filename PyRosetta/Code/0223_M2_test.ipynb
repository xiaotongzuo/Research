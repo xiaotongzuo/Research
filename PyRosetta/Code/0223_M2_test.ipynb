{
 "cells": [
  {
   "cell_type": "code",
   "execution_count": 1,
   "metadata": {
    "collapsed": true
   },
   "outputs": [],
   "source": [
    "import random\n",
    "from rosetta import *\n",
    "init(extra_options='-include_sugars -override_rsd_type_limit -read_pdb_link_records -write_pdb_link_records')\n",
    "\n"
   ]
  },
  {
   "cell_type": "code",
   "execution_count": 8,
   "metadata": {
    "collapsed": false,
    "scrolled": true
   },
   "outputs": [
    {
     "name": "stdout",
     "output_type": "stream",
     "text": [
      "\n",
      "-------------------------------\n",
      "  resnum     Type  TRUE/FALSE \n",
      "-------------------------------\n",
      " DEFAULT      BB     FALSE\n",
      " DEFAULT      SC     FALSE\n",
      " DEFAULT      NU     FALSE\n",
      " DEFAULT  BRANCH      TRUE\n",
      "     208      BB      TRUE\n",
      "              SC      TRUE\n",
      "     209      BB      TRUE\n",
      "              SC      TRUE\n",
      "     210      BB      TRUE\n",
      "              SC      TRUE\n",
      "     211      BB      TRUE\n",
      "              SC      TRUE\n",
      "     212      BB      TRUE\n",
      "              SC      TRUE\n",
      "     213      BB      TRUE\n",
      "              SC      TRUE\n",
      "     214      BB      TRUE\n",
      "              SC      TRUE\n",
      "     215      BB      TRUE\n",
      "              SC      TRUE\n",
      "     216      BB      TRUE\n",
      "              SC      TRUE\n",
      "     217      BB      TRUE\n",
      "              SC      TRUE\n",
      "     218      BB      TRUE\n",
      "              SC      TRUE\n",
      "     219      BB      TRUE\n",
      "              SC      TRUE\n",
      "     220      BB      TRUE\n",
      "              SC      TRUE\n",
      "     221      BB      TRUE\n",
      "              SC      TRUE\n",
      "     222      BB      TRUE\n",
      "              SC      TRUE\n",
      "     223      BB      TRUE\n",
      "              SC      TRUE\n",
      "     224      BB      TRUE\n",
      "              SC      TRUE\n",
      "     225      BB      TRUE\n",
      "              SC      TRUE\n",
      "     226      BB      TRUE\n",
      "              SC      TRUE\n",
      "     227      BB      TRUE\n",
      "              SC      TRUE\n",
      "     228      BB      TRUE\n",
      "              SC      TRUE\n",
      "     229      BB      TRUE\n",
      "              SC      TRUE\n",
      "     230      BB      TRUE\n",
      "              SC      TRUE\n",
      "-------------------------------\n",
      " jumpnum     Type  TRUE/FALSE \n",
      "-------------------------------\n",
      " DEFAULT     JUMP    FALSE\n",
      "-------------------------------\n",
      "  resnum  atomnum     Type  TRUE/FALSE \n",
      "-------------------------------\n",
      " DEFAULT               PHI    FALSE\n",
      " DEFAULT             THETA    FALSE\n",
      " DEFAULT                 D    FALSE\n",
      " DEFAULT               RB1    FALSE\n",
      " DEFAULT               RB2    FALSE\n",
      " DEFAULT               RB3    FALSE\n",
      " DEFAULT               RB4    FALSE\n",
      " DEFAULT               RB5    FALSE\n",
      " DEFAULT               RB6    FALSE\n",
      "\n",
      "\n"
     ]
    }
   ],
   "source": [
    "initial_pose=pose_from_pdb('/Users/XT/Dropbox/M2dimer_repacking.pdb')   # change file dir\n",
    "#initial_pose=pose_from_pdb('/home/Xiaotong/jazz_home/M2dimer_repacking.pdb')\n",
    "pose=Pose()\n",
    "pose.assign(initial_pose)\n",
    "\n",
    "tail_start_2=140+118-50  # from chain B resi 128, cut head 25*2, 128 or 122\n",
    "tail_end_2=140+136-50  # to Chain B sugar ends\n",
    "sugar_start=140+136-50+1\n",
    "sugar_end=140+140-50\n",
    "\n",
    "scorefxn=get_fa_scorefxn()\n",
    "scorefxn.set_weight(fa_intra_rep, 0.440)\n",
    "# MoveMap\n",
    "mm=MoveMap()\n",
    "mm.set_bb_true_range(tail_start_2,sugar_end)   # inclusive\n",
    "mm.set_branches(True)                 # sugar torsion angles on\n",
    "mm.set_chi_true_range(tail_start_2,sugar_end)\n",
    "mm.set_nu(False)  \n",
    "print mm"
   ]
  },
  {
   "cell_type": "code",
   "execution_count": 9,
   "metadata": {
    "collapsed": true
   },
   "outputs": [],
   "source": [
    "pmm=PyMOLMover()\n",
    "pmm.apply(pose)\n",
    "pmm.send_movemap(pose,mm)"
   ]
  },
  {
   "cell_type": "code",
   "execution_count": null,
   "metadata": {
    "collapsed": true
   },
   "outputs": [],
   "source": []
  }
 ],
 "metadata": {
  "kernelspec": {
   "display_name": "Python 2",
   "language": "python",
   "name": "python2"
  },
  "language_info": {
   "codemirror_mode": {
    "name": "ipython",
    "version": 2
   },
   "file_extension": ".py",
   "mimetype": "text/x-python",
   "name": "python",
   "nbconvert_exporter": "python",
   "pygments_lexer": "ipython2",
   "version": "2.7.10"
  }
 },
 "nbformat": 4,
 "nbformat_minor": 0
}
