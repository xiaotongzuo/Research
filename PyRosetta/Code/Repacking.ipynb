{
 "cells": [
  {
   "cell_type": "code",
   "execution_count": 1,
   "metadata": {
    "collapsed": true
   },
   "outputs": [],
   "source": [
    "# '-out:levels core.io.pdb.file_data:500' needed to see error details\n",
    "from rosetta import *\n",
    "init(extra_options='-include_sugars -override_rsd_type_limit -read_pdb_link_records -write_pdb_link_records') \n"
   ]
  },
  {
   "cell_type": "code",
   "execution_count": 12,
   "metadata": {
    "collapsed": false
   },
   "outputs": [
    {
     "ename": "RuntimeError",
     "evalue": "unidentifiable C++ exception",
     "output_type": "error",
     "traceback": [
      "\u001b[0;31m---------------------------------------------------------------------------\u001b[0m",
      "\u001b[0;31mRuntimeError\u001b[0m                              Traceback (most recent call last)",
      "\u001b[0;32m<ipython-input-12-37ad47081c98>\u001b[0m in \u001b[0;36m<module>\u001b[0;34m()\u001b[0m\n\u001b[0;32m----> 1\u001b[0;31m \u001b[0mpose\u001b[0m\u001b[0;34m=\u001b[0m\u001b[0mpose_from_pdb\u001b[0m\u001b[0;34m(\u001b[0m\u001b[0;34m'/Users/XT/Downloads/1m40.pdb'\u001b[0m\u001b[0;34m)\u001b[0m\u001b[0;34m\u001b[0m\u001b[0m\n\u001b[0m",
      "\u001b[0;31mRuntimeError\u001b[0m: unidentifiable C++ exception"
     ]
    }
   ],
   "source": [
    "pose=pose_from_pdb('/Users/XT/Downloads/1m40.pdb') "
   ]
  },
  {
   "cell_type": "code",
   "execution_count": 3,
   "metadata": {
    "collapsed": true
   },
   "outputs": [],
   "source": [
    "scorefxn=get_fa_scorefxn()"
   ]
  },
  {
   "cell_type": "code",
   "execution_count": 5,
   "metadata": {
    "collapsed": false
   },
   "outputs": [
    {
     "data": {
      "text/plain": [
       "True"
      ]
     },
     "execution_count": 5,
     "metadata": {},
     "output_type": "execute_result"
    }
   ],
   "source": [
    "pose.dump_pdb('/Users/XT/Dropbox/M2_to_ACICU_repacking.pdb')"
   ]
  },
  {
   "cell_type": "code",
   "execution_count": 6,
   "metadata": {
    "collapsed": false
   },
   "outputs": [],
   "source": [
    "pose=pose_from_pdb('/Users/XT/Dropbox/Project/Output/0910_Output/10_LOWEST/54repacking.pdb')"
   ]
  },
  {
   "cell_type": "code",
   "execution_count": 7,
   "metadata": {
    "collapsed": false
   },
   "outputs": [
    {
     "name": "stdout",
     "output_type": "stream",
     "text": [
      "333.065837283\n"
     ]
    }
   ],
   "source": [
    "print scorefxn(pose)"
   ]
  },
  {
   "cell_type": "code",
   "execution_count": 8,
   "metadata": {
    "collapsed": false
   },
   "outputs": [],
   "source": [
    "#repacking chain A and B before ...\n",
    "# SC Packing                                  ???\n",
    "task_pack_0=standard_packer_task(pose)\n",
    "# task pack restriction\n",
    "task_pack_0.restrict_to_repacking()\n",
    "#task_pack_0.temporarily_fix_everything()   #test\n",
    "\n",
    "'''for i in range(1,139+1-16-1):\n",
    "    task_pack_0.temporarily_set_pack_residue(i,True)\n",
    "for i in range(129,251+1):\n",
    "    task_pack_0.temporarily_set_pack_residue(i,True)'''\n",
    "for i in range(140+119-50,140+140+1-50):\n",
    "    task_pack_0.temporarily_set_pack_residue(i,False)\n"
   ]
  },
  {
   "cell_type": "code",
   "execution_count": 9,
   "metadata": {
    "collapsed": true
   },
   "outputs": [
    {
     "name": "stdout",
     "output_type": "stream",
     "text": [
      "#Packer_Task\n",
      "\n",
      "resid\tpack?\tdesign?\tallowed_aas\n",
      "1\tTRUE\tFALSE\tASN:NtermProteinFull\n",
      "2\tTRUE\tFALSE\tTYR\n",
      "3\tTRUE\tFALSE\tILE\n",
      "4\tTRUE\tFALSE\tALA\n",
      "5\tTRUE\tFALSE\tLYS\n",
      "6\tTRUE\tFALSE\tSER\n",
      "7\tTRUE\tFALSE\tGLN\n",
      "8\tTRUE\tFALSE\tALA\n",
      "9\tTRUE\tFALSE\tSER\n",
      "10\tTRUE\tFALSE\tGLU\n",
      "11\tTRUE\tFALSE\tALA\n",
      "12\tTRUE\tFALSE\tPHE\n",
      "13\tTRUE\tFALSE\tTHR\n",
      "14\tTRUE\tFALSE\tLEU\n",
      "15\tTRUE\tFALSE\tALA\n",
      "16\tTRUE\tFALSE\tASP\n",
      "17\tTRUE\tFALSE\tGLY\n",
      "18\tTRUE\tFALSE\tLEU\n",
      "19\tTRUE\tFALSE\tLYS\n",
      "20\tTRUE\tFALSE\tTHR\n",
      "21\tTRUE\tFALSE\tTHR\n",
      "22\tTRUE\tFALSE\tILE\n",
      "23\tTRUE\tFALSE\tASN\n",
      "24\tTRUE\tFALSE\tTHR\n",
      "25\tTRUE\tFALSE\tASN\n",
      "26\tTRUE\tFALSE\tLEU\n",
      "27\tTRUE\tFALSE\tGLN\n",
      "28\tTRUE\tFALSE\tALA\n",
      "29\tTRUE\tFALSE\tGLY\n",
      "30\tTRUE\tFALSE\tTHR\n",
      "31\tFALSE\tFALSE\t\n",
      "32\tTRUE\tFALSE\tPHE\n",
      "33\tTRUE\tFALSE\tALA\n",
      "34\tTRUE\tFALSE\tGLY\n",
      "35\tTRUE\tFALSE\tGLY\n",
      "36\tTRUE\tFALSE\tALA\n",
      "37\tTRUE\tFALSE\tTHR\n",
      "38\tTRUE\tFALSE\tALA\n",
      "39\tTRUE\tFALSE\tVAL\n",
      "40\tTRUE\tFALSE\tTHR\n",
      "41\tTRUE\tFALSE\tALA\n",
      "42\tTRUE\tFALSE\tALA\n",
      "43\tTRUE\tFALSE\tASP\n",
      "44\tTRUE\tFALSE\tLYS\n",
      "45\tTRUE\tFALSE\tVAL\n",
      "46\tTRUE\tFALSE\tSER\n",
      "47\tTRUE\tFALSE\tGLY\n",
      "48\tTRUE\tFALSE\tLYS\n",
      "49\tTRUE\tFALSE\tTYR\n",
      "50\tTRUE\tFALSE\tGLY\n",
      "51\tTRUE\tFALSE\tASP\n",
      "52\tTRUE\tFALSE\tALA\n",
      "53\tTRUE\tFALSE\tGLU\n",
      "54\tTRUE\tFALSE\tILE\n",
      "55\tTRUE\tFALSE\tGLY\n",
      "56\tTRUE\tFALSE\tGLY\n",
      "57\tTRUE\tFALSE\tTHR\n",
      "58\tTRUE\tFALSE\tALA\n",
      "59\tTRUE\tFALSE\tPRO\n",
      "60\tTRUE\tFALSE\tASN\n",
      "61\tFALSE\tFALSE\t\n",
      "62\tTRUE\tFALSE\tTHR\n",
      "63\tTRUE\tFALSE\tILE\n",
      "64\tTRUE\tFALSE\tTHR\n",
      "65\tTRUE\tFALSE\tTYR\n",
      "66\tTRUE\tFALSE\tTHR\n",
      "67\tTRUE\tFALSE\tPHE\n",
      "68\tTRUE\tFALSE\tLYS\n",
      "69\tTRUE\tFALSE\tSER\n",
      "70\tTRUE\tFALSE\tSER\n",
      "71\tTRUE\tFALSE\tGLY\n",
      "72\tTRUE\tFALSE\tVAL\n",
      "73\tTRUE\tFALSE\tSER\n",
      "74\tTRUE\tFALSE\tASN\n",
      "75\tTRUE\tFALSE\tLYS\n",
      "76\tTRUE\tFALSE\tLEU\n",
      "77\tTRUE\tFALSE\tTHR\n",
      "78\tTRUE\tFALSE\tSER\n",
      "79\tTRUE\tFALSE\tTHR\n",
      "80\tTRUE\tFALSE\tLYS\n",
      "81\tTRUE\tFALSE\tILE\n",
      "82\tTRUE\tFALSE\tVAL\n",
      "83\tTRUE\tFALSE\tMET\n",
      "84\tTRUE\tFALSE\tASN\n",
      "85\tTRUE\tFALSE\tVAL\n",
      "86\tTRUE\tFALSE\tSER\n",
      "87\tTRUE\tFALSE\tGLU\n",
      "88\tTRUE\tFALSE\tTHR\n",
      "89\tTRUE\tFALSE\tGLY\n",
      "90\tTRUE\tFALSE\tILE\n",
      "91\tTRUE\tFALSE\tLEU\n",
      "92\tTRUE\tFALSE\tTHR\n",
      "93\tTRUE\tFALSE\tLYS\n",
      "94\tTRUE\tFALSE\tASN\n",
      "95\tTRUE\tFALSE\tSER\n",
      "96\tTRUE\tFALSE\tGLY\n",
      "97\tTRUE\tFALSE\tTHR\n",
      "98\tTRUE\tFALSE\tASP\n",
      "99\tTRUE\tFALSE\tTHR\n",
      "100\tTRUE\tFALSE\tPRO\n",
      "101\tTRUE\tFALSE\tVAL\n",
      "102\tTRUE\tFALSE\tGLU\n",
      "103\tTRUE\tFALSE\tLEU\n",
      "104\tTRUE\tFALSE\tLEU\n",
      "105\tTRUE\tFALSE\tPRO\n",
      "106\tTRUE\tFALSE\tGLN\n",
      "107\tTRUE\tFALSE\tSER\n",
      "108\tTRUE\tFALSE\tPHE\n",
      "109\tTRUE\tFALSE\tVAL\n",
      "110\tTRUE\tFALSE\tALA\n",
      "111\tTRUE\tFALSE\tSER:CtermProteinFull:O-conjugated\n",
      "112\tTRUE\tFALSE\t->3)-beta-D-Glcp:branch_lower_terminus:->4)-branch:->6)-branch:2-AcNH\n",
      "113\tTRUE\tFALSE\t->6)-beta-D-Galp:non-reducing_end\n",
      "114\tTRUE\tFALSE\t->3)-beta-D-Glcp:non-reducing_end:branch_lower_terminus:2-AcNH\n",
      "115\tTRUE\tFALSE\t->4)-alpha-L-Rhap:non-reducing_end:branch_lower_terminus\n",
      "116\tTRUE\tFALSE\tASN:NtermProteinFull\n",
      "117\tTRUE\tFALSE\tTYR\n",
      "118\tTRUE\tFALSE\tILE\n",
      "119\tTRUE\tFALSE\tALA\n",
      "120\tTRUE\tFALSE\tLYS\n",
      "121\tTRUE\tFALSE\tSER\n",
      "122\tTRUE\tFALSE\tGLN\n",
      "123\tTRUE\tFALSE\tALA\n",
      "124\tTRUE\tFALSE\tSER\n",
      "125\tTRUE\tFALSE\tGLU\n",
      "126\tTRUE\tFALSE\tALA\n",
      "127\tTRUE\tFALSE\tPHE\n",
      "128\tTRUE\tFALSE\tTHR\n",
      "129\tTRUE\tFALSE\tLEU\n",
      "130\tTRUE\tFALSE\tALA\n",
      "131\tTRUE\tFALSE\tASP\n",
      "132\tTRUE\tFALSE\tGLY\n",
      "133\tTRUE\tFALSE\tLEU\n",
      "134\tTRUE\tFALSE\tLYS\n",
      "135\tTRUE\tFALSE\tTHR\n",
      "136\tTRUE\tFALSE\tTHR\n",
      "137\tTRUE\tFALSE\tILE\n",
      "138\tTRUE\tFALSE\tASN\n",
      "139\tTRUE\tFALSE\tTHR\n",
      "140\tTRUE\tFALSE\tASN\n",
      "141\tTRUE\tFALSE\tLEU\n",
      "142\tTRUE\tFALSE\tGLN\n",
      "143\tTRUE\tFALSE\tALA\n",
      "144\tTRUE\tFALSE\tGLY\n",
      "145\tTRUE\tFALSE\tTHR\n",
      "146\tFALSE\tFALSE\t\n",
      "147\tTRUE\tFALSE\tPHE\n",
      "148\tTRUE\tFALSE\tALA\n",
      "149\tTRUE\tFALSE\tGLY\n",
      "150\tTRUE\tFALSE\tGLY\n",
      "151\tTRUE\tFALSE\tALA\n",
      "152\tTRUE\tFALSE\tTHR\n",
      "153\tTRUE\tFALSE\tALA\n",
      "154\tTRUE\tFALSE\tVAL\n",
      "155\tTRUE\tFALSE\tTHR\n",
      "156\tTRUE\tFALSE\tALA\n",
      "157\tTRUE\tFALSE\tALA\n",
      "158\tTRUE\tFALSE\tASP\n",
      "159\tTRUE\tFALSE\tLYS\n",
      "160\tTRUE\tFALSE\tVAL\n",
      "161\tTRUE\tFALSE\tSER\n",
      "162\tTRUE\tFALSE\tGLY\n",
      "163\tTRUE\tFALSE\tLYS\n",
      "164\tTRUE\tFALSE\tTYR\n",
      "165\tTRUE\tFALSE\tGLY\n",
      "166\tTRUE\tFALSE\tASP\n",
      "167\tTRUE\tFALSE\tALA\n",
      "168\tTRUE\tFALSE\tGLU\n",
      "169\tTRUE\tFALSE\tILE\n",
      "170\tTRUE\tFALSE\tGLY\n",
      "171\tTRUE\tFALSE\tGLY\n",
      "172\tTRUE\tFALSE\tTHR\n",
      "173\tTRUE\tFALSE\tALA\n",
      "174\tTRUE\tFALSE\tPRO\n",
      "175\tTRUE\tFALSE\tASN\n",
      "176\tFALSE\tFALSE\t\n",
      "177\tTRUE\tFALSE\tTHR\n",
      "178\tTRUE\tFALSE\tILE\n",
      "179\tTRUE\tFALSE\tTHR\n",
      "180\tTRUE\tFALSE\tTYR\n",
      "181\tTRUE\tFALSE\tTHR\n",
      "182\tTRUE\tFALSE\tPHE\n",
      "183\tTRUE\tFALSE\tLYS\n",
      "184\tTRUE\tFALSE\tSER\n",
      "185\tTRUE\tFALSE\tSER\n",
      "186\tTRUE\tFALSE\tGLY\n",
      "187\tTRUE\tFALSE\tVAL\n",
      "188\tTRUE\tFALSE\tSER\n",
      "189\tTRUE\tFALSE\tASN\n",
      "190\tTRUE\tFALSE\tLYS\n",
      "191\tTRUE\tFALSE\tLEU\n",
      "192\tTRUE\tFALSE\tTHR\n",
      "193\tTRUE\tFALSE\tSER\n",
      "194\tTRUE\tFALSE\tTHR\n",
      "195\tTRUE\tFALSE\tLYS\n",
      "196\tTRUE\tFALSE\tILE\n",
      "197\tTRUE\tFALSE\tVAL\n",
      "198\tTRUE\tFALSE\tMET\n",
      "199\tTRUE\tFALSE\tASN\n",
      "200\tTRUE\tFALSE\tVAL\n",
      "201\tTRUE\tFALSE\tSER\n",
      "202\tTRUE\tFALSE\tGLU\n",
      "203\tTRUE\tFALSE\tTHR\n",
      "204\tTRUE\tFALSE\tGLY\n",
      "205\tTRUE\tFALSE\tILE\n",
      "206\tTRUE\tFALSE\tLEU\n",
      "207\tTRUE\tFALSE\tTHR\n",
      "208\tTRUE\tFALSE\tLYS\n",
      "209\tFALSE\tFALSE\tASN\n",
      "210\tFALSE\tFALSE\tSER\n",
      "211\tFALSE\tFALSE\tGLY\n",
      "212\tFALSE\tFALSE\tTHR\n",
      "213\tFALSE\tFALSE\tASP\n",
      "214\tFALSE\tFALSE\tVAL\n",
      "215\tFALSE\tFALSE\tALA\n",
      "216\tFALSE\tFALSE\tGLU\n",
      "217\tFALSE\tFALSE\tASN\n",
      "218\tFALSE\tFALSE\tLEU\n",
      "219\tFALSE\tFALSE\tARG\n",
      "220\tFALSE\tFALSE\tPRO\n",
      "221\tFALSE\tFALSE\tLYS\n",
      "222\tFALSE\tFALSE\tSER\n",
      "223\tFALSE\tFALSE\tCYS\n",
      "224\tFALSE\tFALSE\tGLY\n",
      "225\tFALSE\tFALSE\tALA\n",
      "226\tFALSE\tFALSE\tSER:CtermProteinFull:O-conjugated\n",
      "227\tFALSE\tFALSE\t->3)-beta-D-Glcp:branch_lower_terminus:->4)-branch:->6)-branch:2-AcNH\n",
      "228\tFALSE\tFALSE\t->6)-beta-D-Galp:non-reducing_end\n",
      "229\tFALSE\tFALSE\t->3)-beta-D-Glcp:non-reducing_end:branch_lower_terminus:2-AcNH\n",
      "230\tFALSE\tFALSE\t->4)-alpha-L-Rhap:non-reducing_end:branch_lower_terminus\n",
      "\n"
     ]
    }
   ],
   "source": [
    "print task_pack_0"
   ]
  },
  {
   "cell_type": "code",
   "execution_count": 10,
   "metadata": {
    "collapsed": false
   },
   "outputs": [
    {
     "data": {
      "text/plain": [
       "True"
      ]
     },
     "execution_count": 10,
     "metadata": {},
     "output_type": "execute_result"
    }
   ],
   "source": [
    "pack_mover=PackRotamersMover(scorefxn,task_pack_0)\n",
    "pack_mover.apply(pose)\n",
    "pose.dump_pdb('/Users/XT/Dropbox/M2_to_ACICU_repacking.pdb')"
   ]
  },
  {
   "cell_type": "code",
   "execution_count": 11,
   "metadata": {
    "collapsed": false
   },
   "outputs": [
    {
     "name": "stdout",
     "output_type": "stream",
     "text": [
      "321.675186774\n"
     ]
    }
   ],
   "source": [
    "print scorefxn(pose)"
   ]
  },
  {
   "cell_type": "code",
   "execution_count": 12,
   "metadata": {
    "collapsed": false
   },
   "outputs": [],
   "source": [
    "pack_mover.apply(pose)"
   ]
  },
  {
   "cell_type": "code",
   "execution_count": 13,
   "metadata": {
    "collapsed": false
   },
   "outputs": [
    {
     "name": "stdout",
     "output_type": "stream",
     "text": [
      "11142.1500881\n"
     ]
    }
   ],
   "source": [
    "print scorefxn(pose)"
   ]
  },
  {
   "cell_type": "code",
   "execution_count": 10,
   "metadata": {
    "collapsed": false
   },
   "outputs": [
    {
     "name": "stdout",
     "output_type": "stream",
     "text": [
      "/Users/XT/Dropbox/Project/Structure\n"
     ]
    }
   ],
   "source": [
    "cd /Users/XT/Dropbox/Project/Structure/"
   ]
  },
  {
   "cell_type": "code",
   "execution_count": 11,
   "metadata": {
    "collapsed": false
   },
   "outputs": [
    {
     "data": {
      "text/plain": [
       "True"
      ]
     },
     "execution_count": 11,
     "metadata": {},
     "output_type": "execute_result"
    }
   ],
   "source": [
    "pose.dump_pdb('/Users/XT/Dropbox/Project/Structure/pilus_repacking_1124.pdb')"
   ]
  },
  {
   "cell_type": "code",
   "execution_count": 17,
   "metadata": {
    "collapsed": false
   },
   "outputs": [],
   "source": [
    "scorefxn.show(pose)"
   ]
  },
  {
   "cell_type": "code",
   "execution_count": 19,
   "metadata": {
    "collapsed": false
   },
   "outputs": [
    {
     "name": "stdout",
     "output_type": "stream",
     "text": [
      "None\n",
      "None\n",
      "None\n",
      "None\n",
      "None\n",
      "None\n",
      "None\n",
      "None\n",
      "None\n",
      "None\n",
      "None\n",
      "None\n",
      "None\n",
      "None\n",
      "None\n",
      "None\n"
     ]
    }
   ],
   "source": [
    "for i in range(16):\n",
    "    print pose.energies().show(i+1) "
   ]
  },
  {
   "cell_type": "code",
   "execution_count": 21,
   "metadata": {
    "collapsed": true
   },
   "outputs": [],
   "source": [
    "pmm=PyMOLMover()\n",
    "pmm.apply(pose)"
   ]
  },
  {
   "cell_type": "code",
   "execution_count": 22,
   "metadata": {
    "collapsed": true
   },
   "outputs": [],
   "source": [
    "pmm.send_energy(pose)"
   ]
  },
  {
   "cell_type": "code",
   "execution_count": null,
   "metadata": {
    "collapsed": true
   },
   "outputs": [],
   "source": []
  }
 ],
 "metadata": {
  "kernelspec": {
   "display_name": "Python 2",
   "language": "python",
   "name": "python2"
  },
  "language_info": {
   "codemirror_mode": {
    "name": "ipython",
    "version": 2
   },
   "file_extension": ".py",
   "mimetype": "text/x-python",
   "name": "python",
   "nbconvert_exporter": "python",
   "pygments_lexer": "ipython2",
   "version": "2.7.10"
  }
 },
 "nbformat": 4,
 "nbformat_minor": 0
}
