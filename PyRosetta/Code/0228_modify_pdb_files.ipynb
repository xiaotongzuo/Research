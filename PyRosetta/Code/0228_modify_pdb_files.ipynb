{
 "cells": [
  {
   "cell_type": "code",
   "execution_count": 1,
   "metadata": {
    "collapsed": false
   },
   "outputs": [
    {
     "name": "stdout",
     "output_type": "stream",
     "text": [
      "\u001b[0mcore.init: \u001b[0mRosetta version  from \n",
      "\u001b[0mcore.init: \u001b[0mcommand: PyRosetta -ex1 -ex2aro -database /Users/XT/ResearchApps/PyRosetta_1230/database\n",
      "\u001b[0mcore.init: \u001b[0m'RNG device' seed mode, using '/dev/urandom', seed=33813693 seed_offset=0 real_seed=33813693\n",
      "\u001b[0mcore.init.random: \u001b[0mRandomGenerator:init: Normal mode, seed=33813693 RG_type=mt19937\n"
     ]
    }
   ],
   "source": [
    "from rosetta import *\n",
    "init()"
   ]
  },
  {
   "cell_type": "code",
   "execution_count": 2,
   "metadata": {
    "collapsed": true
   },
   "outputs": [],
   "source": [
    "import glob\n"
   ]
  },
  {
   "cell_type": "code",
   "execution_count": 7,
   "metadata": {
    "collapsed": true
   },
   "outputs": [],
   "source": [
    "path=\"/Users/XT/Dropbox/Research/PyRosetta/Output/ACICU_top10_decoys/\""
   ]
  },
  {
   "cell_type": "code",
   "execution_count": 40,
   "metadata": {
    "collapsed": true
   },
   "outputs": [],
   "source": [
    "num=[1,2,3,4,5,139]\n",
    "filenames=glob.glob(path+'*.pdb')\n",
    "for i, filename in enumerate(filenames):\n",
    "    g=open(filename.split('.')[0]+'delAA.pdb','w')\n",
    "    with open(filename,'r')as f:\n",
    "        for line in f.readlines():\n",
    "            l=line.split()\n",
    "            if l[0]=='HETNAM':\n",
    "                g.write(line)\n",
    "            if l[0]=='ATOM':\n",
    "                if int(l[5]) in num:\n",
    "                    g.write(line)\n",
    "    g.close()\n",
    "\n",
    "    "
   ]
  },
  {
   "cell_type": "code",
   "execution_count": 34,
   "metadata": {
    "collapsed": false
   },
   "outputs": [
    {
     "name": "stdout",
     "output_type": "stream",
     "text": [
      "/Users/XT/Dropbox/Research/PyRosetta/Output/ACICU_top10_decoys/0120output_3763_lowest\n"
     ]
    }
   ],
   "source": [
    "print filename.split('.')[0]"
   ]
  },
  {
   "cell_type": "code",
   "execution_count": 33,
   "metadata": {
    "collapsed": false
   },
   "outputs": [
    {
     "name": "stdout",
     "output_type": "stream",
     "text": [
      "/Users/XT/Dropbox/Research/PyRosetta/Output/ACICU_top10_decoys/0120output_3763_lowest.pdbdelAA.pdb\n"
     ]
    }
   ],
   "source": [
    "newname=filename+'delAA.pdb'\n",
    "print newname"
   ]
  },
  {
   "cell_type": "code",
   "execution_count": 39,
   "metadata": {
    "collapsed": false
   },
   "outputs": [
    {
     "name": "stdout",
     "output_type": "stream",
     "text": [
      "HETNAM     Glc X   1  ->3)-beta-D-Glcp                                          \n",
      "\n",
      "HETNAM     Gal X   2  ->3)-alpha-D-Galp                                         \n",
      "\n",
      "HETNAM     Gal X   3  ->4)-beta-D-Galp                                          \n",
      "\n",
      "HETNAM     Glc X   4  ->6)-alpha-D-Glcp                                         \n",
      "\n",
      "HETNAM     Qui X   5  ->4)-beta-D-Quip                                          \n",
      "\n"
     ]
    }
   ],
   "source": [
    "\n",
    "                "
   ]
  },
  {
   "cell_type": "code",
   "execution_count": null,
   "metadata": {
    "collapsed": true
   },
   "outputs": [],
   "source": [
    "import glob\n",
    "path = '/Users/XT/Dropbox/1000decoys/Output_0121/'\n",
    "filenames = glob.glob(path + '*.pdb')\n",
    "for i, filename in enumerate(filenames):\n",
    "    print i, filename\n",
    "    pose=pose_from_pdb(filename)\n",
    "    sugar_rmsd=non_peptide_heavy_atom_RMSD(pose,start_pose)\n",
    "    f=open(path+\"rmsd.txt\",\"a\")\n",
    "    f.write(str(i+1)+'\\t'+str(filename)+'\\t'+str(sugar_rmsd)+'\\n')\n",
    "    f.close()"
   ]
  }
 ],
 "metadata": {
  "kernelspec": {
   "display_name": "Python 2",
   "language": "python",
   "name": "python2"
  },
  "language_info": {
   "codemirror_mode": {
    "name": "ipython",
    "version": 2
   },
   "file_extension": ".py",
   "mimetype": "text/x-python",
   "name": "python",
   "nbconvert_exporter": "python",
   "pygments_lexer": "ipython2",
   "version": "2.7.10"
  }
 },
 "nbformat": 4,
 "nbformat_minor": 0
}
