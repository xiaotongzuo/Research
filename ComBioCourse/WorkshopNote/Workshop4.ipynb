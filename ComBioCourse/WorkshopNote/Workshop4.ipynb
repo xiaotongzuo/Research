{
 "cells": [
  {
   "cell_type": "code",
   "execution_count": 13,
   "metadata": {
    "collapsed": false
   },
   "outputs": [
    {
     "name": "stdout",
     "output_type": "stream",
     "text": [
      "\u001b[0mcore.init: \u001b[0mRosetta version  from \n",
      "\u001b[0mcore.init: \u001b[0mcommand: PyRosetta -ex1 -ex2aro -database /Users/Shared/PyRosetta/database\n",
      "\u001b[0mcore.init: \u001b[0m'RNG device' seed mode, using '/dev/urandom', seed=-1222807769 seed_offset=0 real_seed=-1222807769\n",
      "\u001b[0mcore.init.random: \u001b[0mRandomGenerator:init: Normal mode, seed=-1222807769 RG_type=mt19937\n"
     ]
    }
   ],
   "source": [
    "from rosetta import *\n",
    "init(notebook=True)\n",
    "import random\n",
    "import numpy as np\n",
    "from math import exp"
   ]
  },
  {
   "cell_type": "code",
   "execution_count": 2,
   "metadata": {
    "collapsed": false
   },
   "outputs": [
    {
     "name": "stdout",
     "output_type": "stream",
     "text": [
      "\u001b[0mcore.chemical.ResidueTypeSet: \u001b[0mFinished initializing fa_standard residue type set.  Created 384 residue types\n",
      "\u001b[0mcore.chemical.ResidueTypeSet: \u001b[0mTotal time to initialize 0.573154 seconds.\n"
     ]
    }
   ],
   "source": [
    "pose=pose_from_sequence('A'*10)\n"
   ]
  },
  {
   "cell_type": "code",
   "execution_count": 3,
   "metadata": {
    "collapsed": true
   },
   "outputs": [],
   "source": [
    "pmm=PyMolMover()"
   ]
  },
  {
   "cell_type": "code",
   "execution_count": 4,
   "metadata": {
    "collapsed": true
   },
   "outputs": [],
   "source": [
    "pmm.apply(pose)"
   ]
  },
  {
   "cell_type": "code",
   "execution_count": 5,
   "metadata": {
    "collapsed": true
   },
   "outputs": [
    {
     "name": "stdout",
     "output_type": "stream",
     "text": [
      "\u001b[0mcore.scoring.etable: \u001b[0mStarting energy table calculation\n",
      "\u001b[0mcore.scoring.etable: \u001b[0msmooth_etable: changing atr/rep split to bottom of energy well\n",
      "\u001b[0mcore.scoring.etable: \u001b[0msmooth_etable: spline smoothing lj etables (maxdis = 6)\n",
      "\u001b[0mcore.scoring.etable: \u001b[0msmooth_etable: spline smoothing solvation etables (max_dis = 6)\n",
      "\u001b[0mcore.scoring.etable: \u001b[0mFinished calculating energy tables.\n",
      "\u001b[0mbasic.io.database: \u001b[0mDatabase file opened: scoring/score_functions/hbonds/sp2_elec_params/HBPoly1D.csv\n",
      "\u001b[0mbasic.io.database: \u001b[0mDatabase file opened: scoring/score_functions/hbonds/sp2_elec_params/HBFadeIntervals.csv\n",
      "\u001b[0mbasic.io.database: \u001b[0mDatabase file opened: scoring/score_functions/hbonds/sp2_elec_params/HBEval.csv\n"
     ]
    }
   ],
   "source": [
    "scorefxn=ScoreFunction()   # I copied the weights from full-atom scorefxn\n",
    "scorefxn.set_weight(fa_atr,0.8)\n",
    "scorefxn.set_weight(fa_rep,0.44)\n",
    "scorefxn.set_weight(hbond_sr_bb,1.17)\n",
    "scorefxn.set_weight(hbond_lr_bb,1.17)\n",
    "scorefxn.set_weight(hbond_bb_sc,1.17)\n",
    "scorefxn.set_weight(hbond_sc,1.1)"
   ]
  },
  {
   "cell_type": "code",
   "execution_count": 15,
   "metadata": {
    "collapsed": false
   },
   "outputs": [
    {
     "name": "stdout",
     "output_type": "stream",
     "text": [
      "1 \t87.6344654121 87.5979304444\n",
      "-0.0365349676701\n",
      "2 \t87.5979304444 87.8522013273\n",
      "0.775481708875\n",
      "3 \t87.8522013273 195.753618732\n",
      "1.37724064688e-47\n",
      "4 \t195.753618732 208.634548138\n",
      "2.54614678488e-06\n",
      "5 \t208.634548138 121.390632853\n",
      "-87.2439152856\n",
      "6 \t121.390632853 110.006332954\n",
      "-11.3842998985\n",
      "7 \t110.006332954 110.35306679\n",
      "0.706993479376\n",
      "8 \t110.35306679 110.328561408\n",
      "-0.0245053822736\n",
      "9 \t110.328561408 16.6824330095\n",
      "-93.6461283983\n",
      "10 \t16.6824330095 16.6366723178\n",
      "-0.0457606917278\n",
      "11 \t16.6366723178 16.6366723178\n",
      "1.0\n",
      "12 \t16.6366723178 16.6941710673\n",
      "0.944123071059\n",
      "13 \t16.6941710673 16.686112771\n",
      "-0.0080582962235\n",
      "14 \t16.686112771 16.4735651203\n",
      "-0.212547650699\n",
      "15 \t16.4735651203 18.6069493602\n",
      "0.11843579971\n",
      "16 \t18.6069493602 18.6069493602\n",
      "1.0\n",
      "17 \t18.6069493602 18.6200720352\n",
      "0.986963051884\n",
      "18 \t18.6200720352 18.6200720352\n",
      "1.0\n",
      "19 \t18.6200720352 18.2375936335\n",
      "-0.382478401649\n",
      "20 \t18.2375936335 15.8344182882\n",
      "-2.40317534529\n",
      "21 \t15.8344182882 15.8643815821\n",
      "0.970481155533\n",
      "22 \t15.8643815821 15.9500042852\n",
      "0.917940502013\n",
      "23 \t15.9500042852 15.31942211\n",
      "-0.630582175196\n",
      "24 \t15.31942211 18.3681984271\n",
      "0.0474169121686\n",
      "25 \t18.3681984271 18.335648566\n",
      "-0.0325498610644\n",
      "26 \t18.335648566 18.5516626258\n",
      "0.805723973453\n",
      "27 \t18.5516626258 18.9069059291\n",
      "0.701002866146\n",
      "28 \t18.9069059291 36.3499724862\n",
      "2.65810692451e-08\n",
      "29 \t36.3499724862 35.5109479588\n",
      "-0.839024527392\n",
      "30 \t35.5109479588 35.4391853063\n",
      "-0.071762652518\n",
      "31 \t35.4391853063 35.5747971935\n",
      "0.873181459641\n",
      "32 \t35.5747971935 35.1196739497\n",
      "-0.45512324373\n",
      "33 \t35.1196739497 34.981388612\n",
      "-0.138285337712\n",
      "34 \t34.981388612 111.420124861\n",
      "6.35445990198e-34\n",
      "35 \t111.420124861 112.653737845\n",
      "0.291238434518\n",
      "36 \t112.653737845 113.399786089\n",
      "0.474236923272\n",
      "37 \t113.399786089 113.256226366\n",
      "-0.143559723736\n",
      "38 \t113.256226366 107.937080977\n",
      "-5.31914538873\n",
      "39 \t107.937080977 108.020483066\n",
      "0.919981158552\n",
      "40 \t108.020483066 107.996594932\n",
      "-0.023888133489\n",
      "41 \t107.996594932 107.976344753\n",
      "-0.0202501789493\n",
      "42 \t107.976344753 100.944142385\n",
      "-7.03220236819\n",
      "43 \t100.944142385 102.004938327\n",
      "0.346180161375\n",
      "44 \t102.004938327 102.211655282\n",
      "0.813249803816\n",
      "45 \t102.211655282 8.0479986964\n",
      "-94.1636565856\n",
      "46 \t8.0479986964 8.56053863353\n",
      "0.598972293143\n",
      "47 \t8.56053863353 8.44656382578\n",
      "-0.113974807745\n",
      "48 \t8.44656382578 7.47942402098\n",
      "-0.967139804802\n",
      "49 \t7.47942402098 9.40905795542\n",
      "0.145201341967\n",
      "50 \t9.40905795542 9.43899346829\n",
      "0.970508116814\n",
      "51 \t9.43899346829 9.07913217222\n",
      "-0.359861296066\n",
      "52 \t9.07913217222 9.28939258688\n",
      "0.810373185432\n",
      "53 \t9.28939258688 8.99832386482\n",
      "-0.291068722055\n",
      "54 \t8.99832386482 6.2930893321\n",
      "-2.70523453272\n",
      "55 \t6.2930893321 6.55174178561\n",
      "0.772091314044\n",
      "56 \t6.55174178561 6.36180461543\n",
      "-0.189937170181\n",
      "57 \t6.36180461543 6.69748991279\n",
      "0.714848034983\n",
      "58 \t6.69748991279 4.00250115514\n",
      "-2.69498875765\n",
      "59 \t4.00250115514 82.7970810993\n",
      "6.02488450913e-35\n",
      "60 \t82.7970810993 83.9253241319\n",
      "0.323601314236\n",
      "61 \t83.9253241319 84.2975011907\n",
      "0.689232197051\n",
      "62 \t84.2975011907 83.9858666511\n",
      "-0.311634539628\n",
      "63 \t83.9858666511 84.0056996201\n",
      "0.980362410579\n",
      "64 \t84.0056996201 83.8333762814\n",
      "-0.17232333861\n",
      "65 \t83.8333762814 146.48959896\n",
      "6.14820349913e-28\n",
      "66 \t146.48959896 146.652194609\n",
      "0.849934791277\n",
      "67 \t146.652194609 152.509809848\n",
      "0.00285805133039\n",
      "68 \t152.509809848 152.463265323\n",
      "-0.0465445249201\n",
      "69 \t152.463265323 152.388781303\n",
      "-0.0744840200512\n",
      "70 \t152.388781303 156.379483947\n",
      "0.0184867199781\n",
      "71 \t156.379483947 155.998173593\n",
      "-0.381310353389\n",
      "72 \t155.998173593 156.044058363\n",
      "0.955152018577\n",
      "73 \t156.044058363 121.711376814\n",
      "-34.3326815485\n",
      "74 \t121.711376814 121.405934662\n",
      "-0.305442152084\n",
      "75 \t121.405934662 119.894657756\n",
      "-1.51127690578\n",
      "76 \t119.894657756 120.089365751\n",
      "0.823074965603\n",
      "77 \t120.089365751 80.5805233736\n",
      "-39.5088423771\n",
      "78 \t80.5805233736 80.5822109797\n",
      "0.99831381713\n",
      "79 \t80.5822109797 80.6058867153\n",
      "0.976602335841\n",
      "80 \t80.6058867153 80.6580985614\n",
      "0.949127776433\n",
      "81 \t80.6580985614 80.7429586615\n",
      "0.918640793232\n",
      "82 \t80.7429586615 81.0778416783\n",
      "0.715421773791\n",
      "83 \t81.0778416783 81.6596928573\n",
      "0.558862853212\n",
      "84 \t81.6596928573 81.9871695375\n",
      "0.720740098555\n",
      "85 \t81.9871695375 83.2138897921\n",
      "0.293252796694\n",
      "86 \t83.2138897921 81.8798151539\n",
      "-1.33407463823\n",
      "87 \t81.8798151539 81.8325657026\n",
      "-0.0472494513359\n",
      "88 \t81.8325657026 82.358545525\n",
      "0.590976029054\n",
      "89 \t82.358545525 82.4448060066\n",
      "0.917355245909\n",
      "90 \t82.4448060066 82.7973449541\n",
      "0.702901193043\n",
      "91 \t82.7973449541 82.7976343975\n",
      "0.999710598423\n",
      "92 \t82.7976343975 82.868882508\n",
      "0.931230815313\n",
      "93 \t82.868882508 83.1003570837\n",
      "0.793362865959\n",
      "94 \t83.1003570837 135.515217226\n",
      "1.72391349893e-23\n",
      "95 \t135.515217226 135.515217226\n",
      "1.0\n",
      "96 \t135.515217226 136.047629832\n",
      "0.587186609611\n",
      "97 \t136.047629832 136.250118434\n",
      "0.816695791606\n",
      "98 \t136.250118434 136.232124367\n",
      "-0.0179940664519\n",
      "99 \t136.232124367 136.232124367\n",
      "1.0\n",
      "100 \t136.232124367 136.232124367\n",
      "1.0\n"
     ]
    }
   ],
   "source": [
    "for i in range(100):\n",
    "    resi_num=random.randint(1,10)\n",
    "    torsion=random.choice(['phi','psi'])\n",
    "    if torsion=='phi':\n",
    "        current_angle=pose.phi(resi_num)\n",
    "        new_angle=random.gauss(current_angle,25)\n",
    "        pose.set_phi(resi_num,new_angle)\n",
    "    else:\n",
    "        current_angle=pose.psi(resi_num)\n",
    "        new_angle=random.gauss(current_angle,25)\n",
    "        pose.set_psi(resi_num,new_angle)\n",
    "    pmm.apply(pose)\n",
    "    old_score=score\n",
    "    score=scorefxn(pose)\n",
    "    print i+1, '\\t', old_score, score\n",
    "    delta_E=score-old_score\n",
    "    if delta_E<0:\n",
    "        # accept\n",
    "        print delta_E\n",
    "    else:\n",
    "        P=exp(-delta_E)\n",
    "        print P\n",
    "        \n",
    "    \n",
    "    \n",
    "    "
   ]
  },
  {
   "cell_type": "code",
   "execution_count": 14,
   "metadata": {
    "collapsed": false
   },
   "outputs": [
    {
     "data": {
      "text/plain": [
       "2.718281828459045"
      ]
     },
     "execution_count": 14,
     "metadata": {},
     "output_type": "execute_result"
    }
   ],
   "source": [
    "exp(1)"
   ]
  },
  {
   "cell_type": "code",
   "execution_count": 9,
   "metadata": {
    "collapsed": false
   },
   "outputs": [
    {
     "data": {
      "text/plain": [
       "2.7182818284590451"
      ]
     },
     "execution_count": 9,
     "metadata": {},
     "output_type": "execute_result"
    }
   ],
   "source": []
  },
  {
   "cell_type": "code",
   "execution_count": null,
   "metadata": {
    "collapsed": true
   },
   "outputs": [],
   "source": []
  },
  {
   "cell_type": "code",
   "execution_count": null,
   "metadata": {
    "collapsed": true
   },
   "outputs": [],
   "source": []
  }
 ],
 "metadata": {
  "kernelspec": {
   "display_name": "Python 2",
   "language": "python",
   "name": "python2"
  },
  "language_info": {
   "codemirror_mode": {
    "name": "ipython",
    "version": 2
   },
   "file_extension": ".py",
   "mimetype": "text/x-python",
   "name": "python",
   "nbconvert_exporter": "python",
   "pygments_lexer": "ipython2",
   "version": "2.7.2"
  }
 },
 "nbformat": 4,
 "nbformat_minor": 0
}
