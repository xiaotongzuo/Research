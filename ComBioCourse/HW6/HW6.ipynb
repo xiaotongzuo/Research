{
 "cells": [
  {
   "cell_type": "code",
   "execution_count": 1,
   "metadata": {
    "collapsed": true
   },
   "outputs": [
    {
     "name": "stdout",
     "output_type": "stream",
     "text": [
      "\u001b[0mcore.init: \u001b[0mRosetta version  from \n",
      "\u001b[0mcore.init: \u001b[0mcommand: PyRosetta -ex1 -ex2aro -database /Users/XT/ResearchApps/PyRosetta_1230/database\n",
      "\u001b[0mcore.init: \u001b[0m'RNG device' seed mode, using '/dev/urandom', seed=1439393359 seed_offset=0 real_seed=1439393359\n",
      "\u001b[0mcore.init.random: \u001b[0mRandomGenerator:init: Normal mode, seed=1439393359 RG_type=mt19937\n"
     ]
    }
   ],
   "source": [
    "from rosetta import *\n",
    "init()\n",
    "from toolbox import rcsb\n",
    "### the answers are listed in different cells for each question."
   ]
  },
  {
   "cell_type": "code",
   "execution_count": 3,
   "metadata": {
    "collapsed": true
   },
   "outputs": [
    {
     "name": "stdout",
     "output_type": "stream",
     "text": [
      "the file 1KJG.pdb already exists, this file will be overwritten\n",
      "PDB 1KJG successfully loaded from rcsb into 1KJG.pdb\n",
      "if the file 1kjg.clean.pdb already exists, it will be overwritten\n",
      "PDB 1kjg.pdb successfully cleaned, non-ATOM lines removed\n",
      "clean data written to 1kjg.clean.pdb\n",
      "\u001b[0mcore.conformation.Conformation: \u001b[0m[ WARNING ] missing heavyatom:  CG  on residue LYS 7\n",
      "\u001b[0mcore.conformation.Conformation: \u001b[0m[ WARNING ] missing heavyatom:  CD  on residue LYS 7\n",
      "\u001b[0mcore.conformation.Conformation: \u001b[0m[ WARNING ] missing heavyatom:  CE  on residue LYS 7\n",
      "\u001b[0mcore.conformation.Conformation: \u001b[0m[ WARNING ] missing heavyatom:  NZ  on residue LYS 7\n",
      "\u001b[0mcore.conformation.Conformation: \u001b[0m[ WARNING ] missing heavyatom:  CG  on residue LYS 41\n",
      "\u001b[0mcore.conformation.Conformation: \u001b[0m[ WARNING ] missing heavyatom:  CD  on residue LYS 41\n",
      "\u001b[0mcore.conformation.Conformation: \u001b[0m[ WARNING ] missing heavyatom:  CE  on residue LYS 41\n",
      "\u001b[0mcore.conformation.Conformation: \u001b[0m[ WARNING ] missing heavyatom:  NZ  on residue LYS 41\n",
      "\u001b[0mcore.conformation.Conformation: \u001b[0m[ WARNING ] missing heavyatom:  CG  on residue LYS 43\n",
      "\u001b[0mcore.conformation.Conformation: \u001b[0m[ WARNING ] missing heavyatom:  CD  on residue LYS 43\n",
      "\u001b[0mcore.conformation.Conformation: \u001b[0m[ WARNING ] missing heavyatom:  CE  on residue LYS 43\n",
      "\u001b[0mcore.conformation.Conformation: \u001b[0m[ WARNING ] missing heavyatom:  NZ  on residue LYS 43\n",
      "\u001b[0mcore.conformation.Conformation: \u001b[0m[ WARNING ] missing heavyatom:  CG  on residue LYS 45\n",
      "\u001b[0mcore.conformation.Conformation: \u001b[0m[ WARNING ] missing heavyatom:  CD  on residue LYS 45\n",
      "\u001b[0mcore.conformation.Conformation: \u001b[0m[ WARNING ] missing heavyatom:  CE  on residue LYS 45\n",
      "\u001b[0mcore.conformation.Conformation: \u001b[0m[ WARNING ] missing heavyatom:  NZ  on residue LYS 45\n",
      "\u001b[0mcore.conformation.Conformation: \u001b[0m[ WARNING ] missing heavyatom:  CG  on residue LYS 140\n",
      "\u001b[0mcore.conformation.Conformation: \u001b[0m[ WARNING ] missing heavyatom:  CD  on residue LYS 140\n",
      "\u001b[0mcore.conformation.Conformation: \u001b[0m[ WARNING ] missing heavyatom:  CE  on residue LYS 140\n",
      "\u001b[0mcore.conformation.Conformation: \u001b[0m[ WARNING ] missing heavyatom:  NZ  on residue LYS 140\n",
      "\u001b[0mcore.conformation.Conformation: \u001b[0m[ WARNING ] missing heavyatom:  CG  on residue LYS 142\n",
      "\u001b[0mcore.conformation.Conformation: \u001b[0m[ WARNING ] missing heavyatom:  CD  on residue LYS 142\n",
      "\u001b[0mcore.conformation.Conformation: \u001b[0m[ WARNING ] missing heavyatom:  CE  on residue LYS 142\n",
      "\u001b[0mcore.conformation.Conformation: \u001b[0m[ WARNING ] missing heavyatom:  NZ  on residue LYS 142\n",
      "\u001b[0mcore.conformation.Conformation: \u001b[0m[ WARNING ] missing heavyatom:  CG  on residue LYS 154\n",
      "\u001b[0mcore.conformation.Conformation: \u001b[0m[ WARNING ] missing heavyatom:  CD  on residue LYS 154\n",
      "\u001b[0mcore.conformation.Conformation: \u001b[0m[ WARNING ] missing heavyatom:  CE  on residue LYS 154\n",
      "\u001b[0mcore.conformation.Conformation: \u001b[0m[ WARNING ] missing heavyatom:  NZ  on residue LYS 154\n",
      "\u001b[0mcore.pack.pack_missing_sidechains: \u001b[0mpacking residue number 7 because of missing atom number 6 atom name  CG \n",
      "\u001b[0mcore.pack.pack_missing_sidechains: \u001b[0mpacking residue number 41 because of missing atom number 6 atom name  CG \n",
      "\u001b[0mcore.pack.pack_missing_sidechains: \u001b[0mpacking residue number 43 because of missing atom number 6 atom name  CG \n",
      "\u001b[0mcore.pack.pack_missing_sidechains: \u001b[0mpacking residue number 45 because of missing atom number 6 atom name  CG \n",
      "\u001b[0mcore.pack.pack_missing_sidechains: \u001b[0mpacking residue number 140 because of missing atom number 6 atom name  CG \n",
      "\u001b[0mcore.pack.pack_missing_sidechains: \u001b[0mpacking residue number 142 because of missing atom number 6 atom name  CG \n",
      "\u001b[0mcore.pack.pack_missing_sidechains: \u001b[0mpacking residue number 154 because of missing atom number 6 atom name  CG \n",
      "\u001b[0mcore.pack.task: \u001b[0mPacker task: initialize from command line() \n",
      "\u001b[0mcore.scoring.ScoreFunctionFactory: \u001b[0mSCOREFUNCTION: \u001b[32mtalaris2013\u001b[0m\n",
      "\u001b[0mcore.pack.pack_rotamers: \u001b[0mbuilt 126 rotamers at 7 positions.\n",
      "\u001b[0mcore.pack.interaction_graph.interaction_graph_factory: \u001b[0mInstantiating DensePDInteractionGraph\n",
      "\u001b[0mcore.pack.interaction_graph.interaction_graph_factory: \u001b[0mIG: 10124 bytes\n"
     ]
    },
    {
     "data": {
      "text/plain": [
       "<rosetta.core.pose._core_pose_.Pose at 0x13a491590>"
      ]
     },
     "execution_count": 3,
     "metadata": {},
     "output_type": "execute_result"
    }
   ],
   "source": [
    "# a.\n",
    "initial_pose=rcsb.pose_from_rcsb('1kjg')\n",
    "pose=Pose()\n",
    "pose.assign(initial_pose)\n",
    "\n",
    "# create a list to define the task_pack\n",
    "aa_list=[8, 23, 25, 29,30, 32, 45, 47, 50, 53, 82, 84] \n",
    "new_list=[8, 23, 25, 29,30, 32, 45, 47, 50, 53, 82, 84] \n",
    "for i in aa_list:\n",
    "     new_list.append(pose.pdb_info().pdb2pose(\"B\", i))\n",
    "for i in range(2,10):\n",
    "     new_list.append(pose.pdb_info().pdb2pose(\"P\", i))  \n",
    "\n",
    "# set the task pack, movemap, scorefxn, pack mover, minmover\n",
    "task_pack = standard_packer_task(pose)\n",
    "task_pack.restrict_to_repacking()\n",
    "task_pack.temporarily_fix_everything()\n",
    "for i in new_list:\n",
    "    task_pack.temporarily_set_pack_residue(i, True)\n",
    "movemap=MoveMap()\n",
    "movemap.set_bb(False)\n",
    "movemap.set_chi(False)\n",
    "for i in new_list:\n",
    "    movemap.set_chi(i, True)\n",
    "scorefxn=get_fa_scorefxn()\n",
    "pack_mover=PackRotamersMover(scorefxn,task_pack)\n",
    "minmover=MinMover()\n",
    "minmover.movemap(movemap)\n",
    "minmover.score_function(scorefxn)\n"
   ]
  },
  {
   "cell_type": "code",
   "execution_count": 51,
   "metadata": {
    "collapsed": true
   },
   "outputs": [
    {
     "name": "stdout",
     "output_type": "stream",
     "text": [
      "\u001b[0mcore.pack.pack_rotamers: \u001b[0mbuilt 683 rotamers at 32 positions.\n",
      "\u001b[0mcore.pack.interaction_graph.interaction_graph_factory: \u001b[0mInstantiating DensePDInteractionGraph\n",
      "\u001b[0mcore.pack.interaction_graph.interaction_graph_factory: \u001b[0mIG: 583012 bytes\n",
      "-124.927109096\n",
      "\u001b[0mcore.pack.pack_rotamers: \u001b[0mbuilt 683 rotamers at 32 positions.\n",
      "\u001b[0mcore.pack.interaction_graph.interaction_graph_factory: \u001b[0mInstantiating DensePDInteractionGraph\n",
      "\u001b[0mcore.pack.interaction_graph.interaction_graph_factory: \u001b[0mIG: 583012 bytes\n",
      "-124.927109096\n",
      "\u001b[0mcore.pack.pack_rotamers: \u001b[0mbuilt 683 rotamers at 32 positions.\n",
      "\u001b[0mcore.pack.interaction_graph.interaction_graph_factory: \u001b[0mInstantiating DensePDInteractionGraph\n",
      "\u001b[0mcore.pack.interaction_graph.interaction_graph_factory: \u001b[0mIG: 583012 bytes\n",
      "-124.927109096\n",
      "\u001b[0mcore.pack.pack_rotamers: \u001b[0mbuilt 683 rotamers at 32 positions.\n",
      "\u001b[0mcore.pack.interaction_graph.interaction_graph_factory: \u001b[0mInstantiating DensePDInteractionGraph\n",
      "\u001b[0mcore.pack.interaction_graph.interaction_graph_factory: \u001b[0mIG: 583012 bytes\n",
      "-124.927109096\n",
      "\u001b[0mcore.pack.pack_rotamers: \u001b[0mbuilt 683 rotamers at 32 positions.\n",
      "\u001b[0mcore.pack.interaction_graph.interaction_graph_factory: \u001b[0mInstantiating DensePDInteractionGraph\n",
      "\u001b[0mcore.pack.interaction_graph.interaction_graph_factory: \u001b[0mIG: 583012 bytes\n",
      "-124.927109096\n",
      "\u001b[0mcore.pack.pack_rotamers: \u001b[0mbuilt 683 rotamers at 32 positions.\n",
      "\u001b[0mcore.pack.interaction_graph.interaction_graph_factory: \u001b[0mInstantiating DensePDInteractionGraph\n",
      "\u001b[0mcore.pack.interaction_graph.interaction_graph_factory: \u001b[0mIG: 583012 bytes\n",
      "-124.927109096\n",
      "\u001b[0mcore.pack.pack_rotamers: \u001b[0mbuilt 683 rotamers at 32 positions.\n",
      "\u001b[0mcore.pack.interaction_graph.interaction_graph_factory: \u001b[0mInstantiating DensePDInteractionGraph\n",
      "\u001b[0mcore.pack.interaction_graph.interaction_graph_factory: \u001b[0mIG: 583012 bytes\n",
      "-124.927109096\n",
      "\u001b[0mcore.pack.pack_rotamers: \u001b[0mbuilt 683 rotamers at 32 positions.\n",
      "\u001b[0mcore.pack.interaction_graph.interaction_graph_factory: \u001b[0mInstantiating DensePDInteractionGraph\n",
      "\u001b[0mcore.pack.interaction_graph.interaction_graph_factory: \u001b[0mIG: 583012 bytes\n",
      "-124.927109096\n",
      "\u001b[0mcore.pack.pack_rotamers: \u001b[0mbuilt 683 rotamers at 32 positions.\n",
      "\u001b[0mcore.pack.interaction_graph.interaction_graph_factory: \u001b[0mInstantiating DensePDInteractionGraph\n",
      "\u001b[0mcore.pack.interaction_graph.interaction_graph_factory: \u001b[0mIG: 583012 bytes\n",
      "-124.927109096\n",
      "\u001b[0mcore.pack.pack_rotamers: \u001b[0mbuilt 683 rotamers at 32 positions.\n",
      "\u001b[0mcore.pack.interaction_graph.interaction_graph_factory: \u001b[0mInstantiating DensePDInteractionGraph\n",
      "\u001b[0mcore.pack.interaction_graph.interaction_graph_factory: \u001b[0mIG: 583012 bytes\n",
      "-124.927109096\n"
     ]
    }
   ],
   "source": [
    "# b.\n",
    "# begin to search the wild type\n",
    "pose.assign(initial_pose)\n",
    "for i in range (1,11): \n",
    "    pack_mover.apply(pose)\n",
    "    minmover.apply(pose)\n",
    "    print scorefxn(pose)\n",
    "    with open('score_repacking.txt','a') as f:\n",
    "        f.write(str(scorefxn(pose))+'\\n')\n",
    "    pose.dump_pdb(str(i)+'_repacking.pdb')\n",
    "# the final score is -124.927109096"
   ]
  },
  {
   "cell_type": "code",
   "execution_count": 56,
   "metadata": {
    "collapsed": true
   },
   "outputs": [
    {
     "name": "stdout",
     "output_type": "stream",
     "text": [
      "\u001b[0mcore.pack.task: \u001b[0mPacker task: initialize from command line() \n",
      "\u001b[0mcore.pack.pack_rotamers: \u001b[0mbuilt 119 rotamers at 1 positions.\n",
      "\u001b[0mcore.pack.interaction_graph.interaction_graph_factory: \u001b[0mInstantiating PDInteractionGraph\n",
      "\u001b[0mcore.pack.interaction_graph.interaction_graph_factory: \u001b[0mIG: 3696 bytes\n",
      "\u001b[0mcore.pack.pack_rotamers: \u001b[0mbuilt 118 rotamers at 1 positions.\n",
      "\u001b[0mcore.pack.interaction_graph.interaction_graph_factory: \u001b[0mInstantiating PDInteractionGraph\n",
      "\u001b[0mcore.pack.interaction_graph.interaction_graph_factory: \u001b[0mIG: 3684 bytes\n",
      "\u001b[0mcore.pack.pack_rotamers: \u001b[0mbuilt 119 rotamers at 1 positions.\n",
      "\u001b[0mcore.pack.interaction_graph.interaction_graph_factory: \u001b[0mInstantiating PDInteractionGraph\n",
      "\u001b[0mcore.pack.interaction_graph.interaction_graph_factory: \u001b[0mIG: 3696 bytes\n",
      "\u001b[0mcore.pack.pack_rotamers: \u001b[0mbuilt 118 rotamers at 1 positions.\n",
      "\u001b[0mcore.pack.interaction_graph.interaction_graph_factory: \u001b[0mInstantiating PDInteractionGraph\n",
      "\u001b[0mcore.pack.interaction_graph.interaction_graph_factory: \u001b[0mIG: 3684 bytes\n",
      "\u001b[0mcore.pack.pack_rotamers: \u001b[0mbuilt 118 rotamers at 1 positions.\n",
      "\u001b[0mcore.pack.interaction_graph.interaction_graph_factory: \u001b[0mInstantiating PDInteractionGraph\n",
      "\u001b[0mcore.pack.interaction_graph.interaction_graph_factory: \u001b[0mIG: 3684 bytes\n",
      "\u001b[0mcore.pack.pack_rotamers: \u001b[0mbuilt 118 rotamers at 1 positions.\n",
      "\u001b[0mcore.pack.interaction_graph.interaction_graph_factory: \u001b[0mInstantiating PDInteractionGraph\n",
      "\u001b[0mcore.pack.interaction_graph.interaction_graph_factory: \u001b[0mIG: 3684 bytes\n",
      "\u001b[0mcore.pack.pack_rotamers: \u001b[0mbuilt 118 rotamers at 1 positions.\n",
      "\u001b[0mcore.pack.interaction_graph.interaction_graph_factory: \u001b[0mInstantiating PDInteractionGraph\n",
      "\u001b[0mcore.pack.interaction_graph.interaction_graph_factory: \u001b[0mIG: 3684 bytes\n",
      "\u001b[0mcore.pack.pack_rotamers: \u001b[0mbuilt 118 rotamers at 1 positions.\n",
      "\u001b[0mcore.pack.interaction_graph.interaction_graph_factory: \u001b[0mInstantiating PDInteractionGraph\n",
      "\u001b[0mcore.pack.interaction_graph.interaction_graph_factory: \u001b[0mIG: 3684 bytes\n",
      "\u001b[0mcore.pack.pack_rotamers: \u001b[0mbuilt 118 rotamers at 1 positions.\n",
      "\u001b[0mcore.pack.interaction_graph.interaction_graph_factory: \u001b[0mInstantiating PDInteractionGraph\n",
      "\u001b[0mcore.pack.interaction_graph.interaction_graph_factory: \u001b[0mIG: 3684 bytes\n",
      "\u001b[0mcore.pack.pack_rotamers: \u001b[0mbuilt 117 rotamers at 1 positions.\n",
      "\u001b[0mcore.pack.interaction_graph.interaction_graph_factory: \u001b[0mInstantiating PDInteractionGraph\n",
      "\u001b[0mcore.pack.interaction_graph.interaction_graph_factory: \u001b[0mIG: 3672 bytes\n"
     ]
    }
   ],
   "source": [
    "# c. \n",
    "# create mutant at position 199 ('P', 2)\n",
    "task_pack_mutation = standard_packer_task(pose)\n",
    "task_pack_mutation.temporarily_fix_everything()\n",
    "task_pack_mutation.temporarily_set_pack_residue(199, True)\n",
    "pack_mover_mutation=PackRotamersMover(scorefxn,task_pack_mutation)\n",
    "for i in range(1,11):\n",
    "    pack_mover_mutation.apply(pose)\n",
    "    minmover.apply(pose)\n",
    "    scorefxn(pose)\n",
    "    with open('score_mutant','a') as f:\n",
    "        f.write(str(scorefxn(pose))+'\\n')\n",
    "    pose.dump_pdb(str(i)+'_mutation.pdb')\n",
    "# best score: -127.740555546"
   ]
  },
  {
   "cell_type": "code",
   "execution_count": 55,
   "metadata": {
    "collapsed": true
   },
   "outputs": [
    {
     "name": "stdout",
     "output_type": "stream",
     "text": [
      "\u001b[0mcore.pack.task: \u001b[0mPacker task: initialize from command line() \n",
      "\u001b[0mcore.pack.pack_rotamers: \u001b[0mbuilt 117 rotamers at 1 positions.\n",
      "\u001b[0mcore.pack.interaction_graph.interaction_graph_factory: \u001b[0mInstantiating PDInteractionGraph\n",
      "\u001b[0mcore.pack.interaction_graph.interaction_graph_factory: \u001b[0mIG: 3672 bytes\n"
     ]
    },
    {
     "ename": "RuntimeError",
     "evalue": "unidentifiable C++ exception",
     "output_type": "error",
     "traceback": [
      "\u001b[0;31m---------------------------------------------------------------------------\u001b[0m",
      "\u001b[0;31mRuntimeError\u001b[0m                              Traceback (most recent call last)",
      "\u001b[0;32m<ipython-input-55-f168aa9c475b>\u001b[0m in \u001b[0;36m<module>\u001b[0;34m()\u001b[0m\n\u001b[1;32m      6\u001b[0m     \u001b[0mpack_mover\u001b[0m\u001b[0;34m=\u001b[0m\u001b[0mPackRotamersMover\u001b[0m\u001b[0;34m(\u001b[0m\u001b[0mscorefxn\u001b[0m\u001b[0;34m,\u001b[0m\u001b[0mtask_pack_mutation\u001b[0m\u001b[0;34m)\u001b[0m\u001b[0;34m\u001b[0m\u001b[0m\n\u001b[1;32m      7\u001b[0m     \u001b[0;32mfor\u001b[0m \u001b[0mi\u001b[0m \u001b[0;32min\u001b[0m \u001b[0mrange\u001b[0m\u001b[0;34m(\u001b[0m\u001b[0;36m1\u001b[0m\u001b[0;34m,\u001b[0m\u001b[0;36m11\u001b[0m\u001b[0;34m)\u001b[0m\u001b[0;34m:\u001b[0m\u001b[0;34m\u001b[0m\u001b[0m\n\u001b[0;32m----> 8\u001b[0;31m         \u001b[0mpack_mover\u001b[0m\u001b[0;34m.\u001b[0m\u001b[0mapply\u001b[0m\u001b[0;34m(\u001b[0m\u001b[0mpose\u001b[0m\u001b[0;34m)\u001b[0m\u001b[0;34m\u001b[0m\u001b[0m\n\u001b[0m\u001b[1;32m      9\u001b[0m         \u001b[0mminmover\u001b[0m\u001b[0;34m.\u001b[0m\u001b[0mapply\u001b[0m\u001b[0;34m(\u001b[0m\u001b[0mpose\u001b[0m\u001b[0;34m)\u001b[0m\u001b[0;34m\u001b[0m\u001b[0m\n\u001b[1;32m     10\u001b[0m         \u001b[0mscorefxn\u001b[0m\u001b[0;34m(\u001b[0m\u001b[0mpose\u001b[0m\u001b[0;34m)\u001b[0m\u001b[0;34m\u001b[0m\u001b[0m\n",
      "\u001b[0;31mRuntimeError\u001b[0m: unidentifiable C++ exception"
     ]
    }
   ],
   "source": [
    "# d.\n",
    "# create other single mutants at different positions\n",
    "### There is an error which I cannot solve. Thus I run the code without assign to the wild type each time.\n",
    "### thus accually rather than single mutants, the mutants are accumulated.\n",
    "wild_type=pose_from_file('10_repacking.pdb')\n",
    "pose.assign(wild_type)\n",
    "for resi in range(199,207):    \n",
    "    task_pack_mutation = standard_packer_task(pose)\n",
    "    task_pack_mutation.temporarily_fix_everything()\n",
    "    task_pack_mutation.temporarily_set_pack_residue(resi, True)\n",
    "    pack_mover=PackRotamersMover(scorefxn,task_pack_mutation)\n",
    "    for i in range(1,11):\n",
    "        pack_mover.apply(pose)\n",
    "        minmover.apply(pose)\n",
    "        scorefxn(pose)\n",
    "        with open(str(resi)+'_resi_score_mutant.txt','a') as f:\n",
    "            f.write(str(scorefxn(pose))+'\\n')\n",
    "        pose.dump_pdb(str(resi)+'_'+str(i)+'_mutation.pdb')\n",
    "# the lowest score is 200_10_mutation.pdb: -131.934716693"
   ]
  },
  {
   "cell_type": "code",
   "execution_count": null,
   "metadata": {
    "collapsed": true
   },
   "outputs": [],
   "source": [
    "'''\n",
    "e&f.\n",
    "# the wild type final score is -124.927109096\n",
    "resi  lowest_score\n",
    "199:-131.898937542\n",
    "200:-131.934716693\n",
    "201:-131.934716693\n",
    "202:-131.900721794 hardeat to improve(the score incresed while mutated)\n",
    "203:-131.786455346\n",
    "204:-131.932454516\n",
    "205:-131.862737463\n",
    "206:-131.927074199 easiest to imporove(the score decreased by 0.0526)\n",
    "\n",
    "except 202 residue, other residues mutations tend to improve the energy.\n",
    "\n",
    "\n",
    "g.\n",
    "It tends to become more hydrophobic and bulky.\n",
    "\n",
    "\n",
    "h:\n",
    "My result: 200_10 is the lowest energy structure. It is a A199S/E200W/T210V mutant.\n",
    "\n",
    "\n",
    "\n",
    "i:\n",
    "Natural substrates are often sub-optimal binders. Why would this be advantageous?\n",
    "First, there are different distributions for each type of the amino acids in orgaisms, thus \n",
    "some amino acids which can provide the best structure are rare. \n",
    "Second, if the energy is too low, the cost to seperate them apart is too high. To save more \n",
    "energy in the pathway, a sub-optimal structure can be a better choice. \n",
    "'''"
   ]
  }
 ],
 "metadata": {
  "kernelspec": {
   "display_name": "Python 2",
   "language": "python",
   "name": "python2"
  },
  "language_info": {
   "codemirror_mode": {
    "name": "ipython",
    "version": 2
   },
   "file_extension": ".py",
   "mimetype": "text/x-python",
   "name": "python",
   "nbconvert_exporter": "python",
   "pygments_lexer": "ipython2",
   "version": "2.7.10"
  }
 },
 "nbformat": 4,
 "nbformat_minor": 0
}
