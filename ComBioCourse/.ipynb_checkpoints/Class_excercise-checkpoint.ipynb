{
 "cells": [
  {
   "cell_type": "code",
   "execution_count": 2,
   "metadata": {
    "collapsed": false
   },
   "outputs": [
    {
     "name": "stdout",
     "output_type": "stream",
     "text": [
      "\u001b[0mcore.init: \u001b[0mRosetta version  from \n",
      "\u001b[0mcore.init: \u001b[0mcommand: PyRosetta -ex1 -ex2aro -database /Users/XT/ResearchApps/PyRosetta_1230/database\n",
      "\u001b[0mcore.init: \u001b[0m'RNG device' seed mode, using '/dev/urandom', seed=-1645161818 seed_offset=0 real_seed=-1645161818\n",
      "\u001b[0mcore.init.random: \u001b[0mRandomGenerator:init: Normal mode, seed=-1645161818 RG_type=mt19937\n"
     ]
    }
   ],
   "source": [
    "import sys\n",
    "import random\n",
    "from rosetta import *\n",
    "init()"
   ]
  },
  {
   "cell_type": "code",
   "execution_count": 90,
   "metadata": {
    "collapsed": false
   },
   "outputs": [],
   "source": [
    "class get_decoy:\n",
    "    def __init__(self,args):\n",
    "        self.args=args\n",
    "    def check_input(self):\n",
    "        #checking input\n",
    "        print args\n",
    "        if len(args)==3:\n",
    "            num_of_iterations=args[3]\n",
    "            num_of_decoys=args[2]\n",
    "            pose_name=args[1]\n",
    "            initial_pose=pose_from_rcsb(pose_name)\n",
    "            g=open(pose_name+'.clean.pdb','r')\n",
    "            new_pdb=open(pose_name+'.aa_only.pdb','w')\n",
    "            # delete lines which are not amino acid\n",
    "            for line in g.readlines():\n",
    "                if len(line.split()[3])==3:\n",
    "                    new_pdb.write(line)\n",
    "            g.close()\n",
    "            new_pdb.close()\n",
    "            initial_pose=pose_from_file(pose_name+'.aa_only.pdb')\n",
    "        elif len(args)==4:\n",
    "            num_of_iterations=args[3]\n",
    "            num_of_decoys=args[2]\n",
    "            aa_num=args[0]\n",
    "            aa_name=args[1]\n",
    "            initial_pose=pose_from_sequence(int(aa_num)*str(aa_name))\n",
    "        self.num_of_decoys=num_of_decoys\n",
    "        self.num_of_iterations=num_of_iterations\n",
    "        self.initial_pose=initial_pose\n",
    "        tot_resi=initial_pose.total_residue()\n",
    "        self.tot_resi=tot_resi\n",
    "        pose=Pose()\n",
    "        self.pose=pose\n",
    "        save_pose=Pose()\n",
    "        self.save_pose=save_pose\n",
    "        \n",
    "        scorefxn=ScoreFunction()   # I copied the weights from full-atom scorefxn\n",
    "        scorefxn.set_weight(fa_atr,0.8)\n",
    "        scorefxn.set_weight(fa_rep,0.44)\n",
    "        scorefxn.set_weight(hbond_sr_bb,1.17)\n",
    "        scorefxn.set_weight(hbond_lr_bb,1.17)\n",
    "        scorefxn.set_weight(hbond_bb_sc,1.17)\n",
    "        scorefxn.set_weight(hbond_sc,1.1)\n",
    "        self.scorefxn=scorefxn\n",
    "        \n",
    "        #score=scorefxn(pose)\n",
    "        #self.score=score\n",
    "\n",
    "    \n",
    "    def torsion_mover(self):\n",
    "        # randomly choose a residue\n",
    "        resi_num=random.randint(1,tot_resi)  # inclusive\n",
    "        # randomly choose a torsion angle\n",
    "        torsion=random.choice(['phi','psi'])\n",
    "        if torsion=='phi':\n",
    "            current_angle=pose.phi(resi_num)\n",
    "            new_angle=random.gauss(current_angle,25)\n",
    "            pose.set_phi(resi_num,new_angle)   # set a new angle\n",
    "        else:\n",
    "            current_angle=pose.psi(resi_num)\n",
    "            new_angle=random.gauss(current_angle,25)\n",
    "            pose.set_psi(resi_num,new_angle)\n",
    "\n",
    "    def score_pose(self):\n",
    "        # Scoring\n",
    "        old_score=score\n",
    "        score=scorefxn(pose)\n",
    "        delta_E=score-old_score\n",
    "        if delta_E>=0:\n",
    "            P=exp(-delta_E)*100\n",
    "            if P<random.randint(1,100):\n",
    "                pose.assign(save_pose)   # reject pose\n",
    "                score=scorefxn(pose)\n",
    "                \n",
    "    def generator(self):\n",
    "        f=open('torsion_angles.txt','w+')\n",
    "        for arg in args:\n",
    "            f.write(str(arg)+'\\t')\n",
    "        f.write('\\n'+'decoy_num'+'\\t'+'phi'+'\\t\\t'+'psi'+'\\n')\n",
    "\n",
    "        # decoys loop\n",
    "        for decoy_num in range(1,num_of_decoys+1):\n",
    "            pose.assign(initial_pose)   # reset pose to the start point everytime\n",
    "            for iteration in range(num_of_iterations):    # iterations\n",
    "                save_pose.assign(pose)   # store last accepted pose\n",
    "                torsion_mover()\n",
    "                score_pose()\n",
    "            # phi psi write to a file\n",
    "            for resi_num in range(1,tot_resi+1):\n",
    "                phi=pose.phi(resi_num)\n",
    "                psi=pose.psi(resi_num)\n",
    "                f.write(str(decoy_num)+'\\t'+str(phi)+'\\t'+str(psi)+'\\n')\n",
    "        f.close()\n"
   ]
  },
  {
   "cell_type": "code",
   "execution_count": 73,
   "metadata": {
    "collapsed": true
   },
   "outputs": [],
   "source": [
    "x=get_decoy(args)"
   ]
  },
  {
   "cell_type": "code",
   "execution_count": 74,
   "metadata": {
    "collapsed": false
   },
   "outputs": [
    {
     "data": {
      "text/plain": [
       "[10, 'A', 3, 100]"
      ]
     },
     "execution_count": 74,
     "metadata": {},
     "output_type": "execute_result"
    }
   ],
   "source": [
    "x.args"
   ]
  },
  {
   "cell_type": "code",
   "execution_count": 75,
   "metadata": {
    "collapsed": false
   },
   "outputs": [
    {
     "name": "stdout",
     "output_type": "stream",
     "text": [
      "[10, 'A', 3, 100]\n"
     ]
    }
   ],
   "source": [
    "x.check_input()"
   ]
  },
  {
   "cell_type": "code",
   "execution_count": 76,
   "metadata": {
    "collapsed": true
   },
   "outputs": [
    {
     "name": "stdout",
     "output_type": "stream",
     "text": [
      "ScoreFunction::show():\n",
      "weights: (fa_atr 0.8) (fa_rep 0.44) (hbond_sr_bb 1.17) (hbond_lr_bb 1.17) (hbond_bb_sc 1.17) (hbond_sc 1.1)\n",
      "energy_method_options: EnergyMethodOptions::show: aa_composition_setup_files: \n",
      "EnergyMethodOptions::show: etable_type: FA_STANDARD_DEFAULT\n",
      "analytic_etable_evaluation: 1\n",
      "EnergyMethodOptions::show: method_weights: free_res\n",
      "EnergyMethodOptions::show: unfolded_energies_type: UNFOLDED_SCORE12\n",
      "EnergyMethodOptions::show: split_unfolded_label_type: SPLIT_UNFOLDED_MM\n",
      "EnergyMethodOptions::show: split_unfolded_value_type: SPLIT_UNFOLDED_BOLTZ\n",
      "EnergyMethodOptions::show: atom_vdw_atom_type_set_name: centroid\n",
      "EnergyMethodOptions::show: exclude_protein_protein_fa_elec: false\n",
      "EnergyMethodOptions::show: exclude_monomer_fa_elec: false\n",
      "EnergyMethodOptions::show: elec_max_dis: 5.5\n",
      "EnergyMethodOptions::show: elec_min_dis: 1.6\n",
      "EnergyMethodOptions::show: elec_die: 10\n",
      "EnergyMethodOptions::show: elec_no_dis_dep_die: false\n",
      "EnergyMethodOptions::show: elec_sigmoidal_die: false\n",
      "EnergyMethodOptions::show: elec_sigmoidal_D: 78\n",
      "EnergyMethodOptions::show: elec_sigmoidal_D0: 2\n",
      "EnergyMethodOptions::show: elec_sigmoidal_S: 0.36\n",
      "EnergyMethodOptions::show: smooth_fa_elec: true\n",
      "EnergyMethodOptions::show: grpelec_fade_type: false\n",
      "EnergyMethodOptions::show: grpelec_fade_param1: 1\n",
      "EnergyMethodOptions::show: grpelec_fade_param2: 1\n",
      "EnergyMethodOptions::show: grpelec_fade_hbond: 0\n",
      "EnergyMethodOptions::show: grp_cpfxn: 1\n",
      "EnergyMethodOptions::show: elec_group_file: /scoring/score_functions/elec_group_def.dat\n",
      "EnergyMethodOptions::show: grpelec_context_dependent: 0\n",
      "EnergyMethodOptions::show: use_polarization: true\n",
      "EnergyMethodOptions::show: use_gen_kirkwood: true\n",
      "EnergyMethodOptions::show: protein_dielectric: 1\n",
      "EnergyMethodOptions::show: water_dielectric: 78.3\n",
      "EnergyMethodOptions::show: exclude_DNA_DNA: true\n",
      "EnergyMethodOptions::show: exclude_intra_res_protein: true\n",
      "EnergyMethodOptions::show: put_intra_into_total: false\n",
      "EnergyMethodOptions::show: geom_sol_interres_path_distance_cutoff: false\n",
      "EnergyMethodOptions::show: geom_sol_intrares_path_distance_cutoff: true\n",
      "EnergyMethodOptions::show: envsmooth_zero_negatives: false\n",
      "EnergyMethodOptions::show: cst_max_seq_sep: 18446744073709551615\n",
      "EnergyMethodOptions::show: pb_bound_tag: bound\n",
      "EnergyMethodOptions::show: pb_unbound_tag: unbound\n",
      "EnergyMethodOptions::show: bond_angle_central_atoms_to_score:\n",
      "EnergyMethodOptions::show: bond_angle_residue_type_param_set: none\n",
      "HBondOptions::show: exclude_DNA_DNA: true\n",
      "HBondOptions::show: exclude_intra_res_protein_: true\n",
      "HBondOptions::show: exclude_intra_res_RNA_: false\n",
      "HBondOptions::show: put_intra_into_total_: false\n",
      "HBondOptions::show: exclude_self_hbonds: true\n",
      "HBondOptions::show: use_hb_env_dep: true\n",
      "HBondOptions::show: use_hb_env_dep_DNA: true\n",
      "HBondOptions::show: smooth_hb_env_dep: true\n",
      "HBondOptions::show: bb_donor_acceptor_check: true\n",
      "HBondOptions::show: decompose_bb_hb_into_pair_energies: false\n",
      "HBondOptions::show: params_database_tag_: sp2_elec_params\n",
      "HBondOptions::show: use_sp2_chi_penalty_: true\n",
      "HBondOptions::show: sp2_BAH180_rise_: 0.75\n",
      "HBondOptions::show: sp2_outer_width_: 0.357\n",
      "HBondOptions::show: measure_sp3acc_BAH_from_hvy_: true\n",
      "HBondOptions::show: fade_energy_: 1\n",
      "HBondOptions::show: Mbhbond: false \n",
      "HbondOptions::show: mphbond: false\n",
      "HBondOptions::show: hbond_energy_shift: 0\n",
      "RNA_EnergyMethodOptions::show: syn_G_potential_bonus: 0\n",
      "RNA_EnergyMethodOptions::show: torsion_potential: ps_04282011\n",
      "RNA_EnergyMethodOptions::show: suiteness_bonus: Richardson\n",
      "FreeDOF_Options::show: free_suite_bonus: -1\n",
      "FreeDOF_Options::show: free_2HOprime_bonus: -0.5\n",
      "FreeDOF_Options::show: free_sugar_bonus: -1\n",
      "FreeDOF_Options::show: pack_phosphate_penalty: 0.25\n",
      "FreeDOF_Options::show: free_side_chain_bonus: -0.5\n",
      "\n",
      "\n"
     ]
    }
   ],
   "source": [
    "print x.scorefxn"
   ]
  },
  {
   "cell_type": "code",
   "execution_count": 80,
   "metadata": {
    "collapsed": false
   },
   "outputs": [
    {
     "data": {
      "text/plain": [
       "3"
      ]
     },
     "execution_count": 80,
     "metadata": {},
     "output_type": "execute_result"
    }
   ],
   "source": [
    "x.num_of_decoys"
   ]
  },
  {
   "cell_type": "code",
   "execution_count": 91,
   "metadata": {
    "collapsed": false
   },
   "outputs": [],
   "source": [
    "def main(args):\n",
    "    x=get_decoy(args)\n",
    "    x.check_input()\n",
    "    x.generator()\n",
    "    print'done'"
   ]
  },
  {
   "cell_type": "code",
   "execution_count": 92,
   "metadata": {
    "collapsed": false
   },
   "outputs": [
    {
     "name": "stdout",
     "output_type": "stream",
     "text": [
      "[10, 'A', 3, 100]\n"
     ]
    },
    {
     "ename": "NameError",
     "evalue": "global name 'num_of_decoys' is not defined",
     "output_type": "error",
     "traceback": [
      "\u001b[0;31m---------------------------------------------------------------------------\u001b[0m",
      "\u001b[0;31mNameError\u001b[0m                                 Traceback (most recent call last)",
      "\u001b[0;32m<ipython-input-92-484a5467b184>\u001b[0m in \u001b[0;36m<module>\u001b[0;34m()\u001b[0m\n\u001b[1;32m      1\u001b[0m \u001b[0margs\u001b[0m\u001b[0;34m=\u001b[0m\u001b[0;34m[\u001b[0m\u001b[0;36m10\u001b[0m\u001b[0;34m,\u001b[0m \u001b[0;34m'A'\u001b[0m\u001b[0;34m,\u001b[0m \u001b[0;36m3\u001b[0m\u001b[0;34m,\u001b[0m \u001b[0;36m100\u001b[0m\u001b[0;34m]\u001b[0m\u001b[0;34m\u001b[0m\u001b[0m\n\u001b[0;32m----> 2\u001b[0;31m \u001b[0mmain\u001b[0m\u001b[0;34m(\u001b[0m\u001b[0margs\u001b[0m\u001b[0;34m)\u001b[0m\u001b[0;34m\u001b[0m\u001b[0m\n\u001b[0m",
      "\u001b[0;32m<ipython-input-91-98aaa87ae244>\u001b[0m in \u001b[0;36mmain\u001b[0;34m(args)\u001b[0m\n\u001b[1;32m      2\u001b[0m     \u001b[0mx\u001b[0m\u001b[0;34m=\u001b[0m\u001b[0mget_decoy\u001b[0m\u001b[0;34m(\u001b[0m\u001b[0margs\u001b[0m\u001b[0;34m)\u001b[0m\u001b[0;34m\u001b[0m\u001b[0m\n\u001b[1;32m      3\u001b[0m     \u001b[0mx\u001b[0m\u001b[0;34m.\u001b[0m\u001b[0mcheck_input\u001b[0m\u001b[0;34m(\u001b[0m\u001b[0;34m)\u001b[0m\u001b[0;34m\u001b[0m\u001b[0m\n\u001b[0;32m----> 4\u001b[0;31m     \u001b[0mx\u001b[0m\u001b[0;34m.\u001b[0m\u001b[0mgenerator\u001b[0m\u001b[0;34m(\u001b[0m\u001b[0;34m)\u001b[0m\u001b[0;34m\u001b[0m\u001b[0m\n\u001b[0m\u001b[1;32m      5\u001b[0m     \u001b[0;32mprint\u001b[0m\u001b[0;34m'done'\u001b[0m\u001b[0;34m\u001b[0m\u001b[0m\n",
      "\u001b[0;32m<ipython-input-90-b77188a8cc24>\u001b[0m in \u001b[0;36mgenerator\u001b[0;34m(self)\u001b[0m\n\u001b[1;32m     87\u001b[0m \u001b[0;34m\u001b[0m\u001b[0m\n\u001b[1;32m     88\u001b[0m         \u001b[0;31m# decoys loop\u001b[0m\u001b[0;34m\u001b[0m\u001b[0;34m\u001b[0m\u001b[0m\n\u001b[0;32m---> 89\u001b[0;31m         \u001b[0;32mfor\u001b[0m \u001b[0mdecoy_num\u001b[0m \u001b[0;32min\u001b[0m \u001b[0mrange\u001b[0m\u001b[0;34m(\u001b[0m\u001b[0;36m1\u001b[0m\u001b[0;34m,\u001b[0m\u001b[0mnum_of_decoys\u001b[0m\u001b[0;34m+\u001b[0m\u001b[0;36m1\u001b[0m\u001b[0;34m)\u001b[0m\u001b[0;34m:\u001b[0m\u001b[0;34m\u001b[0m\u001b[0m\n\u001b[0m\u001b[1;32m     90\u001b[0m             \u001b[0mpose\u001b[0m\u001b[0;34m.\u001b[0m\u001b[0massign\u001b[0m\u001b[0;34m(\u001b[0m\u001b[0minitial_pose\u001b[0m\u001b[0;34m)\u001b[0m   \u001b[0;31m# reset pose to the start point everytime\u001b[0m\u001b[0;34m\u001b[0m\u001b[0m\n\u001b[1;32m     91\u001b[0m             \u001b[0;32mfor\u001b[0m \u001b[0miteration\u001b[0m \u001b[0;32min\u001b[0m \u001b[0mrange\u001b[0m\u001b[0;34m(\u001b[0m\u001b[0mnum_of_iterations\u001b[0m\u001b[0;34m)\u001b[0m\u001b[0;34m:\u001b[0m    \u001b[0;31m# iterations\u001b[0m\u001b[0;34m\u001b[0m\u001b[0m\n",
      "\u001b[0;31mNameError\u001b[0m: global name 'num_of_decoys' is not defined"
     ]
    }
   ],
   "source": [
    "args=[10, 'A', 3, 100]\n",
    "main(args)"
   ]
  },
  {
   "cell_type": "code",
   "execution_count": 85,
   "metadata": {
    "collapsed": false
   },
   "outputs": [
    {
     "data": {
      "text/plain": [
       "<rosetta.core.pose._core_pose_.Pose at 0x1395719f0>"
      ]
     },
     "execution_count": 85,
     "metadata": {},
     "output_type": "execute_result"
    }
   ],
   "source": [
    "x.pose"
   ]
  },
  {
   "cell_type": "code",
   "execution_count": null,
   "metadata": {
    "collapsed": true
   },
   "outputs": [],
   "source": []
  }
 ],
 "metadata": {
  "kernelspec": {
   "display_name": "Python 2",
   "language": "python",
   "name": "python2"
  },
  "language_info": {
   "codemirror_mode": {
    "name": "ipython",
    "version": 2
   },
   "file_extension": ".py",
   "mimetype": "text/x-python",
   "name": "python",
   "nbconvert_exporter": "python",
   "pygments_lexer": "ipython2",
   "version": "2.7.10"
  }
 },
 "nbformat": 4,
 "nbformat_minor": 0
}
