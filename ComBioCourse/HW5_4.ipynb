{
 "cells": [
  {
   "cell_type": "code",
   "execution_count": 1,
   "metadata": {
    "collapsed": false
   },
   "outputs": [
    {
     "name": "stdout",
     "output_type": "stream",
     "text": [
      "\u001b[0mcore.init: \u001b[0mRosetta version  from \n",
      "\u001b[0mcore.init: \u001b[0mcommand: PyRosetta -ex1 -ex2aro -database /Users/XT/ResearchApps/PyRosetta_1230/database\n",
      "\u001b[0mcore.init: \u001b[0m'RNG device' seed mode, using '/dev/urandom', seed=818306491 seed_offset=0 real_seed=818306491\n",
      "\u001b[0mcore.init.random: \u001b[0mRandomGenerator:init: Normal mode, seed=818306491 RG_type=mt19937\n"
     ]
    }
   ],
   "source": [
    "from rosetta import *\n",
    "init()"
   ]
  },
  {
   "cell_type": "code",
   "execution_count": 2,
   "metadata": {
    "collapsed": true
   },
   "outputs": [],
   "source": [
    "seq='NFYGELVDLGVKEKLIEKAGAWYSYKGEKIGQGKANATAWLKDNPETAKEIEKKVRELLL'"
   ]
  },
  {
   "cell_type": "code",
   "execution_count": 27,
   "metadata": {
    "collapsed": false
   },
   "outputs": [
    {
     "data": {
      "text/plain": [
       "<rosetta.core.pose._core_pose_.Pose at 0x1503cdbb0>"
      ]
     },
     "execution_count": 27,
     "metadata": {},
     "output_type": "execute_result"
    }
   ],
   "source": [
    "initial_pose=pose_from_sequence(seq)\n",
    "pose=Pose()\n",
    "pose.assign(initial_pose)"
   ]
  },
  {
   "cell_type": "code",
   "execution_count": 29,
   "metadata": {
    "collapsed": false
   },
   "outputs": [],
   "source": [
    "pmm=PyMolMover()\n",
    "pmm.apply(pose)"
   ]
  },
  {
   "cell_type": "code",
   "execution_count": 5,
   "metadata": {
    "collapsed": false,
    "scrolled": true
   },
   "outputs": [
    {
     "name": "stdout",
     "output_type": "stream",
     "text": [
      "\u001b[0mcore.fragments.ConstantLengthFragSet: \u001b[0mfinished reading top 200 9mer fragments from file aat000_09_05.200_v1_3\n",
      "\u001b[0mcore.fragments.ConstantLengthFragSet: \u001b[0mfinished reading top 200 3mer fragments from file aat000_03_05.200_v1_3\n"
     ]
    }
   ],
   "source": [
    "kT=1\n",
    "mm = MoveMap()\n",
    "mm.set_bb(True)\n",
    "\n",
    "fragset9 = ConstantLengthFragSet(9)\n",
    "fragset9.read_fragment_file(\"aat000_09_05.200_v1_3\")\n",
    "mover_9mer = ClassicFragmentMover(fragset9, mm)\n",
    "fragset3 = ConstantLengthFragSet(3)\n",
    "fragset3.read_fragment_file(\"aat000_03_05.200_v1_3\")\n",
    "mover_3mer = ClassicFragmentMover(fragset3, mm)\n",
    "\n"
   ]
  },
  {
   "cell_type": "code",
   "execution_count": 30,
   "metadata": {
    "collapsed": false
   },
   "outputs": [],
   "source": [
    "# protocol\n",
    "switch = SwitchResidueTypeSetMover(\"centroid\")\n",
    "switch.apply(pose)\n",
    "\n",
    "centroid_scorefxn=get_cen_scorefxn()\n",
    "mc_low=MonteCarlo(pose,centroid_scorefxn,kT)\n",
    "pmm.apply(pose)"
   ]
  },
  {
   "cell_type": "code",
   "execution_count": 31,
   "metadata": {
    "collapsed": false
   },
   "outputs": [
    {
     "data": {
      "text/plain": [
       "True"
      ]
     },
     "execution_count": 31,
     "metadata": {},
     "output_type": "execute_result"
    }
   ],
   "source": [
    "for iteration in range(1000):\n",
    "    mover_9mer.apply(pose)\n",
    "    mc_low.boltzmann(pose)\n",
    "for iteration in range(2000):\n",
    "    mover_3mer.apply(pose) \n",
    "    mc_low.boltzmann(pose)\n",
    "    pmm.apply(pose)\n"
   ]
  },
  {
   "cell_type": "code",
   "execution_count": null,
   "metadata": {
    "collapsed": true
   },
   "outputs": [],
   "source": [
    "pose.dump_pdb('Low_Res_decoy.pdb')"
   ]
  },
  {
   "cell_type": "code",
   "execution_count": 32,
   "metadata": {
    "collapsed": false
   },
   "outputs": [
    {
     "name": "stdout",
     "output_type": "stream",
     "text": [
      "\u001b[0mcore.scoring.ScoreFunctionFactory: \u001b[0mSCOREFUNCTION: \u001b[32mtalaris2013\u001b[0m\n"
     ]
    }
   ],
   "source": [
    "switch = SwitchResidueTypeSetMover(\"fa_standard\")\n",
    "switch.apply(pose)\n",
    "\n",
    "scorefxn=get_fa_scorefxn()\n",
    "mc=MonteCarlo(pose,scorefxn,kT)\n",
    "smallmover=SmallMover(mm,kT,5)\n",
    "shearmover=ShearMover(mm,kT,5)\n",
    "minmover=MinMover()\n",
    "minmover.movemap(mm)   \n",
    "minmover.score_function(scorefxn)\n",
    "minmover.min_type('dfpmin')"
   ]
  },
  {
   "cell_type": "code",
   "execution_count": 34,
   "metadata": {
    "collapsed": false
   },
   "outputs": [],
   "source": [
    "for minmove in range(10):\n",
    "    for torsion_mover in range(100):\n",
    "        smallmover.apply(pose)\n",
    "        shearmover.apply(pose)\n",
    "        mc.boltzmann(pose)\n",
    "    minmover.apply(pose)\n",
    "    mc.boltzmann(pose)\n",
    "    pmm.apply(pose)\n",
    "\n",
    "    "
   ]
  },
  {
   "cell_type": "code",
   "execution_count": 35,
   "metadata": {
    "collapsed": false
   },
   "outputs": [
    {
     "data": {
      "text/plain": [
       "True"
      ]
     },
     "execution_count": 35,
     "metadata": {},
     "output_type": "execute_result"
    }
   ],
   "source": [
    "pose.dump_pdb('High_Res_decoy.pdb')"
   ]
  },
  {
   "cell_type": "code",
   "execution_count": null,
   "metadata": {
    "collapsed": true
   },
   "outputs": [],
   "source": []
  }
 ],
 "metadata": {
  "kernelspec": {
   "display_name": "Python 2",
   "language": "python",
   "name": "python2"
  },
  "language_info": {
   "codemirror_mode": {
    "name": "ipython",
    "version": 2
   },
   "file_extension": ".py",
   "mimetype": "text/x-python",
   "name": "python",
   "nbconvert_exporter": "python",
   "pygments_lexer": "ipython2",
   "version": "2.7.10"
  }
 },
 "nbformat": 4,
 "nbformat_minor": 0
}
