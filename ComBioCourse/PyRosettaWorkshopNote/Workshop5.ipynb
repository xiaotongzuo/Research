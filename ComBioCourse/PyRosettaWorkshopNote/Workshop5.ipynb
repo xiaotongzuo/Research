{
 "cells": [
  {
   "cell_type": "code",
   "execution_count": 12,
   "metadata": {
    "collapsed": false
   },
   "outputs": [
    {
     "name": "stdout",
     "output_type": "stream",
     "text": [
      "\u001b[0mcore.init: \u001b[0mRosetta version  from \n",
      "\u001b[0mcore.init: \u001b[0mcommand: PyRosetta -ex1 -ex2aro -database /Users/Shared/PyRosetta/database\n",
      "\u001b[0mcore.init: \u001b[0m'RNG device' seed mode, using '/dev/urandom', seed=-1945607646 seed_offset=0 real_seed=-1945607646\n",
      "\u001b[0mcore.init.random: \u001b[0mRandomGenerator:init: Normal mode, seed=-1945607646 RG_type=mt19937\n"
     ]
    }
   ],
   "source": [
    "from rosetta import *\n",
    "init(notebook=True)\n",
    "from toolbox import pose_from_rcsb"
   ]
  },
  {
   "cell_type": "code",
   "execution_count": 18,
   "metadata": {
    "collapsed": true
   },
   "outputs": [
    {
     "name": "stdout",
     "output_type": "stream",
     "text": [
      "PDB 1YY8 successfully loaded from the RCSB into 1YY8.pdb.\n",
      "If the file 1YY8.clean.pdb already exists,it will be overwritten.\n",
      "PDB 1YY8.pdb successfully cleaned, non-ATOM lines removed.\n",
      "Clean data written to 1YY8.clean.pdb.\n",
      "\u001b[0mcore.conformation.Conformation: \u001b[0m[ WARNING ] missing heavyatom:  CG  on residue ARG 18\n",
      "\u001b[0mcore.conformation.Conformation: \u001b[0m[ WARNING ] missing heavyatom:  CD  on residue ARG 18\n",
      "\u001b[0mcore.conformation.Conformation: \u001b[0m[ WARNING ] missing heavyatom:  NE  on residue ARG 18\n",
      "\u001b[0mcore.conformation.Conformation: \u001b[0m[ WARNING ] missing heavyatom:  CZ  on residue ARG 18\n",
      "\u001b[0mcore.conformation.Conformation: \u001b[0m[ WARNING ] missing heavyatom:  NH1 on residue ARG 18\n",
      "\u001b[0mcore.conformation.Conformation: \u001b[0m[ WARNING ] missing heavyatom:  NH2 on residue ARG 18\n",
      "\u001b[0mcore.conformation.Conformation: \u001b[0m[ WARNING ] missing heavyatom:  CG  on residue GLN:NtermProteinFull 214\n",
      "\u001b[0mcore.conformation.Conformation: \u001b[0m[ WARNING ] missing heavyatom:  CD  on residue GLN:NtermProteinFull 214\n",
      "\u001b[0mcore.conformation.Conformation: \u001b[0m[ WARNING ] missing heavyatom:  OE1 on residue GLN:NtermProteinFull 214\n",
      "\u001b[0mcore.conformation.Conformation: \u001b[0m[ WARNING ] missing heavyatom:  NE2 on residue GLN:NtermProteinFull 214\n",
      "\u001b[0mcore.conformation.Conformation: \u001b[0m[ WARNING ] missing heavyatom:  CG  on residue ARG 452\n",
      "\u001b[0mcore.conformation.Conformation: \u001b[0m[ WARNING ] missing heavyatom:  CD  on residue ARG 452\n",
      "\u001b[0mcore.conformation.Conformation: \u001b[0m[ WARNING ] missing heavyatom:  NE  on residue ARG 452\n",
      "\u001b[0mcore.conformation.Conformation: \u001b[0m[ WARNING ] missing heavyatom:  CZ  on residue ARG 452\n",
      "\u001b[0mcore.conformation.Conformation: \u001b[0m[ WARNING ] missing heavyatom:  NH1 on residue ARG 452\n",
      "\u001b[0mcore.conformation.Conformation: \u001b[0m[ WARNING ] missing heavyatom:  NH2 on residue ARG 452\n",
      "\u001b[0mcore.conformation.Conformation: \u001b[0m[ WARNING ] missing heavyatom:  CG  on residue GLN:NtermProteinFull 648\n",
      "\u001b[0mcore.conformation.Conformation: \u001b[0m[ WARNING ] missing heavyatom:  CD  on residue GLN:NtermProteinFull 648\n",
      "\u001b[0mcore.conformation.Conformation: \u001b[0m[ WARNING ] missing heavyatom:  OE1 on residue GLN:NtermProteinFull 648\n",
      "\u001b[0mcore.conformation.Conformation: \u001b[0m[ WARNING ] missing heavyatom:  NE2 on residue GLN:NtermProteinFull 648\n",
      "\u001b[0mcore.conformation.Conformation: \u001b[0mFound disulfide between residues 23 88\n",
      "\u001b[0mcore.conformation.Conformation: \u001b[0mcurrent variant for 23 CYS\n",
      "\u001b[0mcore.conformation.Conformation: \u001b[0mcurrent variant for 88 CYS\n",
      "\u001b[0mcore.conformation.Conformation: \u001b[0mcurrent variant for 23 CYD\n",
      "\u001b[0mcore.conformation.Conformation: \u001b[0mcurrent variant for 88 CYD\n",
      "\u001b[0mcore.conformation.Conformation: \u001b[0mFound disulfide between residues 134 194\n",
      "\u001b[0mcore.conformation.Conformation: \u001b[0mcurrent variant for 134 CYS\n",
      "\u001b[0mcore.conformation.Conformation: \u001b[0mcurrent variant for 194 CYS\n",
      "\u001b[0mcore.conformation.Conformation: \u001b[0mcurrent variant for 134 CYD\n",
      "\u001b[0mcore.conformation.Conformation: \u001b[0mcurrent variant for 194 CYD\n",
      "\u001b[0mcore.conformation.Conformation: \u001b[0mFound disulfide between residues 235 308\n",
      "\u001b[0mcore.conformation.Conformation: \u001b[0mcurrent variant for 235 CYS\n",
      "\u001b[0mcore.conformation.Conformation: \u001b[0mcurrent variant for 308 CYS\n",
      "\u001b[0mcore.conformation.Conformation: \u001b[0mcurrent variant for 235 CYD\n",
      "\u001b[0mcore.conformation.Conformation: \u001b[0mcurrent variant for 308 CYD\n",
      "\u001b[0mcore.conformation.Conformation: \u001b[0mFound disulfide between residues 359 415\n",
      "\u001b[0mcore.conformation.Conformation: \u001b[0mcurrent variant for 359 CYS\n",
      "\u001b[0mcore.conformation.Conformation: \u001b[0mcurrent variant for 415 CYS\n",
      "\u001b[0mcore.conformation.Conformation: \u001b[0mcurrent variant for 359 CYD\n",
      "\u001b[0mcore.conformation.Conformation: \u001b[0mcurrent variant for 415 CYD\n",
      "\u001b[0mcore.conformation.Conformation: \u001b[0mFound disulfide between residues 457 522\n",
      "\u001b[0mcore.conformation.Conformation: \u001b[0mcurrent variant for 457 CYS\n",
      "\u001b[0mcore.conformation.Conformation: \u001b[0mcurrent variant for 522 CYS\n",
      "\u001b[0mcore.conformation.Conformation: \u001b[0mcurrent variant for 457 CYD\n",
      "\u001b[0mcore.conformation.Conformation: \u001b[0mcurrent variant for 522 CYD\n",
      "\u001b[0mcore.conformation.Conformation: \u001b[0mFound disulfide between residues 568 628\n",
      "\u001b[0mcore.conformation.Conformation: \u001b[0mcurrent variant for 568 CYS\n",
      "\u001b[0mcore.conformation.Conformation: \u001b[0mcurrent variant for 628 CYS\n",
      "\u001b[0mcore.conformation.Conformation: \u001b[0mcurrent variant for 568 CYD\n",
      "\u001b[0mcore.conformation.Conformation: \u001b[0mcurrent variant for 628 CYD\n",
      "\u001b[0mcore.conformation.Conformation: \u001b[0mFound disulfide between residues 669 742\n",
      "\u001b[0mcore.conformation.Conformation: \u001b[0mcurrent variant for 669 CYS\n",
      "\u001b[0mcore.conformation.Conformation: \u001b[0mcurrent variant for 742 CYS\n",
      "\u001b[0mcore.conformation.Conformation: \u001b[0mcurrent variant for 669 CYD\n",
      "\u001b[0mcore.conformation.Conformation: \u001b[0mcurrent variant for 742 CYD\n",
      "\u001b[0mcore.conformation.Conformation: \u001b[0mFound disulfide between residues 793 849\n",
      "\u001b[0mcore.conformation.Conformation: \u001b[0mcurrent variant for 793 CYS\n",
      "\u001b[0mcore.conformation.Conformation: \u001b[0mcurrent variant for 849 CYS\n",
      "\u001b[0mcore.conformation.Conformation: \u001b[0mcurrent variant for 793 CYD\n",
      "\u001b[0mcore.conformation.Conformation: \u001b[0mcurrent variant for 849 CYD\n",
      "\u001b[0mcore.pack.pack_missing_sidechains: \u001b[0mpacking residue number 18 because of missing atom number 6 atom name  CG \n",
      "\u001b[0mcore.pack.pack_missing_sidechains: \u001b[0mpacking residue number 214 because of missing atom number 6 atom name  CG \n",
      "\u001b[0mcore.pack.pack_missing_sidechains: \u001b[0mpacking residue number 452 because of missing atom number 6 atom name  CG \n",
      "\u001b[0mcore.pack.pack_missing_sidechains: \u001b[0mpacking residue number 648 because of missing atom number 6 atom name  CG \n",
      "\u001b[0mcore.pack.task: \u001b[0mPacker task: initialize from command line() \n",
      "\u001b[0mcore.scoring.ScoreFunctionFactory: \u001b[0mSCOREFUNCTION: \u001b[32mtalaris2013\u001b[0m\n",
      "\u001b[0mcore.pack.pack_rotamers: \u001b[0mbuilt 91 rotamers at 4 positions.\n",
      "\u001b[0mcore.pack.interaction_graph.interaction_graph_factory: \u001b[0mInstantiating DensePDInteractionGraph\n",
      "\u001b[0mcore.pack.interaction_graph.interaction_graph_factory: \u001b[0mIG: 2068 bytes\n"
     ]
    }
   ],
   "source": [
    "pose=pose_from_rcsb(\"1YY8\")"
   ]
  },
  {
   "cell_type": "code",
   "execution_count": null,
   "metadata": {
    "collapsed": true
   },
   "outputs": [],
   "source": [
    "\"\"\"\n",
    "UML:\n",
    "close: has a \n",
    "v.s.\n",
    "open: share\n",
    "\n",
    "fragment mover?\n",
    "\"\"\""
   ]
  },
  {
   "cell_type": "code",
   "execution_count": null,
   "metadata": {
    "collapsed": true
   },
   "outputs": [],
   "source": [
    "\"\"\"Mover, Movemap, MonteCarlo Object, \"\"\""
   ]
  },
  {
   "cell_type": "code",
   "execution_count": 42,
   "metadata": {
    "collapsed": false
   },
   "outputs": [
    {
     "name": "stdout",
     "output_type": "stream",
     "text": [
      "\u001b[0mcore.conformation.Conformation: \u001b[0m[ WARNING ] missing heavyatom:  CG  on residue ARG 18\n",
      "\u001b[0mcore.conformation.Conformation: \u001b[0m[ WARNING ] missing heavyatom:  CD  on residue ARG 18\n",
      "\u001b[0mcore.conformation.Conformation: \u001b[0m[ WARNING ] missing heavyatom:  NE  on residue ARG 18\n",
      "\u001b[0mcore.conformation.Conformation: \u001b[0m[ WARNING ] missing heavyatom:  CZ  on residue ARG 18\n",
      "\u001b[0mcore.conformation.Conformation: \u001b[0m[ WARNING ] missing heavyatom:  NH1 on residue ARG 18\n",
      "\u001b[0mcore.conformation.Conformation: \u001b[0m[ WARNING ] missing heavyatom:  NH2 on residue ARG 18\n",
      "\u001b[0mcore.conformation.Conformation: \u001b[0m[ WARNING ] missing heavyatom:  CG  on residue GLN:NtermProteinFull 214\n",
      "\u001b[0mcore.conformation.Conformation: \u001b[0m[ WARNING ] missing heavyatom:  CD  on residue GLN:NtermProteinFull 214\n",
      "\u001b[0mcore.conformation.Conformation: \u001b[0m[ WARNING ] missing heavyatom:  OE1 on residue GLN:NtermProteinFull 214\n",
      "\u001b[0mcore.conformation.Conformation: \u001b[0m[ WARNING ] missing heavyatom:  NE2 on residue GLN:NtermProteinFull 214\n",
      "\u001b[0mcore.conformation.Conformation: \u001b[0m[ WARNING ] missing heavyatom:  CG  on residue ARG 452\n",
      "\u001b[0mcore.conformation.Conformation: \u001b[0m[ WARNING ] missing heavyatom:  CD  on residue ARG 452\n",
      "\u001b[0mcore.conformation.Conformation: \u001b[0m[ WARNING ] missing heavyatom:  NE  on residue ARG 452\n",
      "\u001b[0mcore.conformation.Conformation: \u001b[0m[ WARNING ] missing heavyatom:  CZ  on residue ARG 452\n",
      "\u001b[0mcore.conformation.Conformation: \u001b[0m[ WARNING ] missing heavyatom:  NH1 on residue ARG 452\n",
      "\u001b[0mcore.conformation.Conformation: \u001b[0m[ WARNING ] missing heavyatom:  NH2 on residue ARG 452\n",
      "\u001b[0mcore.conformation.Conformation: \u001b[0m[ WARNING ] missing heavyatom:  CG  on residue GLN:NtermProteinFull 648\n",
      "\u001b[0mcore.conformation.Conformation: \u001b[0m[ WARNING ] missing heavyatom:  CD  on residue GLN:NtermProteinFull 648\n",
      "\u001b[0mcore.conformation.Conformation: \u001b[0m[ WARNING ] missing heavyatom:  OE1 on residue GLN:NtermProteinFull 648\n",
      "\u001b[0mcore.conformation.Conformation: \u001b[0m[ WARNING ] missing heavyatom:  NE2 on residue GLN:NtermProteinFull 648\n",
      "\u001b[0mcore.conformation.Conformation: \u001b[0mFound disulfide between residues 23 88\n",
      "\u001b[0mcore.conformation.Conformation: \u001b[0mcurrent variant for 23 CYS\n",
      "\u001b[0mcore.conformation.Conformation: \u001b[0mcurrent variant for 88 CYS\n",
      "\u001b[0mcore.conformation.Conformation: \u001b[0mcurrent variant for 23 CYD\n",
      "\u001b[0mcore.conformation.Conformation: \u001b[0mcurrent variant for 88 CYD\n",
      "\u001b[0mcore.conformation.Conformation: \u001b[0mFound disulfide between residues 134 194\n",
      "\u001b[0mcore.conformation.Conformation: \u001b[0mcurrent variant for 134 CYS\n",
      "\u001b[0mcore.conformation.Conformation: \u001b[0mcurrent variant for 194 CYS\n",
      "\u001b[0mcore.conformation.Conformation: \u001b[0mcurrent variant for 134 CYD\n",
      "\u001b[0mcore.conformation.Conformation: \u001b[0mcurrent variant for 194 CYD\n",
      "\u001b[0mcore.conformation.Conformation: \u001b[0mFound disulfide between residues 235 308\n",
      "\u001b[0mcore.conformation.Conformation: \u001b[0mcurrent variant for 235 CYS\n",
      "\u001b[0mcore.conformation.Conformation: \u001b[0mcurrent variant for 308 CYS\n",
      "\u001b[0mcore.conformation.Conformation: \u001b[0mcurrent variant for 235 CYD\n",
      "\u001b[0mcore.conformation.Conformation: \u001b[0mcurrent variant for 308 CYD\n",
      "\u001b[0mcore.conformation.Conformation: \u001b[0mFound disulfide between residues 359 415\n",
      "\u001b[0mcore.conformation.Conformation: \u001b[0mcurrent variant for 359 CYS\n",
      "\u001b[0mcore.conformation.Conformation: \u001b[0mcurrent variant for 415 CYS\n",
      "\u001b[0mcore.conformation.Conformation: \u001b[0mcurrent variant for 359 CYD\n",
      "\u001b[0mcore.conformation.Conformation: \u001b[0mcurrent variant for 415 CYD\n",
      "\u001b[0mcore.conformation.Conformation: \u001b[0mFound disulfide between residues 457 522\n",
      "\u001b[0mcore.conformation.Conformation: \u001b[0mcurrent variant for 457 CYS\n",
      "\u001b[0mcore.conformation.Conformation: \u001b[0mcurrent variant for 522 CYS\n",
      "\u001b[0mcore.conformation.Conformation: \u001b[0mcurrent variant for 457 CYD\n",
      "\u001b[0mcore.conformation.Conformation: \u001b[0mcurrent variant for 522 CYD\n",
      "\u001b[0mcore.conformation.Conformation: \u001b[0mFound disulfide between residues 568 628\n",
      "\u001b[0mcore.conformation.Conformation: \u001b[0mcurrent variant for 568 CYS\n",
      "\u001b[0mcore.conformation.Conformation: \u001b[0mcurrent variant for 628 CYS\n",
      "\u001b[0mcore.conformation.Conformation: \u001b[0mcurrent variant for 568 CYD\n",
      "\u001b[0mcore.conformation.Conformation: \u001b[0mcurrent variant for 628 CYD\n",
      "\u001b[0mcore.conformation.Conformation: \u001b[0mFound disulfide between residues 669 742\n",
      "\u001b[0mcore.conformation.Conformation: \u001b[0mcurrent variant for 669 CYS\n",
      "\u001b[0mcore.conformation.Conformation: \u001b[0mcurrent variant for 742 CYS\n",
      "\u001b[0mcore.conformation.Conformation: \u001b[0mcurrent variant for 669 CYD\n",
      "\u001b[0mcore.conformation.Conformation: \u001b[0mcurrent variant for 742 CYD\n",
      "\u001b[0mcore.conformation.Conformation: \u001b[0mFound disulfide between residues 793 849\n",
      "\u001b[0mcore.conformation.Conformation: \u001b[0mcurrent variant for 793 CYS\n",
      "\u001b[0mcore.conformation.Conformation: \u001b[0mcurrent variant for 849 CYS\n",
      "\u001b[0mcore.conformation.Conformation: \u001b[0mcurrent variant for 793 CYD\n",
      "\u001b[0mcore.conformation.Conformation: \u001b[0mcurrent variant for 849 CYD\n",
      "\u001b[0mcore.pack.pack_missing_sidechains: \u001b[0mpacking residue number 18 because of missing atom number 6 atom name  CG \n",
      "\u001b[0mcore.pack.pack_missing_sidechains: \u001b[0mpacking residue number 214 because of missing atom number 6 atom name  CG \n",
      "\u001b[0mcore.pack.pack_missing_sidechains: \u001b[0mpacking residue number 452 because of missing atom number 6 atom name  CG \n",
      "\u001b[0mcore.pack.pack_missing_sidechains: \u001b[0mpacking residue number 648 because of missing atom number 6 atom name  CG \n",
      "\u001b[0mcore.pack.task: \u001b[0mPacker task: initialize from command line() \n",
      "\u001b[0mcore.scoring.ScoreFunctionFactory: \u001b[0mSCOREFUNCTION: \u001b[32mtalaris2013\u001b[0m\n",
      "\u001b[0mcore.pack.pack_rotamers: \u001b[0mbuilt 91 rotamers at 4 positions.\n",
      "\u001b[0mcore.pack.interaction_graph.interaction_graph_factory: \u001b[0mInstantiating DensePDInteractionGraph\n",
      "\u001b[0mcore.pack.interaction_graph.interaction_graph_factory: \u001b[0mIG: 2068 bytes\n"
     ]
    },
    {
     "data": {
      "text/plain": [
       "<rosetta.core.pose.Pose at 0x17be4d910>"
      ]
     },
     "execution_count": 42,
     "metadata": {},
     "output_type": "execute_result"
    }
   ],
   "source": [
    "start=pose_from_pdb(\"1YY8.clean.pdb\")\n",
    "test=Pose()\n",
    "test.assign(start)"
   ]
  },
  {
   "cell_type": "code",
   "execution_count": 50,
   "metadata": {
    "collapsed": true
   },
   "outputs": [],
   "source": [
    "start.pdb_info().name(\"start\")\n",
    "test.pdb_info().name(\"test\")\n",
    "pmm=PyMOLMover()\n",
    "pmm.apply(start)\n",
    "pmm.apply(test)"
   ]
  },
  {
   "cell_type": "code",
   "execution_count": 29,
   "metadata": {
    "collapsed": true
   },
   "outputs": [],
   "source": [
    "pmm.keep_history(True)"
   ]
  },
  {
   "cell_type": "code",
   "execution_count": 30,
   "metadata": {
    "collapsed": true
   },
   "outputs": [],
   "source": [
    "kT=1.0\n",
    "n_moves=1\n",
    "movemap=MoveMap()\n",
    "movemap.set_bb(True)\n",
    "small_mover=SmallMover(movemap,kT,n_moves)\n",
    "shear_mover=ShearMover(movemap,kT,n_moves)\n",
    "small_mover.angle_max(\"H\",25)\n",
    "small_mover.angle_max(\"E\",25)\n",
    "small_mover.angle_max(\"L\",25)\n",
    "shear_mover.angle_max(\"H\",25)\n",
    "shear_mover.angle_max(\"E\",25)\n",
    "shear_mover.angle_max(\"L\",25)"
   ]
  },
  {
   "cell_type": "code",
   "execution_count": 32,
   "metadata": {
    "collapsed": true
   },
   "outputs": [],
   "source": [
    "small_mover.apply(test)\n",
    "pmm.apply(test)\n",
    "'''C/ASN`91  psi'''"
   ]
  },
  {
   "cell_type": "code",
   "execution_count": 33,
   "metadata": {
    "collapsed": false
   },
   "outputs": [
    {
     "data": {
      "text/plain": [
       "526"
      ]
     },
     "execution_count": 33,
     "metadata": {},
     "output_type": "execute_result"
    }
   ],
   "source": [
    "test.pdb_info().pdb2pose(\"C\",92)"
   ]
  },
  {
   "cell_type": "code",
   "execution_count": 36,
   "metadata": {
    "collapsed": false
   },
   "outputs": [
    {
     "name": "stdout",
     "output_type": "stream",
     "text": [
      "-141.734651975\n",
      "35.1278305596\n",
      "-141.734651975\n",
      "-141.734651975\n"
     ]
    }
   ],
   "source": [
    "print test.phi(525)\n",
    "print test.psi(525)\n",
    "print start.phi(525)\n",
    "print start.phi(525)"
   ]
  },
  {
   "cell_type": "code",
   "execution_count": 41,
   "metadata": {
    "collapsed": false
   },
   "outputs": [],
   "source": [
    "test.assign(start)\n",
    "pmm.apply(test)"
   ]
  },
  {
   "cell_type": "code",
   "execution_count": 51,
   "metadata": {
    "collapsed": false
   },
   "outputs": [],
   "source": [
    "test2=Pose()\n",
    "test2.assign(start)\n",
    "test2.pdb_info().name(\"test2\")\n",
    "pmm.apply(test2)\n",
    "movemap=MoveMap()\n",
    "movemap.set_bb(False)\n",
    "movemap.set_bb(50, True)\n",
    "movemap.set_bb(51, True)"
   ]
  },
  {
   "cell_type": "code",
   "execution_count": 49,
   "metadata": {
    "collapsed": false
   },
   "outputs": [
    {
     "data": {
      "text/plain": [
       "'51 A '"
      ]
     },
     "execution_count": 49,
     "metadata": {},
     "output_type": "execute_result"
    }
   ],
   "source": [
    "test.pdb_info().pose2pdb(51)"
   ]
  },
  {
   "cell_type": "code",
   "execution_count": 52,
   "metadata": {
    "collapsed": true
   },
   "outputs": [],
   "source": [
    "small_mover.apply(test)\n",
    "pmm.apply(test)\n",
    "shear_mover.apply(test2)\n",
    "pmm.apply(test2)"
   ]
  },
  {
   "cell_type": "code",
   "execution_count": 53,
   "metadata": {
    "collapsed": false
   },
   "outputs": [
    {
     "name": "stdout",
     "output_type": "stream",
     "text": [
      "52.8413022805\n",
      "47.4564932288\n",
      "52.8413022805\n",
      "52.8413022805\n"
     ]
    }
   ],
   "source": [
    "print test.phi(50)\n",
    "print test.psi(50)   # 50 psi changed in test\n",
    "print start.phi(50)\n",
    "print start.phi(50)"
   ]
  },
  {
   "cell_type": "code",
   "execution_count": 54,
   "metadata": {
    "collapsed": false
   },
   "outputs": [
    {
     "name": "stdout",
     "output_type": "stream",
     "text": [
      "52.8413022805\n",
      "47.4564932288\n",
      "52.8413022805\n",
      "52.8413022805\n"
     ]
    }
   ],
   "source": [
    "print test2.phi(50)\n",
    "print test2.psi(50)   # 50 psi changed in test\n",
    "print start.phi(50)\n",
    "print start.phi(50)"
   ]
  },
  {
   "cell_type": "code",
   "execution_count": 55,
   "metadata": {
    "collapsed": false
   },
   "outputs": [
    {
     "name": "stdout",
     "output_type": "stream",
     "text": [
      "72.9922823744\n",
      "-41.5479599837\n",
      "72.9922823744\n",
      "72.9922823744\n"
     ]
    }
   ],
   "source": [
    "print test.phi(51)\n",
    "print test.psi(51)   # 50 psi changed in test\n",
    "print start.phi(51)\n",
    "print start.phi(51)"
   ]
  },
  {
   "cell_type": "code",
   "execution_count": null,
   "metadata": {
    "collapsed": true
   },
   "outputs": [],
   "source": [
    "print test2.phi(51)\n",
    "print test2.psi(51)   # 50 psi changed in test\n",
    "print start.phi(51)\n",
    "print start.phi(51)"
   ]
  }
 ],
 "metadata": {
  "kernelspec": {
   "display_name": "Python 2",
   "language": "python",
   "name": "python2"
  },
  "language_info": {
   "codemirror_mode": {
    "name": "ipython",
    "version": 2
   },
   "file_extension": ".py",
   "mimetype": "text/x-python",
   "name": "python",
   "nbconvert_exporter": "python",
   "pygments_lexer": "ipython2",
   "version": "2.7.2"
  }
 },
 "nbformat": 4,
 "nbformat_minor": 0
}
