{
 "cells": [
  {
   "cell_type": "code",
   "execution_count": 45,
   "metadata": {
    "collapsed": false
   },
   "outputs": [
    {
     "name": "stdout",
     "output_type": "stream",
     "text": [
      "\u001b[0mcore.init: \u001b[0mRosetta version  from \n",
      "\u001b[0mcore.init: \u001b[0mcommand: PyRosetta -ex1 -ex2aro -database /Users/Shared/PyRosetta/database\n",
      "\u001b[0mcore.init: \u001b[0m'RNG device' seed mode, using '/dev/urandom', seed=1862457052 seed_offset=0 real_seed=1862457052\n",
      "\u001b[0mcore.init.random: \u001b[0mRandomGenerator:init: Normal mode, seed=1862457052 RG_type=mt19937\n"
     ]
    }
   ],
   "source": [
    "from rosetta import *\n",
    "init(notebook=True)\n",
    "from toolbox import pose_from_rcsb\n",
    "from toolbox import get_hbonds"
   ]
  },
  {
   "cell_type": "code",
   "execution_count": 21,
   "metadata": {
    "collapsed": false
   },
   "outputs": [
    {
     "name": "stdout",
     "output_type": "stream",
     "text": [
      "PDB 6Q21 successfully loaded from the RCSB into 6Q21.pdb.\n",
      "If the file 6Q21.clean.pdb already exists,it will be overwritten.\n",
      "PDB 6Q21.pdb successfully cleaned, non-ATOM lines removed.\n",
      "Clean data written to 6Q21.clean.pdb.\n",
      "\u001b[0mcore.chemical.ResidueTypeSet: \u001b[0mFinished initializing fa_standard residue type set.  Created 384 residue types\n",
      "\u001b[0mcore.chemical.ResidueTypeSet: \u001b[0mTotal time to initialize 0.610557 seconds.\n"
     ]
    }
   ],
   "source": [
    "ras=pose_from_rcsb(\"6Q21\")  # download 6Q21 and clean atoms, save to pwd\n",
    "'''\n",
    "list=pose.split_by_chain()'''"
   ]
  },
  {
   "cell_type": "code",
   "execution_count": 28,
   "metadata": {
    "collapsed": false
   },
   "outputs": [
    {
     "name": "stdout",
     "output_type": "stream",
     "text": [
      "\u001b[0mcore.kinematics.FoldTree: \u001b[0mdelete_jump_seqpos: deleting jump 1\n",
      "\u001b[0mcore.kinematics.FoldTree: \u001b[0mdelete_jump_seqpos: renumbering jump 3 to 1\n",
      "\u001b[0mcore.kinematics.FoldTree: \u001b[0mdelete_jump_seqpos: deleting jump 1\n",
      "\u001b[0mcore.kinematics.FoldTree: \u001b[0mdelete_jump_seqpos: renumbering jump 3 to 1\n",
      "\u001b[0mcore.kinematics.FoldTree: \u001b[0mdelete_jump_seqpos: deleting jump 1\n",
      "\u001b[0mcore.kinematics.FoldTree: \u001b[0mdelete_jump_seqpos: renumbering jump 3 to 1\n",
      "\u001b[0mcore.kinematics.FoldTree: \u001b[0mdelete_jump_seqpos: deleting jump 1\n",
      "\u001b[0mcore.kinematics.FoldTree: \u001b[0mdelete_jump_seqpos: renumbering jump 3 to 1\n"
     ]
    }
   ],
   "source": [
    "list1=ras.split_by_chain()"
   ]
  },
  {
   "cell_type": "code",
   "execution_count": 34,
   "metadata": {
    "collapsed": false
   },
   "outputs": [
    {
     "name": "stdout",
     "output_type": "stream",
     "text": [
      "PDB file name: 6Q21.clean.pdb\n",
      "Total residues:171\n",
      "Sequence: MTEYKLVVVGAGGVGKSALTIQLIQNHFVDEYDPTIEDSYRKQVVIDGETCLLDILDTAGQEEYSAMRDQYMRTGEGFLCVFAINNTKSFEDIHQYREQIKRVKDSDDVPMVLVGNKCDLAARTVESRQAQDLARSYGIPYIETSAKTRQGVEDAFYTLVREIRQHKLRKL\n",
      "Fold tree:\n",
      "FOLD_TREE  EDGE 1 171 -1 \n"
     ]
    }
   ],
   "source": [
    "print list1[1] # index from 1, because this function is wrote with C++"
   ]
  },
  {
   "cell_type": "code",
   "execution_count": 39,
   "metadata": {
    "collapsed": false
   },
   "outputs": [
    {
     "name": "stdout",
     "output_type": "stream",
     "text": [
      "PDB file name: 6Q21.clean.pdb\n",
      "Total residues:171\n",
      "Sequence: MTEYKLVVVGAGGVGKSALTIQLIQNHFVDEYDPTIEDSYRKQVVIDGETCLLDILDTAGQEEYSAMRDQYMRTGEGFLCVFAINNTKSFEDIHQYREQIKRVKDSDDVPMVLVGNKCDLAARTVESRQAQDLARSYGIPYIETSAKTRQGVEDAFYTLVREIRQHKLRKL\n",
      "Fold tree:\n",
      "FOLD_TREE  EDGE 1 171 -1 \n"
     ]
    }
   ],
   "source": [
    "print list1[4]"
   ]
  },
  {
   "cell_type": "code",
   "execution_count": 2,
   "metadata": {
    "collapsed": true
   },
   "outputs": [
    {
     "name": "stdout",
     "output_type": "stream",
     "text": [
      "ScoreFunction::show():\n",
      "weights: (fa_atr 0.8) (fa_rep 0.44) (fa_sol 0.75) (fa_intra_rep 0.004) (fa_elec 0.7) (pro_close 1) (hbond_sr_bb 1.17) (hbond_lr_bb 1.17) (hbond_bb_sc 1.17) (hbond_sc 1.1) (dslf_fa13 1) (rama 0.2) (omega 0.5) (fa_dun 0.56) (p_aa_pp 0.32) (ref 1)\n",
      "energy_method_options: EnergyMethodOptions::show: aa_composition_setup_files: \n",
      "EnergyMethodOptions::show: etable_type: FA_STANDARD_DEFAULT\n",
      "analytic_etable_evaluation: 1\n",
      "EnergyMethodOptions::show: method_weights: ref 0.592942 0.354993 -1.28682 -1.55374 0.43057 0.140526 0.357498 0.831803 -0.287374 0.602328 0.158677 -0.94198 -0.219285 -1.17797 -0.14916 0.176583 0.16454 0.744844 0.92933 0.131696\n",
      "EnergyMethodOptions::show: method_weights: free_res\n",
      "EnergyMethodOptions::show: unfolded_energies_type: UNFOLDED_SCORE12\n",
      "EnergyMethodOptions::show: split_unfolded_label_type: SPLIT_UNFOLDED_MM\n",
      "EnergyMethodOptions::show: split_unfolded_value_type: SPLIT_UNFOLDED_BOLTZ\n",
      "EnergyMethodOptions::show: atom_vdw_atom_type_set_name: centroid\n",
      "EnergyMethodOptions::show: exclude_protein_protein_fa_elec: false\n",
      "EnergyMethodOptions::show: exclude_monomer_fa_elec: false\n",
      "EnergyMethodOptions::show: elec_max_dis: 5.5\n",
      "EnergyMethodOptions::show: elec_min_dis: 1.6\n",
      "EnergyMethodOptions::show: elec_die: 10\n",
      "EnergyMethodOptions::show: elec_no_dis_dep_die: false\n",
      "EnergyMethodOptions::show: elec_sigmoidal_die: false\n",
      "EnergyMethodOptions::show: elec_sigmoidal_D: 78\n",
      "EnergyMethodOptions::show: elec_sigmoidal_D0: 2\n",
      "EnergyMethodOptions::show: elec_sigmoidal_S: 0.36\n",
      "EnergyMethodOptions::show: smooth_fa_elec: true\n",
      "EnergyMethodOptions::show: grpelec_fade_type: false\n",
      "EnergyMethodOptions::show: grpelec_fade_param1: 1\n",
      "EnergyMethodOptions::show: grpelec_fade_param2: 1\n",
      "EnergyMethodOptions::show: grpelec_fade_hbond: 0\n",
      "EnergyMethodOptions::show: grp_cpfxn: 1\n",
      "EnergyMethodOptions::show: elec_group_file: /scoring/score_functions/elec_group_def.dat\n",
      "EnergyMethodOptions::show: grpelec_context_dependent: 0\n",
      "EnergyMethodOptions::show: use_polarization: true\n",
      "EnergyMethodOptions::show: use_gen_kirkwood: true\n",
      "EnergyMethodOptions::show: protein_dielectric: 1\n",
      "EnergyMethodOptions::show: water_dielectric: 78.3\n",
      "EnergyMethodOptions::show: exclude_DNA_DNA: true\n",
      "EnergyMethodOptions::show: exclude_intra_res_protein: true\n",
      "EnergyMethodOptions::show: put_intra_into_total: false\n",
      "EnergyMethodOptions::show: geom_sol_interres_path_distance_cutoff: false\n",
      "EnergyMethodOptions::show: geom_sol_intrares_path_distance_cutoff: true\n",
      "EnergyMethodOptions::show: envsmooth_zero_negatives: false\n",
      "EnergyMethodOptions::show: cst_max_seq_sep: 18446744073709551615\n",
      "EnergyMethodOptions::show: pb_bound_tag: bound\n",
      "EnergyMethodOptions::show: pb_unbound_tag: unbound\n",
      "EnergyMethodOptions::show: bond_angle_central_atoms_to_score:\n",
      "EnergyMethodOptions::show: bond_angle_residue_type_param_set: none\n",
      "HBondOptions::show: exclude_DNA_DNA: true\n",
      "HBondOptions::show: exclude_intra_res_protein_: true\n",
      "HBondOptions::show: exclude_intra_res_RNA_: false\n",
      "HBondOptions::show: put_intra_into_total_: false\n",
      "HBondOptions::show: exclude_self_hbonds: true\n",
      "HBondOptions::show: use_hb_env_dep: true\n",
      "HBondOptions::show: use_hb_env_dep_DNA: true\n",
      "HBondOptions::show: smooth_hb_env_dep: true\n",
      "HBondOptions::show: bb_donor_acceptor_check: true\n",
      "HBondOptions::show: decompose_bb_hb_into_pair_energies: false\n",
      "HBondOptions::show: params_database_tag_: sp2_elec_params\n",
      "HBondOptions::show: use_sp2_chi_penalty_: true\n",
      "HBondOptions::show: sp2_BAH180_rise_: 0.75\n",
      "HBondOptions::show: sp2_outer_width_: 0.357\n",
      "HBondOptions::show: measure_sp3acc_BAH_from_hvy_: true\n",
      "HBondOptions::show: fade_energy_: 1\n",
      "HBondOptions::show: Mbhbond: false \n",
      "HbondOptions::show: mphbond: false\n",
      "HBondOptions::show: hbond_energy_shift: 0\n",
      "RNA_EnergyMethodOptions::show: syn_G_potential_bonus: 0\n",
      "RNA_EnergyMethodOptions::show: torsion_potential: ps_04282011\n",
      "RNA_EnergyMethodOptions::show: suiteness_bonus: Richardson\n",
      "FreeDOF_Options::show: free_suite_bonus: -1\n",
      "FreeDOF_Options::show: free_2HOprime_bonus: -0.5\n",
      "FreeDOF_Options::show: free_sugar_bonus: -1\n",
      "FreeDOF_Options::show: pack_phosphate_penalty: 0.25\n",
      "FreeDOF_Options::show: free_side_chain_bonus: -0.5\n",
      "\n",
      "\n"
     ]
    }
   ],
   "source": [
    "scorefxn=get_fa_scorefxn()  # default full atom energy term\n",
    "print scorefxn"
   ]
  },
  {
   "cell_type": "code",
   "execution_count": 16,
   "metadata": {
    "collapsed": true
   },
   "outputs": [
    {
     "name": "stdout",
     "output_type": "stream",
     "text": [
      "ScoreFunction::show():\n",
      "weights:\n",
      "energy_method_options: EnergyMethodOptions::show: aa_composition_setup_files: \n",
      "EnergyMethodOptions::show: etable_type: FA_STANDARD_DEFAULT\n",
      "analytic_etable_evaluation: 1\n",
      "EnergyMethodOptions::show: method_weights: free_res\n",
      "EnergyMethodOptions::show: unfolded_energies_type: UNFOLDED_SCORE12\n",
      "EnergyMethodOptions::show: split_unfolded_label_type: SPLIT_UNFOLDED_MM\n",
      "EnergyMethodOptions::show: split_unfolded_value_type: SPLIT_UNFOLDED_BOLTZ\n",
      "EnergyMethodOptions::show: atom_vdw_atom_type_set_name: centroid\n",
      "EnergyMethodOptions::show: exclude_protein_protein_fa_elec: false\n",
      "EnergyMethodOptions::show: exclude_monomer_fa_elec: false\n",
      "EnergyMethodOptions::show: elec_max_dis: 5.5\n",
      "EnergyMethodOptions::show: elec_min_dis: 1.6\n",
      "EnergyMethodOptions::show: elec_die: 10\n",
      "EnergyMethodOptions::show: elec_no_dis_dep_die: false\n",
      "EnergyMethodOptions::show: elec_sigmoidal_die: false\n",
      "EnergyMethodOptions::show: elec_sigmoidal_D: 78\n",
      "EnergyMethodOptions::show: elec_sigmoidal_D0: 2\n",
      "EnergyMethodOptions::show: elec_sigmoidal_S: 0.36\n",
      "EnergyMethodOptions::show: smooth_fa_elec: true\n",
      "EnergyMethodOptions::show: grpelec_fade_type: false\n",
      "EnergyMethodOptions::show: grpelec_fade_param1: 1\n",
      "EnergyMethodOptions::show: grpelec_fade_param2: 1\n",
      "EnergyMethodOptions::show: grpelec_fade_hbond: 0\n",
      "EnergyMethodOptions::show: grp_cpfxn: 1\n",
      "EnergyMethodOptions::show: elec_group_file: /scoring/score_functions/elec_group_def.dat\n",
      "EnergyMethodOptions::show: grpelec_context_dependent: 0\n",
      "EnergyMethodOptions::show: use_polarization: true\n",
      "EnergyMethodOptions::show: use_gen_kirkwood: true\n",
      "EnergyMethodOptions::show: protein_dielectric: 1\n",
      "EnergyMethodOptions::show: water_dielectric: 78.3\n",
      "EnergyMethodOptions::show: exclude_DNA_DNA: true\n",
      "EnergyMethodOptions::show: exclude_intra_res_protein: true\n",
      "EnergyMethodOptions::show: put_intra_into_total: false\n",
      "EnergyMethodOptions::show: geom_sol_interres_path_distance_cutoff: false\n",
      "EnergyMethodOptions::show: geom_sol_intrares_path_distance_cutoff: true\n",
      "EnergyMethodOptions::show: envsmooth_zero_negatives: false\n",
      "EnergyMethodOptions::show: cst_max_seq_sep: 18446744073709551615\n",
      "EnergyMethodOptions::show: pb_bound_tag: bound\n",
      "EnergyMethodOptions::show: pb_unbound_tag: unbound\n",
      "EnergyMethodOptions::show: bond_angle_central_atoms_to_score:\n",
      "EnergyMethodOptions::show: bond_angle_residue_type_param_set: none\n",
      "HBondOptions::show: exclude_DNA_DNA: true\n",
      "HBondOptions::show: exclude_intra_res_protein_: true\n",
      "HBondOptions::show: exclude_intra_res_RNA_: false\n",
      "HBondOptions::show: put_intra_into_total_: false\n",
      "HBondOptions::show: exclude_self_hbonds: true\n",
      "HBondOptions::show: use_hb_env_dep: true\n",
      "HBondOptions::show: use_hb_env_dep_DNA: true\n",
      "HBondOptions::show: smooth_hb_env_dep: true\n",
      "HBondOptions::show: bb_donor_acceptor_check: true\n",
      "HBondOptions::show: decompose_bb_hb_into_pair_energies: false\n",
      "HBondOptions::show: params_database_tag_: sp2_elec_params\n",
      "HBondOptions::show: use_sp2_chi_penalty_: true\n",
      "HBondOptions::show: sp2_BAH180_rise_: 0.75\n",
      "HBondOptions::show: sp2_outer_width_: 0.357\n",
      "HBondOptions::show: measure_sp3acc_BAH_from_hvy_: true\n",
      "HBondOptions::show: fade_energy_: 1\n",
      "HBondOptions::show: Mbhbond: false \n",
      "HbondOptions::show: mphbond: false\n",
      "HBondOptions::show: hbond_energy_shift: 0\n",
      "RNA_EnergyMethodOptions::show: syn_G_potential_bonus: 0\n",
      "RNA_EnergyMethodOptions::show: torsion_potential: ps_04282011\n",
      "RNA_EnergyMethodOptions::show: suiteness_bonus: Richardson\n",
      "FreeDOF_Options::show: free_suite_bonus: -1\n",
      "FreeDOF_Options::show: free_2HOprime_bonus: -0.5\n",
      "FreeDOF_Options::show: free_sugar_bonus: -1\n",
      "FreeDOF_Options::show: pack_phosphate_penalty: 0.25\n",
      "FreeDOF_Options::show: free_side_chain_bonus: -0.5\n",
      "\n",
      "\n"
     ]
    }
   ],
   "source": [
    "scorefxn2= ScoreFunction()\n",
    "print scorefxn2"
   ]
  },
  {
   "cell_type": "code",
   "execution_count": 19,
   "metadata": {
    "collapsed": true
   },
   "outputs": [
    {
     "name": "stdout",
     "output_type": "stream",
     "text": [
      "ScoreFunction::show():\n",
      "weights: (fa_atr 1) (fa_rep 1)\n",
      "energy_method_options: EnergyMethodOptions::show: aa_composition_setup_files: \n",
      "EnergyMethodOptions::show: etable_type: FA_STANDARD_DEFAULT\n",
      "analytic_etable_evaluation: 1\n",
      "EnergyMethodOptions::show: method_weights: free_res\n",
      "EnergyMethodOptions::show: unfolded_energies_type: UNFOLDED_SCORE12\n",
      "EnergyMethodOptions::show: split_unfolded_label_type: SPLIT_UNFOLDED_MM\n",
      "EnergyMethodOptions::show: split_unfolded_value_type: SPLIT_UNFOLDED_BOLTZ\n",
      "EnergyMethodOptions::show: atom_vdw_atom_type_set_name: centroid\n",
      "EnergyMethodOptions::show: exclude_protein_protein_fa_elec: false\n",
      "EnergyMethodOptions::show: exclude_monomer_fa_elec: false\n",
      "EnergyMethodOptions::show: elec_max_dis: 5.5\n",
      "EnergyMethodOptions::show: elec_min_dis: 1.6\n",
      "EnergyMethodOptions::show: elec_die: 10\n",
      "EnergyMethodOptions::show: elec_no_dis_dep_die: false\n",
      "EnergyMethodOptions::show: elec_sigmoidal_die: false\n",
      "EnergyMethodOptions::show: elec_sigmoidal_D: 78\n",
      "EnergyMethodOptions::show: elec_sigmoidal_D0: 2\n",
      "EnergyMethodOptions::show: elec_sigmoidal_S: 0.36\n",
      "EnergyMethodOptions::show: smooth_fa_elec: true\n",
      "EnergyMethodOptions::show: grpelec_fade_type: false\n",
      "EnergyMethodOptions::show: grpelec_fade_param1: 1\n",
      "EnergyMethodOptions::show: grpelec_fade_param2: 1\n",
      "EnergyMethodOptions::show: grpelec_fade_hbond: 0\n",
      "EnergyMethodOptions::show: grp_cpfxn: 1\n",
      "EnergyMethodOptions::show: elec_group_file: /scoring/score_functions/elec_group_def.dat\n",
      "EnergyMethodOptions::show: grpelec_context_dependent: 0\n",
      "EnergyMethodOptions::show: use_polarization: true\n",
      "EnergyMethodOptions::show: use_gen_kirkwood: true\n",
      "EnergyMethodOptions::show: protein_dielectric: 1\n",
      "EnergyMethodOptions::show: water_dielectric: 78.3\n",
      "EnergyMethodOptions::show: exclude_DNA_DNA: true\n",
      "EnergyMethodOptions::show: exclude_intra_res_protein: true\n",
      "EnergyMethodOptions::show: put_intra_into_total: false\n",
      "EnergyMethodOptions::show: geom_sol_interres_path_distance_cutoff: false\n",
      "EnergyMethodOptions::show: geom_sol_intrares_path_distance_cutoff: true\n",
      "EnergyMethodOptions::show: envsmooth_zero_negatives: false\n",
      "EnergyMethodOptions::show: cst_max_seq_sep: 18446744073709551615\n",
      "EnergyMethodOptions::show: pb_bound_tag: bound\n",
      "EnergyMethodOptions::show: pb_unbound_tag: unbound\n",
      "EnergyMethodOptions::show: bond_angle_central_atoms_to_score:\n",
      "EnergyMethodOptions::show: bond_angle_residue_type_param_set: none\n",
      "HBondOptions::show: exclude_DNA_DNA: true\n",
      "HBondOptions::show: exclude_intra_res_protein_: true\n",
      "HBondOptions::show: exclude_intra_res_RNA_: false\n",
      "HBondOptions::show: put_intra_into_total_: false\n",
      "HBondOptions::show: exclude_self_hbonds: true\n",
      "HBondOptions::show: use_hb_env_dep: true\n",
      "HBondOptions::show: use_hb_env_dep_DNA: true\n",
      "HBondOptions::show: smooth_hb_env_dep: true\n",
      "HBondOptions::show: bb_donor_acceptor_check: true\n",
      "HBondOptions::show: decompose_bb_hb_into_pair_energies: false\n",
      "HBondOptions::show: params_database_tag_: sp2_elec_params\n",
      "HBondOptions::show: use_sp2_chi_penalty_: true\n",
      "HBondOptions::show: sp2_BAH180_rise_: 0.75\n",
      "HBondOptions::show: sp2_outer_width_: 0.357\n",
      "HBondOptions::show: measure_sp3acc_BAH_from_hvy_: true\n",
      "HBondOptions::show: fade_energy_: 1\n",
      "HBondOptions::show: Mbhbond: false \n",
      "HbondOptions::show: mphbond: false\n",
      "HBondOptions::show: hbond_energy_shift: 0\n",
      "RNA_EnergyMethodOptions::show: syn_G_potential_bonus: 0\n",
      "RNA_EnergyMethodOptions::show: torsion_potential: ps_04282011\n",
      "RNA_EnergyMethodOptions::show: suiteness_bonus: Richardson\n",
      "FreeDOF_Options::show: free_suite_bonus: -1\n",
      "FreeDOF_Options::show: free_2HOprime_bonus: -0.5\n",
      "FreeDOF_Options::show: free_sugar_bonus: -1\n",
      "FreeDOF_Options::show: pack_phosphate_penalty: 0.25\n",
      "FreeDOF_Options::show: free_side_chain_bonus: -0.5\n",
      "\n",
      "\n"
     ]
    }
   ],
   "source": [
    "scorefxn2.set_weight(fa_atr,1.0)\n",
    "scorefxn2.set_weight(fa_rep,1.0)\n",
    "print scorefxn2"
   ]
  },
  {
   "cell_type": "code",
   "execution_count": 42,
   "metadata": {
    "collapsed": false
   },
   "outputs": [
    {
     "name": "stdout",
     "output_type": "stream",
     "text": [
      "977.527649177\n"
     ]
    }
   ],
   "source": [
    "# 3. Evaluate the energy of Ras with the standard score function:\n",
    "print scorefxn(list1[1])"
   ]
  },
  {
   "cell_type": "code",
   "execution_count": 43,
   "metadata": {
    "collapsed": false
   },
   "outputs": [
    {
     "name": "stdout",
     "output_type": "stream",
     "text": [
      "3174.10082151\n"
     ]
    }
   ],
   "source": [
    "print scorefxn(ras)"
   ]
  },
  {
   "cell_type": "code",
   "execution_count": 23,
   "metadata": {
    "collapsed": true
   },
   "outputs": [],
   "source": [
    "scorefxn.show(ras)\n",
    "'''output:\n",
    "------------------------------------------------------------\n",
    " Scores                       Weight   Raw Score Wghtd.Score\n",
    "------------------------------------------------------------\n",
    " fa_atr                       0.800   -3502.863   -2802.290\n",
    " fa_rep                       0.440    4470.156    1966.869\n",
    " fa_sol                       0.750    2252.661    1689.496\n",
    " fa_intra_rep                 0.004    3011.852      12.047\n",
    " fa_elec                      0.700    -296.898    -207.828\n",
    " pro_close                    1.000     270.565     270.565\n",
    " hbond_sr_bb                  1.170    -119.133    -139.385\n",
    " hbond_lr_bb                  1.170     -85.793    -100.378\n",
    " hbond_bb_sc                  1.170     -29.773     -34.834\n",
    " hbond_sc                     1.100     -23.729     -26.102\n",
    " dslf_fa13                    1.000       0.000       0.000\n",
    " rama                         0.200     103.828      20.766\n",
    " omega                        0.500     104.237      52.119\n",
    " fa_dun                       0.560    4528.644    2536.041\n",
    " p_aa_pp                      0.320     -12.979      -4.153\n",
    " ref                          1.000     -58.830     -58.830\n",
    "---------------------------------------------------\n",
    " Total weighted score:                     3174.101\n",
    " \n",
    " 3. most dominant contributions: fa_atr,fa_dun,fa_rep\n",
    " '''"
   ]
  },
  {
   "cell_type": "code",
   "execution_count": 24,
   "metadata": {
    "collapsed": false
   },
   "outputs": [
    {
     "name": "stdout",
     "output_type": "stream",
     "text": [
      "None\n"
     ]
    }
   ],
   "source": [
    "# 4. Unweighted, individual component energies of each residue \n",
    "print ras.energies().show(24)\n",
    "'''output:\n",
    "E               fa_atr        fa_rep        fa_sol  fa_intra_rep       fa_elec     pro_close   hbond_sr_bb   hbond_lr_bb   hbond_bb_sc      hbond_sc     dslf_fa13          rama         omega        fa_dun       p_aa_pp           ref\n",
    "E(i)  24         -5.59         17.73          2.64          8.65         -0.21          0.00          0.00          0.00          0.00          0.00          0.00          4.98          0.06          3.81          3.85          0.83\n",
    "\n",
    "totVdW\n",
    "solvation\n",
    "hydrogen binding contributions: next cell\n",
    "\n",
    "Note that the backbone hydrogen bonding terms for each residue are not available from the Energies object.\n",
    "'''"
   ]
  },
  {
   "cell_type": "code",
   "execution_count": 46,
   "metadata": {
    "collapsed": true
   },
   "outputs": [],
   "source": [
    "# 6. hydrogen-bonding\n",
    "hbond_set=hbonds.HBondSet()  # hbonds is the namespace\n",
    "ras.update_residue_neighbors()\n",
    "hbonds.fill_hbond_set(ras, False, hbond_set)\n",
    "hbond_set.show(ras)"
   ]
  },
  {
   "cell_type": "code",
   "execution_count": 48,
   "metadata": {
    "collapsed": true
   },
   "outputs": [],
   "source": [
    "# or\n",
    "hbond_set = get_hbonds(ras)\n",
    "hbond_set.show(ras)\n",
    "hbond_set.show(ras,24)\n",
    "'''output: 24 resi\n",
    "#Dch Dn Dres Da  Ach An Ares Aa  length AHDang BAHang  BAtor weight energy\n",
    "#A   24  ILE  N  A   20  THR  O    2.08  160.5  165.8  117.0  1.000 -0.643'''"
   ]
  },
  {
   "cell_type": "code",
   "execution_count": 49,
   "metadata": {
    "collapsed": true
   },
   "outputs": [
    {
     "name": "stdout",
     "output_type": "stream",
     "text": [
      "PDB 1YY9 successfully loaded from the RCSB into 1YY9.pdb.\n",
      "If the file 1YY9.clean.pdb already exists,it will be overwritten.\n",
      "PDB 1YY9.pdb successfully cleaned, non-ATOM lines removed.\n",
      "Clean data written to 1YY9.clean.pdb.\n",
      "\u001b[0mcore.conformation.Conformation: \u001b[0m[ WARNING ] missing heavyatom:  CG  on residue GLU:NtermProteinFull 1\n",
      "\u001b[0mcore.conformation.Conformation: \u001b[0m[ WARNING ] missing heavyatom:  CD  on residue GLU:NtermProteinFull 1\n",
      "\u001b[0mcore.conformation.Conformation: \u001b[0m[ WARNING ] missing heavyatom:  OE1 on residue GLU:NtermProteinFull 1\n",
      "\u001b[0mcore.conformation.Conformation: \u001b[0m[ WARNING ] missing heavyatom:  OE2 on residue GLU:NtermProteinFull 1\n",
      "\u001b[0mcore.conformation.Conformation: \u001b[0m[ WARNING ] missing heavyatom:  CG  on residue GLU 2\n",
      "\u001b[0mcore.conformation.Conformation: \u001b[0m[ WARNING ] missing heavyatom:  CD  on residue GLU 2\n",
      "\u001b[0mcore.conformation.Conformation: \u001b[0m[ WARNING ] missing heavyatom:  OE1 on residue GLU 2\n",
      "\u001b[0mcore.conformation.Conformation: \u001b[0m[ WARNING ] missing heavyatom:  OE2 on residue GLU 2\n",
      "\u001b[0mcore.conformation.Conformation: \u001b[0m[ WARNING ] missing heavyatom:  CG  on residue LYS 3\n",
      "\u001b[0mcore.conformation.Conformation: \u001b[0m[ WARNING ] missing heavyatom:  CD  on residue LYS 3\n",
      "\u001b[0mcore.conformation.Conformation: \u001b[0m[ WARNING ] missing heavyatom:  CE  on residue LYS 3\n",
      "\u001b[0mcore.conformation.Conformation: \u001b[0m[ WARNING ] missing heavyatom:  NZ  on residue LYS 3\n",
      "\u001b[0mcore.conformation.Conformation: \u001b[0m[ WARNING ] missing heavyatom:  CG  on residue GLN 138\n",
      "\u001b[0mcore.conformation.Conformation: \u001b[0m[ WARNING ] missing heavyatom:  CD  on residue GLN 138\n",
      "\u001b[0mcore.conformation.Conformation: \u001b[0m[ WARNING ] missing heavyatom:  OE1 on residue GLN 138\n",
      "\u001b[0mcore.conformation.Conformation: \u001b[0m[ WARNING ] missing heavyatom:  NE2 on residue GLN 138\n",
      "\u001b[0mcore.conformation.Conformation: \u001b[0m[ WARNING ] missing heavyatom:  CG  on residue GLU 179\n",
      "\u001b[0mcore.conformation.Conformation: \u001b[0m[ WARNING ] missing heavyatom:  CD  on residue GLU 179\n",
      "\u001b[0mcore.conformation.Conformation: \u001b[0m[ WARNING ] missing heavyatom:  OE1 on residue GLU 179\n",
      "\u001b[0mcore.conformation.Conformation: \u001b[0m[ WARNING ] missing heavyatom:  OE2 on residue GLU 179\n",
      "\u001b[0mcore.conformation.Conformation: \u001b[0m[ WARNING ] missing heavyatom:  CG  on residue GLN 192\n",
      "\u001b[0mcore.conformation.Conformation: \u001b[0m[ WARNING ] missing heavyatom:  CD  on residue GLN 192\n",
      "\u001b[0mcore.conformation.Conformation: \u001b[0m[ WARNING ] missing heavyatom:  OE1 on residue GLN 192\n",
      "\u001b[0mcore.conformation.Conformation: \u001b[0m[ WARNING ] missing heavyatom:  NE2 on residue GLN 192\n",
      "\u001b[0mcore.conformation.Conformation: \u001b[0m[ WARNING ] missing heavyatom:  CG  on residue GLN 193\n",
      "\u001b[0mcore.conformation.Conformation: \u001b[0m[ WARNING ] missing heavyatom:  CD  on residue GLN 193\n",
      "\u001b[0mcore.conformation.Conformation: \u001b[0m[ WARNING ] missing heavyatom:  OE1 on residue GLN 193\n",
      "\u001b[0mcore.conformation.Conformation: \u001b[0m[ WARNING ] missing heavyatom:  NE2 on residue GLN 193\n",
      "\u001b[0mcore.conformation.Conformation: \u001b[0m[ WARNING ] missing heavyatom:  CG  on residue GLU 220\n",
      "\u001b[0mcore.conformation.Conformation: \u001b[0m[ WARNING ] missing heavyatom:  CD  on residue GLU 220\n",
      "\u001b[0mcore.conformation.Conformation: \u001b[0m[ WARNING ] missing heavyatom:  OE1 on residue GLU 220\n",
      "\u001b[0mcore.conformation.Conformation: \u001b[0m[ WARNING ] missing heavyatom:  OE2 on residue GLU 220\n",
      "\u001b[0mcore.conformation.Conformation: \u001b[0m[ WARNING ] missing heavyatom:  CG  on residue GLU 257\n",
      "\u001b[0mcore.conformation.Conformation: \u001b[0m[ WARNING ] missing heavyatom:  CD  on residue GLU 257\n",
      "\u001b[0mcore.conformation.Conformation: \u001b[0m[ WARNING ] missing heavyatom:  OE1 on residue GLU 257\n",
      "\u001b[0mcore.conformation.Conformation: \u001b[0m[ WARNING ] missing heavyatom:  OE2 on residue GLU 257\n",
      "\u001b[0mcore.conformation.Conformation: \u001b[0m[ WARNING ] missing heavyatom:  CG  on residue ARG 272\n",
      "\u001b[0mcore.conformation.Conformation: \u001b[0m[ WARNING ] missing heavyatom:  CD  on residue ARG 272\n",
      "\u001b[0mcore.conformation.Conformation: \u001b[0m[ WARNING ] missing heavyatom:  NE  on residue ARG 272\n",
      "\u001b[0mcore.conformation.Conformation: \u001b[0m[ WARNING ] missing heavyatom:  CZ  on residue ARG 272\n",
      "\u001b[0mcore.conformation.Conformation: \u001b[0m[ WARNING ] missing heavyatom:  NH1 on residue ARG 272\n",
      "\u001b[0mcore.conformation.Conformation: \u001b[0m[ WARNING ] missing heavyatom:  NH2 on residue ARG 272\n",
      "\u001b[0mcore.conformation.Conformation: \u001b[0m[ WARNING ] missing heavyatom:  CG  on residue ARG 299\n",
      "\u001b[0mcore.conformation.Conformation: \u001b[0m[ WARNING ] missing heavyatom:  CD  on residue ARG 299\n",
      "\u001b[0mcore.conformation.Conformation: \u001b[0m[ WARNING ] missing heavyatom:  NE  on residue ARG 299\n",
      "\u001b[0mcore.conformation.Conformation: \u001b[0m[ WARNING ] missing heavyatom:  CZ  on residue ARG 299\n",
      "\u001b[0mcore.conformation.Conformation: \u001b[0m[ WARNING ] missing heavyatom:  NH1 on residue ARG 299\n",
      "\u001b[0mcore.conformation.Conformation: \u001b[0m[ WARNING ] missing heavyatom:  NH2 on residue ARG 299\n",
      "\u001b[0mcore.conformation.Conformation: \u001b[0m[ WARNING ] missing heavyatom:  CG  on residue ARG 502\n",
      "\u001b[0mcore.conformation.Conformation: \u001b[0m[ WARNING ] missing heavyatom:  CD  on residue ARG 502\n",
      "\u001b[0mcore.conformation.Conformation: \u001b[0m[ WARNING ] missing heavyatom:  NE  on residue ARG 502\n",
      "\u001b[0mcore.conformation.Conformation: \u001b[0m[ WARNING ] missing heavyatom:  CZ  on residue ARG 502\n",
      "\u001b[0mcore.conformation.Conformation: \u001b[0m[ WARNING ] missing heavyatom:  NH1 on residue ARG 502\n",
      "\u001b[0mcore.conformation.Conformation: \u001b[0m[ WARNING ] missing heavyatom:  NH2 on residue ARG 502\n",
      "\u001b[0mcore.conformation.Conformation: \u001b[0m[ WARNING ] missing heavyatom:  CG  on residue GLU 518\n",
      "\u001b[0mcore.conformation.Conformation: \u001b[0m[ WARNING ] missing heavyatom:  CD  on residue GLU 518\n",
      "\u001b[0mcore.conformation.Conformation: \u001b[0m[ WARNING ] missing heavyatom:  OE1 on residue GLU 518\n",
      "\u001b[0mcore.conformation.Conformation: \u001b[0m[ WARNING ] missing heavyatom:  OE2 on residue GLU 518\n",
      "\u001b[0mcore.conformation.Conformation: \u001b[0m[ WARNING ] missing heavyatom:  CG  on residue GLU 520\n",
      "\u001b[0mcore.conformation.Conformation: \u001b[0m[ WARNING ] missing heavyatom:  CD  on residue GLU 520\n",
      "\u001b[0mcore.conformation.Conformation: \u001b[0m[ WARNING ] missing heavyatom:  OE1 on residue GLU 520\n",
      "\u001b[0mcore.conformation.Conformation: \u001b[0m[ WARNING ] missing heavyatom:  OE2 on residue GLU 520\n",
      "\u001b[0mcore.conformation.Conformation: \u001b[0m[ WARNING ] missing heavyatom:  CG  on residue ARG 522\n",
      "\u001b[0mcore.conformation.Conformation: \u001b[0m[ WARNING ] missing heavyatom:  CD  on residue ARG 522\n",
      "\u001b[0mcore.conformation.Conformation: \u001b[0m[ WARNING ] missing heavyatom:  NE  on residue ARG 522\n",
      "\u001b[0mcore.conformation.Conformation: \u001b[0m[ WARNING ] missing heavyatom:  CZ  on residue ARG 522\n",
      "\u001b[0mcore.conformation.Conformation: \u001b[0m[ WARNING ] missing heavyatom:  NH1 on residue ARG 522\n",
      "\u001b[0mcore.conformation.Conformation: \u001b[0m[ WARNING ] missing heavyatom:  NH2 on residue ARG 522\n",
      "\u001b[0mcore.conformation.Conformation: \u001b[0m[ WARNING ] missing heavyatom:  OXT on residue THR:CtermProteinFull 613\n",
      "\u001b[0mcore.conformation.Conformation: \u001b[0m[ WARNING ] missing heavyatom:  CG  on residue ARG 631\n",
      "\u001b[0mcore.conformation.Conformation: \u001b[0m[ WARNING ] missing heavyatom:  CD  on residue ARG 631\n",
      "\u001b[0mcore.conformation.Conformation: \u001b[0m[ WARNING ] missing heavyatom:  NE  on residue ARG 631\n",
      "\u001b[0mcore.conformation.Conformation: \u001b[0m[ WARNING ] missing heavyatom:  CZ  on residue ARG 631\n",
      "\u001b[0mcore.conformation.Conformation: \u001b[0m[ WARNING ] missing heavyatom:  NH1 on residue ARG 631\n",
      "\u001b[0mcore.conformation.Conformation: \u001b[0m[ WARNING ] missing heavyatom:  NH2 on residue ARG 631\n",
      "\u001b[0mcore.conformation.Conformation: \u001b[0m[ WARNING ] missing heavyatom:  CG  on residue LYS 739\n",
      "\u001b[0mcore.conformation.Conformation: \u001b[0m[ WARNING ] missing heavyatom:  CD  on residue LYS 739\n",
      "\u001b[0mcore.conformation.Conformation: \u001b[0m[ WARNING ] missing heavyatom:  CE  on residue LYS 739\n",
      "\u001b[0mcore.conformation.Conformation: \u001b[0m[ WARNING ] missing heavyatom:  NZ  on residue LYS 739\n",
      "\u001b[0mcore.conformation.Conformation: \u001b[0m[ WARNING ] missing heavyatom:  CG  on residue LYS 801\n",
      "\u001b[0mcore.conformation.Conformation: \u001b[0m[ WARNING ] missing heavyatom:  CD  on residue LYS 801\n",
      "\u001b[0mcore.conformation.Conformation: \u001b[0m[ WARNING ] missing heavyatom:  CE  on residue LYS 801\n",
      "\u001b[0mcore.conformation.Conformation: \u001b[0m[ WARNING ] missing heavyatom:  NZ  on residue LYS 801\n",
      "\u001b[0mcore.conformation.Conformation: \u001b[0m[ WARNING ] missing heavyatom:  OXT on residue ARG:CtermProteinFull 824\n",
      "\u001b[0mcore.conformation.Conformation: \u001b[0m[ WARNING ] missing heavyatom:  CG  on residue ARG:CtermProteinFull 824\n",
      "\u001b[0mcore.conformation.Conformation: \u001b[0m[ WARNING ] missing heavyatom:  CD  on residue ARG:CtermProteinFull 824\n",
      "\u001b[0mcore.conformation.Conformation: \u001b[0m[ WARNING ] missing heavyatom:  NE  on residue ARG:CtermProteinFull 824\n",
      "\u001b[0mcore.conformation.Conformation: \u001b[0m[ WARNING ] missing heavyatom:  CZ  on residue ARG:CtermProteinFull 824\n",
      "\u001b[0mcore.conformation.Conformation: \u001b[0m[ WARNING ] missing heavyatom:  NH1 on residue ARG:CtermProteinFull 824\n",
      "\u001b[0mcore.conformation.Conformation: \u001b[0m[ WARNING ] missing heavyatom:  NH2 on residue ARG:CtermProteinFull 824\n",
      "\u001b[0mcore.conformation.Conformation: \u001b[0m[ WARNING ] missing heavyatom:  CG  on residue LYS 959\n",
      "\u001b[0mcore.conformation.Conformation: \u001b[0m[ WARNING ] missing heavyatom:  CD  on residue LYS 959\n",
      "\u001b[0mcore.conformation.Conformation: \u001b[0m[ WARNING ] missing heavyatom:  CE  on residue LYS 959\n",
      "\u001b[0mcore.conformation.Conformation: \u001b[0m[ WARNING ] missing heavyatom:  NZ  on residue LYS 959\n",
      "\u001b[0mcore.conformation.Conformation: \u001b[0m[ WARNING ] missing heavyatom:  CG  on residue LYS 1039\n",
      "\u001b[0mcore.conformation.Conformation: \u001b[0m[ WARNING ] missing heavyatom:  CD  on residue LYS 1039\n",
      "\u001b[0mcore.conformation.Conformation: \u001b[0m[ WARNING ] missing heavyatom:  CE  on residue LYS 1039\n",
      "\u001b[0mcore.conformation.Conformation: \u001b[0m[ WARNING ] missing heavyatom:  NZ  on residue LYS 1039\n",
      "\u001b[0mcore.conformation.Conformation: \u001b[0m[ WARNING ] missing heavyatom:  CG  on residue ARG 1040\n",
      "\u001b[0mcore.conformation.Conformation: \u001b[0m[ WARNING ] missing heavyatom:  CD  on residue ARG 1040\n",
      "\u001b[0mcore.conformation.Conformation: \u001b[0m[ WARNING ] missing heavyatom:  NE  on residue ARG 1040\n",
      "\u001b[0mcore.conformation.Conformation: \u001b[0m[ WARNING ] missing heavyatom:  CZ  on residue ARG 1040\n",
      "\u001b[0mcore.conformation.Conformation: \u001b[0m[ WARNING ] missing heavyatom:  NH1 on residue ARG 1040\n",
      "\u001b[0mcore.conformation.Conformation: \u001b[0m[ WARNING ] missing heavyatom:  NH2 on residue ARG 1040\n",
      "\u001b[0mcore.conformation.Conformation: \u001b[0m[ WARNING ] missing heavyatom:  OXT on residue LYS:CtermProteinFull 1044\n",
      "\u001b[0mcore.conformation.Conformation: \u001b[0m[ WARNING ] missing heavyatom:  CG  on residue LYS:CtermProteinFull 1044\n",
      "\u001b[0mcore.conformation.Conformation: \u001b[0m[ WARNING ] missing heavyatom:  CD  on residue LYS:CtermProteinFull 1044\n",
      "\u001b[0mcore.conformation.Conformation: \u001b[0m[ WARNING ] missing heavyatom:  CE  on residue LYS:CtermProteinFull 1044\n",
      "\u001b[0mcore.conformation.Conformation: \u001b[0m[ WARNING ] missing heavyatom:  NZ  on residue LYS:CtermProteinFull 1044\n",
      "\u001b[0mcore.conformation.Conformation: \u001b[0mFound disulfide between residues 6 33\n",
      "\u001b[0mcore.conformation.Conformation: \u001b[0mcurrent variant for 6 CYS\n",
      "\u001b[0mcore.conformation.Conformation: \u001b[0mcurrent variant for 33 CYS\n",
      "\u001b[0mcore.conformation.Conformation: \u001b[0mcurrent variant for 6 CYD\n",
      "\u001b[0mcore.conformation.Conformation: \u001b[0mcurrent variant for 33 CYD\n",
      "\u001b[0mcore.conformation.Conformation: \u001b[0mFound disulfide between residues 132 162\n",
      "\u001b[0mcore.conformation.Conformation: \u001b[0mcurrent variant for 132 CYS\n",
      "\u001b[0mcore.conformation.Conformation: \u001b[0mcurrent variant for 162 CYS\n",
      "\u001b[0mcore.conformation.Conformation: \u001b[0mcurrent variant for 132 CYD\n",
      "\u001b[0mcore.conformation.Conformation: \u001b[0mcurrent variant for 162 CYD\n",
      "\u001b[0mcore.conformation.Conformation: \u001b[0mFound disulfide between residues 165 174\n",
      "\u001b[0mcore.conformation.Conformation: \u001b[0mcurrent variant for 165 CYS\n",
      "\u001b[0mcore.conformation.Conformation: \u001b[0mcurrent variant for 174 CYS\n",
      "\u001b[0mcore.conformation.Conformation: \u001b[0mcurrent variant for 165 CYD\n",
      "\u001b[0mcore.conformation.Conformation: \u001b[0mcurrent variant for 174 CYD\n",
      "\u001b[0mcore.conformation.Conformation: \u001b[0mFound disulfide between residues 169 182\n",
      "\u001b[0mcore.conformation.Conformation: \u001b[0mcurrent variant for 169 CYS\n",
      "\u001b[0mcore.conformation.Conformation: \u001b[0mcurrent variant for 182 CYS\n",
      "\u001b[0mcore.conformation.Conformation: \u001b[0mcurrent variant for 169 CYD\n",
      "\u001b[0mcore.conformation.Conformation: \u001b[0mcurrent variant for 182 CYD\n",
      "\u001b[0mcore.conformation.Conformation: \u001b[0mFound disulfide between residues 190 198\n",
      "\u001b[0mcore.conformation.Conformation: \u001b[0mcurrent variant for 190 CYS\n",
      "\u001b[0mcore.conformation.Conformation: \u001b[0mcurrent variant for 198 CYS\n",
      "\u001b[0mcore.conformation.Conformation: \u001b[0mcurrent variant for 190 CYD\n",
      "\u001b[0mcore.conformation.Conformation: \u001b[0mcurrent variant for 198 CYD\n",
      "\u001b[0mcore.conformation.Conformation: \u001b[0mFound disulfide between residues 194 206\n",
      "\u001b[0mcore.conformation.Conformation: \u001b[0mcurrent variant for 194 CYS\n",
      "\u001b[0mcore.conformation.Conformation: \u001b[0mcurrent variant for 206 CYS\n",
      "\u001b[0mcore.conformation.Conformation: \u001b[0mcurrent variant for 194 CYD\n",
      "\u001b[0mcore.conformation.Conformation: \u001b[0mcurrent variant for 206 CYD\n",
      "\u001b[0mcore.conformation.Conformation: \u001b[0mFound disulfide between residues 207 215\n",
      "\u001b[0mcore.conformation.Conformation: \u001b[0mcurrent variant for 207 CYS\n",
      "\u001b[0mcore.conformation.Conformation: \u001b[0mcurrent variant for 215 CYS\n",
      "\u001b[0mcore.conformation.Conformation: \u001b[0mcurrent variant for 207 CYD\n",
      "\u001b[0mcore.conformation.Conformation: \u001b[0mcurrent variant for 215 CYD\n",
      "\u001b[0mcore.conformation.Conformation: \u001b[0mFound disulfide between residues 211 223\n",
      "\u001b[0mcore.conformation.Conformation: \u001b[0mcurrent variant for 211 CYS\n",
      "\u001b[0mcore.conformation.Conformation: \u001b[0mcurrent variant for 223 CYS\n",
      "\u001b[0mcore.conformation.Conformation: \u001b[0mcurrent variant for 211 CYD\n",
      "\u001b[0mcore.conformation.Conformation: \u001b[0mcurrent variant for 223 CYD\n",
      "\u001b[0mcore.conformation.Conformation: \u001b[0mFound disulfide between residues 226 235\n",
      "\u001b[0mcore.conformation.Conformation: \u001b[0mcurrent variant for 226 CYS\n",
      "\u001b[0mcore.conformation.Conformation: \u001b[0mcurrent variant for 235 CYS\n",
      "\u001b[0mcore.conformation.Conformation: \u001b[0mcurrent variant for 226 CYD\n",
      "\u001b[0mcore.conformation.Conformation: \u001b[0mcurrent variant for 235 CYD\n",
      "\u001b[0mcore.conformation.Conformation: \u001b[0mFound disulfide between residues 239 266\n",
      "\u001b[0mcore.conformation.Conformation: \u001b[0mcurrent variant for 239 CYS\n",
      "\u001b[0mcore.conformation.Conformation: \u001b[0mcurrent variant for 266 CYS\n",
      "\u001b[0mcore.conformation.Conformation: \u001b[0mcurrent variant for 239 CYD\n",
      "\u001b[0mcore.conformation.Conformation: \u001b[0mcurrent variant for 266 CYD\n",
      "\u001b[0mcore.conformation.Conformation: \u001b[0mFound disulfide between residues 270 282\n",
      "\u001b[0mcore.conformation.Conformation: \u001b[0mcurrent variant for 270 CYS\n",
      "\u001b[0mcore.conformation.Conformation: \u001b[0mcurrent variant for 282 CYS\n",
      "\u001b[0mcore.conformation.Conformation: \u001b[0mcurrent variant for 270 CYD\n",
      "\u001b[0mcore.conformation.Conformation: \u001b[0mcurrent variant for 282 CYD\n",
      "\u001b[0mcore.conformation.Conformation: \u001b[0mFound disulfide between residues 286 301\n",
      "\u001b[0mcore.conformation.Conformation: \u001b[0mcurrent variant for 286 CYS\n",
      "\u001b[0mcore.conformation.Conformation: \u001b[0mcurrent variant for 301 CYS\n",
      "\u001b[0mcore.conformation.Conformation: \u001b[0mcurrent variant for 286 CYD\n",
      "\u001b[0mcore.conformation.Conformation: \u001b[0mcurrent variant for 301 CYD\n",
      "\u001b[0mcore.conformation.Conformation: \u001b[0mFound disulfide between residues 304 308\n",
      "\u001b[0mcore.conformation.Conformation: \u001b[0mcurrent variant for 304 CYS\n",
      "\u001b[0mcore.conformation.Conformation: \u001b[0mcurrent variant for 308 CYS\n",
      "\u001b[0mcore.conformation.Conformation: \u001b[0mcurrent variant for 304 CYD\n",
      "\u001b[0mcore.conformation.Conformation: \u001b[0mcurrent variant for 308 CYD\n",
      "\u001b[0mcore.conformation.Conformation: \u001b[0mFound disulfide between residues 312 337\n",
      "\u001b[0mcore.conformation.Conformation: \u001b[0mcurrent variant for 312 CYS\n",
      "\u001b[0mcore.conformation.Conformation: \u001b[0mcurrent variant for 337 CYS\n",
      "\u001b[0mcore.conformation.Conformation: \u001b[0mcurrent variant for 312 CYD\n",
      "\u001b[0mcore.conformation.Conformation: \u001b[0mcurrent variant for 337 CYD\n",
      "\u001b[0mcore.conformation.Conformation: \u001b[0mFound disulfide between residues 445 474\n",
      "\u001b[0mcore.conformation.Conformation: \u001b[0mcurrent variant for 445 CYS\n",
      "\u001b[0mcore.conformation.Conformation: \u001b[0mcurrent variant for 474 CYS\n",
      "\u001b[0mcore.conformation.Conformation: \u001b[0mcurrent variant for 445 CYD\n",
      "\u001b[0mcore.conformation.Conformation: \u001b[0mcurrent variant for 474 CYD\n",
      "\u001b[0mcore.conformation.Conformation: \u001b[0mFound disulfide between residues 481 490\n",
      "\u001b[0mcore.conformation.Conformation: \u001b[0mcurrent variant for 481 CYS\n",
      "\u001b[0mcore.conformation.Conformation: \u001b[0mcurrent variant for 490 CYS\n",
      "\u001b[0mcore.conformation.Conformation: \u001b[0mcurrent variant for 481 CYD\n",
      "\u001b[0mcore.conformation.Conformation: \u001b[0mcurrent variant for 490 CYD\n",
      "\u001b[0mcore.conformation.Conformation: \u001b[0mFound disulfide between residues 485 498\n",
      "\u001b[0mcore.conformation.Conformation: \u001b[0mcurrent variant for 485 CYS\n",
      "\u001b[0mcore.conformation.Conformation: \u001b[0mcurrent variant for 498 CYS\n",
      "\u001b[0mcore.conformation.Conformation: \u001b[0mcurrent variant for 485 CYD\n",
      "\u001b[0mcore.conformation.Conformation: \u001b[0mcurrent variant for 498 CYD\n",
      "\u001b[0mcore.conformation.Conformation: \u001b[0mFound disulfide between residues 501 510\n",
      "\u001b[0mcore.conformation.Conformation: \u001b[0mcurrent variant for 501 CYS\n",
      "\u001b[0mcore.conformation.Conformation: \u001b[0mcurrent variant for 510 CYS\n",
      "\u001b[0mcore.conformation.Conformation: \u001b[0mcurrent variant for 501 CYD\n",
      "\u001b[0mcore.conformation.Conformation: \u001b[0mcurrent variant for 510 CYD\n",
      "\u001b[0mcore.conformation.Conformation: \u001b[0mFound disulfide between residues 514 530\n",
      "\u001b[0mcore.conformation.Conformation: \u001b[0mcurrent variant for 514 CYS\n",
      "\u001b[0mcore.conformation.Conformation: \u001b[0mcurrent variant for 530 CYS\n",
      "\u001b[0mcore.conformation.Conformation: \u001b[0mcurrent variant for 514 CYD\n",
      "\u001b[0mcore.conformation.Conformation: \u001b[0mcurrent variant for 530 CYD\n",
      "\u001b[0mcore.conformation.Conformation: \u001b[0mFound disulfide between residues 533 546\n",
      "\u001b[0mcore.conformation.Conformation: \u001b[0mcurrent variant for 533 CYS\n",
      "\u001b[0mcore.conformation.Conformation: \u001b[0mcurrent variant for 546 CYS\n",
      "\u001b[0mcore.conformation.Conformation: \u001b[0mcurrent variant for 533 CYD\n",
      "\u001b[0mcore.conformation.Conformation: \u001b[0mcurrent variant for 546 CYD\n",
      "\u001b[0mcore.conformation.Conformation: \u001b[0mFound disulfide between residues 537 554\n",
      "\u001b[0mcore.conformation.Conformation: \u001b[0mcurrent variant for 537 CYS\n",
      "\u001b[0mcore.conformation.Conformation: \u001b[0mcurrent variant for 554 CYS\n",
      "\u001b[0mcore.conformation.Conformation: \u001b[0mcurrent variant for 537 CYD\n",
      "\u001b[0mcore.conformation.Conformation: \u001b[0mcurrent variant for 554 CYD\n",
      "\u001b[0mcore.conformation.Conformation: \u001b[0mFound disulfide between residues 557 566\n",
      "\u001b[0mcore.conformation.Conformation: \u001b[0mcurrent variant for 557 CYS\n",
      "\u001b[0mcore.conformation.Conformation: \u001b[0mcurrent variant for 566 CYS\n",
      "\u001b[0mcore.conformation.Conformation: \u001b[0mcurrent variant for 557 CYD\n",
      "\u001b[0mcore.conformation.Conformation: \u001b[0mcurrent variant for 566 CYD\n",
      "\u001b[0mcore.conformation.Conformation: \u001b[0mFound disulfide between residues 570 592\n",
      "\u001b[0mcore.conformation.Conformation: \u001b[0mcurrent variant for 570 CYS\n",
      "\u001b[0mcore.conformation.Conformation: \u001b[0mcurrent variant for 592 CYS\n",
      "\u001b[0mcore.conformation.Conformation: \u001b[0mcurrent variant for 570 CYD\n",
      "\u001b[0mcore.conformation.Conformation: \u001b[0mcurrent variant for 592 CYD\n",
      "\u001b[0mcore.conformation.Conformation: \u001b[0mFound disulfide between residues 595 603\n",
      "\u001b[0mcore.conformation.Conformation: \u001b[0mcurrent variant for 595 CYS\n",
      "\u001b[0mcore.conformation.Conformation: \u001b[0mcurrent variant for 603 CYS\n",
      "\u001b[0mcore.conformation.Conformation: \u001b[0mcurrent variant for 595 CYD\n",
      "\u001b[0mcore.conformation.Conformation: \u001b[0mcurrent variant for 603 CYD\n",
      "\u001b[0mcore.conformation.Conformation: \u001b[0mFound disulfide between residues 599 611\n",
      "\u001b[0mcore.conformation.Conformation: \u001b[0mcurrent variant for 599 CYS\n",
      "\u001b[0mcore.conformation.Conformation: \u001b[0mcurrent variant for 611 CYS\n",
      "\u001b[0mcore.conformation.Conformation: \u001b[0mcurrent variant for 599 CYD\n",
      "\u001b[0mcore.conformation.Conformation: \u001b[0mcurrent variant for 611 CYD\n",
      "\u001b[0mcore.conformation.Conformation: \u001b[0mFound disulfide between residues 636 701\n",
      "\u001b[0mcore.conformation.Conformation: \u001b[0mcurrent variant for 636 CYS\n",
      "\u001b[0mcore.conformation.Conformation: \u001b[0mcurrent variant for 701 CYS\n",
      "\u001b[0mcore.conformation.Conformation: \u001b[0mcurrent variant for 636 CYD\n",
      "\u001b[0mcore.conformation.Conformation: \u001b[0mcurrent variant for 701 CYD\n",
      "\u001b[0mcore.conformation.Conformation: \u001b[0mFound disulfide between residues 747 807\n",
      "\u001b[0mcore.conformation.Conformation: \u001b[0mcurrent variant for 747 CYS\n",
      "\u001b[0mcore.conformation.Conformation: \u001b[0mcurrent variant for 807 CYS\n",
      "\u001b[0mcore.conformation.Conformation: \u001b[0mcurrent variant for 747 CYD\n",
      "\u001b[0mcore.conformation.Conformation: \u001b[0mcurrent variant for 807 CYD\n",
      "\u001b[0mcore.conformation.Conformation: \u001b[0mFound disulfide between residues 846 919\n",
      "\u001b[0mcore.conformation.Conformation: \u001b[0mcurrent variant for 846 CYS\n",
      "\u001b[0mcore.conformation.Conformation: \u001b[0mcurrent variant for 919 CYS\n",
      "\u001b[0mcore.conformation.Conformation: \u001b[0mcurrent variant for 846 CYD\n",
      "\u001b[0mcore.conformation.Conformation: \u001b[0mcurrent variant for 919 CYD\n",
      "\u001b[0mcore.conformation.Conformation: \u001b[0mFound disulfide between residues 970 1026\n",
      "\u001b[0mcore.conformation.Conformation: \u001b[0mcurrent variant for 970 CYS\n",
      "\u001b[0mcore.conformation.Conformation: \u001b[0mcurrent variant for 1026 CYS\n",
      "\u001b[0mcore.conformation.Conformation: \u001b[0mcurrent variant for 970 CYD\n",
      "\u001b[0mcore.conformation.Conformation: \u001b[0mcurrent variant for 1026 CYD\n",
      "\u001b[0mcore.pack.pack_missing_sidechains: \u001b[0mpacking residue number 1 because of missing atom number 6 atom name  CG \n",
      "\u001b[0mcore.pack.pack_missing_sidechains: \u001b[0mpacking residue number 2 because of missing atom number 6 atom name  CG \n",
      "\u001b[0mcore.pack.pack_missing_sidechains: \u001b[0mpacking residue number 3 because of missing atom number 6 atom name  CG \n",
      "\u001b[0mcore.pack.pack_missing_sidechains: \u001b[0mpacking residue number 138 because of missing atom number 6 atom name  CG \n",
      "\u001b[0mcore.pack.pack_missing_sidechains: \u001b[0mpacking residue number 179 because of missing atom number 6 atom name  CG \n",
      "\u001b[0mcore.pack.pack_missing_sidechains: \u001b[0mpacking residue number 192 because of missing atom number 6 atom name  CG \n",
      "\u001b[0mcore.pack.pack_missing_sidechains: \u001b[0mpacking residue number 193 because of missing atom number 6 atom name  CG \n",
      "\u001b[0mcore.pack.pack_missing_sidechains: \u001b[0mpacking residue number 220 because of missing atom number 6 atom name  CG \n",
      "\u001b[0mcore.pack.pack_missing_sidechains: \u001b[0mpacking residue number 257 because of missing atom number 6 atom name  CG \n",
      "\u001b[0mcore.pack.pack_missing_sidechains: \u001b[0mpacking residue number 272 because of missing atom number 6 atom name  CG \n",
      "\u001b[0mcore.pack.pack_missing_sidechains: \u001b[0mpacking residue number 299 because of missing atom number 6 atom name  CG \n",
      "\u001b[0mcore.pack.pack_missing_sidechains: \u001b[0mpacking residue number 502 because of missing atom number 6 atom name  CG \n",
      "\u001b[0mcore.pack.pack_missing_sidechains: \u001b[0mpacking residue number 518 because of missing atom number 6 atom name  CG \n",
      "\u001b[0mcore.pack.pack_missing_sidechains: \u001b[0mpacking residue number 520 because of missing atom number 6 atom name  CG \n",
      "\u001b[0mcore.pack.pack_missing_sidechains: \u001b[0mpacking residue number 522 because of missing atom number 6 atom name  CG \n",
      "\u001b[0mcore.pack.pack_missing_sidechains: \u001b[0mpacking residue number 631 because of missing atom number 6 atom name  CG \n",
      "\u001b[0mcore.pack.pack_missing_sidechains: \u001b[0mpacking residue number 739 because of missing atom number 6 atom name  CG \n",
      "\u001b[0mcore.pack.pack_missing_sidechains: \u001b[0mpacking residue number 801 because of missing atom number 6 atom name  CG \n",
      "\u001b[0mcore.pack.pack_missing_sidechains: \u001b[0mpacking residue number 824 because of missing atom number 7 atom name  CG \n",
      "\u001b[0mcore.pack.pack_missing_sidechains: \u001b[0mpacking residue number 959 because of missing atom number 6 atom name  CG \n",
      "\u001b[0mcore.pack.pack_missing_sidechains: \u001b[0mpacking residue number 1039 because of missing atom number 6 atom name  CG \n",
      "\u001b[0mcore.pack.pack_missing_sidechains: \u001b[0mpacking residue number 1040 because of missing atom number 6 atom name  CG \n",
      "\u001b[0mcore.pack.pack_missing_sidechains: \u001b[0mpacking residue number 1044 because of missing atom number 7 atom name  CG \n",
      "\u001b[0mcore.pack.task: \u001b[0mPacker task: initialize from command line() \n",
      "\u001b[0mcore.scoring.ScoreFunctionFactory: \u001b[0mSCOREFUNCTION: \u001b[32mtalaris2013\u001b[0m\n",
      "\u001b[0mcore.pack.pack_rotamers: \u001b[0mbuilt 320 rotamers at 23 positions.\n",
      "\u001b[0mcore.pack.interaction_graph.interaction_graph_factory: \u001b[0mInstantiating DensePDInteractionGraph\n",
      "\u001b[0mcore.pack.interaction_graph.interaction_graph_factory: \u001b[0mIG: 23600 bytes\n"
     ]
    }
   ],
   "source": [
    "# 7. Analyze the energy between residues Y102 and Q408\n",
    "pose=pose_from_rcsb(\"1YY9\")"
   ]
  },
  {
   "cell_type": "code",
   "execution_count": 61,
   "metadata": {
    "collapsed": false
   },
   "outputs": [
    {
     "name": "stdout",
     "output_type": "stream",
     "text": [
      "PDB file name: 1YY9.clean.pdb\n",
      "Total residues:1044\n",
      "Sequence: EEKKVCQGTSNKLTQLGTFEDHFLSLQRMFNNCEVVLGNLEITYVQRNYDLSFLKTIQEVAGYVLIALNTVERIPLENLQIIRGNMYYENSYALAVLSNYDANKTGLKELPMRNLQEILHGAVRFSNNPALCNVESIQWRDIVSSDFLSNMSMDFQNHLGSCQKCDPSCPNGSCWGAGEENCQKLTKIICAQQCSGRCRGKSPSDCCHNQCAAGCTGPRESDCLVCRKFRDEATCKDTCPPLMLYNPTTYQMDVNPEGKYSFGATCVKKCPRNYVVTDHGSCVRACGADSYEMEEDGVRKCKKCEGPCRKVCNGIGIGEFKDSLSINATNIKHFKNCTSISGDLHILPVAFRGDSFTHTPPLDPQELDILKTVKEITGFLLIQAWPENRTDLHAFENLEIIRGRTKQHGQFSLAVVSLNITSLGLRSLKEISDGDVIISGNKNLCYANTINWKKLFGTSGQKTKIISNRGENKCKATGQVCHALCSPEGCWGPEPRDCVSCRNVSRGRECVDKCKLLEGEPREFVENSECIQCHPECLPQAMNITCTGRGPDNCIQCAHYIDGPHCVKTCPAGVMGENNTLVWKYADAGHVCHLCHPNCTYGCTGPGLRGCPTDILLTQSPVILSVSPGERVSFSCRASQSIGTNIHWYQQRTNGSPRLLIKYASESISGIPSRFSGSGSGTDFTLSINSVESEDIADYYCQQNNNWPTTFGAGTKLELKRTVAAPSVFIFPPSDEQLKSGTASVVCLLNNFYPREAKVQWKVDNALQSGNSQESVTEQDSKDSTYSLSSTLTLSKADYEKHKVYACEVTHQGLSSPVTKSFNRQVQLKQSGPGLVQPSQSLSITCTVSGFSLTNYGVHWVRQSPGKGLEWLGVIWSGGNTDYNTPFTSRLSINKDNSKSQVFFKMNSLQSNDTAIYYCARALTYYDYEFAYWGQGTLVTVSAASTKGPSVFPLAPSSKSTSGGTAALGCLVKDYFPEPVTVSWNSGALTSGVHTFPAVLQSSGLYSLSSVVTVPSSSLGTQTYICNVNHKPSNTKVDKRVEPK\n",
      "Fold tree:\n",
      "FOLD_TREE  EDGE 1 613 -1  EDGE 1 614 1  EDGE 614 824 -1  EDGE 1 825 2  EDGE 825 1044 -1 \n",
      "Residue 101: ASP (ASP, D):\n",
      " Properties: POLYMER PROTEIN SC_ORBITALS POLAR CHARGED NEGATIVE_CHARGE METALBINDING ALPHA_AA L_AA\n",
      " Variant types:\n",
      " Main-chain atoms:  N    CA   C  \n",
      " Backbone atoms:    N    CA   C    O    H    HA \n",
      " Side-chain atoms:  CB   CG   OD1  OD2 1HB  2HB \n",
      "Atom Coordinates:\n",
      "   N  : 55.798, -7.318, 9.042\n",
      "   CA : 56.83, -7.114, 10.037\n",
      "   C  : 58.169, -7.609, 9.52\n",
      "   O  : 58.283, -8.055, 8.375\n",
      "   CB : 56.446, -7.773, 11.37\n",
      "   CG : 56.626, -9.292, 11.372\n",
      "   OD1: 56.836, -9.909, 10.309\n",
      "   OD2: 56.561, -9.88, 12.468\n",
      "   H  : 55.6219, -8.25195, 8.70022\n",
      "   HA : 56.9437, -6.04232, 10.2028\n",
      "  1HB : 57.0543, -7.3538, 12.1718\n",
      "  2HB : 55.4035, -7.55012, 11.5992\n",
      "\n"
     ]
    }
   ],
   "source": [
    "print pose\n",
    "print pose.residue(101)\n"
   ]
  },
  {
   "cell_type": "code",
   "execution_count": 58,
   "metadata": {
    "collapsed": false
   },
   "outputs": [
    {
     "name": "stdout",
     "output_type": "stream",
     "text": [
      "407\n"
     ]
    }
   ],
   "source": [
    "print pose.pdb_info().pdb2pose('A', 408)"
   ]
  },
  {
   "cell_type": "code",
   "execution_count": 59,
   "metadata": {
    "collapsed": false
   },
   "outputs": [
    {
     "name": "stdout",
     "output_type": "stream",
     "text": [
      "926\n"
     ]
    }
   ],
   "source": [
    "print pose.pdb_info().pdb2pose('D', 102)"
   ]
  },
  {
   "cell_type": "code",
   "execution_count": null,
   "metadata": {
    "collapsed": true
   },
   "outputs": [],
   "source": []
  }
 ],
 "metadata": {
  "kernelspec": {
   "display_name": "Python 2",
   "language": "python",
   "name": "python2"
  },
  "language_info": {
   "codemirror_mode": {
    "name": "ipython",
    "version": 2
   },
   "file_extension": ".py",
   "mimetype": "text/x-python",
   "name": "python",
   "nbconvert_exporter": "python",
   "pygments_lexer": "ipython2",
   "version": "2.7.2"
  }
 },
 "nbformat": 4,
 "nbformat_minor": 0
}
