{
 "cells": [
  {
   "cell_type": "code",
   "execution_count": 51,
   "metadata": {
    "collapsed": true
   },
   "outputs": [],
   "source": [
    "from rosetta import *\n",
    "init()\n",
    "import random\n",
    "from toolbox import get_secstruct\n",
    "from rosetta import SecondaryStructure"
   ]
  },
  {
   "cell_type": "code",
   "execution_count": 40,
   "metadata": {
    "collapsed": true
   },
   "outputs": [],
   "source": [
    "pose=pose_from_pdb(\"/Users/XT/Downloads/1yy8.pdb\")"
   ]
  },
  {
   "cell_type": "code",
   "execution_count": 56,
   "metadata": {
    "collapsed": false
   },
   "outputs": [
    {
     "name": "stdout",
     "output_type": "stream",
     "text": [
      "1       9       17      25      33      41      49      57      65      73      81      89      97      105     113     121     129     137     145     153     161     169     177     185     193     201     209     217     225     233     241     249     257     265     273     281     289     297     305     313     321     329     337     345     353     361     369     377     385     393     401     409     417     425     433     441     449     457     465     473     481     489     497     505     513     521     529     537     545     553     561     569     577     585     593     601     609     617     625     633     641     649     657     665     673     681     689     697     705     713     721     729     737     745     753     761     769     777     785     793     801     809     817     825     833     841     849     857     865     873     881     889     897     905     913     921     929     937     945     953     961     969     977     985     993     1001    1009    1017    1025    1033    1041    1049    1057    1065    1073    1081    1089    1097    1105    1113    1121    1129    1137    1145    1153    1161    1169    1177    1185    1193    1201    1209    1217    1225    1233    1241    1249    1257    1265    1273    1281    1289    1297    1305    1313    1321    1329    1337    1345    1353    1361    1369    1377    1385    1393    1401    1409    1417    1425    1433    1441    1449    1457    1465    1473    1481    1489    1497    1505    1513    1521    1529    1537    1545    1553    1561    1569    1577    1585    1593    1601    1609    1617    1625    1633    1641    1649    1657    1665    1673    1681    1689    1697    1705    1713    1721    1729    1737    1745    1753    1761    1769    1777    1785    1793    1801    1809    1817    1825    1833    1841    1849    1857    1865    1873    1881    1889    1897    1905    1913    1921    1929    1937    1945    1953    1961    1969    1977    1985    1993    \n",
      "DILLTQSPVILSVSPGERVSFSCRASQSIGTNIHWYQQRTNGSPRLLIKYASESISGIPSRFSGSGSGTDFTLSINSVESEDIADYYCQQNNNWPTTFGAGTKLELKRTVAAPSVFIFPPSDEQLKSGTASVVCLLNNFYPREAKVQWKVDNALQSGNSQESVTEQDSKDSTYSLSSTLTLSKADYEKHKVYACEVTHQGLSSPVTKSFNRGAwwwwwwwwwwwwwwwwwwwwwwwwwwwwwwwwwwwwwwwwwwwwwwwwwwwwwwwwwwwwwwwwwwwwwwwwwwwwwwwwwwwwwwwwwwwwwwwwwwwwwwwwQVQLKQSGPGLVQPSQSLSITCTVSGFSLTNYGVHWVRQSPGKGLEWLGVIWSGGNTDYNTPFTSRLSINKDNSKSQVFFKMNSLQSNDTAIYYCARALTYYDYEFAYWGQGTLVTVSAASTKGPSVFPLAPSSKSTSGGTAALGCLVKDYFPEPVTVSWNSGALTSGVHTFPAVLQSSGLYSLSSVVTVPSSSLGTQTYICNVNHKPSNTKVDKRVEPKSwwwwwwwwwwwwwwwwwwwwwwwwwwwwwwwwwwwwwwwwwwwwwwwwwwwwwwwwwwwwwwwwwwwwwwwwwDILLTQSPVILSVSPGERVSFSCRASQSIGTNIHWYQQRTNGSPRLLIKYASESISGIPSRFSGSGSGTDFTLSINSVESEDIADYYCQQNNNWPTTFGAGTKLELKRTVAAPSVFIFPPSDEQLKSGTASVVCLLNNFYPREAKVQWKVDNALQSGNSQESVTEQDSKDSTYSLSSTLTLSKADYEKHKVYACEVTHQGLSSPVTKSFNRGAwwwwwwwwwwwwwwwwwwwwwwwwwwwwwwwwwwwwwwwwwwwwwwwwwwwwwwwwwwwwwwwwwwwwwwwwwwwwwwwwwwwwwwwwwwwwwwwwwwQVQLKQSGPGLVQPSQSLSITCTVSGFSLTNYGVHWVRQSPGKGLEWLGVIWSGGNTDYNTPFTSRLSINKDNSKSQVFFKMNSLQSNDTAIYYCARALTYYDYEFAYWGQGTLVTVSAASTKGPSVFPLAPSSKSTSGGTAALGCLVKDYFPEPVTVSWNSGALTSGVHTFPAVLQSSGLYSLSSVVTVPSSSLGTQTYICNVNHKPSNTKVDKRVEPKSwwwwwwwwwwwwwwwwwwwwwwwwwwwwwwwwwwwwwwwwwwwwwwwwwwwwwwwwwwwwwwwwwwwwwwwwwwwwwww\n",
      "LLLEEEELLEEEELLLLLEEEEEEELLLLLLLEEEEEELLLLLLEEEEELLLEELLLLLLLEEEEEELLEEEEEELLLLHHHLEEEEEEELLLLLLEELLLEEEEELLLLELLEEEEELLLHHHHHHLEEEEEEEEEEEELLLLEEEEEELLEELLLLEEEEELLLLLLLLLEEEEEEEEEEHHHHHHLLEEEEEEELLLLLLLEEEEEELLLLLLLLLLLLLLLLLLLLLLLLLLLLLLLLLLLLLLLLLLLLLLLLLLLLLLLLLLLLLLLLLLLLLLLLLLLLLLLLLLLLLLLLLLLLLLLLLLLLLLLLLLLLLEEEELLLEEELLLLLEEEEEEEELLLLLLLLEEEEEELLLLLEEEEEEELLLLLEEELHHHLLLEEEEEELLLLEEEEEELLLLHHHLEEEEEEEELLLLLLLEEEELLLEEEEELLLLLELLEEEEELLLHHHEEHHEEEEEEEEEEEELLLLEEEEHHHLELLLEEELLLEELLLLLEEEEEEEEEEHHHLLLLLLEEEEEEHHHLEEEEEELLLLLLLLLLLLLLLLLLLLLLLLLLLLLLLLLLLLLLLLLLLLLLLLLLLLLLLLLLLLLLLLLLLLLLLLLLLLLLLLLEEEELLEEEELLLLLEEEEEEELLLLLLLEEEEEELLLLLLEEEEELLLEELLLLLLLEEEEEELLEEEEEELLLLHHHLEEEEEEELLLLLLEELLLEEEEELLLLELLEEEEELLLHHHHHHLEEEEEEEEEEEELLLEEEEEEELLEEELLLEEEEELLLLLLLLLEEEEEEEEEEHHHHHHLLEEEEEEEELLLLLLEEEEEELLLLLLLLLLLLLLLLLLLLLLLLLLLLLLLLLLLLLLLLLLLLLLLLLLLLLLLLLLLLLLLLLLLLLLLLLLLLLLLLLLLLLLLLLLLLLLLLLLLLLLLEEEELLLEEELLLLLEEEEEEEELLLLLLLLEEEEEELLLLLEEEEEEELLLLLEEELHHHLLLEEEEEELLLLEEEEEELLLLHHHLEEEEEEEELLLLLLLEEEELLLEEEEELLLLLELLEEEEELLLHHHEEHHEEEEEEEEEEEELLLLEEEEHHHLELLLEEELLLEELLLLLEEEEEEEEEEHHHHHLLLLEEEEEEHHHLEEEEEELLLLLLLLLLLLLLLLLLLLLLLLLLLLLLLLLLLLLLLLLLLLLLLLLLLLLLLLLLLLLLLLLLLLLLLLLLLLLLLLLLLL\n",
      "\n"
     ]
    },
    {
     "ename": "AttributeError",
     "evalue": "'NoneType' object has no attribute 'type'",
     "output_type": "error",
     "traceback": [
      "\u001b[0;31m---------------------------------------------------------------------------\u001b[0m",
      "\u001b[0;31mAttributeError\u001b[0m                            Traceback (most recent call last)",
      "\u001b[0;32m<ipython-input-56-5cd904cea8bf>\u001b[0m in \u001b[0;36m<module>\u001b[0;34m()\u001b[0m\n\u001b[0;32m----> 1\u001b[0;31m \u001b[0mget_secstruct\u001b[0m\u001b[0;34m(\u001b[0m\u001b[0mpose\u001b[0m\u001b[0;34m,\u001b[0m \u001b[0mpage\u001b[0m\u001b[0;34m=\u001b[0m\u001b[0;36m2000\u001b[0m\u001b[0;34m)\u001b[0m\u001b[0;34m.\u001b[0m\u001b[0mtype\u001b[0m\u001b[0;34m(\u001b[0m\u001b[0;34m)\u001b[0m\u001b[0;34m\u001b[0m\u001b[0m\n\u001b[0m",
      "\u001b[0;31mAttributeError\u001b[0m: 'NoneType' object has no attribute 'type'"
     ]
    }
   ],
   "source": [
    "get_secstruct(pose, page=2000).type()"
   ]
  },
  {
   "cell_type": "code",
   "execution_count": 26,
   "metadata": {
    "collapsed": true
   },
   "outputs": [],
   "source": [
    "l=\"ACDEFGHIKLMNPQRSTVWY\"\n",
    "a=4"
   ]
  },
  {
   "cell_type": "code",
   "execution_count": 33,
   "metadata": {
    "collapsed": false
   },
   "outputs": [],
   "source": [
    "type(a)\n",
    "if type(a)==int and type(l)==int:\n",
    "    print a"
   ]
  },
  {
   "cell_type": "code",
   "execution_count": 19,
   "metadata": {
    "collapsed": false
   },
   "outputs": [
    {
     "name": "stdout",
     "output_type": "stream",
     "text": [
      "['L', 'I', 'V', 'H', 'F', 'S', 'K', 'P', 'W', 'G', 'G', 'S', 'W', 'I', 'M', 'U', 'E', 'A', 'M', 'N', 'I', 'M', 'H', 'T', 'V', 'E', 'A', 'Q', 'I', 'P']\n"
     ]
    },
    {
     "data": {
      "text/plain": [
       "'LIVHFSKPWGGSWIMUEAMNIMHTVEAQIP'"
      ]
     },
     "execution_count": 19,
     "metadata": {},
     "output_type": "execute_result"
    }
   ],
   "source": [
    "l[0]\n",
    "len(l)\n",
    "aa=[]\n",
    "for i in range(30):\n",
    "    random_num=random.randrange(0,len(l))\n",
    "    aa.append(l[random_num])\n",
    "print aa\n",
    "''.join(aa)"
   ]
  },
  {
   "cell_type": "code",
   "execution_count": 21,
   "metadata": {
    "collapsed": false
   },
   "outputs": [
    {
     "name": "stdout",
     "output_type": "stream",
     "text": [
      "['L', 'I', 'V', 'H', 'F', 'S', 'K', 'P', 'W', 'G', 'G', 'S', 'W', 'I', 'M', 'U', 'E', 'A', 'M', 'N', 'I', 'M', 'H', 'T', 'V', 'E', 'A', 'Q', 'I', 'P']\n",
      "LIVHFSKPWGGSWIMUEAMNIMHTVEAQIP\n"
     ]
    }
   ],
   "source": [
    "print aa\n",
    "bb=''.join(aa)\n",
    "print bb"
   ]
  },
  {
   "cell_type": "code",
   "execution_count": 7,
   "metadata": {
    "collapsed": false
   },
   "outputs": [
    {
     "ename": "TypeError",
     "evalue": "'int' object is not iterable",
     "output_type": "error",
     "traceback": [
      "\u001b[0;31m---------------------------------------------------------------------------\u001b[0m",
      "\u001b[0;31mTypeError\u001b[0m                                 Traceback (most recent call last)",
      "\u001b[0;32m<ipython-input-7-8b5c70a5badb>\u001b[0m in \u001b[0;36m<module>\u001b[0;34m()\u001b[0m\n\u001b[0;32m----> 1\u001b[0;31m \u001b[0;32mfor\u001b[0m \u001b[0mi\u001b[0m \u001b[0;32min\u001b[0m \u001b[0mlen\u001b[0m\u001b[0;34m(\u001b[0m\u001b[0ml\u001b[0m\u001b[0;34m)\u001b[0m\u001b[0;34m:\u001b[0m\u001b[0;34m\u001b[0m\u001b[0m\n\u001b[0m\u001b[1;32m      2\u001b[0m     \u001b[0ml\u001b[0m\u001b[0;34m[\u001b[0m\u001b[0mi\u001b[0m\u001b[0;34m]\u001b[0m\u001b[0;34m\u001b[0m\u001b[0m\n",
      "\u001b[0;31mTypeError\u001b[0m: 'int' object is not iterable"
     ]
    }
   ],
   "source": [
    "def helix(num):\n",
    "    aalist=[]\n",
    "    phi=-60\n",
    "    psi=-45\n",
    "    for i in range(num):\n",
    "        random_num=random.randrange(0,len(l))  # create a random number from 0 to 20\n",
    "        aalist.append(l[random_num])\n",
    "    aa_str=''.join(aalist)\n",
    "    pose=pose_from_sequence(aa_str,\"fa_standard\")\n",
    "    for resi_num in range(1,num+1):\n",
    "        pose.set_phi(resi_num,phi)\n",
    "        pose.set_psi(resi_num,psi)\n",
    "    return pose"
   ]
  },
  {
   "cell_type": "code",
   "execution_count": 36,
   "metadata": {
    "collapsed": false
   },
   "outputs": [
    {
     "name": "stdout",
     "output_type": "stream",
     "text": [
      "the 12 Fibonacci number is 111.\n"
     ]
    }
   ],
   "source": [
    "num=12\n",
    "Fn=111\n",
    "print \"the %d Fibonacci number is %d.\"%(num,Fn)"
   ]
  },
  {
   "cell_type": "code",
   "execution_count": null,
   "metadata": {
    "collapsed": true
   },
   "outputs": [],
   "source": [
    "# Problem 4\n",
    "N_alpha_tot\n",
    "N_beta_tot\n",
    "N_loop_tot\n",
    "N_alpha_A\n",
    "N_beta_A\n",
    "N_loop_A\n",
    "\n",
    "\n",
    "    \n"
   ]
  },
  {
   "cell_type": "code",
   "execution_count": null,
   "metadata": {
    "collapsed": true
   },
   "outputs": [],
   "source": [
    "def grow_chain_one_atom():\n",
    "    "
   ]
  },
  {
   "cell_type": "code",
   "execution_count": null,
   "metadata": {
    "collapsed": true
   },
   "outputs": [],
   "source": [
    "def read_torsions(torsion_fn='torsions.dat'):\n",
    "    \"Return the number of residues and corresponding torsion angles.\"\n",
    "    return n_residues, torsion_angles"
   ]
  },
  {
   "cell_type": "code",
   "execution_count": null,
   "metadata": {
    "collapsed": true
   },
   "outputs": [],
   "source": [
    "def main():\n",
    "    # read the input torsion angles\n",
    "    n_residues, torsion_angles = read_torsions()\n",
    "\n",
    "    # loop over all residues and place atoms\n",
    "    grow_chain_one_atom(...)\n",
    "\n",
    "    # loop over all atoms and print to a file\n",
    "    return\n"
   ]
  },
  {
   "cell_type": "code",
   "execution_count": null,
   "metadata": {
    "collapsed": true
   },
   "outputs": [],
   "source": [
    "if __name__=='__main__':\n",
    "    main()"
   ]
  }
 ],
 "metadata": {
  "kernelspec": {
   "display_name": "Python 2",
   "language": "python",
   "name": "python2"
  },
  "language_info": {
   "codemirror_mode": {
    "name": "ipython",
    "version": 2
   },
   "file_extension": ".py",
   "mimetype": "text/x-python",
   "name": "python",
   "nbconvert_exporter": "python",
   "pygments_lexer": "ipython2",
   "version": "2.7.10"
  }
 },
 "nbformat": 4,
 "nbformat_minor": 0
}
